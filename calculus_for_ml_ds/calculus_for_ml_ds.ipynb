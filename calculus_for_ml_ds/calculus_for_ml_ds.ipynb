{
 "cells": [
  {
   "cell_type": "markdown",
   "id": "d8842b00",
   "metadata": {},
   "source": [
    "# Calculus for Machine Learning and Data Science\n",
    "\n",
    "Notas sobre o curso Calculus for Machine Learning and Data Science da DeeplearninigAI.\n",
    "\n",
    "Repositório com a trilha Mathematics for Machine Learninig and Data Science:\n",
    "https://github.com/k3ybladewielder/math_for_ml_ds\n",
    "\n",
    "Fórum do curso: https://community.deeplearning.ai/c/math-for-machine-learning/m4ml-course-2/304"
   ]
  },
  {
   "cell_type": "markdown",
   "id": "defe0227",
   "metadata": {},
   "source": [
    "# Week 1 - Derivatives and Optimization\n",
    "\n",
    "Objectives\n",
    "- Perform gradient descent in neural networks with different activation and cost functions\n",
    "- Visually interpret differentiation of different types of functions commonly used in machine learning\n",
    "- Approximately optimize different types of functions commonly used in machine learning using first-order (gradient descent) and second-order (Newton’s method) iterative methods\n",
    "- Analytically optimize different types of functions commonly used in machine learning using properties of derivatives and gradients."
   ]
  },
  {
   "cell_type": "markdown",
   "id": "d37dd0c6",
   "metadata": {},
   "source": [
    "## Concept of Derivatives and Tangents"
   ]
  },
  {
   "cell_type": "markdown",
   "id": "dc15a233",
   "metadata": {},
   "source": [
    "A derivada é a taxa instantânea de variação de uma função. É uma medida da taxa de variação instantânea de uma função em relação à sua variável independente. Em outras palavras, a derivada de uma função f(x) em um ponto x é a inclinação da tangente à curva da função nesse ponto. A derivada de uma função num ponto é a inclinação (slope) da tangente nesse ponto. Geometricamente, pode ser entendida como a taxa de mudança (rate of change) da função em um determinado ponto. \n",
    "\n",
    "Exemplo: Imagine que você está andando de bicicleta em uma estrada montanhosa, onde a estrada é a representação da função matemática. A derivada é como a medida de quão rápido você está subindo ou descendo a colina em um ponto específico da estrada. Se você está subindo uma colina íngreme, você está indo devagar, então a derivada é pequena. Se você está descendo a colina rapidamente, você está indo mais rápido, então a derivada é grande.\n",
    "\n",
    "É uma \"força que aplica em cada entrada pra aumentar a saída.\", \"É uma forma inteligente de saber como deve alterar as entradas pra levemente aumentar a sua saída\"\n",
    "\n",
    "A tangente de uma derivada é a reta que toca suavemente uma curva em um ponto específico e representa a taxa de mudança instantânea daquela curva naquele ponto.\n",
    "\n",
    "Imagine que você está desenhando uma curva em um papel, e em algum ponto dessa curva você desenha uma reta que toca suavemente a curva. Essa reta é a tangente da curva naquele ponto, e a inclinação da reta representa a taxa de mudança instantânea da curva naquele ponto (derivada).\n",
    "\n",
    "A tangente de uma derivada é útil porque nos permite entender como uma curva está mudando em um ponto específico e, portanto, pode nos ajudar a prever como ela mudará em outros pontos próximos. A tangente da derivada também é usada em cálculo para encontrar o ponto máximo ou mínimo de uma função, bem como para calcular a velocidade, a aceleração e outras medidas importantes em física e engenharia\n",
    "\n",
    "Em machine learninig, derivada é usada para otimizar funções, pra maximizar ou minimizar um valor de uma função. Isso é feito pra encontrar os parâmetros do modelo que melhor se ajuste aos dados, a partir do cálculo e minimização da loss funcion. \n",
    "\n",
    "<img src=\"./imgs/derivative.png\">\n",
    "\n",
    "O valor máximo ou mínimo ocorre quando da função, acontece quando a derivada é zero. Quando a linha da tangente é horizontal.\n",
    "\n",
    "<img src=\"./imgs/maxima.png\">"
   ]
  },
  {
   "cell_type": "markdown",
   "id": "79ce25ed",
   "metadata": {},
   "source": [
    "## Derivatives and their notation"
   ]
  },
  {
   "cell_type": "markdown",
   "id": "f30894ba",
   "metadata": {},
   "source": [
    "Sabemos que a inclinação (slope) é calculada como a variação do X sobre o Y, sendo $\\frac{\\Delta x}{\\Delta y}$. Assim, a inclunação num ponto específico é $\\frac{dx}{dt}$. No geral, usamos o X no eixo horizontal e Y no eixo vertical, logo, a derivada fica como $\\frac{dx}{dy}$\n",
    "\n",
    "Sendo sua função $$ y = f(x)$$ representamos a derivada usando a **notação de Lagrange** como:\n",
    "\n",
    "<center>$$f'(x)$$</center>\n",
    "\n",
    "\n",
    "Também podemos representar a derivada usando a **notação de Leibniz**:\n",
    "<center>$$ \\frac{dy}{dx} = \\frac{d}{dx}f(x)$$</center>"
   ]
  },
  {
   "cell_type": "markdown",
   "id": "cad0ccc5",
   "metadata": {},
   "source": [
    "## Some common Derivatives - Lines"
   ]
  },
  {
   "cell_type": "markdown",
   "id": "b1e21be6",
   "metadata": {},
   "source": [
    "Em retas/linhas, a tangente em todos os pontos é o mesmo. Por isso são as mais simples.\n",
    "\n",
    "Neste primeiro exemplo temos uma constante. Nela, a altura do $x0 = x1 = xn$, ou seja, em qualquer ponto o valor da altura é o mesmo, é constante. Assim como como a tangente, ela é a mesma em todos os pontos, possui a mesma inclunação em qualquer ponto. Aqui, a inclunação é **zero**. Constantes ou linhas horizontais sempre terá a derivada de **zero**\n",
    "\n",
    "<img src=\"./imgs/slope_line1.png\">\n",
    "\n",
    "Neste segundo exemplo, temos a função $f(x) = ax + b$, em que o a é a inclunação da reta e o b é o seu intercepto, ou seja, o ponto em que toca no eixo y. A derivada dessa função é o $\\frac{\\Delta y}{\\Delta x} = a$. Aqui a tangente possui a mesma inclunação em todos os pontos, assim como a constante. Sempre que temos uma reta, todos os pontos possuem a mesma inclinação. Sendo $f'(x) = a$ \n",
    "\n",
    "Imagine que você está andando de bicicleta em uma estrada reta. A sua velocidade é constante, o que significa que você está pedalando na mesma velocidade o tempo todo. Agora, se você começa a acelerar ou desacelerar, a sua velocidade muda, certo?\n",
    "\n",
    "A mesma coisa acontece com uma função matemática. Quando você tem uma função como $f(x) = ax + b$, ela representa uma linha reta no gráfico. Se a \"a\" é positiva, significa que a linha está inclinada para cima, e se a \"a\" é negativa, a linha está inclinada para baixo.\n",
    "\n",
    "A derivada da função f(x) **é a taxa de mudança da inclinação da linha**. Em outras palavras, é o **quanto a linha está inclinada em cada ponto**. Se a função é uma linha reta, a inclinação é sempre a mesma, então a derivada é sempre a mesma - a inclinação da linha, que é o \"a\".\n",
    "\n",
    "Então, em resumo, a derivada de f(x) = ax + b é sempre igual a \"a\", que é a inclinação da linha.\n",
    "\n",
    "<img src=\"./imgs/slope_line2.png\">"
   ]
  },
  {
   "cell_type": "markdown",
   "id": "e33c64ee",
   "metadata": {},
   "source": [
    "## Some common Derivatives - Quadratics"
   ]
  },
  {
   "cell_type": "markdown",
   "id": "d78c9a6e",
   "metadata": {},
   "source": [
    "A função quadrática mais simples é uma parábola, com a equação $y = f(x) = x^{2}$. Aqui, à esquerda do eixo Y temos valores negativos e à direita temos valores positivos. A fórmula da sua derivada é $\\frac{\\Delta f}{\\Delta x}$ quando o $\\Delta x$ vai a zero. $\\Delta f$ é a variação em y ou a variação em f, \n",
    "\n",
    "$$\\frac{\\Delta f}{\\Delta x} = \\frac{(x + \\Delta x)^{2} - (x){2}}{\\Delta x} $$\n",
    "\n",
    "Quando x = 1,\n",
    "\n",
    "$$\\Delta f = (1 + 1){2} - 1^{2} = 4 - 1 = 3$$\n",
    "\n",
    "E o $$\\Delta x = 1$$\n",
    "\n",
    "Assim $$\\frac{\\Delta f}{\\Delta x} = \\frac{3}{1} = 3$$\n",
    "\n",
    "Quanto mais diminuímos o intervalo, mais diminuímos o $\\Delta f$, mais a variação em y diminui. Neste exemplo, quanto mais diminuímos, mais a inclunação se aproxima de 2, isso porquê a inclinação da tangente em 1 é 2. E 2 é 2 vezes 1.\n",
    "\n",
    "$$f'(1) = \\frac{d}{dx}f(1) = 2$$\n",
    "\n",
    "<img src=\"./imgs/slope_quadratic1.png\">\n",
    "\n",
    "Imagine que você tem uma bola e quer saber em que direção ela está indo. Se você olhar para a bola em dois momentos diferentes, você pode ver que ela está se movendo. A derivada é como se você olhasse para a bola em dois momentos e calculasse a velocidade dela.\n",
    "\n",
    "A mesma coisa acontece com a função quadrática f(x) = x². Se você desenha essa função no papel, ela forma uma curva. A derivada dessa função é como se você olhasse para a curva em dois pontos diferentes e calculasse a inclinação dela. E, para essa função, a inclinação muda a cada ponto ao longo da curva.\n",
    "\n",
    "Quando você calcula a derivada de f(x) = x², você obtém f(x) = 2x. Isso significa que a inclinação da curva em cada ponto é igual a 2 vezes o valor de x naquele ponto. Em outras palavras, quanto maior o valor de x, mais íngreme é a curva.\n",
    "\n",
    "Então, em resumo, a derivada da função quadrática f(x) = x² é f(x) = 2x, o que significa que a inclinação da curva muda a cada ponto ao longo da curva e é igual a 2 vezes o valor de x em cada ponto\n",
    "\n",
    "<img src=\"./imgs/slope_quadratic2.png\">"
   ]
  },
  {
   "cell_type": "markdown",
   "id": "412449d4",
   "metadata": {},
   "source": [
    "## Some common Derivatives - Higher Degree Polynomials"
   ]
  },
  {
   "cell_type": "markdown",
   "id": "2df60816",
   "metadata": {},
   "source": [
    "A derivada de uma função cúbica é bem parecida com a quadrada, e seu comportamento é semelhante. À medida que $\\Delta x$ vai para zero, esse valor se torna a inclinação da linha tangente ou a derivada. Sua função é \n",
    "\n",
    "$$y = f(x) = x^{3} $$\n",
    "\n",
    "E sua inclinação se dá por:\n",
    "\n",
    "$$\\frac{\\Delta f}{\\Delta x} = \\frac{(x + \\Delta x)^{3} - (x){3}}{\\Delta x} $$\n",
    "\n",
    "Vamos imaginar que você tem uma pilha de blocos que cresce a cada minuto. Se você quiser saber a velocidade com que a pilha está crescendo, você precisa olhar para a pilha em dois momentos diferentes e calcular a diferença entre elas. A derivada é como se você fizesse isso muitas vezes, em um intervalo de tempo muito pequeno, para saber a velocidade exata da pilha.\n",
    "\n",
    "A mesma coisa acontece com a função cúbica f(x) = x³. A derivada dessa função é como se você olhasse para a curva em dois pontos diferentes e calculasse a inclinação dela. E, para essa função, a inclinação também muda a cada ponto ao longo da curva.\n",
    "\n",
    "Quando você calcula a derivada de f(x) = x³, você obtém f(x) = 3x². Isso significa que a inclinação da curva em cada ponto é igual a 3 vezes o valor de x ao quadrado. Em outras palavras, **quanto maior o valor de x, mais íngreme é a curva**, e a **inclinação aumenta mais rapidamente quanto maior o valor de x**.\n",
    "\n",
    "Então, em resumo, a derivada da função cúbica f(x) = x³ é f(x) = 3x², o que significa que a inclinação da curva muda a cada ponto ao longo da curva e é igual a 3 vezes o valor de x ao quadrado em cada ponto.\n",
    "\n",
    "<img src=\"./imgs/slope_cubic1.png\">\n",
    "<img src=\"./imgs/slope_cubic2.png\">"
   ]
  },
  {
   "cell_type": "code",
   "execution_count": null,
   "id": "d66536f5",
   "metadata": {},
   "outputs": [],
   "source": []
  },
  {
   "cell_type": "markdown",
   "id": "0a2508d6",
   "metadata": {},
   "source": [
    "## Some common Derivatives - Other Power Functions"
   ]
  },
  {
   "cell_type": "markdown",
   "id": "f4504dbd",
   "metadata": {},
   "source": [
    "## Common Derivatives"
   ]
  },
  {
   "cell_type": "markdown",
   "id": "5b26f33d",
   "metadata": {},
   "source": [
    "## The Inverse Function and its Derivative"
   ]
  },
  {
   "cell_type": "markdown",
   "id": "53991012",
   "metadata": {},
   "source": [
    "## Derivative of Trigonometric Functions"
   ]
  },
  {
   "cell_type": "markdown",
   "id": "4ec03fb4",
   "metadata": {},
   "source": [
    "# Week 2"
   ]
  },
  {
   "cell_type": "markdown",
   "id": "eaa8e718",
   "metadata": {},
   "source": [
    "# Week 3"
   ]
  },
  {
   "cell_type": "code",
   "execution_count": null,
   "id": "0ad5750e",
   "metadata": {},
   "outputs": [],
   "source": []
  },
  {
   "cell_type": "code",
   "execution_count": null,
   "id": "81735ac9",
   "metadata": {},
   "outputs": [],
   "source": []
  },
  {
   "cell_type": "code",
   "execution_count": null,
   "id": "fb4bad55",
   "metadata": {},
   "outputs": [],
   "source": []
  },
  {
   "cell_type": "code",
   "execution_count": null,
   "id": "ab4fa186",
   "metadata": {},
   "outputs": [],
   "source": []
  },
  {
   "cell_type": "code",
   "execution_count": null,
   "id": "a810df0a",
   "metadata": {},
   "outputs": [],
   "source": []
  },
  {
   "cell_type": "code",
   "execution_count": null,
   "id": "53432a19",
   "metadata": {},
   "outputs": [],
   "source": []
  },
  {
   "cell_type": "code",
   "execution_count": null,
   "id": "d7bfaa6e",
   "metadata": {},
   "outputs": [],
   "source": []
  },
  {
   "cell_type": "code",
   "execution_count": null,
   "id": "d401e03a",
   "metadata": {},
   "outputs": [],
   "source": []
  },
  {
   "cell_type": "code",
   "execution_count": null,
   "id": "0068c7a4",
   "metadata": {},
   "outputs": [],
   "source": []
  },
  {
   "cell_type": "code",
   "execution_count": null,
   "id": "fcdc935f",
   "metadata": {},
   "outputs": [],
   "source": []
  },
  {
   "cell_type": "code",
   "execution_count": null,
   "id": "1b5066e7",
   "metadata": {},
   "outputs": [],
   "source": []
  },
  {
   "cell_type": "code",
   "execution_count": null,
   "id": "da0be2da",
   "metadata": {},
   "outputs": [],
   "source": []
  },
  {
   "cell_type": "markdown",
   "id": "f59e0df8",
   "metadata": {},
   "source": [
    "# Referências"
   ]
  }
 ],
 "metadata": {
  "kernelspec": {
   "display_name": "Python 3 (ipykernel)",
   "language": "python",
   "name": "python3"
  },
  "language_info": {
   "codemirror_mode": {
    "name": "ipython",
    "version": 3
   },
   "file_extension": ".py",
   "mimetype": "text/x-python",
   "name": "python",
   "nbconvert_exporter": "python",
   "pygments_lexer": "ipython3",
   "version": "3.10.6"
  },
  "toc": {
   "base_numbering": 1,
   "nav_menu": {},
   "number_sections": true,
   "sideBar": true,
   "skip_h1_title": false,
   "title_cell": "Table of Contents",
   "title_sidebar": "Contents",
   "toc_cell": false,
   "toc_position": {
    "height": "calc(100% - 180px)",
    "left": "10px",
    "top": "150px",
    "width": "341.465px"
   },
   "toc_section_display": true,
   "toc_window_display": true
  },
  "varInspector": {
   "cols": {
    "lenName": 16,
    "lenType": 16,
    "lenVar": 40
   },
   "kernels_config": {
    "python": {
     "delete_cmd_postfix": "",
     "delete_cmd_prefix": "del ",
     "library": "var_list.py",
     "varRefreshCmd": "print(var_dic_list())"
    },
    "r": {
     "delete_cmd_postfix": ") ",
     "delete_cmd_prefix": "rm(",
     "library": "var_list.r",
     "varRefreshCmd": "cat(var_dic_list()) "
    }
   },
   "types_to_exclude": [
    "module",
    "function",
    "builtin_function_or_method",
    "instance",
    "_Feature"
   ],
   "window_display": false
  }
 },
 "nbformat": 4,
 "nbformat_minor": 5
}
