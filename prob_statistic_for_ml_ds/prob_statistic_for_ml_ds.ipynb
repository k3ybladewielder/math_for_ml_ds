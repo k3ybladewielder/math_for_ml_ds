{
 "cells": [
  {
   "cell_type": "markdown",
   "id": "83556e76",
   "metadata": {},
   "source": [
    "# Probability & Statistics for Machine Learning & Data Science"
   ]
  },
  {
   "cell_type": "markdown",
   "id": "c1ad29c1",
   "metadata": {},
   "source": [
    "# Week 1 - Introduction to Probability and Probability Distributions"
   ]
  },
  {
   "cell_type": "markdown",
   "id": "a5587803",
   "metadata": {},
   "source": [
    "## What is probability ?"
   ]
  },
  {
   "cell_type": "markdown",
   "id": "00462336",
   "metadata": {},
   "source": [
    "A probabilidade é uma medida numérica que quantifica a chance de um evento ocorrer. Ela descreve a **incerteza** associada a um determinado fenômeno e permite que possamos fazer previsões e tomar decisões com base nessa incerteza. A probabilidade é amplamente utilizada em diversas áreas, incluindo ciência de dados, estatística, matemática, engenharia, economia e muito mais.\n",
    "\n",
    "Existem diferentes abordagens para definir a probabilidade, sendo duas das mais comuns a abordagem clássica e a abordagem frequentista.\n",
    "\n",
    "1. Abordagem Clássica: Nesta abordagem, a probabilidade é calculada com base na razão entre o número de eventos favoráveis e o número total de eventos possíveis. Por exemplo, ao lançar um dado justo de seis faces, a probabilidade de obter um número específico, como o número 3, é de 1/6, pois há apenas uma face com esse número e seis faces ao todo.\n",
    "\n",
    "2. Abordagem Frequentista: Nesta abordagem, a probabilidade é calculada com base na frequência relativa de um evento em um grande número de repetições de um experimento. Por exemplo, se lançarmos uma moeda várias vezes, a probabilidade de obter cara é a proporção de vezes em que obtivemos cara em relação ao número total de lançamentos.\n",
    "\n",
    "Além disso, a probabilidade pode ser expressa em uma escala de 0 a 1, em que 0 indica impossibilidade absoluta e 1 indica certeza absoluta.\n",
    "\n",
    "Digamos que, de uma turma de 10 crianças numa escola, você precise escolher algumas para formar um time. Dessas 10, 3 sabem jogar futebol. Qual a probabilidade de a criança escolhida saber jogar futebol ?\n",
    "\n",
    "<center>$$ P(soccer) = \\frac{evento}{espaço amostral} = \\frac{3}{10} = 0.3 $$</center>\n",
    "\n",
    "As 3 crianças que sabem jogar fazem parte da amostra do evento de interesse, e fazem parte da população, a turma de 10 alunos.\n",
    "\n",
    "Vejamos alguns outros exemplos de aplicação da probabilidade:\n",
    "\n",
    "1. Lançamento de uma moeda: A probabilidade de obter cara ou coroa em um único lançamento de uma moeda justa é de 1/2 ou 0,5.\n",
    "\n",
    "2. Evento climático: A probabilidade de chover em um determinado dia pode ser expressa como 0,3, o que indica que há uma chance de 30% de ocorrer chuva nesse dia.\n",
    "\n",
    "3. Teste médico: Suponha que um teste médico para detectar uma doença tenha uma sensibilidade de 95% e uma especificidade de 90%. Isso significa que a probabilidade de um resultado positivo ser verdadeiro (indicando a presença da doença) é de 95%, enquanto a probabilidade de um resultado negativo ser verdadeiro (indicando a ausência da doença) é de 90%.\n",
    "\n",
    "Esses são apenas alguns exemplos simples para ilustrar o conceito de probabilidade. À medida que os cenários se tornam mais complexos, técnicas estatísticas mais avançadas, como a teoria das probabilidades, a teoria das distribuições e o cálculo probabilístico, podem ser aplicadas para calcular e interpretar a probabilidade com mais precisão."
   ]
  },
  {
   "cell_type": "markdown",
   "id": "7390f99d",
   "metadata": {},
   "source": [
    "O **complemento de um evento** em probabilidade é o evento que consiste em todos os resultados que não pertencem ao evento original. Em outras palavras, é o conjunto de todos os resultados possíveis que não satisfazem a condição do evento original.\n",
    "\n",
    "O complemento de um evento A é denotado por A' ou complemento de A. A probabilidade do complemento de um evento A é calculada subtraindo-se a probabilidade de A do valor 1 (probabilidade total).\n",
    "\n",
    "A fórmula para calcular o complemento de um evento A é:\n",
    "P(A') = 1 - P(A)\n",
    "\n",
    "Aqui estão alguns exemplos para ilustrar o conceito de complemento de probabilidade:\n",
    "\n",
    "1. Lançamento de um dado: Considere o evento A de obter um número par em um lançamento justo de um dado de seis faces. Os números pares possíveis são 2, 4 e 6. Portanto, a probabilidade de A é 3/6 = 1/2 (ou 0,5). O complemento de A (evento A') é obter um número ímpar. Os números ímpares possíveis são 1, 3 e 5. Assim, a probabilidade de A' é 3/6 = 1/2 (ou 0,5). Note que a probabilidade de A e A' somam 1, pois são eventos complementares.\n",
    "\n",
    "2. Lançamento de uma moeda: Suponha o evento A de obter cara em um lançamento justo de uma moeda. A probabilidade de A é 1/2 (ou 0,5). O complemento de A (evento A') é obter coroa. A probabilidade de A' também é 1/2 (ou 0,5), pois a moeda tem apenas dois lados possíveis.\n",
    "\n",
    "3. Evento climático: Considere o evento A de chover em um determinado dia. A probabilidade de A pode ser 0,3 (ou 30%). O complemento de A (evento A') é não chover, e a probabilidade de A' seria 1 - 0,3 = 0,7 (ou 70%).\n",
    "\n",
    "Ao trabalhar com probabilidade, o complemento é uma ferramenta útil para calcular a probabilidade de um evento ocorrer quando não temos diretamente sua probabilidade disponível. É importante lembrar que a probabilidade de um evento e seu complemento sempre somam 1, já que um dos dois eventos deve ocorrer necessariamente."
   ]
  },
  {
   "cell_type": "markdown",
   "id": "7d070d66",
   "metadata": {},
   "source": [
    "## Sum of Probabilities (Disjoint Events)"
   ]
  },
  {
   "cell_type": "markdown",
   "id": "438c9484",
   "metadata": {},
   "source": [
    "A **soma das probabilidades de eventos disjuntos** é um conceito fundamental em probabilidade. Quando temos eventos disjuntos, significa que eles **não podem ocorrer simultaneamente**, ou seja, se um evento acontece, o outro não pode ocorrer ao mesmo tempo. Nesse caso, a probabilidade da união desses eventos é igual à soma das probabilidades individuais de cada evento.\n",
    "\n",
    "Formalmente, se tivermos eventos disjuntos A e B, a probabilidade da união de A e B é dada por:\n",
    "$$ P(A ∪ B) = P(A) + P(B) $$\n",
    "\n",
    "Essa fórmula se estende para mais de dois eventos disjuntos. Se tivermos eventos disjuntos $A1, A2, ..., An$, a probabilidade da união de todos esses eventos é dada por:\n",
    "$$ P(A1 ∪ A2 ∪ ... ∪ An) = P(A1) + P(A2) + ... + P(An) $$\n",
    "\n",
    "Aqui estão alguns exemplos para ilustrar o conceito de soma de probabilidades para eventos disjuntos:\n",
    "\n",
    "1. Lançamento de um dado: Considere o evento A de obter um número par em um lançamento justo de um dado de seis faces, e o evento B de obter um número ímpar. Esses eventos são disjuntos, pois não é possível obter um número que seja simultaneamente par e ímpar. A probabilidade de A é 3/6 = 1/2 (ou 0,5), e a probabilidade de B também é 3/6 = 1/2 (ou 0,5). A probabilidade da união de A e B (obter um número par ou ímpar) é $P(A ∪ B) = P(A) + P(B) = 1/2 + 1/2 = 1$.\n",
    "\n",
    "2. Eventos climáticos: Suponha que temos três eventos disjuntos: A de chover, B de nevar e C de fazer sol em um determinado dia. Se a probabilidade de A (chover) for 0,3, a probabilidade de B (nevar) for 0,2 e a probabilidade de C (fazer sol) for 0,5, então a probabilidade da união desses eventos (ocorrer chuva, neve ou sol) é $ P(A ∪ B ∪ C) = P(A) + P(B) + P(C) = 0,3 + 0,2 + 0,5 = 1$.\n",
    "\n",
    "A soma das probabilidades para eventos disjuntos é uma propriedade fundamental que nos permite calcular a probabilidade de ocorrência de pelo menos um desses eventos. É importante ressaltar que essa propriedade se aplica somente a eventos disjuntos, ou seja, eventos que não podem ocorrer simultaneamente. Caso os eventos não sejam disjuntos, é necessário levar em consideração as interseções entre eles para calcular as probabilidades corretamente."
   ]
  },
  {
   "cell_type": "markdown",
   "id": "7cf4ad01",
   "metadata": {},
   "source": [
    "## Sum of Probabilities (Joint Events)"
   ]
  },
  {
   "cell_type": "markdown",
   "id": "8b12b291",
   "metadata": {},
   "source": [
    "A soma de probabilidades em **eventos conjuntos** refere-se à probabilidade da ocorrência de **dois eventos simultaneamente**. Quando temos eventos conjuntos, a probabilidade da união desses eventos é calculada considerando a probabilidade de cada evento individual, levando em conta a **possível interseção** entre eles.\n",
    "\n",
    "Para dois eventos A e B, a probabilidade da união desses eventos é dada por:\n",
    "$$ P(A ∪ B) = P(A) + P(B) - P(A ∩ B) $$\n",
    "\n",
    "Essa fórmula leva em consideração que a probabilidade da interseção entre A e B é contada duas vezes (uma vez em P(A) e outra vez em P(B)). Portanto, subtraímos a probabilidade da interseção para evitar duplicação.\n",
    "\n",
    "Aqui estão alguns exemplos para ilustrar o conceito de soma de probabilidades em eventos conjuntos:\n",
    "\n",
    "1. Lançamento de um dado: Considere o evento A de obter um número par e o evento B de obter um número maior que 4 em um lançamento justo de um dado de seis faces. A probabilidade de A é 3/6 = 1/2 (ou 0,5), a probabilidade de B é 2/6 = 1/3 (ou aproximadamente 0,3333). A interseção entre A e B ocorre quando obtemos um número par maior que 4, ou seja, apenas o número 6. Portanto, a probabilidade de A ∩ B é 1/6 (ou aproximadamente 0,1667). A probabilidade da união de A e B é então:\n",
    "$$ P(A ∪ B) = P(A) + P(B) - P(A ∩ B) = 0,5 + 0,3333 - 0,1667 = 0,6666 $$.\n",
    "\n",
    "2. Eventos climáticos: Suponha que temos dois eventos: A de chover e B de fazer sol em um determinado dia. Se a probabilidade de A (chover) for 0,3 e a probabilidade de B (fazer sol) for 0,5, e a probabilidade da interseção entre A e B (ocorrer chuva e fazer sol) for 0,1, então a probabilidade da união desses eventos (ocorrer chuva ou fazer sol) é:\n",
    "$$ P(A ∪ B) = P(A) + P(B) - P(A ∩ B) = 0,3 + 0,5 - 0,1 = 0,7 $$.\n",
    "\n",
    "A soma de probabilidades em eventos conjuntos nos permite calcular a probabilidade da ocorrência de pelo menos um dos eventos. É importante lembrar que essa propriedade se aplica somente a eventos conjuntos, ou seja, eventos que podem ocorrer simultaneamente. Caso os eventos não sejam conjuntos, a fórmula da soma de probabilidades não pode ser aplicada diretamente, e outros métodos, como a teoria da probabilidade condicional, podem ser necessários para calcular as probabilidades corretamente."
   ]
  },
  {
   "cell_type": "markdown",
   "id": "f0b51b50",
   "metadata": {},
   "source": [
    "## Independence"
   ]
  },
  {
   "cell_type": "markdown",
   "id": "8aa29470",
   "metadata": {},
   "source": [
    "A **independência** é um conceito fundamental em probabilidade e estatística que descreve a **relação entre dois eventos**. Dois eventos são considerados independentes se a ocorrência (ou não ocorrência) de um evento não afeta a probabilidade do outro evento ocorrer.\n",
    "\n",
    "Em outras palavras, se A e B são eventos independentes, a probabilidade de ambos ocorrerem é igual ao produto das probabilidades individuais de cada evento. Matematicamente, isso pode ser expresso como:\n",
    "\n",
    "$$ P(A ∩ B) = P(A) * P(B) $$\n",
    "\n",
    "Aqui estão alguns exemplos para ilustrar o conceito de independência:\n",
    "\n",
    "1. Lançamento de uma moeda e lançamento de um dado: Considere os eventos A de obter cara em um lançamento justo de uma moeda e B de obter um número par em um lançamento justo de um dado de seis faces. Esses eventos são independentes, pois o resultado do lançamento da moeda não tem influência no resultado do lançamento do dado e vice-versa. A probabilidade de obter cara é 1/2, e a probabilidade de obter um número par no dado é 3/6 = 1/2. A probabilidade de ocorrer cara e um número par ao mesmo tempo é P(A ∩ B) = P(A) * P(B) = 1/2 * 1/2 = 1/4. \n",
    "\n",
    "\n",
    "2. Utilizando novamente o exemplo da moeda, qual é a probabilidade de cair cara **cinco vezes** ? Dado que são eventos independentes e que cada probabilidade é de 1/2, podemos estender a **regra do produto** para:\n",
    "\n",
    "$$ P(H) = (\\frac{1}{2})^{5} = \\frac{1}{32}$$\n",
    "\n",
    "Seguindo o mesmo exemplo, qual a probabilidade de ao jogar um dado, obter 10 números seis ?\n",
    "\n",
    "$$ P(10-6) = (\\frac{1}{6})^{10} = 1.6538171687920194e-08$$\n",
    "\n",
    "3. Evento climático: Suponha que tenhamos dois eventos: A de chover em um determinado dia e B de fazer sol no mesmo dia. Se a probabilidade de A (chover) for 0,3 e a probabilidade de B (fazer sol) for 0,7, e supondo que esses eventos sejam independentes, a probabilidade de ocorrer chuva e fazer sol no mesmo dia é:\n",
    "$$ P(A ∩ B) = P(A) * P(B) = 0,3 * 0,7 = 0,21 $$\n",
    "\n",
    "A independência entre eventos é uma suposição importante em muitos modelos probabilísticos e estatísticos. No entanto, é essencial ter cuidado ao assumir a independência, pois nem sempre é uma suposição válida. Em alguns casos, a dependência entre eventos pode ser significativa e afetar os resultados de uma análise estatística. Portanto, é importante avaliar a independência dos eventos com base no contexto específico e nos dados disponíveis antes de fazer suposições sobre a independência."
   ]
  },
  {
   "cell_type": "markdown",
   "id": "9c3178a2",
   "metadata": {},
   "source": [
    "## Rules"
   ]
  },
  {
   "cell_type": "markdown",
   "id": "55144503",
   "metadata": {},
   "source": [
    "A regra do produto e a regra da soma são duas regras fundamentais em probabilidade que nos permitem calcular a probabilidade de eventos compostos. Aqui está um resumo de cada uma delas:\n",
    "\n",
    "Regra do Produto:\n",
    "A regra do produto é usada para calcular a probabilidade de dois **eventos independentes ocorrerem simultaneamente**. Se A e B são eventos independentes, a probabilidade de ambos ocorrerem é igual ao produto das probabilidades individuais de cada evento:\n",
    "$$ P(A ∩ B) = P(A) * P(B)$$\n",
    "\n",
    "Essa regra é aplicável quando a ocorrência de um evento **não afeta** a probabilidade do outro evento ocorrer.\n",
    "\n",
    "Regra da Soma:\n",
    "A regra da soma é usada para calcular a probabilidade da **união de dois eventos (ou mais) ocorrerem**. Sejam A e B dois eventos quaisquer, a probabilidade de pelo menos um deles ocorrer é dada pela soma das probabilidades individuais dos eventos, subtraindo a probabilidade da interseção entre eles para evitar duplicação:\n",
    "P(A ∪ B) = P(A) + P(B) - P(A ∩ B)\n",
    "\n",
    "Essa regra leva em consideração a possibilidade de existir uma **interseção entre os eventos**, que deve ser corretamente contabilizada para evitar a duplicação da probabilidade.\n",
    "\n",
    "Essas regras são amplamente utilizadas em probabilidade e estatística para calcular a probabilidade de eventos compostos e são fundamentais para análises probabilísticas mais complexas. É importante ter em mente que essas regras são válidas apenas em determinadas condições, como a independência entre eventos para a regra do produto e a disjunção ou interseção adequada entre eventos para a regra da soma."
   ]
  },
  {
   "cell_type": "markdown",
   "id": "fc8e0edf",
   "metadata": {},
   "source": [
    "## Birthday Problem"
   ]
  },
  {
   "cell_type": "markdown",
   "id": "310febd4",
   "metadata": {},
   "source": [
    "## Conditional Probability"
   ]
  },
  {
   "cell_type": "markdown",
   "id": "65a0ead2",
   "metadata": {},
   "source": [
    "## Bayes Theorem - Intuition"
   ]
  },
  {
   "cell_type": "markdown",
   "id": "81c6f4a3",
   "metadata": {},
   "source": [
    "## Bayes Theorem - Mathematical Formula"
   ]
  },
  {
   "cell_type": "markdown",
   "id": "992879bf",
   "metadata": {},
   "source": [
    "## Monty Hall Problem"
   ]
  },
  {
   "cell_type": "markdown",
   "id": "719c6d1e",
   "metadata": {},
   "source": [
    "## Bayes Theorem - Spam Exemple"
   ]
  },
  {
   "cell_type": "markdown",
   "id": "b9aa2c81",
   "metadata": {},
   "source": [
    "## Bayes Theorem - Prior and Posterior"
   ]
  },
  {
   "cell_type": "markdown",
   "id": "567a204c",
   "metadata": {},
   "source": [
    "## Bayes Theorem - The Naive Bayes"
   ]
  },
  {
   "cell_type": "markdown",
   "id": "c6bef9b8",
   "metadata": {},
   "source": [
    "## Probability in Machine Learning"
   ]
  },
  {
   "cell_type": "markdown",
   "id": "02b2ab38",
   "metadata": {},
   "source": [
    "## Random Variables"
   ]
  },
  {
   "cell_type": "markdown",
   "id": "48c26607",
   "metadata": {},
   "source": [
    "## Probability Distribution"
   ]
  },
  {
   "cell_type": "markdown",
   "id": "9d66843e",
   "metadata": {},
   "source": [
    "## Binomial Distribution"
   ]
  },
  {
   "cell_type": "markdown",
   "id": "6aee8511",
   "metadata": {},
   "source": [
    "## Binomial Coefficient"
   ]
  },
  {
   "cell_type": "markdown",
   "id": "0b358134",
   "metadata": {},
   "source": [
    "## Bernoulli Distribution"
   ]
  },
  {
   "cell_type": "markdown",
   "id": "ffbb9044",
   "metadata": {},
   "source": [
    "## Probability Density Function"
   ]
  },
  {
   "cell_type": "markdown",
   "id": "05eb9249",
   "metadata": {},
   "source": [
    "## Culmulative Distribution Function"
   ]
  },
  {
   "cell_type": "markdown",
   "id": "6d404099",
   "metadata": {},
   "source": [
    "## Uniform Distribution"
   ]
  },
  {
   "cell_type": "markdown",
   "id": "1bf802b1",
   "metadata": {},
   "source": [
    "## Normal Distribution"
   ]
  },
  {
   "cell_type": "markdown",
   "id": "f7b3a192",
   "metadata": {},
   "source": [
    "## Chi-Squared Distribution"
   ]
  },
  {
   "cell_type": "markdown",
   "id": "3b6ecc61",
   "metadata": {},
   "source": [
    "## Sampling from a Distribution"
   ]
  },
  {
   "cell_type": "markdown",
   "id": "1ede4f12",
   "metadata": {},
   "source": [
    "# Week 2 - Describing Probability Distribution with Multiples Variables"
   ]
  },
  {
   "cell_type": "markdown",
   "id": "d1753361",
   "metadata": {},
   "source": [
    "## subtitle"
   ]
  },
  {
   "cell_type": "markdown",
   "id": "e51a2c50",
   "metadata": {},
   "source": [
    "## subtitle"
   ]
  },
  {
   "cell_type": "markdown",
   "id": "4712ca2c",
   "metadata": {},
   "source": [
    "## subtitle"
   ]
  },
  {
   "cell_type": "markdown",
   "id": "6d4a99eb",
   "metadata": {},
   "source": [
    "## subtitle"
   ]
  },
  {
   "cell_type": "markdown",
   "id": "f505a66e",
   "metadata": {},
   "source": [
    "## subtitle"
   ]
  },
  {
   "cell_type": "markdown",
   "id": "ae4f40c8",
   "metadata": {},
   "source": [
    "## subtitle"
   ]
  },
  {
   "cell_type": "markdown",
   "id": "c153b572",
   "metadata": {},
   "source": [
    "## subtitle"
   ]
  },
  {
   "cell_type": "markdown",
   "id": "0328e162",
   "metadata": {},
   "source": [
    "# Week 3 - Sampling and Point Estimation "
   ]
  },
  {
   "cell_type": "markdown",
   "id": "3a4f929b",
   "metadata": {},
   "source": [
    "## subtitle"
   ]
  },
  {
   "cell_type": "markdown",
   "id": "018e42e5",
   "metadata": {},
   "source": [
    "## subtitle"
   ]
  },
  {
   "cell_type": "markdown",
   "id": "b7f18554",
   "metadata": {},
   "source": [
    "## subtitle"
   ]
  },
  {
   "cell_type": "markdown",
   "id": "2826fc8c",
   "metadata": {},
   "source": [
    "## subtitle"
   ]
  },
  {
   "cell_type": "markdown",
   "id": "58b95a22",
   "metadata": {},
   "source": [
    "## subtitle"
   ]
  },
  {
   "cell_type": "markdown",
   "id": "3d2fc6ed",
   "metadata": {},
   "source": [
    "# Week 4 - Confidence Interval and Hypothesis Testing"
   ]
  }
 ],
 "metadata": {
  "kernelspec": {
   "display_name": "Python 3 (ipykernel)",
   "language": "python",
   "name": "python3"
  },
  "language_info": {
   "codemirror_mode": {
    "name": "ipython",
    "version": 3
   },
   "file_extension": ".py",
   "mimetype": "text/x-python",
   "name": "python",
   "nbconvert_exporter": "python",
   "pygments_lexer": "ipython3",
   "version": "3.10.6"
  },
  "toc": {
   "base_numbering": 1,
   "nav_menu": {},
   "number_sections": true,
   "sideBar": true,
   "skip_h1_title": false,
   "title_cell": "Table of Contents",
   "title_sidebar": "Contents",
   "toc_cell": false,
   "toc_position": {},
   "toc_section_display": true,
   "toc_window_display": true
  },
  "varInspector": {
   "cols": {
    "lenName": 16,
    "lenType": 16,
    "lenVar": 40
   },
   "kernels_config": {
    "python": {
     "delete_cmd_postfix": "",
     "delete_cmd_prefix": "del ",
     "library": "var_list.py",
     "varRefreshCmd": "print(var_dic_list())"
    },
    "r": {
     "delete_cmd_postfix": ") ",
     "delete_cmd_prefix": "rm(",
     "library": "var_list.r",
     "varRefreshCmd": "cat(var_dic_list()) "
    }
   },
   "types_to_exclude": [
    "module",
    "function",
    "builtin_function_or_method",
    "instance",
    "_Feature"
   ],
   "window_display": false
  }
 },
 "nbformat": 4,
 "nbformat_minor": 5
}
