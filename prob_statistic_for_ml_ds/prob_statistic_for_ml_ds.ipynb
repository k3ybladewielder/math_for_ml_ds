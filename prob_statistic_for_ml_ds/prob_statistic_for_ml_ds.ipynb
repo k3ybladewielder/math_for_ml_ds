{
 "cells": [
  {
   "cell_type": "markdown",
   "id": "97f4b9ff",
   "metadata": {},
   "source": [
    "# Probability & Statistics for Machine Learning & Data Science"
   ]
  },
  {
   "cell_type": "markdown",
   "id": "306c17b5",
   "metadata": {},
   "source": [
    "# Week 1 - Introduction to Probability and Probability Distributions"
   ]
  },
  {
   "cell_type": "markdown",
   "id": "df7f2b1a",
   "metadata": {},
   "source": [
    "## Lesson 1 - Introdution to Probability"
   ]
  },
  {
   "cell_type": "markdown",
   "id": "60fa7e58",
   "metadata": {},
   "source": [
    "## What is probability ?"
   ]
  },
  {
   "cell_type": "markdown",
   "id": "6b221d0a",
   "metadata": {},
   "source": [
    "A probabilidade é uma medida numérica que quantifica a chance de um evento ocorrer. Ela descreve a **incerteza** associada a um determinado fenômeno e permite que possamos fazer previsões e tomar decisões com base nessa incerteza. A probabilidade é amplamente utilizada em diversas áreas, incluindo ciência de dados, estatística, matemática, engenharia, economia e muito mais.\n",
    "\n",
    "Existem diferentes abordagens para definir a probabilidade, sendo duas das mais comuns a abordagem clássica e a abordagem frequentista.\n",
    "\n",
    "1. Abordagem Clássica: Nesta abordagem, a probabilidade é calculada com base na razão entre o número de eventos favoráveis e o número total de eventos possíveis. Por exemplo, ao lançar um dado justo de seis faces, a probabilidade de obter um número específico, como o número 3, é de 1/6, pois há apenas uma face com esse número e seis faces ao todo.\n",
    "\n",
    "2. Abordagem Frequentista: Nesta abordagem, a probabilidade é calculada com base na frequência relativa de um evento em um grande número de repetições de um experimento. Por exemplo, se lançarmos uma moeda várias vezes, a probabilidade de obter cara é a proporção de vezes em que obtivemos cara em relação ao número total de lançamentos.\n",
    "\n",
    "Além disso, a probabilidade pode ser expressa em uma escala de 0 a 1, em que 0 indica impossibilidade absoluta e 1 indica certeza absoluta.\n",
    "\n",
    "Digamos que, de uma turma de 10 crianças numa escola, você precise escolher algumas para formar um time. Dessas 10, 3 sabem jogar futebol. Qual a probabilidade de a criança escolhida saber jogar futebol ?\n",
    "\n",
    "$$ P(soccer) = \\frac{\\text{evento}}{\\text{espaço amostral}} = \\frac{3}{10} = 0.3 $$\n",
    "\n",
    "As 3 crianças que sabem jogar fazem parte da amostra do evento de interesse, e fazem parte da população, a turma de 10 alunos.\n",
    "\n",
    "Vejamos alguns outros exemplos de aplicação da probabilidade:\n",
    "\n",
    "1. Lançamento de uma moeda: A probabilidade de obter cara ou coroa em um único lançamento de uma moeda justa é de 1/2 ou 0,5.\n",
    "\n",
    "2. Evento climático: A probabilidade de chover em um determinado dia pode ser expressa como 0,3, o que indica que há uma chance de 30% de ocorrer chuva nesse dia.\n",
    "\n",
    "3. Teste médico: Suponha que um teste médico para detectar uma doença tenha uma sensibilidade de 95% e uma especificidade de 90%. Isso significa que a probabilidade de um resultado positivo ser verdadeiro (indicando a presença da doença) é de 95%, enquanto a probabilidade de um resultado negativo ser verdadeiro (indicando a ausência da doença) é de 90%.\n",
    "\n",
    "Esses são apenas alguns exemplos simples para ilustrar o conceito de probabilidade. À medida que os cenários se tornam mais complexos, técnicas estatísticas mais avançadas, como a teoria das probabilidades, a teoria das distribuições e o cálculo probabilístico, podem ser aplicadas para calcular e interpretar a probabilidade com mais precisão."
   ]
  },
  {
   "cell_type": "markdown",
   "id": "2c7dde0d",
   "metadata": {},
   "source": [
    "O **complemento de um evento** em probabilidade é o evento que consiste em todos os resultados que não pertencem ao evento original. Em outras palavras, é o conjunto de todos os resultados possíveis que não satisfazem a condição do evento original. O complemento de um evento A é denotado por A' ou complemento de A. A probabilidade do complemento de um evento A é calculada subtraindo-se a probabilidade de A do valor 1 (probabilidade total).\n",
    "\n",
    "A fórmula para calcular o complemento de um evento A é:\n",
    "P(A') = 1 - P(A)\n",
    "\n",
    "Aqui estão alguns exemplos para ilustrar o conceito de complemento de probabilidade:\n",
    "\n",
    "1. Lançamento de um dado: Considere o evento A de obter um número par em um lançamento justo de um dado de seis faces. Os números pares possíveis são 2, 4 e 6. Portanto, a probabilidade de A é 3/6 = 1/2 (ou 0,5). O complemento de A (evento A') é obter um número ímpar. Os números ímpares possíveis são 1, 3 e 5. Assim, a probabilidade de A' é 3/6 = 1/2 (ou 0,5). Note que a probabilidade de A e A' somam 1, pois são eventos complementares.\n",
    "\n",
    "2. Lançamento de uma moeda: Suponha o evento A de obter cara em um lançamento justo de uma moeda. A probabilidade de A é 1/2 (ou 0,5). O complemento de A (evento A') é obter coroa. A probabilidade de A' também é 1/2 (ou 0,5), pois a moeda tem apenas dois lados possíveis.\n",
    "\n",
    "3. Evento climático: Considere o evento A de chover em um determinado dia. A probabilidade de A pode ser 0,3 (ou 30%). O complemento de A (evento A') é não chover, e a probabilidade de A' seria 1 - 0,3 = 0,7 (ou 70%).\n",
    "\n",
    "Ao trabalhar com probabilidade, o complemento é uma ferramenta útil para calcular a probabilidade de um evento ocorrer quando não temos diretamente sua probabilidade disponível. É importante lembrar que a probabilidade de um evento e seu complemento sempre somam 1, já que um dos dois eventos deve ocorrer necessariamente."
   ]
  },
  {
   "cell_type": "markdown",
   "id": "cf96d559",
   "metadata": {},
   "source": [
    "## Sum of Probabilities (Disjoint Events)"
   ]
  },
  {
   "cell_type": "markdown",
   "id": "968f7eb8",
   "metadata": {},
   "source": [
    "A **soma das probabilidades de eventos disjuntos** é um conceito fundamental em probabilidade. Quando temos eventos disjuntos, significa que eles **não podem ocorrer simultaneamente**, ou seja, se um evento acontece, o outro não pode ocorrer ao mesmo tempo. Nesse caso, a probabilidade da união desses eventos é igual à soma das probabilidades individuais de cada evento.\n",
    "\n",
    "Formalmente, se tivermos eventos disjuntos A e B, a probabilidade da união de A e B é dada por:\n",
    "$$ P(A ∪ B) = P(A) + P(B) $$\n",
    "\n",
    "Essa fórmula se estende para mais de dois eventos disjuntos. Se tivermos eventos disjuntos $A1, A2, ..., An$, a probabilidade da união de todos esses eventos é dada por:\n",
    "$$ P(A1 ∪ A2 ∪ ... ∪ An) = P(A1) + P(A2) + ... + P(An) $$\n",
    "\n",
    "Aqui estão alguns exemplos para ilustrar o conceito de soma de probabilidades para eventos disjuntos:\n",
    "\n",
    "1. Lançamento de um dado: Considere o evento A de obter um número par em um lançamento justo de um dado de seis faces, e o evento B de obter um número ímpar. Esses eventos são disjuntos, pois não é possível obter um número que seja simultaneamente par e ímpar. A probabilidade de A é 3/6 = 1/2 (ou 0,5), e a probabilidade de B também é 3/6 = 1/2 (ou 0,5). A probabilidade da união de A e B (obter um número par ou ímpar) é $P(A ∪ B) = P(A) + P(B) = 1/2 + 1/2 = 1$.\n",
    "\n",
    "2. Eventos climáticos: Suponha que temos três eventos disjuntos: A de chover, B de nevar e C de fazer sol em um determinado dia. Se a probabilidade de A (chover) for 0,3, a probabilidade de B (nevar) for 0,2 e a probabilidade de C (fazer sol) for 0,5, então a probabilidade da união desses eventos (ocorrer chuva, neve ou sol) é $ P(A ∪ B ∪ C) = P(A) + P(B) + P(C) = 0,3 + 0,2 + 0,5 = 1$.\n",
    "\n",
    "A soma das probabilidades para eventos disjuntos é uma propriedade fundamental que nos permite calcular a probabilidade de ocorrência de pelo menos um desses eventos. É importante ressaltar que essa propriedade se aplica somente a eventos disjuntos, ou seja, eventos que não podem ocorrer simultaneamente. Caso os eventos não sejam disjuntos, é necessário levar em consideração as interseções entre eles para calcular as probabilidades corretamente."
   ]
  },
  {
   "cell_type": "markdown",
   "id": "fd5e46f4",
   "metadata": {},
   "source": [
    "A soma de probabilidades em eventos disjuntos é uma técnica importante em data science e machine learning para calcular a probabilidade de ocorrência de eventos que são mutuamente exclusivos. Essa técnica é útil em várias áreas, incluindo classificação de dados, análise de risco e detecção de anomalias.\n",
    "\n",
    "Aqui estão alguns exemplos de como a soma de probabilidades em eventos disjuntos é aplicada em data science e machine learning:\n",
    "\n",
    "1. Classificação binária: Considere um problema de classificação binária em que temos dois eventos disjuntos, como \"classe 0\" e \"classe 1\". Ao construir um modelo de machine learning para classificar dados em uma dessas duas classes, a soma das probabilidades previstas para cada classe deve ser igual a 1. Isso ocorre porque a probabilidade total de todas as possíveis classes deve ser de 1. Portanto, ao fazer uma previsão, o modelo atribuirá uma probabilidade para cada classe e, em seguida, a soma dessas probabilidades será normalizada para 1.\n",
    "\n",
    "2. Análise de risco: Na análise de risco, é comum ter eventos disjuntos que representam diferentes cenários de risco. Por exemplo, em um modelo de crédito, podemos ter eventos disjuntos como \"inadimplência\" e \"pagamento em dia\". A probabilidade de ocorrência desses eventos disjuntos pode ser calculada separadamente e, em seguida, utilizada para estimar o risco total associado a um indivíduo ou uma transação.\n",
    "\n",
    "3. Detecção de anomalias: A detecção de anomalias é um campo em que identificamos eventos que são significativamente diferentes do comportamento normal. Podemos ter eventos disjuntos que representam \"comportamento normal\" e \"anomalias\". A soma das probabilidades desses eventos disjuntos pode ser utilizada para determinar a probabilidade total de um ponto de dados ser uma anomalia, permitindo a classificação eficiente de pontos de dados não usuais.\n",
    "\n",
    "Em resumo, a soma de probabilidades em eventos disjuntos desempenha um papel fundamental em data science e machine learning ao permitir o cálculo da probabilidade total de eventos exclusivos. Isso é essencial para a construção de modelos, a tomada de decisões baseada em risco e a detecção de padrões incomuns nos dados."
   ]
  },
  {
   "cell_type": "markdown",
   "id": "5aa21385",
   "metadata": {},
   "source": [
    "## Sum of Probabilities (Joint Events)"
   ]
  },
  {
   "cell_type": "markdown",
   "id": "3c16ffbc",
   "metadata": {},
   "source": [
    "A soma de probabilidades em **eventos conjuntos** refere-se à probabilidade da ocorrência de **dois eventos simultaneamente**. Quando temos eventos conjuntos, a probabilidade da união desses eventos é calculada considerando a probabilidade de cada evento individual, levando em conta a **possível interseção** entre eles.\n",
    "\n",
    "Para dois eventos A e B, a probabilidade da união desses eventos é dada por:\n",
    "$$ P(A ∪ B) = P(A) + P(B) - P(A ∩ B) $$\n",
    "\n",
    "Essa fórmula leva em consideração que a probabilidade da interseção entre A e B é contada duas vezes (uma vez em P(A) e outra vez em P(B)). Portanto, subtraímos a probabilidade da interseção para evitar duplicação.\n",
    "\n",
    "Aqui estão alguns exemplos para ilustrar o conceito de soma de probabilidades em eventos conjuntos:\n",
    "\n",
    "1. Lançamento de um dado: Considere o evento A de obter um número par e o evento B de obter um número maior que 4 em um lançamento justo de um dado de seis faces. A probabilidade de A é 3/6 = 1/2 (ou 0,5), a probabilidade de B é 2/6 = 1/3 (ou aproximadamente 0,3333). A interseção entre A e B ocorre quando obtemos um número par maior que 4, ou seja, apenas o número 6. Portanto, a probabilidade de A ∩ B é 1/6 (ou aproximadamente 0,1667). A probabilidade da união de A e B é então:\n",
    "$$ P(A ∪ B) = P(A) + P(B) - P(A ∩ B) = 0,5 + 0,3333 - 0,1667 = 0,6666 $$.\n",
    "\n",
    "2. Eventos climáticos: Suponha que temos dois eventos: A de chover e B de fazer sol em um determinado dia. Se a probabilidade de A (chover) for 0,3 e a probabilidade de B (fazer sol) for 0,5, e a probabilidade da interseção entre A e B (ocorrer chuva e fazer sol) for 0,1, então a probabilidade da união desses eventos (ocorrer chuva ou fazer sol) é:\n",
    "$$ P(A ∪ B) = P(A) + P(B) - P(A ∩ B) = 0,3 + 0,5 - 0,1 = 0,7 $$.\n",
    "\n",
    "A soma de probabilidades em eventos conjuntos nos permite calcular a probabilidade da ocorrência de pelo menos um dos eventos. É importante lembrar que essa propriedade se aplica somente a eventos conjuntos, ou seja, eventos que podem ocorrer simultaneamente. Caso os eventos não sejam conjuntos, a fórmula da soma de probabilidades não pode ser aplicada diretamente, e outros métodos, como a teoria da probabilidade condicional, podem ser necessários para calcular as probabilidades corretamente."
   ]
  },
  {
   "cell_type": "markdown",
   "id": "27bfe5f2",
   "metadata": {},
   "source": [
    "A soma de probabilidades em eventos conjuntos é uma técnica importante em data science e machine learning para calcular a probabilidade de ocorrência de eventos que estão interligados ou relacionados de alguma forma. Essa técnica é amplamente aplicada em várias áreas, como classificação multiclasse, análise de dependência e detecção de padrões complexos.\n",
    "\n",
    "Aqui estão alguns exemplos de como a soma de probabilidades em eventos conjuntos é utilizada em data science e machine learning:\n",
    "\n",
    "1. Classificação multiclasse: Em problemas de classificação com mais de duas classes, a soma de probabilidades em eventos conjuntos é usada para atribuir probabilidades às diferentes classes. Cada classe representa um evento conjunto específico, e a probabilidade de um ponto de dados pertencer a cada classe é calculada. Ao fazer uma previsão, o modelo atribui probabilidades a todas as classes e, em seguida, normaliza essas probabilidades para que a soma total seja igual a 1.\n",
    "\n",
    "2. Análise de dependência: A soma de probabilidades em eventos conjuntos é útil para analisar a dependência entre variáveis em um conjunto de dados. Por exemplo, ao analisar a relação entre duas variáveis, como \"idade\" e \"renda\", podemos calcular a probabilidade conjunta de diferentes combinações de valores dessas variáveis. Essa análise de dependência ajuda a identificar associações ou relações significativas entre as variáveis e é usada em várias técnicas, como tabelas de contingência e coeficientes de correlação.\n",
    "\n",
    "3. Detecção de padrões complexos: Em alguns casos, é necessário identificar padrões complexos que envolvem a ocorrência simultânea de vários eventos. A soma de probabilidades em eventos conjuntos é usada para calcular a probabilidade de ocorrência desses padrões complexos. Por exemplo, em uma análise de séries temporais, podemos estar interessados na probabilidade de um conjunto específico de eventos ocorrer em um determinado período de tempo. A soma das probabilidades desses eventos conjuntos ajuda a quantificar a probabilidade total do padrão ocorrer.\n",
    "\n",
    "Em resumo, a soma de probabilidades em eventos conjuntos desempenha um papel fundamental em data science e machine learning, permitindo calcular a probabilidade de ocorrência de eventos relacionados ou interdependentes. Essa técnica é amplamente utilizada na classificação multiclasse, análise de dependência e detecção de padrões complexos, fornecendo informações valiosas para a tomada de decisões e a compreensão dos dados."
   ]
  },
  {
   "cell_type": "markdown",
   "id": "16a76a4f",
   "metadata": {},
   "source": [
    "## Independence"
   ]
  },
  {
   "cell_type": "markdown",
   "id": "3fc568d3",
   "metadata": {},
   "source": [
    "A **independência** é um conceito fundamental em probabilidade e estatística que descreve a **relação entre dois eventos**. Dois eventos são considerados independentes se a ocorrência (ou não ocorrência) de um evento não afeta a probabilidade do outro evento ocorrer.\n",
    "\n",
    "Em outras palavras, se A e B são eventos independentes, a probabilidade de ambos ocorrerem é igual ao produto das probabilidades individuais de cada evento. Matematicamente, isso pode ser expresso como:\n",
    "\n",
    "$$ P(A ∩ B) = P(A) * P(B) $$\n",
    "\n",
    "Aqui estão alguns exemplos para ilustrar o conceito de independência:\n",
    "\n",
    "1. Lançamento de uma moeda e lançamento de um dado: Considere os eventos A de obter cara em um lançamento justo de uma moeda e B de obter um número par em um lançamento justo de um dado de seis faces. Esses eventos são independentes, pois o resultado do lançamento da moeda não tem influência no resultado do lançamento do dado e vice-versa. A probabilidade de obter cara é 1/2, e a probabilidade de obter um número par no dado é 3/6 = 1/2. A probabilidade de ocorrer cara e um número par ao mesmo tempo é P(A ∩ B) = P(A) * P(B) = 1/2 * 1/2 = 1/4. \n",
    "\n",
    "\n",
    "2. Utilizando novamente o exemplo da moeda, qual é a probabilidade de cair cara **cinco vezes** ? Dado que são eventos independentes e que cada probabilidade é de 1/2, podemos estender a **regra do produto** para:\n",
    "\n",
    "$$ P(H) = (\\frac{1}{2})^{5} = \\frac{1}{32}$$\n",
    "\n",
    "Seguindo o mesmo exemplo, qual a probabilidade de ao jogar um dado, obter 10 números seis ?\n",
    "\n",
    "$$ P(10-6) = (\\frac{1}{6})^{10} = 1.6538171687920194e-08$$\n",
    "\n",
    "3. Evento climático: Suponha que tenhamos dois eventos: A de chover em um determinado dia e B de fazer sol no mesmo dia. Se a probabilidade de A (chover) for 0,3 e a probabilidade de B (fazer sol) for 0,7, e supondo que esses eventos sejam independentes, a probabilidade de ocorrer chuva e fazer sol no mesmo dia é:\n",
    "$$ P(A ∩ B) = P(A) * P(B) = 0,3 * 0,7 = 0,21 $$\n",
    "\n",
    "A independência entre eventos é uma suposição importante em muitos modelos probabilísticos e estatísticos. No entanto, é essencial ter cuidado ao assumir a independência, pois nem sempre é uma suposição válida. Em alguns casos, a dependência entre eventos pode ser significativa e afetar os resultados de uma análise estatística. Portanto, é importante avaliar a independência dos eventos com base no contexto específico e nos dados disponíveis antes de fazer suposições sobre a independência."
   ]
  },
  {
   "cell_type": "markdown",
   "id": "146e4f58",
   "metadata": {},
   "source": [
    "## Rules"
   ]
  },
  {
   "cell_type": "markdown",
   "id": "63912dd2",
   "metadata": {},
   "source": [
    "A regra do produto e a regra da soma são duas regras fundamentais em probabilidade que nos permitem calcular a probabilidade de eventos compostos. Aqui está um resumo de cada uma delas:\n",
    "\n",
    "Regra do Produto:\n",
    "A regra do produto é usada para calcular a probabilidade de dois **eventos independentes ocorrerem simultaneamente**. Se A e B são eventos independentes, a probabilidade de ambos ocorrerem é igual ao produto das probabilidades individuais de cada evento:\n",
    "$$ P(A ∩ B) = P(A) * P(B)$$\n",
    "\n",
    "Essa regra é aplicável quando a ocorrência de um evento **não afeta** a probabilidade do outro evento ocorrer.\n",
    "\n",
    "Regra da Soma:\n",
    "A regra da soma é usada para calcular a probabilidade da **união de dois eventos (ou mais) ocorrerem**. Sejam A e B dois eventos quaisquer, a probabilidade de pelo menos um deles ocorrer é dada pela soma das probabilidades individuais dos eventos, subtraindo a probabilidade da interseção entre eles para evitar duplicação:\n",
    "P(A ∪ B) = P(A) + P(B) - P(A ∩ B)\n",
    "\n",
    "Essa regra leva em consideração a possibilidade de existir uma **interseção entre os eventos**, que deve ser corretamente contabilizada para evitar a duplicação da probabilidade.\n",
    "\n",
    "Essas regras são amplamente utilizadas em probabilidade e estatística para calcular a probabilidade de eventos compostos e são fundamentais para análises probabilísticas mais complexas. É importante ter em mente que essas regras são válidas apenas em determinadas condições, como a independência entre eventos para a regra do produto e a disjunção ou interseção adequada entre eventos para a regra da soma."
   ]
  },
  {
   "cell_type": "markdown",
   "id": "77c329be",
   "metadata": {},
   "source": [
    "## Birthday Problem"
   ]
  },
  {
   "cell_type": "markdown",
   "id": "c8f9b3a6",
   "metadata": {},
   "source": [
    "O \"problema do aniversário\" (ou \"birthday problem\") é um famoso problema probabilístico que envolve a probabilidade de duas pessoas em um grupo compartilharem o mesmo dia de aniversário. O problema é surpreendente, pois a intuição inicial pode levar a estimativas incorretas da probabilidade.\n",
    "\n",
    "Para entender o problema do aniversário com 30 pessoas, vamos considerar o seguinte cenário:\n",
    "\n",
    "Suponha que tenhamos um grupo de 30 pessoas. Queremos calcular a probabilidade de pelo menos duas pessoas nesse grupo compartilharem o mesmo dia de aniversário.\n",
    "\n",
    "Para resolver esse problema, podemos usar a **regra da soma** e o conceito de **complemento de probabilidade**. Vamos calcular a **probabilidade de nenhuma das 30 pessoas ter o mesmo aniversário** e, em seguida, **subtrair essa probabilidade de 1 (probabilidade total)** para obter a **probabilidade de pelo menos duas pessoas compartilharem o mesmo aniversário**.\n",
    "\n",
    "A probabilidade de uma pessoa ter uma data de aniversário específica é de 1/365 (desconsiderando os anos bissextos). Portanto, a probabilidade de nenhuma das 30 pessoas ter o mesmo aniversário é:\n",
    "\n",
    "$$ P(NC) = (365/365) * (364/365) * (363/365) * ... * (336/365) $$\n",
    "\n",
    "Essa probabilidade **P(NC)** ou P(Nenhum Compartilhado) é calculada levando em consideração a **probabilidade condicional** de cada pessoa ter uma data de aniversário diferente das demais.\n",
    "\n",
    "No início do cálculo, assumimos que a primeira pessoa escolhida tem qualquer uma das 365 datas de aniversário possíveis (probabilidade de 365/365 = 1). Em seguida, queremos calcular a probabilidade de que a segunda pessoa escolhida tenha um aniversário diferente da primeira pessoa. A probabilidade de escolher uma data de aniversário diferente é de 364/365, pois há apenas uma data de aniversário que é igual à da primeira pessoa.\n",
    "\n",
    "Para a terceira pessoa, queremos que ela tenha um aniversário diferente das duas primeiras. A probabilidade condicional de escolher uma data de aniversário diferente é de 363/365, pois existem apenas duas datas de aniversário que são iguais às das duas primeiras pessoas.\n",
    "\n",
    "Esse padrão continua para todas as 30 pessoas: a probabilidade condicional de cada pessoa ter um aniversário diferente das pessoas anteriores é calculada dividindo o número de datas de aniversário possíveis que são diferentes das datas já selecionadas pelo número total de datas de aniversário disponíveis.\n",
    "\n",
    "Assim, multiplicamos as probabilidades condicionais de cada pessoa ter um aniversário diferente das demais para obter a probabilidade de nenhuma das 30 pessoas ter o mesmo aniversário.\n",
    "\n",
    "Neste exemplo, a expressão $(365/365) * (364/365) * (363/365) * ... * (336/365)$ é usada para calcular essa probabilidade específica para um grupo de 30 pessoas. Cada termo na multiplicação representa a probabilidade condicional de cada pessoa ter um aniversário diferente das pessoas anteriores, dado que elas já escolheram datas de aniversário únicas.\n",
    "\n",
    "É importante notar que esse cálculo assume que todas as datas de aniversário são igualmente prováveis e que os aniversários são independentes entre as pessoas. Em situações da vida real, essas suposições podem não ser totalmente válidas, mas o problema do aniversário é um exemplo clássico que ilustra as propriedades probabilísticas interessantes e não intuitivas relacionadas à probabilidade de compartilhamento de aniversários em grupos.\n",
    "\n",
    "Agora, para obter a probabilidade de pelo menos duas pessoas compartilharem o mesmo aniversário, subtraímos essa probabilidade de 1:\n",
    "\n",
    "$$ P(C) = 1 - P(NC) $$\n",
    "\n",
    "Sendo C \"Compartilhado\" e NC \"Nenhum Compartilhado\".\n",
    "\n",
    "Calculando essas probabilidades usando a fórmula acima, descobrimos que a probabilidade de pelo menos duas pessoas compartilharem o mesmo aniversário em um grupo de 30 pessoas é aproximadamente **0,7063**, ou seja, cerca de **70,63%**.\n",
    "\n",
    "Essa probabilidade pode parecer surpreendentemente alta, pois intuitivamente esperamos que seja muito menor com apenas 30 pessoas. No entanto, **devido ao grande número de combinações possíveis** de pares de aniversários em um grupo, a probabilidade acaba sendo considerável.\n",
    "\n",
    "O problema do aniversário demonstra como a probabilidade pode ser contraintuitiva em certas situações e ressalta a importância de usar cálculos probabilísticos corretos para evitar conclusões enganosas."
   ]
  },
  {
   "cell_type": "markdown",
   "id": "c72a7182",
   "metadata": {},
   "source": [
    "## Conditional Probability"
   ]
  },
  {
   "cell_type": "markdown",
   "id": "62e68533",
   "metadata": {},
   "source": [
    "A probabilidade condicional é uma medida de probabilidade que se baseia em um evento ocorrer, dado que outro evento já ocorreu. Ela descreve a probabilidade de um evento A acontecer, dado que um evento B já ocorreu. A probabilidade condicional é expressa como P(A|B), lida como \"a probabilidade de A dado B\".\n",
    "\n",
    "A fórmula para a probabilidade condicional é dada por:\n",
    "\n",
    "$$ P(A|B) = P(A ∩ B) / P(B) $$\n",
    "\n",
    "Onde:\n",
    "- P(A ∩ B) representa a probabilidade da ocorrência conjunta dos eventos A e B, ou seja, a interseção de A e B.\n",
    "- P(B) é a probabilidade do evento B ocorrer.\n",
    "\n",
    "A probabilidade condicional nos permite atualizar nossas estimativas de probabilidade com base em informações adicionais. Ela é especialmente útil quando **há dependência entre eventos**.\n",
    "\n",
    "Aqui estão alguns exemplos para ilustrar a probabilidade condicional:\n",
    "\n",
    "Exemplo 1: Lançamento de dados\n",
    "Considere o lançamento de um dado justo. Evento A é obter um número par (2, 4 ou 6), e evento B é obter um número maior que 3 (4 ou 6). A probabilidade de obter um número par (A) dado que o número obtido é maior que 3 (B) é de 2/3, pois dos dois números maiores que 3 (4 e 6), dois são pares.\n",
    "\n",
    "$$ P(A|B) = P(A ∩ B) / P(B) = (1/6) / (2/6) = 2/3 $$\n",
    "\n",
    "Exemplo 2: Teste médico\n",
    "Suponha que um teste médico para uma doença específica tenha uma taxa de precisão de 95%. Evento A é ter a doença e evento B é o resultado do teste ser positivo. A probabilidade de ter a doença (A) dado um resultado positivo no teste (B) depende da taxa de falsos positivos e verdadeiros positivos do teste.\n",
    "\n",
    "Se a taxa de falsos positivos for de 5%, significa que 5% das pessoas saudáveis terão resultados positivos. Se a prevalência da doença na população for de 1%, podemos calcular a probabilidade condicional usando a fórmula:\n",
    "\n",
    "$$ P(A|B) = \\frac{P(A ∩ B)}{P(B)} = \\frac{P(A) * P(B|A)}{[P(A) * P(B|A) + P(A') * P(B|A')]} $$\n",
    "\n",
    "Onde:\n",
    "- P(A') é a probabilidade complementar de A, ou seja, a probabilidade de não ter a doença.\n",
    "- P(B|A) é a probabilidade de um resultado positivo no teste dado que a pessoa tem a doença.\n",
    "- P(B|A') é a probabilidade de um resultado positivo no teste dado que a pessoa não tem a doença.\n",
    "\n",
    "Neste exemplo, se substituirmos os valores correspondentes na fórmula, obteremos a probabilidade condicional de ter a doença dado um resultado positivo no teste.\n",
    "\n",
    "$$ P(A|B) = \\frac{(0.01 * 0.95)}{[(0.01 * 0.95) + (0.99 * 0.05)]} $$\n",
    "\n",
    "$$ P(A|B) = \\frac{0.0095}{(0.0095 + 0.0495)} = \\frac{0.0095}{0.059} $$\n",
    "\n",
    "$$ P(A|B) ≈ 0.161 $$\n",
    "\n",
    "\n",
    "A probabilidade condicional é uma ferramenta poderosa para fazer inferências e tomar decisões com base em informações disponíveis. Ela nos ajuda a atualizar nossas estimativas de probabilidade e levar em consideração eventos prévios para tomar decisões mais informadas."
   ]
  },
  {
   "cell_type": "markdown",
   "id": "cc864db2",
   "metadata": {},
   "source": [
    "No exemplo de jogar duas moedas, considere que a primeira moeda foi lançada e deu cara. Agora, queremos determinar a probabilidade de a segunda moeda também dar cara, dado esse resultado da primeira moeda.\n",
    "\n",
    "Aqui, estamos interessados na probabilidade condicional de obter cara na segunda jogada, dado que a primeira jogada resultou em cara. Vamos denotar o evento A como a primeira moeda dar cara e o evento B como a segunda moeda dar cara.\n",
    "\n",
    "Podemos usar a fórmula da probabilidade condicional para calcular esse valor:\n",
    "\n",
    "$$ P(B|A) = P(A ∩ B) / P(A)$$\n",
    "\n",
    "A probabilidade de A ∩ B representa a probabilidade de ambos os eventos A e B ocorrerem, ou seja, a probabilidade de a primeira e a segunda moedas darem cara. No caso de jogar uma moeda justa, a probabilidade de cara em cada jogada é de 1/2. Portanto, a probabilidade de A ∩ B é (1/2) * (1/2) = 1/4.\n",
    "\n",
    "A probabilidade de A é a probabilidade de a primeira moeda dar cara, que também é 1/2.\n",
    "\n",
    "Substituindo esses valores na fórmula, obtemos:\n",
    "\n",
    "$$P(B|A) = (1/4) / (1/2) = 1/2$$\n",
    "\n",
    "Isso significa que, dado que a primeira moeda deu cara, a probabilidade de a segunda moeda dar cara é de 1/2.\n",
    "\n",
    "Em termos práticos, podemos interpretar isso como: se sabemos que a primeira moeda deu cara, não há influência do resultado da primeira jogada no resultado da segunda jogada. Portanto, a probabilidade de obter cara na segunda jogada é a mesma de qualquer outro lançamento de moeda individualmente, ou seja, 1/2.\n",
    "\n",
    "Esse exemplo ilustra como a probabilidade condicional pode ser usada para atualizar a probabilidade com base em informações prévias. No contexto de data science e machine learning, a probabilidade condicional é aplicada em várias tarefas, como classificação, previsão e tomada de decisões com base em informações condicionais disponíveis."
   ]
  },
  {
   "cell_type": "markdown",
   "id": "389da38e",
   "metadata": {},
   "source": [
    "Dado uma escola com 100 alunos, em que 40% gosta de futebol e 60% não, e que, 80% dos alunos usam chuteira, qual a probabilidade de dado que o aluno gosta de futebol P(S), qual a probabilidade dele usar chuteira ? Podemos visualizar todas as possibildiades na árvore de probabilidade condicional abaixo.\n",
    "\n",
    "<img src=\"./imgs/condicional_probability_tree.png\">"
   ]
  },
  {
   "cell_type": "markdown",
   "id": "147534ff",
   "metadata": {},
   "source": [
    "A probabilidade condicional desempenha um papel importante em data science e machine learning, fornecendo informações úteis para análise, modelagem e tomada de decisões. Aqui estão algumas aplicações do uso de probabilidade condicional nesses campos:\n",
    "\n",
    "1. Classificação: A probabilidade condicional é amplamente usada em algoritmos de classificação, como o Naive Bayes. Esses algoritmos estimam a probabilidade de um ponto de dados pertencer a uma determinada classe com base em características observadas. A probabilidade condicional é fundamental para calcular essas estimativas, permitindo que o modelo tome decisões de classificação com base em probabilidades condicionais.\n",
    "\n",
    "2. Recomendação personalizada: Em sistemas de recomendação, a probabilidade condicional é usada para personalizar recomendações com base em preferências anteriores. Por exemplo, em um sistema de recomendação de filmes, a probabilidade condicional pode ser usada para estimar a probabilidade de um usuário gostar de um filme específico com base em filmes que ele já assistiu e classificou anteriormente.\n",
    "\n",
    "3. Análise de risco e detecção de fraudes: A probabilidade condicional desempenha um papel fundamental na análise de risco e detecção de fraudes. Por exemplo, em seguros, a probabilidade condicional é usada para estimar a probabilidade de um sinistro ocorrer com base em fatores de risco conhecidos. Da mesma forma, na detecção de fraudes, a probabilidade condicional é usada para identificar comportamentos suspeitos com base em padrões anteriores de atividade fraudulenta.\n",
    "\n",
    "4. Processamento de linguagem natural: Em tarefas de processamento de linguagem natural, a probabilidade condicional é usada para modelar a probabilidade de uma sequência de palavras dada uma sequência de palavras anterior. Isso é utilizado em algoritmos de modelagem de linguagem, tradução automática e correção ortográfica, onde a probabilidade condicional é usada para estimar a probabilidade de uma palavra ocorrer com base no contexto anterior.\n",
    "\n",
    "5. Redes Bayesianas: As redes Bayesianas são modelos probabilísticos que representam relacionamentos entre variáveis através de um grafo acíclico direcionado. A probabilidade condicional é essencial para construir e inferir em redes Bayesianas, pois as probabilidades condicionais são especificadas para cada variável dada a combinação de valores em suas variáveis pais.\n",
    "\n",
    "Em resumo, a probabilidade condicional é uma ferramenta essencial em data science e machine learning. Ela permite modelar e calcular a probabilidade de eventos com base em informações contextuais, ajudando na classificação, recomendação personalizada, análise de risco, detecção de fraudes, processamento de linguagem natural e muito mais. A capacidade de calcular probabilidades condicionais permite que os modelos sejam mais precisos e informados na tomada de decisões."
   ]
  },
  {
   "cell_type": "markdown",
   "id": "c2787dad",
   "metadata": {},
   "source": [
    "## Bayes Theorem - Intuition"
   ]
  },
  {
   "cell_type": "markdown",
   "id": "9a732bf4",
   "metadata": {},
   "source": [
    "O Teorema de Bayes é um conceito fundamental em probabilidade e estatística que descreve como atualizar a probabilidade de um evento dado um novo conjunto de informações. Ele é usado para calcular probabilidades condicionais de forma inversa, ou seja, estima a probabilidade de um evento A ocorrer, dado que um evento B já ocorreu.\n",
    "\n",
    "O Teorema de Bayes é expresso pela seguinte fórmula:\n",
    "\n",
    "$$ P(A|B) = \\frac{[P(B|A) * P(A)]}{P(B)} = \\frac{[P(B|A) * P(A)])}{[P(A) * P(B|A) + P(A') * P(B|A')]} $$\n",
    "\n",
    "\n",
    "Onde:\n",
    "- P(A|B) é a probabilidade do evento A ocorrer dado o evento B.\n",
    "- P(B|A) é a probabilidade do evento B ocorrer dado o evento A.\n",
    "- P(A) e P(B) são as probabilidades marginais dos eventos A e B, respectivamente.\n",
    "\n",
    "O Teorema de Bayes é frequentemente utilizado quando queremos atualizar nossas estimativas de probabilidade com base em novas informações ou evidências. Ele nos permite calcular a probabilidade posterior de um evento A ocorrer, dado que um evento B já ocorreu, levando em consideração a probabilidade prévia de A e a probabilidade condicional de B dado A.\n",
    "\n",
    "Um exemplo clássico (já visto acima) de aplicação do Teorema de Bayes é o teste de diagnóstico médico. Suponha que uma doença rara tem uma taxa de prevalência de 1% na população. Um teste para essa doença tem uma taxa de precisão de 95%, ou seja, a probabilidade de um resultado positivo no teste dado que a pessoa tem a doença é de 95%. No entanto, o teste também tem uma taxa de falsos positivos de 5%, ou seja, a probabilidade de um resultado positivo no teste dado que a pessoa não tem a doença é de 5%.\n",
    "\n",
    "Agora, vamos supor que uma pessoa fez o teste e obteve um resultado positivo. A pergunta é: qual é a probabilidade de a pessoa realmente ter a doença?\n",
    "\n",
    "Podemos aplicar o Teorema de Bayes para responder a essa pergunta. Vamos definir os eventos da seguinte forma:\n",
    "- A: A pessoa tem a doença.\n",
    "- B: A pessoa obteve um resultado positivo no teste.\n",
    "\n",
    "Temos as seguintes probabilidades:\n",
    "- P(A) = 0.01 (probabilidade de uma pessoa ter a doença)\n",
    "- P(A') = 0.99 (probabilidade de uma pessoa não ter a doença)\n",
    "- P(B|A) = 0.95 (probabilidade de um resultado positivo dado que a pessoa tem a doença)\n",
    "- P(B|A') = 0.05 (probabilidade de um resultado positivo dado que a pessoa não tem a doença)\n",
    "\n",
    "Podemos calcular a probabilidade posterior de a pessoa ter a doença usando o Teorema de Bayes:\n",
    "\n",
    "$$ P(A|B) = \\frac{[P(B|A) * P(A)]}{[P(B|A) * P(A) + P(B|A') * P(A')]} $$\n",
    "\n",
    "Substituindo os valores, temos:\n",
    "\n",
    "$$ P(A|B) = \\frac{[0.95 * 0.01]}{[0.95 * 0.01 + 0.05 * 0.99]} $$\n",
    "\n",
    "Calculando, obtemos:\n",
    "\n",
    "$$ P(A|B) ≈ 0.161 $$\n",
    "\n",
    "Portanto, dado um resultado positivo no teste, a probabilidade de a pessoa realmente ter a doença é de aproximadamente 16.1%.\n",
    "\n",
    "A probabilidade de estar doente é chamado de **prior**. O evento, ou seja, o diagonóstico positivo é chamado de **evento**. Enquanto que a probabilidade de estar doente dado o disgnóstico positivo é chamado de **posterior**.\n",
    "\n",
    "Esse exemplo ilustra como o Teorema de Bayes permite atualizar nossas estimativas de probabilidade com base em novas informações. Ele é amplamente utilizado em várias áreas, como medicina, ciência de dados, aprendizado de máquina, processamento de linguagem natural, entre outros, para fazer inferências e tomar decisões baseadas em evidências condicionais."
   ]
  },
  {
   "cell_type": "markdown",
   "id": "c2c895bb",
   "metadata": {},
   "source": [
    "O Teorema de Bayes é uma ferramenta poderosa em data science e machine learning, permitindo a atualização de probabilidades com base em novas informações. Aqui estão alguns exemplos de como o Teorema de Bayes é aplicado nessas áreas:\n",
    "\n",
    "1. Classificação Bayesiana: O Teorema de Bayes é fundamental na abordagem de classificação bayesiana, onde a probabilidade de um ponto de dados pertencer a uma determinada classe é estimada com base em probabilidades condicionais. O Teorema de Bayes é usado para calcular a probabilidade posterior de uma classe dado um conjunto de características observadas. Por exemplo, na classificação de e-mails como spam ou não spam, o Teorema de Bayes é aplicado para calcular a probabilidade de um e-mail ser spam dado o conteúdo do e-mail.\n",
    "\n",
    "2. Filtragem Bayesiana: O Teorema de Bayes é usado em filtros bayesianos, como o filtro de Kalman e o filtro de partículas, que são amplamente utilizados em sistemas de rastreamento, previsão e fusão de sensores. Esses filtros aplicam o Teorema de Bayes para atualizar estimativas e incertezas com base em observações e modelos probabilísticos.\n",
    "\n",
    "3. Recomendação personalizada: Em sistemas de recomendação, o Teorema de Bayes é usado para calcular a probabilidade de um usuário gostar de um determinado item com base em suas preferências anteriores e no feedback de outros usuários. Por exemplo, em um sistema de recomendação de filmes, o Teorema de Bayes é aplicado para atualizar as probabilidades de preferência de um usuário com base nas classificações que ele atribuiu a filmes anteriores e nas classificações médias dos filmes pela comunidade.\n",
    "\n",
    "4. Processamento de linguagem natural: Na área de processamento de linguagem natural, o Teorema de Bayes é usado em várias tarefas, como classificação de documentos, detecção de spam, correção ortográfica e tradução automática. Por exemplo, na classificação de documentos, o Teorema de Bayes é aplicado para calcular a probabilidade de um documento pertencer a uma determinada categoria com base nas palavras presentes no documento.\n",
    "\n",
    "5. Detecção de anomalias: O Teorema de Bayes é usado na detecção de anomalias para identificar pontos de dados que são estatisticamente incomuns em relação a um conjunto de dados. O Teorema de Bayes é aplicado para calcular a probabilidade de um ponto de dados ser uma anomalia com base na distribuição estatística dos dados normais.\n",
    "\n",
    "Esses são apenas alguns exemplos de como o Teorema de Bayes é aplicado em data science e machine learning. Ele fornece uma estrutura matemática para atualizar probabilidades com base em novas evidências e é usado em uma ampla variedade de tarefas, desde classificação e filtragem até recomendação personalizada e detecção de anomalias."
   ]
  },
  {
   "cell_type": "markdown",
   "id": "101b06ab",
   "metadata": {},
   "source": [
    "## Monty Hall Problem"
   ]
  },
  {
   "cell_type": "markdown",
   "id": "4b1ba8dd",
   "metadata": {},
   "source": [
    "O problema de Monty Hall é um famoso quebra-cabeça probabilístico baseado em um jogo de TV chamado \"Let's Make a Deal\" (Vamos fazer um acordo), apresentado por Monty Hall. O problema é assim formulado:\n",
    "\n",
    "Suponha que você esteja em um jogo onde há três portas: A, B e C. Atrás de uma dessas portas, há um prêmio (por exemplo, um carro), e as outras duas portas estão vazias. Você escolhe uma das portas (digamos, a porta A). Em seguida, o apresentador Monty Hall, que sabe onde o prêmio está, abre outra porta (digamos, a porta C) que revela que não há prêmio atrás dela.\n",
    "\n",
    "Aqui está o dilema: o apresentador Monty Hall oferece a você a chance de mudar sua escolha para a outra porta não aberta (porta B). Você deve mudar sua escolha? Isso aumenta suas chances de ganhar o prêmio?\n",
    "\n",
    "A resposta surpreendente é que, sim, você deve mudar sua escolha. A probabilidade de ganhar o prêmio é maior se você mudar sua escolha para a outra porta. Isso pode ser explicado usando o Teorema de Bayes.\n",
    "\n",
    "Inicialmente, a probabilidade de o prêmio estar atrás de qualquer uma das três portas é de 1/3 para cada porta. Suponha que você escolha a porta A. Existem duas situações possíveis:\n",
    "\n",
    "1. O prêmio está atrás da porta A (probabilidade de 1/3): Se você não mudar sua escolha, você ganhará o prêmio.\n",
    "\n",
    "2. O prêmio está atrás de uma das outras duas portas (porta B ou porta C) (probabilidade de 2/3): Se você mudar sua escolha, você perderá o prêmio, pois o apresentador Monty Hall revelará a porta sem prêmio (por exemplo, porta C) e você terá que abrir a outra porta sem prêmio (porta B).\n",
    "\n",
    "Agora, vamos calcular as probabilidades considerando as duas situações:\n",
    "\n",
    "- Se você não mudar sua escolha, sua probabilidade de ganhar é 1/3.\n",
    "- Se você mudar sua escolha, sua probabilidade de ganhar é 2/3.\n",
    "\n",
    "Portanto, é mais vantajoso mudar sua escolha, pois a probabilidade de ganhar o prêmio é maior (2/3) em comparação com a probabilidade de não mudar (1/3).\n",
    "\n",
    "Isso pode ser entendido de forma intuitiva: inicialmente, a probabilidade de você escolher a porta correta é de 1/3, enquanto a probabilidade de o prêmio estar em uma das outras duas portas é de 2/3. Quando o apresentador Monty Hall abre uma porta sem prêmio, essa informação atualiza a probabilidade de que o prêmio esteja na porta não aberta, que é a porta B. Portanto, mudar sua escolha aumenta suas chances de ganhar o prêmio.\n",
    "\n",
    "O problema de Monty Hall é um exemplo intrigante de probabilidade condicional e ilustra como o contexto e a atualização de informações podem afetar as probabilidades em um cenário aparentemente simples."
   ]
  },
  {
   "cell_type": "markdown",
   "id": "2c858a5d",
   "metadata": {},
   "source": [
    "## Bayes Theorem - Spam Exemple"
   ]
  },
  {
   "cell_type": "markdown",
   "id": "1944c34f",
   "metadata": {},
   "source": [
    "O Teorema de Bayes é amplamente utilizado em sistemas de detecção de spam para classificar e filtrar emails indesejados. O teorema permite calcular a probabilidade de um email ser spam, dado um conjunto de palavras ou características observadas no email.\n",
    "\n",
    "Aqui está como o Teorema de Bayes é aplicado na detecção de spams:\n",
    "\n",
    "1. Definindo as probabilidades iniciais:\n",
    "   - P(Spam): Probabilidade de um email ser spam.\n",
    "   - P(Não Spam): Probabilidade de um email não ser spam.\n",
    "   - Essas probabilidades podem ser estimadas com base em dados históricos de emails classificados como spam e não spam.\n",
    "\n",
    "2. Construindo um modelo de palavras:\n",
    "   - Um conjunto de palavras ou características é selecionado para construir um modelo de spam.\n",
    "   - Por exemplo, palavras como \"oferta\", \"grátis\", \"promoção\" podem ser fortes indicadores de spam.\n",
    "   - O modelo atribui uma probabilidade para cada palavra ou característica, tanto para emails classificados como spam quanto para não spam.\n",
    "   - Essas probabilidades podem ser estimadas usando técnicas estatísticas, como frequência relativa ou frequência inversa do documento (TF-IDF).\n",
    "\n",
    "3. Calculando a probabilidade de ser spam dado as palavras observadas:\n",
    "   - Dado um email com um conjunto de palavras, calculamos a probabilidade de ser spam usando o Teorema de Bayes.\n",
    "   - P(Spam|Palavras) = (P(Palavras|Spam) * P(Spam)) / P(Palavras)\n",
    "   - P(Palavras|Spam): Probabilidade de observar as palavras no email, dado que é spam.\n",
    "   - P(Palavras): Probabilidade de observar as palavras independentemente de ser spam ou não.\n",
    "   - O denominador P(Palavras) é uma constante que normaliza as probabilidades.\n",
    "\n",
    "4. Comparando as probabilidades:\n",
    "   - A probabilidade P(Spam|Palavras) é comparada com a probabilidade P(Não Spam|Palavras).\n",
    "   - Se P(Spam|Palavras) > P(Não Spam|Palavras), o email é classificado como spam. Caso contrário, é classificado como não spam.\n",
    "\n",
    "Exemplo:\n",
    "Suponha que, com base em dados históricos, temos as seguintes probabilidades:\n",
    "- P(Spam) = 0,4 (40% dos emails são spam).\n",
    "- P(Não Spam) = 0,6 (60% dos emails não são spam).\n",
    "- P(Palavra|Spam) = 0,8 (80% das palavras em emails spam são \"oferta\").\n",
    "- P(Palavra|Não Spam) = 0,2 (20% das palavras em emails não spam são \"oferta\").\n",
    "- Suponha que o email contenha a palavra \"oferta\".\n",
    "\n",
    "Usando o Teorema de Bayes, podemos calcular:\n",
    "- P(Spam|Palavra) = (P(Palavra|Spam) * P(Spam)) / P(Palavra)\n",
    "- P(Spam|Palavra) = (0,8 * 0,4) / P(Palavra)\n",
    "\n",
    "Para calcular P(Palavra), precisaríamos levar em conta todas as palavras observadas no email e calcular a probabilidade de ocorrerem em spam ou não spam. Essa etapa envolve um modelo mais complexo e cálculos adicionais.\n",
    "\n",
    "Com base nas probabilidades e no cálculo acima, podemos decidir se o email é spam ou não spam, comparando a probabilidade P(Spam|Palavra) com a probabilidade P(Não Spam|Palavra).\n",
    "\n",
    "É importante notar que o Teorema de Bayes é apenas uma das abordagens para a detecção de spam e existem outras técnicas e algoritmos mais avançados que podem ser usados em conjunto para obter melhores resultados."
   ]
  },
  {
   "cell_type": "markdown",
   "id": "55d06aea",
   "metadata": {},
   "source": [
    "## Bayes Theorem - The Naive Bayes"
   ]
  },
  {
   "cell_type": "markdown",
   "id": "3eb07f6b",
   "metadata": {},
   "source": [
    "O Naive Bayes é um algoritmo de classificação amplamente utilizado em aprendizado de máquina e mineração de dados. Ele é baseado no Teorema de Bayes e faz suposições simplificadoras sobre a independência condicional das características.\n",
    "\n",
    "Aqui está uma explicação do Naive Bayes e como ele funciona:\n",
    "\n",
    "1. Suposição de independência condicional:\n",
    "   - O Naive Bayes assume que todas as características relevantes para a classificação são **independentes entre si**, dado o valor da classe. (Ex. a ocorrencia de palavras \"oferta\" e \"ganhar\" num email. Essa ocorrência é claramente dependente, não independente)\n",
    "   - Essa suposição simplificadora permite que o algoritmo **calcule facilmente as probabilidades condicionais** necessárias para a classificação.\n",
    "\n",
    "2. Probabilidade condicional:\n",
    "   - O Naive Bayes usa a probabilidade condicional para estimar a probabilidade de uma instância pertencer a cada classe.\n",
    "   - Ele calcula a probabilidade de cada classe dado os valores das características da instância.\n",
    "\n",
    "3. Treinamento:\n",
    "   - Durante a fase de treinamento, o Naive Bayes estima as probabilidades condicionais a partir dos dados de treinamento.\n",
    "   - Para cada classe, são calculadas as probabilidades condicionais das características.\n",
    "\n",
    "4. Classificação:\n",
    "   - Durante a fase de classificação, o Naive Bayes usa as probabilidades condicionais estimadas para determinar a classe mais provável para uma nova instância.\n",
    "   - Ele calcula a probabilidade de cada classe para a instância e seleciona a classe com a maior probabilidade.\n",
    "\n",
    "**Exemplo:**\n",
    "\n",
    "De 100 emails, 20 ou 20% são spams. 80 ou 80% não são spams. 14 emails, dentre os spams, contém a palavra \"lottery\", ou seja 14/20 = 0,7 ou 70%. Já dos emails nao spam, 10 possuem a palavra \"lottery\", ou seja 10/80 = 0.125 ou 12,5%. Já com a palavra \"winning\", está presente em 20 emails ou 20% que são spams, e em 8 ou 80% dos não spams. Já dos emails que são spams, está presente em 15, ou seja 15/20 = 0.75 ou 75% e dos que não são spams está presente em 8, ou seja 8/80 = 0.1.\n",
    "\n",
    "1. Treinamento:\n",
    "   - Calculamos as probabilidades condicionais das características para cada classe (spam e não spam) com base nos dados de treinamento.\n",
    "\n",
    "2. Classificação:\n",
    "   - Dada uma nova instância, por exemplo, um e-mail com as palavras \"oferta\" (lottery) e \"ganhar\", calculamos a probabilidade de ser spam e a probabilidade de ser não spam usando as probabilidades condicionais estimadas.\n",
    "   - Multiplicamos as probabilidades condicionais relevantes e as multiplicamos pela probabilidade inicial da classe (P(Spam) e P(Não Spam)).\n",
    "   - Comparamos as probabilidades calculadas e atribuímos a instância à classe com a maior probabilidade.\n",
    "\n",
    "\n",
    "<img src=\"./imgs/naive_bayes_spam.png\">   \n",
    "\n",
    "O Naive Bayes é rápido, simples e eficiente em muitos cenários, mesmo com a suposição de independência condicional simplificadora. Ele é amplamente usado em problemas de classificação de texto, como detecção de spam, análise de sentimento, categorização de documentos, entre outros.\n",
    "\n",
    "No entanto, é importante notar que o Naive Bayes pode não funcionar bem em casos em que as suposições de independência condicional são violadas ou quando as características são altamente correlacionadas. Nesses casos, outros algoritmos de classificação mais complexos podem ser mais adequados."
   ]
  },
  {
   "cell_type": "markdown",
   "id": "8ca2c15c",
   "metadata": {},
   "source": [
    "## Probability in Machine Learning"
   ]
  },
  {
   "cell_type": "markdown",
   "id": "17819880",
   "metadata": {},
   "source": [
    "Probabilidade e probabilidade condicional são aplicadas em várias tarefas de machine learning, incluindo reconhecimento de imagem (image recognition) e análise de sentimentos (sentiment analysis). Aqui está uma explicação de como esses conceitos são utilizados nessas tarefas:\n",
    "\n",
    "1. Reconhecimento de imagem:\n",
    "   - Probabilidade: Na tarefa de reconhecimento de imagem, a probabilidade é usada para estimar a chance de uma imagem pertencer a determinadas classes.\n",
    "   - Por exemplo, um modelo de reconhecimento de imagem pode calcular a probabilidade de uma imagem ser um gato, um cachorro ou um pássaro.\n",
    "   - Essas probabilidades são geralmente calculadas usando técnicas como redes neurais convolucionais (CNNs) e softmax para atribuir probabilidades às diferentes classes.\n",
    "\n",
    "   - Probabilidade condicional: A probabilidade condicional é usada para modelar a relação entre os pixels de uma imagem e as classes associadas.\n",
    "   - Por exemplo, um modelo de reconhecimento de imagem pode estimar a probabilidade condicional de um pixel dado que a imagem pertence a uma determinada classe.\n",
    "   - Essa informação é usada para aprender padrões e características discriminativas nas imagens que ajudam na classificação correta.\n",
    "\n",
    "2. Análise de sentimentos:\n",
    "   - Probabilidade: Na análise de sentimentos, a probabilidade é usada para estimar a chance de uma determinada frase ou documento ser positivo, negativo ou neutro.\n",
    "   - Por exemplo, um modelo de análise de sentimentos pode calcular a probabilidade de uma avaliação de produto ser positiva ou negativa.\n",
    "   - Essas probabilidades podem ser usadas para determinar a polaridade do sentimento associado ao texto analisado.\n",
    "\n",
    "   - Probabilidade condicional: A probabilidade condicional é usada para modelar a relação entre as palavras ou características linguísticas e as polaridades dos sentimentos.\n",
    "   - Por exemplo, um modelo de análise de sentimentos pode estimar a probabilidade condicional de uma palavra ser encontrada em uma avaliação positiva ou negativa.\n",
    "   - Essa informação é usada para aprender quais palavras são fortemente associadas a sentimentos positivos ou negativos, ajudando na classificação do sentimento.\n",
    "\n",
    "Em ambas as tarefas, a probabilidade e a probabilidade condicional são essenciais para o treinamento dos modelos e a tomada de decisões. Essas probabilidades são usadas para estimar a confiança das previsões e ajustar os parâmetros dos modelos para maximizar a probabilidade de previsões corretas.\n",
    "\n",
    "Além disso, a probabilidade condicional também é usada em técnicas de processamento de linguagem natural, como modelos de linguagem baseados em cadeias de Markov e algoritmos de tradução automática, onde a probabilidade condicional de uma sequência de palavras pode ser usada para estimar a probabilidade de uma sequência de tradução ser correta.\n",
    "\n",
    "Em resumo, a probabilidade e a probabilidade condicional desempenham um papel fundamental em várias tarefas de machine learning, incluindo reconhecimento de imagem e análise de sentimentos, ajudando a tomar decisões confiáveis e a obter resultados precisos."
   ]
  },
  {
   "cell_type": "markdown",
   "id": "03458f28",
   "metadata": {},
   "source": [
    "## Lesson 2 - Probability Distributions"
   ]
  },
  {
   "cell_type": "markdown",
   "id": "a1709c67",
   "metadata": {},
   "source": [
    "## Random Variables"
   ]
  },
  {
   "cell_type": "markdown",
   "id": "73e947e2",
   "metadata": {},
   "source": [
    "Uma variável aleatória é uma função que associa valores numéricos a eventos em um espaço amostral. Ela representa a quantificação dos resultados possíveis de um experimento aleatório. Aqui está uma explicação mais detalhada, uma descrição e exemplos de variáveis aleatórias:\n",
    "\n",
    "1. Definição de variável aleatória:\n",
    "   - Uma variável aleatória é uma função que mapeia os resultados de um experimento aleatório para valores numéricos.\n",
    "   - Ela atribui um valor numérico a cada possível resultado do experimento.\n",
    "   - As variáveis aleatórias quantitativas podem ser discretas, assumindo apenas valores isolados, ou contínuas, assumindo valores em um intervalo contínuo.\n",
    "   \n",
    "<img src=\"./imgs/tipos_variaveis.png\">   \n",
    "\n",
    "2. Variáveis aleatórias discretas:\n",
    "   - Uma variável aleatória discreta assume um número finito ou contável de valores distintos.\n",
    "   - Exemplos de variáveis aleatórias discretas incluem o resultado de lançar um dado (1, 2, 3, 4, 5, 6) ou o número de caras em três lançamentos de uma moeda (0, 1, 2, 3).\n",
    "\n",
    "3. Variáveis aleatórias contínuas:\n",
    "   - Uma variável aleatória contínua assume um intervalo contínuo de valores reais.\n",
    "   - Exemplos de variáveis aleatórias contínuas incluem a altura de uma pessoa, a temperatura ambiente ou o tempo necessário para concluir uma tarefa.\n",
    "\n",
    "4. Função de probabilidade:\n",
    "   - Uma variável aleatória é caracterizada por sua função de probabilidade, que atribui uma probabilidade a cada valor possível da variável.\n",
    "   - Para variáveis aleatórias discretas, a função de probabilidade é geralmente expressa como uma tabela de probabilidades para cada valor.\n",
    "   - Para variáveis aleatórias contínuas, a função de probabilidade é descrita por uma função densidade de probabilidade (PDF), que representa a probabilidade de a variável assumir valores em um intervalo.\n",
    "\n",
    "5. Exemplos de variáveis aleatórias:\n",
    "   - Um exemplo de variável aleatória discreta é o número de falhas em um sistema durante um período de tempo fixo.\n",
    "   - Um exemplo de variável aleatória contínua é a temperatura média diária de uma cidade durante um determinado mês.\n",
    "\n",
    "Em machine learning, as variáveis aleatórias são usadas para modelar e descrever os dados. Elas desempenham um papel crucial na estimação de parâmetros, na inferência estatística e na construção de modelos preditivos. Conhecendo as propriedades das variáveis aleatórias, é possível fazer previsões, calcular probabilidades e tomar decisões informadas com base nos dados observados."
   ]
  },
  {
   "cell_type": "markdown",
   "id": "f799f1dc",
   "metadata": {},
   "source": [
    "**Experimento**\n",
    "\n",
    "Para confirmar empiricamente que a probabilidade de sair cara e coroa em um lançamento de moeda é igual, podemos realizar um experimento simples, **repetindo o lançamento da moeda várias vezes e registrando os resultados**.\n",
    "\n",
    "O procedimento básico é o seguinte:\n",
    "\n",
    "1. Escolha um número de lançamentos que deseja realizar no experimento, por exemplo, 100, 1000 ou mais.\n",
    "2. Lance a moeda e registre o resultado de cada lançamento. Você pode atribuir \"cara\" ao valor 1 e \"coroa\" ao valor 0, por exemplo.\n",
    "3. Ao final do experimento, calcule a proporção de \"caras\" e \"coroas\" observadas dividindo o número de vezes que cada resultado ocorreu pelo total de lançamentos.\n",
    "4. Compare as proporções obtidas. Se a moeda for justa, ou seja, se a probabilidade de sair cara for igual à probabilidade de sair coroa, espera-se que as **proporções se aproximem de 0,5 para ambos os resultados**.\n",
    "5. Repita o experimento várias vezes, aumentando o número de lançamentos em cada repetição, para obter uma amostra maior e reduzir a variabilidade dos resultados.\n",
    "\n",
    "Por exemplo, se você realizar 100 lançamentos e obter 52 \"caras\" e 48 \"coroas\", a proporção de \"caras\" será de 0,52 e a proporção de \"coroas\" será de 0,48. Se realizar 1000 lançamentos e obter 498 \"caras\" e 502 \"coroas\", as proporções serão de 0,498 e 0,502, respectivamente.\n",
    "\n",
    "Ao repetir o experimento com um número cada vez maior de lançamentos, as proporções observadas devem se aproximar cada vez mais de 0,5 para ambos os resultados, indicando que a probabilidade de sair cara e coroa é igual.\n",
    "\n",
    "Esse tipo de experimento é uma forma prática de confirmar a igualdade de probabilidades e verificar se a moeda é justa. No entanto, é importante lembrar que pequenas flutuações podem ocorrer devido à aleatoriedade inerente ao processo de lançamento da moeda. Portanto, é recomendado repetir o experimento várias vezes para obter uma estimativa mais confiável das proporções."
   ]
  },
  {
   "cell_type": "code",
   "execution_count": 2,
   "id": "050a3be7",
   "metadata": {
    "ExecuteTime": {
     "end_time": "2023-07-01T12:51:22.042542Z",
     "start_time": "2023-07-01T12:51:21.754191Z"
    }
   },
   "outputs": [
    {
     "data": {
      "image/png": "[encoded data removed]",
      "text/plain": [
       "<Figure size 1440x576 with 1 Axes>"
      ]
     },
     "metadata": {
      "needs_background": "light"
     },
     "output_type": "display_data"
    }
   ],
   "source": [
    "import numpy as np\n",
    "import matplotlib.pyplot as plt\n",
    "plt.rcParams[\"figure.figsize\"] = (20, 8)\n",
    "\n",
    "# Set the seed for reproducibility\n",
    "np.random.seed(42)\n",
    "\n",
    "# Perform the coin flipping experiment\n",
    "num_experiments = 10000\n",
    "num_flips = 10\n",
    "results = []\n",
    "\n",
    "for exp in range(num_experiments):\n",
    "    flips = np.random.choice(['Heads', 'Tails'], size=num_flips)\n",
    "    num_heads = np.sum(flips == 'Heads')\n",
    "    num_tails = num_flips - num_heads\n",
    "    results.append((num_heads, num_tails))\n",
    "\n",
    "# Count the frequencies of heads and tails\n",
    "heads_counts = [result[0] for result in results]\n",
    "tails_counts = [result[1] for result in results]\n",
    "\n",
    "# Plot the distribution of heads and tails\n",
    "labels = ['Heads', 'Tails']\n",
    "counts = [heads_counts, tails_counts]\n",
    "\n",
    "plt.figure(figsize=(20, 8))\n",
    "plt.hist(counts, bins=np.arange(num_flips + 2) - 0.5, label=labels)\n",
    "plt.xlabel('Number of occurrences')\n",
    "plt.ylabel('Frequency')\n",
    "plt.xticks(range(num_flips + 1))\n",
    "plt.title('Distribution of \"Heads\" and \"Tails\"')\n",
    "plt.legend()\n",
    "plt.show()"
   ]
  },
  {
   "cell_type": "markdown",
   "id": "768e2225",
   "metadata": {},
   "source": [
    "O gráfico gerado mostra a distribuição do número de vezes que o valor \"cara\" e \"coroa\" ocorreram em 10.000 experimentos de lançamento de uma moeda, onde cada experimento consiste em lançar a moeda 10 vezes.\n",
    "\n",
    "No eixo x do gráfico, temos o número de ocorrências, variando de 0 a 10. Isso representa o número de vezes que o valor \"cara\" ou \"coroa\" apareceu nos 10 lançamentos.\n",
    "\n",
    "No eixo y, temos a frequência de cada número de ocorrências. Isso indica quantos experimentos resultaram em um determinado número de \"caras\" ou \"coroas\".\n",
    "\n",
    "As barras azuis representam a distribuição do número de vezes que o valor \"cara\" ocorreu, enquanto as barras laranjas representam a distribuição do número de vezes que o valor \"coroa\" ocorreu.\n",
    "\n",
    "A partir do gráfico, podemos observar algumas informações. Por exemplo:\n",
    "- O número mais comum de \"caras\" ou \"coroas\" é 5, pois a barra correspondente é a mais alta.\n",
    "- Conforme nos afastamos de 5, a frequência diminui, o que indica que é menos provável obter um número extremo de \"caras\" ou \"coroas\" (0, 1, 9 ou 10) em um experimento de 10 lançamentos de moeda.\n",
    "\n",
    "Esse gráfico nos dá uma visão visual da distribuição dos resultados dos lançamentos da moeda e nos permite entender melhor como os resultados podem ser esperados."
   ]
  },
  {
   "cell_type": "markdown",
   "id": "a69a49ef",
   "metadata": {},
   "source": [
    "Nesse experimento, podemos relacioná-lo à variável aleatória discreta, onde a variável é o número de vezes que a face \"cara\" aparece nos lançamentos da moeda.\n",
    "\n",
    "Uma variável aleatória é uma função que atribui um valor numérico a cada resultado possível de um experimento aleatório. No caso desse experimento, a variável aleatória representa o número de \"caras\" em cada conjunto de 10 lançamentos de moeda.\n",
    "\n",
    "Cada lançamento da moeda é considerado um ensaio independente, e a variável aleatória assume um valor inteiro entre 0 e 10. A distribuição da variável aleatória é obtida ao repetir o experimento várias vezes e contar o número de ocorrências de cada valor possível.\n",
    "\n",
    "No código fornecido, a lista `heads_counts` armazena os valores da variável aleatória, ou seja, o número de vezes que \"cara\" aparece em cada conjunto de 10 lançamentos. Esses valores são utilizados para construir o histograma, que representa a distribuição da variável aleatória.\n",
    "\n",
    "Assim, podemos considerar a variável aleatória discreta como a contagem de \"caras\" nos lançamentos da moeda, e o experimento nos permite analisar a distribuição dessa variável, observando a frequência de cada valor possível.\n",
    "\n",
    "É importante destacar que esse experimento com a moeda segue uma distribuição binomial, pois estamos contando o **número de sucessos (caras)** em um número fixo de ensaios independentes (lançamentos). A análise da distribuição da variável aleatória nos permite compreender melhor as probabilidades associadas ao experimento e auxilia na tomada de decisões em problemas práticos relacionados."
   ]
  },
  {
   "cell_type": "markdown",
   "id": "6671c4e9",
   "metadata": {},
   "source": [
    "## Probability Distribution (Discrete)"
   ]
  },
  {
   "cell_type": "markdown",
   "id": "9f6031b6",
   "metadata": {},
   "source": [
    "A distribuição de probabilidades discreta descreve a probabilidade de ocorrência de valores específicos em uma variável aleatória discreta. Nessa distribuição, os valores possíveis são enumeráveis e têm probabilidades associadas a eles.\n",
    "\n",
    "Cada valor da variável aleatória discreta tem uma probabilidade de ocorrência que varia de 0 a 1, e a soma de todas as probabilidades deve ser igual a 1. A distribuição de probabilidades pode ser expressa por meio de uma função de probabilidade ou por uma tabela de valores.\n",
    "\n",
    "Existem várias distribuições de probabilidades discretas comumente utilizadas em estatística e probabilidade. Alguns exemplos são:\n",
    "\n",
    "1. Distribuição Uniforme Discreta: Todos os valores possíveis têm a mesma probabilidade de ocorrência. Por exemplo, ao lançar um dado justo de 6 faces, cada face tem probabilidade 1/6 de ser obtida.\n",
    "\n",
    "2. Distribuição Bernoulli: Tem dois possíveis resultados, geralmente rotulados como sucesso e fracasso. A probabilidade de sucesso, denotada por p, é fixa para cada ensaio. Por exemplo, lançar uma moeda honesta, onde cara é sucesso e coroa é fracasso.\n",
    "\n",
    "3. Distribuição Binomial: Descreve o número de sucessos em um número fixo de ensaios independentes. É caracterizada por dois parâmetros: o número de ensaios (n) e a probabilidade de sucesso (p) em cada ensaio. Por exemplo, o número de \"caras\" em 10 lançamentos de uma moeda justa. A distribuição Bernoulli é usada para modelar **um único evento binário**, enquanto a distribuição binomial é usada para modelar o número de sucessos em uma **série de eventos independentes e idênticos**. A distribuição binomial pode ser vista como uma coleção de distribuições Bernoulli independentes, onde cada uma representa um único experimento dentro da série\n",
    "\n",
    "4. Distribuição Poisson: Modela a ocorrência de eventos raros em um intervalo de tempo ou espaço fixo. É caracterizada por um único parâmetro, lambda (λ), que representa a taxa média de ocorrência do evento. Por exemplo, o número de chamadas recebidas em uma central telefônica em um minuto.\n",
    "\n",
    "Esses são apenas alguns exemplos de distribuições de probabilidades discretas. Cada uma delas possui características distintas e é aplicável em diferentes contextos. A escolha da distribuição adequada depende das características dos dados e do problema em questão.\n",
    "\n",
    "Ao estudar uma variável aleatória discreta, é importante compreender sua distribuição de probabilidades para realizar análises estatísticas, calcular médias, variâncias e tomar decisões informadas baseadas nos dados observados."
   ]
  },
  {
   "cell_type": "markdown",
   "id": "578bcf5e",
   "metadata": {},
   "source": [
    "Em machine learning e ciência de dados, as distribuições de probabilidades discretas desempenham um papel importante na modelagem e análise de dados. Elas são usadas para descrever a probabilidade de ocorrência de diferentes valores em variáveis discretas, que são aquelas que podem assumir apenas valores distintos e enumeráveis.\n",
    "\n",
    "A escolha adequada de uma distribuição de probabilidades discreta depende do tipo de dados que estamos lidando e das suposições sobre o comportamento desses dados. Aqui estão alguns exemplos de como as distribuições de probabilidades discretas são aplicadas em machine learning e ciência de dados:\n",
    "\n",
    "1. Na classificação de textos, as distribuições de probabilidades discretas, como a distribuição multinomial, podem ser usadas para modelar a frequência das palavras em um documento. Essa informação pode ser usada para treinar modelos de classificação de texto, como o Naive Bayes, que usa a probabilidade condicional para classificar novos documentos.\n",
    "\n",
    "2. Na geração de sequências, como na geração de texto ou música, as distribuições de probabilidades discretas são usadas para modelar a probabilidade de ocorrência de cada símbolo em uma sequência. Por exemplo, o modelo de linguagem de Markov pode ser usado para prever a próxima palavra em uma frase com base nas probabilidades condicionais das palavras anteriores.\n",
    "\n",
    "3. Na recomendação de itens, as distribuições de probabilidades discretas podem ser usadas para modelar a preferência do usuário por diferentes itens. Por exemplo, o modelo de filtragem colaborativa pode usar a distribuição multinomial para modelar a probabilidade de um usuário gostar ou não de um determinado item.\n",
    "\n",
    "4. Na detecção de fraudes, as distribuições de probabilidades discretas podem ser usadas para modelar o comportamento normal do usuário e identificar anomalias. Por exemplo, a distribuição de Poisson pode ser usada para modelar a taxa média de ocorrência de determinados eventos e detectar desvios significativos dessa taxa.\n",
    "\n",
    "Esses são apenas alguns exemplos de como as distribuições de probabilidades discretas são aplicadas em machine learning e ciência de dados. A escolha da distribuição adequada depende do problema em questão e das características dos dados. Uma distribuição apropriada pode fornecer uma representação eficaz dos dados e permitir a aplicação de técnicas estatísticas e de aprendizado de máquina para análise e tomada de decisões."
   ]
  },
  {
   "cell_type": "markdown",
   "id": "466ad56b",
   "metadata": {},
   "source": [
    "A probability mass function (PMF) ou **função de massa de probabilidade**, é uma função que associa a cada valor possível de uma variável aleatória discreta a sua probabilidade de ocorrência. A PMF é usada para descrever a distribuição de probabilidades de uma variável aleatória discreta.\n",
    "\n",
    "A função de massa de probabilidade deve satisfazer duas propriedades:\n",
    "\n",
    "1. Para cada valor possível da variável aleatória, a probabilidade associada deve ser não negativa. Ou seja, a função de massa de probabilidade deve retornar valores maiores ou iguais a zero.\n",
    "\n",
    "2. A soma de todas as probabilidades associadas aos valores possíveis da variável aleatória deve ser igual a 1. Isso significa que a função de massa de probabilidade deve atribuir toda a probabilidade total aos valores possíveis da variável aleatória.\n",
    "\n",
    "Um exemplo comum de PMF é a distribuição binomial. Nessa distribuição, a PMF é dada pela fórmula:\n",
    "\n",
    "P(X = k) = C(n, k) * p^k * (1 - p)^(n - k)\n",
    "\n",
    "Onde:\n",
    "- X é a variável aleatória.\n",
    "- k é o valor específico que a variável aleatória pode assumir.\n",
    "- n é o número de ensaios.\n",
    "- p é a probabilidade de sucesso em cada ensaio.\n",
    "- C(n, k) é o coeficiente binomial, que representa o número de combinações de n objetos tomados k de cada vez.\n",
    "\n",
    "A PMF permite calcular a probabilidade exata de um valor específico da variável aleatória ocorrer, bem como fazer cálculos relacionados à distribuição, como calcular a média, a variância e outros momentos.\n",
    "\n",
    "Em resumo, a PMF é uma função que descreve a distribuição de probabilidades de uma variável aleatória discreta, atribuindo a cada valor possível a sua probabilidade de ocorrência. Ela é uma ferramenta fundamental para compreender e analisar variáveis aleatórias discretas."
   ]
  },
  {
   "cell_type": "markdown",
   "id": "925fd952",
   "metadata": {},
   "source": [
    "A probability mass function (PMF), ou função de massa de probabilidade, em machine learning e ciência de dados, desempenha um papel crucial na modelagem e análise de dados discretos. A PMF é uma função que atribui a cada valor possível de uma variável aleatória discreta a sua probabilidade de ocorrência.\n",
    "\n",
    "Em machine learning e ciência de dados, a PMF é frequentemente utilizada em várias tarefas, tais como:\n",
    "\n",
    "1. Análise exploratória de dados: A PMF pode ser usada para visualizar a distribuição de probabilidades dos valores em uma variável discreta. Isso permite entender a frequência de cada valor e identificar possíveis padrões ou discrepâncias nos dados. Por exemplo, ao analisar dados sobre a preferência de produtos, podemos usar a PMF para determinar a probabilidade de um determinado produto ser escolhido.\n",
    "\n",
    "2. Modelagem de dados: A PMF é usada para construir modelos probabilísticos para representar dados discretos. Por exemplo, em um problema de classificação com variáveis discretas, como a classificação de documentos em categorias, a PMF pode ser usada para estimar as probabilidades condicionais de pertencer a cada categoria.\n",
    "\n",
    "3. Geração de dados sintéticos: A PMF pode ser usada para gerar dados sintéticos com base em uma distribuição específica. Por exemplo, ao simular dados de uma variável aleatória discreta com uma distribuição conhecida, podemos usar a PMF para gerar amostras aleatórias que sigam essa distribuição.\n",
    "\n",
    "4. Avaliação de modelos: A PMF pode ser usada para avaliar a qualidade dos modelos de aprendizado de máquina. Comparando as distribuições de probabilidade previstas pelo modelo com a PMF dos dados reais, podemos medir o quão bem o modelo está ajustando os dados e fazer comparações entre diferentes modelos.\n",
    "\n",
    "Em resumo, a PMF em machine learning e ciência de dados é usada para representar a distribuição de probabilidades de variáveis discretas. Ela desempenha um papel fundamental na modelagem de dados, avaliação de modelos e análise exploratória de dados, permitindo que sejam tomadas decisões informadas com base nas probabilidades associadas a cada valor possível da variável em questão."
   ]
  },
  {
   "cell_type": "markdown",
   "id": "98b0eae3",
   "metadata": {},
   "source": [
    "## Binomial Distribution"
   ]
  },
  {
   "cell_type": "markdown",
   "id": "cb792b1b",
   "metadata": {},
   "source": [
    "A distribuição binomial é um tipo de distribuição de probabilidade discreta que modela o número de sucessos em um certo número fixo de ensaios independentes, onde cada ensaio tem apenas duas possibilidades: sucesso ou fracasso. Ela é amplamente utilizada em estatística e em aplicações práticas em ciência de dados.\n",
    "\n",
    "A notação $X \\sim Binomial(n, p)$ é usada para representar que a variável aleatória 𝑋 segue uma distribuição binomial com parâmetros $n$ e $p$.\n",
    "\n",
    "$$ X \\sim Binomial(n, p)$$\n",
    "\n",
    "A distribuição binomial é caracterizada por dois parâmetros: o número de ensaios (n) e a probabilidade de sucesso em cada ensaio (p). A função de probabilidade da distribuição binomial é dada pela fórmula:\n",
    "\n",
    "$$ P(X = k) = C(n, k) * p^k * (1 - p)^{(n - k)} $$\n",
    "\n",
    "\n",
    "Onde:\n",
    "- X é a variável aleatória que representa o número de sucessos.\n",
    "- k é o número específico de sucessos desejado.\n",
    "- n é o número total de ensaios.\n",
    "- p é a probabilidade de sucesso em cada ensaio.\n",
    "- C(n, k) é o coeficiente binomial, que representa o número de combinações de n objetos tomados k de cada vez.\n",
    "\n",
    "A distribuição binomial possui as seguintes propriedades:\n",
    "\n",
    "1. Os valores da variável aleatória X estão no intervalo [0, n], onde n é o número total de ensaios.\n",
    "2. A média da distribuição binomial é dada por E(X) = n * p.\n",
    "3. A variância da distribuição binomial é dada por Var(X) = n * p * (1 - p).\n",
    "\n",
    "Exemplos de aplicação da distribuição binomial incluem:\n",
    "\n",
    "1. Lançamento de moedas: Seja X o número de vezes que uma moeda cai em \"cara\" em 10 lançamentos. Nesse caso, n = 10 e p = 0.5 (probabilidade de \"cara\"). A distribuição binomial pode ser usada para calcular a probabilidade de obter um certo número de \"caras\" em 10 lançamentos.\n",
    "\n",
    "2. Testes de hipóteses: A distribuição binomial é usada para testar a significância estatística de um resultado em um experimento binomial. Por exemplo, em um teste de medicamento, pode-se usar a distribuição binomial para calcular a probabilidade de obter um certo número de pacientes que responderam positivamente ao medicamento.\n",
    "\n",
    "3. Marketing: A distribuição binomial pode ser usada para modelar o número de clientes que respondem a uma campanha de marketing, onde cada cliente tem uma certa probabilidade de responder.\n",
    "\n",
    "Em resumo, a distribuição binomial é uma distribuição de probabilidade discreta que modela o número de sucessos em um número fixo de ensaios independentes. Ela é amplamente usada em estatística e ciência de dados para modelagem e análise de dados discretos."
   ]
  },
  {
   "cell_type": "markdown",
   "id": "c56f67ff",
   "metadata": {},
   "source": [
    "A distribuição binomial desempenha um papel importante em machine learning e ciência de dados, sendo amplamente utilizada em várias aplicações. Aqui estão algumas maneiras pelas quais a distribuição binomial é aplicada nesses campos:\n",
    "\n",
    "1. Testes de hipóteses: A distribuição binomial é usada em testes de hipóteses para avaliar a significância estatística de um resultado observado. Por exemplo, ao comparar duas abordagens de classificação, podemos usar a distribuição binomial para calcular a probabilidade de obter um certo número de acertos ao acaso, considerando a taxa de sucesso esperada de cada abordagem.\n",
    "\n",
    "2. Modelagem de eventos raros: A distribuição binomial pode ser aplicada quando estamos interessados na ocorrência de eventos raros. Por exemplo, em análise de fraudes, podemos modelar o número de transações fraudulentas em uma determinada amostra usando a distribuição binomial, assumindo uma taxa de fraude conhecida.\n",
    "\n",
    "3. Testes de controle de qualidade: A distribuição binomial é utilizada em testes de controle de qualidade para verificar se um processo está produzindo produtos defeituosos além de um limite aceitável. Podemos contar o número de itens defeituosos em uma amostra e modelar a distribuição desse número usando a distribuição binomial.\n",
    "\n",
    "4. Simulação de experimentos: Em muitos casos, é inviável realizar experimentos em larga escala para coletar dados. Nesses casos, a distribuição binomial pode ser usada para simular os resultados esperados. Por exemplo, ao planejar um experimento de marketing, podemos usar a distribuição binomial para simular o número de conversões esperadas com base nas taxas de conversão observadas em dados históricos.\n",
    "\n",
    "5. Análise de séries temporais: Em alguns cenários, a distribuição binomial é aplicada em análise de séries temporais, onde estamos interessados em modelar a probabilidade de eventos ocorrerem em intervalos de tempo específicos. Por exemplo, na previsão de demanda em varejo, podemos modelar a probabilidade de um determinado número de vendas ocorrerem em um determinado período usando a distribuição binomial.\n",
    "\n",
    "Esses são apenas alguns exemplos de como a distribuição binomial é aplicada em machine learning e ciência de dados. A escolha da distribuição apropriada depende do problema em questão e das características dos dados, mas a distribuição binomial é amplamente utilizada quando lidamos com variáveis discretas e eventos independentes."
   ]
  },
  {
   "cell_type": "markdown",
   "id": "8ad6859c",
   "metadata": {},
   "source": [
    "### Experimento: Marketing\n",
    "A distribuição binomial pode ser usada para modelar o número de clientes que respondem a uma campanha de marketing, onde cada cliente tem uma certa probabilidade de responder."
   ]
  },
  {
   "cell_type": "markdown",
   "id": "67983e3d",
   "metadata": {},
   "source": [
    "Exemplo de como você pode usar a distribuição binomial em marketing para modelar o número de clientes que respondem a uma campanha de marketing:"
   ]
  },
  {
   "cell_type": "code",
   "execution_count": 3,
   "id": "500a8a0d",
   "metadata": {
    "ExecuteTime": {
     "end_time": "2023-07-01T12:51:22.292757Z",
     "start_time": "2023-07-01T12:51:22.043891Z"
    }
   },
   "outputs": [
    {
     "data": {
      "image/png": "[encoded data removed]",
      "text/plain": [
       "<Figure size 1440x576 with 1 Axes>"
      ]
     },
     "metadata": {
      "needs_background": "light"
     },
     "output_type": "display_data"
    }
   ],
   "source": [
    "import numpy as np\n",
    "import matplotlib.pyplot as plt\n",
    "\n",
    "# Número de clientes\n",
    "n_clientes = 100\n",
    "\n",
    "# Probabilidade de um cliente responder à campanha\n",
    "p_resposta = 0.2\n",
    "\n",
    "# Gerar amostras aleatórias da distribuição binomial\n",
    "respostas = np.random.binomial(n_clientes, p_resposta, size=1000)\n",
    "\n",
    "# Plotar a distribuição das respostas dos clientes\n",
    "plt.hist(respostas, bins=range(n_clientes+1), density=True, edgecolor='black')\n",
    "plt.xlabel('Número de Respostas dos Clientes')\n",
    "plt.ylabel('Probabilidade')\n",
    "plt.title('Distribuição das Respostas dos Clientes')\n",
    "plt.show()"
   ]
  },
  {
   "cell_type": "markdown",
   "id": "f76c5d27",
   "metadata": {},
   "source": [
    "Neste exemplo, assumimos que existem 100 clientes e cada cliente tem uma probabilidade de 0,2 (20%) de responder à campanha de marketing. Usamos a função `np.random.binomial` para gerar amostras aleatórias da distribuição binomial, representando o número de respostas dos clientes em cada simulação.\n",
    "\n",
    "Ao executar esse código, obtemos um histograma que mostra a **distribuição das respostas dos clientes**. O eixo x representa o número de respostas dos clientes, variando de 0 ao total de clientes, e o eixo y representa a probabilidade de cada resposta. O histograma fornece uma compreensão da probabilidade de diferentes níveis de resposta, permitindo avaliar a eficácia da sua campanha de marketing.\n",
    "\n",
    "Note que a distribuição real irá variar a cada vez que você executar o código devido à natureza aleatória da distribuição binomial."
   ]
  },
  {
   "cell_type": "markdown",
   "id": "feb70685",
   "metadata": {},
   "source": [
    "### Experimento: Simulação de taxa de conversão\n",
    "Em muitos casos, é inviável realizar experimentos em larga escala para coletar dados. Nesses casos, a distribuição binomial pode ser usada para simular os resultados esperados. Por exemplo, ao planejar um experimento de marketing, podemos usar a distribuição binomial para simular o número de conversões esperadas com base nas taxas de conversão observadas em dados históricos."
   ]
  },
  {
   "cell_type": "code",
   "execution_count": 4,
   "id": "7d64ae5c",
   "metadata": {
    "ExecuteTime": {
     "end_time": "2023-07-01T12:51:22.297897Z",
     "start_time": "2023-07-01T12:51:22.293950Z"
    }
   },
   "outputs": [
    {
     "name": "stdout",
     "output_type": "stream",
     "text": [
      "Número médio esperado de conversões: 10.094\n"
     ]
    }
   ],
   "source": [
    "import numpy as np\n",
    "\n",
    "# Taxa de conversão histórica\n",
    "taxa_conversao = 0.1\n",
    "\n",
    "# Número de tentativas/experimentos\n",
    "n_tentativas = 1000\n",
    "\n",
    "# Simular resultados do experimento\n",
    "conversoes = np.random.binomial(n=100, p=taxa_conversao, size=n_tentativas)\n",
    "\n",
    "# Calcular o número médio esperado de conversões\n",
    "conversoes_esperadas = np.mean(conversoes)\n",
    "\n",
    "print(\"Número médio esperado de conversões:\", conversoes_esperadas)\n",
    "\n",
    "# # Plotar a distribuição das respostas dos clientes\n",
    "# plt.hist(conversoes, bins = range(n_tentativas + 1), density=False, edgecolor='black')\n",
    "# plt.xlabel('Número de Conversões')\n",
    "# plt.ylabel('Probabilidade')\n",
    "# plt.title('Distribuição das Conversões dos Clientes')\n",
    "# plt.show()"
   ]
  },
  {
   "cell_type": "markdown",
   "id": "5d51338c",
   "metadata": {},
   "source": [
    "Neste exemplo, assumimos uma taxa de conversão histórica de 0,1, que representa a probabilidade de uma conversão ocorrer em cada tentativa. Especificamos o número de tentativas/experimentos como 1000. Usando a função np.random.binomial, simulamos os resultados do experimento, gerando amostras aleatórias da distribuição binomial. Cada amostra representa o número de conversões em um único experimento com 100 tentativas.\n",
    "\n",
    "Por fim, calculamos o número médio esperado de conversões obtendo a média dos resultados simulados. Esse valor fornece uma estimativa do número de conversões que podemos esperar, em média, com base na taxa de conversão histórica"
   ]
  },
  {
   "cell_type": "markdown",
   "id": "2c27551a",
   "metadata": {},
   "source": [
    "## Binomial Coefficient"
   ]
  },
  {
   "cell_type": "markdown",
   "id": "ac07a49f",
   "metadata": {},
   "source": [
    "O coeficiente binomial, representado como $\\binom{n}{k}$, é uma função matemática que calcula o número de combinações possíveis de se escolher \\(k\\) elementos de um conjunto de \\(n\\) elementos. Também é conhecido como \"n choose k\" ou \"nCk\".\n",
    "\n",
    "A fórmula para o coeficiente binomial é dada por:\n",
    "\n",
    "$$ \\binom{n}{k} = \\frac{n!}{k!(n-k)!} $$\n",
    "\n",
    "Onde:\n",
    "- $n!$ representa o fatorial* de $n$, que é o produto de todos os números inteiros positivos de 1 a $n$.\n",
    "- $k!$ representa o fatorial de $k$, que é o produto de todos os números inteiros positivos de 1 a $k$.\n",
    "- $(n-k)!$ representa o fatorial de $(n-k)$.\n",
    "\n",
    "O coeficiente binomial é usado principalmente para contar o número de maneiras diferentes de escolher um subconjunto de \\(k\\) elementos de um conjunto maior de \\(n\\) elementos, sem levar em consideração a ordem em que os elementos são escolhidos. É comumente aplicado em problemas de combinação, permutação e probabilidade.\n",
    "\n",
    "Por exemplo, considere o lançamento de uma moeda justa duas vezes. Queremos saber o número de maneiras diferentes de obter 1 cara e 1 coroa em dois lançamentos. Nesse caso, temos \\(n = 2\\) (número total de lançamentos) e \\(k = 1\\) (número de caras). Aplicando a fórmula do coeficiente binomial, obtemos:\n",
    "\n",
    "$$ \\binom{2}{1} = \\frac{2!}{1!(2-1)!} = \\frac{2}{1} = 2 $$\n",
    "\n",
    "Isso significa que existem duas maneiras diferentes de obter 1 cara e 1 coroa em dois lançamentos de uma moeda justa: cara-coroa e coroa-cara.\n",
    "\n",
    "O coeficiente binomial é amplamente utilizado em diversos campos, como combinatória, estatística, probabilidade, teoria de conjuntos e na análise de algoritmos. Ele desempenha um papel fundamental na contagem e na análise de eventos compostos em muitos problemas matemáticos e científicos."
   ]
  },
  {
   "cell_type": "markdown",
   "id": "f6e4394d",
   "metadata": {
    "ExecuteTime": {
     "end_time": "2023-06-29T23:18:55.035903Z",
     "start_time": "2023-06-29T23:18:55.031989Z"
    }
   },
   "source": [
    "Fatorial é uma operação matemática que consiste em multiplicar um número por todos os seus antecessores até chegar a 1. É denotado pelo símbolo \"!\" após o número. Por exemplo, o fatorial de 5 é representado como 5!, o fatorial de 3 é representado como 3!, e assim por diante.\n",
    "\n",
    "A fórmula geral para calcular o fatorial de um número inteiro positivo \\(n\\) é:\n",
    "\n",
    "$$ n! = n \\cdot (n-1) \\cdot (n-2) \\cdot \\ldots \\cdot 3 \\cdot 2 \\cdot 1$$\n",
    "\n",
    "Por definição, o fatorial de 0 é igual a 1, ou seja, \\(0! = 1\\).\n",
    "\n",
    "O fatorial é usado em várias áreas da matemática, como combinação, permutação, cálculo de probabilidades, análise de algoritmos e muitos outros. Ele também tem aplicações práticas em problemas do mundo real, como o cálculo de arranjos, o número de maneiras de organizar objetos e a análise de eventos independentes.\n",
    "\n",
    "Por exemplo, se queremos calcular o fatorial de 5, temos:\n",
    "\n",
    "$$ 5! = 5 \\cdot 4 \\cdot 3 \\cdot 2 \\cdot 1 = 120 $$\n",
    "\n",
    "Portanto, o fatorial de 5 é igual a 120."
   ]
  },
  {
   "cell_type": "markdown",
   "id": "a5612363",
   "metadata": {},
   "source": [
    "Em machine learning e ciência de dados, o coeficiente binomial também desempenha um papel importante em várias áreas. Como:\n",
    "\n",
    "1. **Recursos combinatórios**: Em problemas de classificação e regressão, muitas vezes precisamos lidar com a combinação de recursos ou variáveis. O coeficiente binomial é usado para calcular o número total de combinações possíveis de $k$ recursos dentre um conjunto de $n$ recursos. Essa informação é útil para dimensionar o espaço de recursos, determinar a complexidade do modelo e otimizar o processo de seleção de recursos.\n",
    "\n",
    "2. **Probabilidade e estatística**: Em machine learning e ciência de dados, frequentemente nos deparamos com problemas que envolvem a contagem de eventos ou o cálculo de probabilidades. O coeficiente binomial é usado em cálculos de probabilidades binomiais, como a probabilidade de obter um certo número de sucessos em um número fixo de ensaios independentes. Isso é particularmente útil em problemas de classificação binária, onde queremos estimar a probabilidade de um evento ocorrer.\n",
    "\n",
    "3. **Modelagem de dados**: Em técnicas como regressão logística e regressão linear, o coeficiente binomial é usado para ajustar os parâmetros do modelo aos dados observados. O coeficiente binomial é incorporado nas funções de verossimilhança, que medem a adequação dos parâmetros do modelo aos dados. A maximização da função de verossimilhança é um objetivo comum na estimação de parâmetros em modelos estatísticos.\n",
    "\n",
    "4. **Amostragem**: O coeficiente binomial também é usado em problemas de amostragem, onde queremos estimar o número de combinações possíveis ou o tamanho de uma amostra representativa. Por exemplo, na validação cruzada, usada para avaliar modelos de machine learning, o coeficiente binomial é usado para calcular o número total de partições possíveis dos dados em conjuntos de treinamento e teste.\n",
    "\n",
    "Em resumo, o coeficiente binomial é amplamente utilizado em machine learning e ciência de dados para lidar com problemas de contagem, combinação, probabilidade, estimação de parâmetros e amostragem. Ele fornece uma ferramenta fundamental para calcular a probabilidade de eventos e analisar dados em várias etapas do processo de análise de dados."
   ]
  },
  {
   "cell_type": "markdown",
   "id": "9b49d104",
   "metadata": {},
   "source": [
    "## Bernoulli Distribution"
   ]
  },
  {
   "cell_type": "markdown",
   "id": "1b3ea898",
   "metadata": {},
   "source": [
    "A Distribuição de Bernoulli é uma distribuição de probabilidade discreta que modela um único experimento aleatório com dois resultados possíveis: sucesso (evento de interesse) com probabilidade \\(p\\) ou falha (evento complementar) com probabilidade \\(q = 1 - p\\). É nomeada em homenagem ao matemático suíço Daniel Bernoulli.\n",
    "\n",
    "A função de probabilidade da Distribuição de Bernoulli é dada por:\n",
    "\n",
    "$$ P(X = x) = \\begin{cases} p, & \\text{se } x = 1 \\\\ q, & \\text{se } x = 0 \\end{cases}\\ $$\n",
    "\n",
    "Onde:\n",
    "- \\(X\\) é a variável aleatória que representa o resultado do experimento (0 ou 1).\n",
    "- \\(x\\) são os possíveis valores que \\(X\\) pode assumir (0 ou 1).\n",
    "- \\(p\\) é a probabilidade de sucesso (ou seja, \\(P(X = 1)\\)).\n",
    "- \\(q\\) é a probabilidade de falha (ou seja, \\(P(X = 0)\\)), e \\(q = 1 - p\\).\n",
    "\n",
    "Exemplos de experimentos que podem ser modelados usando a Distribuição de Bernoulli incluem:\n",
    "\n",
    "1. Lançamento de uma moeda justa: Suponha que queremos modelar o experimento de lançar uma moeda justa e observar se ela cai com a face \"cara\" (1 - sucesso) ou \"coroa\" (0 - falha). Se a moeda é justa, a probabilidade de sair cara (\\(p\\)) é 0,5 e a probabilidade de sair coroa (\\(q\\)) também é 0,5.\n",
    "\n",
    "2. Teste de sucesso de campanha de marketing: Suponha que uma empresa deseja modelar o resultado de uma campanha de marketing para determinar se um cliente realiza uma compra após receber um anúncio (sucesso) ou não realiza a compra (falha). Se a taxa de conversão da campanha é de 0,1 (ou seja, 10%), então \\(p = 0,1\\) e \\(q = 0,9\\).\n",
    "\n",
    "3. Sucesso de um teste de controle de qualidade: Uma fábrica pode usar a Distribuição de Bernoulli para modelar a probabilidade de um item ser defeituoso (falha) ou não (sucesso) após um processo de controle de qualidade. Se a taxa de defeito for de 0,02 (ou seja, 2%), então \\(p = 0,02\\) e \\(q = 0,98\\).\n",
    "\n",
    "A Distribuição de Bernoulli é uma distribuição básica que serve como base para outras distribuições mais complexas, como a Distribuição Binomial e a Distribuição de Poisson, que modelam o número de sucessos em múltiplos experimentos Bernoulli independentes e em experimentos com taxas de sucesso muito baixas, respectivamente. É amplamente usada em estatística, ciência de dados e machine learning para modelar eventos binários e cálculos de probabilidade em experimentos aleatórios com apenas duas opções possíveis."
   ]
  },
  {
   "cell_type": "markdown",
   "id": "571a9ae3",
   "metadata": {},
   "source": [
    "Em machine learning e ciência de dados, a Distribuição de Bernoulli é frequentemente utilizada para modelar problemas que envolvem resultados binários, ou seja, problemas em que o resultado de um experimento pode ser apenas um de dois valores possíveis: sucesso (1) ou falha (0). Essa distribuição é fundamental para lidar com dados categóricos binários e é aplicada em várias situações práticas. Vamos explorar alguns exemplos de uso:\n",
    "\n",
    "1. Classificação binária: Em problemas de classificação binária, onde queremos prever uma classe entre duas possíveis (por exemplo, sim/não, positivo/negativo, aprovado/reprovado), a Distribuição de Bernoulli é usada para modelar a probabilidade de pertencer a uma classe específica. Por exemplo, em um sistema de detecção de spam, podemos modelar a probabilidade de um e-mail ser spam ou não-spam usando a Distribuição de Bernoulli, considerando características como palavras-chave, presença de links, etc.\n",
    "\n",
    "2. Teste A/B: Ao realizar um teste A/B para comparar duas versões diferentes de um site, aplicativo ou campanha de marketing, a Distribuição de Bernoulli é usada para modelar a probabilidade de um usuário realizar uma ação específica (por exemplo, clicar em um botão, fazer uma compra) em cada versão. Isso permite que os analistas e cientistas de dados comparem a eficácia de cada versão e tomem decisões embasadas em dados.\n",
    "\n",
    "3. Análise de sentimentos: Em tarefas de análise de sentimentos, a Distribuição de Bernoulli pode ser aplicada para modelar a probabilidade de um texto (como uma avaliação de produto ou um tweet) expressar um sentimento positivo ou negativo. Nesse caso, recursos específicos do texto, como palavras-chave ou frequência de termos, são usados para calcular a probabilidade de cada sentimento.\n",
    "\n",
    "4. Detecção de fraudes: Ao construir um sistema de detecção de fraudes, a Distribuição de Bernoulli pode ser empregada para modelar a probabilidade de uma transação ser fraudulenta ou legítima. Recursos relacionados à transação, histórico do usuário ou comportamento incomum podem ser usados para estimar essas probabilidades.\n",
    "\n",
    "É importante ressaltar que a Distribuição de Bernoulli é um caso especial da Distribuição Binomial, onde o número de ensaios é igual a 1. Quando temos múltiplos ensaios independentes com as mesmas probabilidades de sucesso, usamos a Distribuição Binomial. Portanto, a Distribuição de Bernoulli é especialmente útil quando estamos interessados em apenas um único experimento aleatório com dois resultados possíveis. Ela fornece uma base sólida para modelar e analisar dados binários em diversas aplicações de machine learning e ciência de dados."
   ]
  },
  {
   "cell_type": "code",
   "execution_count": 5,
   "id": "9182d208",
   "metadata": {
    "ExecuteTime": {
     "end_time": "2023-07-01T12:51:22.405824Z",
     "start_time": "2023-07-01T12:51:22.299324Z"
    }
   },
   "outputs": [
    {
     "data": {
      "image/png": "[encoded data removed]",
      "text/plain": [
       "<Figure size 1440x576 with 1 Axes>"
      ]
     },
     "metadata": {
      "needs_background": "light"
     },
     "output_type": "display_data"
    },
    {
     "name": "stdout",
     "output_type": "stream",
     "text": [
      "Número de sucessos (1): 300\n",
      "Número de falhas (0): 700\n"
     ]
    }
   ],
   "source": [
    "import numpy as np\n",
    "import matplotlib.pyplot as plt\n",
    "\n",
    "# Tamanho da amostra\n",
    "n_samples = 1000\n",
    "\n",
    "# Probabilidade de sucesso (1)\n",
    "p_success = 0.3\n",
    "\n",
    "# Gerar amostras seguindo a Distribuição de Bernoulli\n",
    "samples = np.random.binomial(n=1, p=p_success, size=n_samples)\n",
    "\n",
    "# Contar a quantidade de sucessos (1) e falhas (0)\n",
    "num_successes = np.sum(samples)\n",
    "num_failures = n_samples - num_successes\n",
    "\n",
    "# Plotar histograma dos resultados\n",
    "plt.hist(samples, bins=[0, 1, 2], align='left', rwidth=0.5, edgecolor='black')\n",
    "plt.xticks([0, 1], ['Falha (0)', 'Sucesso (1)'])\n",
    "plt.xlabel('Resultado')\n",
    "plt.ylabel('Frequência')\n",
    "plt.title(f'Histograma da Distribuição de Bernoulli (p = {p_success})')\n",
    "plt.show()\n",
    "\n",
    "# Imprimir a proporção de sucessos e falhas\n",
    "print(f'Número de sucessos (1): {num_successes}')\n",
    "print(f'Número de falhas (0): {num_failures}')"
   ]
  },
  {
   "cell_type": "markdown",
   "id": "259e1c21",
   "metadata": {},
   "source": [
    "## Poisson Distribution"
   ]
  },
  {
   "cell_type": "markdown",
   "id": "d26fa1f4",
   "metadata": {},
   "source": [
    "A Distribuição de Poisson é uma distribuição de probabilidade discreta que modela a ocorrência de eventos raros em um intervalo específico de tempo ou espaço. Ela é usada quando queremos calcular a probabilidade de um determinado número de eventos ocorrerem em um intervalo fixo, dado um taxa média de ocorrência desses eventos.\n",
    "\n",
    "A distribuição de Poisson é caracterizada por um único parâmetro $ \\lambda $, que representa a taxa média de ocorrência dos eventos no intervalo de interesse. A função de probabilidade de Poisson é dada por:\n",
    "\n",
    "$$ P(X=k) = \\frac{e^{-\\lambda} \\cdot \\lambda^k}{k!} $$\n",
    "\n",
    "onde:\n",
    "- $ P(X=k) $ é a probabilidade de ocorrerem $ k $ eventos no intervalo.\n",
    "- $ e $ é a base do logaritmo natural (aproximadamente 2.71828).\n",
    "- $ \\lambda $ é a taxa média de ocorrência dos eventos no intervalo.\n",
    "- $ k $ é o número de eventos que queremos calcular a probabilidade.\n",
    "- $ k! $ é o fatorial de $ k $.\n",
    "\n",
    "A média ($ \\mu $) e a variância ($ \\sigma^2 $) de uma distribuição de Poisson são iguais ao parâmetro $ \\lambda $:\n",
    "\n",
    "$ \\mu = \\lambda $\n",
    "$ \\sigma^2 = \\lambda $\n",
    "\n",
    "Exemplos de aplicação da distribuição de Poisson incluem:\n",
    "\n",
    "1. Número de acidentes de carro em um cruzamento em um dia.\n",
    "2. Número de clientes que entram em uma loja em uma hora.\n",
    "3. Número de defeitos em um lote de produtos fabricados.\n",
    "\n",
    "Vamos calcular um exemplo simples usando a distribuição de Poisson em Python:\n",
    "\n",
    "```python\n",
    "import numpy as np\n",
    "from scipy.stats import poisson\n",
    "\n",
    "# Taxa média de ocorrência de eventos por dia\n",
    "taxa_media = 2\n",
    "\n",
    "# Número de eventos que queremos calcular a probabilidade\n",
    "k = 3\n",
    "\n",
    "# Calcula a probabilidade de ocorrerem exatamente k eventos em um dia\n",
    "probabilidade = poisson.pmf(k, taxa_media)\n",
    "\n",
    "print(f\"A probabilidade de ocorrerem {k} eventos em um dia é de aproximadamente {probabilidade:.4f}\")\n",
    "```\n",
    "\n",
    "Saída:\n",
    "```\n",
    "A probabilidade de ocorrerem 3 eventos em um dia é de aproximadamente 0.1804\n",
    "```\n",
    "\n",
    "Neste exemplo, assumimos uma taxa média de 2 eventos por dia e calculamos a probabilidade de ocorrerem exatamente 3 eventos em um dia usando a distribuição de Poisson. A probabilidade resultante é de aproximadamente 0.1804."
   ]
  },
  {
   "cell_type": "markdown",
   "id": "5160fc92",
   "metadata": {},
   "source": [
    "A distribuição de Poisson é amplamente utilizada em machine learning e ciência de dados para modelar e analisar dados que representam a contagem de eventos raros em um intervalo de tempo ou espaço. Ela pode ser aplicada em diversas áreas, como análise de tráfego em redes, análise de ocorrências de eventos em séries temporais, previsão de demanda em negócios, entre outras.\n",
    "\n",
    "Exemplos de uso em machine learning e ciência de dados:\n",
    "\n",
    "1. Análise de tráfego em redes: A distribuição de Poisson pode ser usada para modelar o número de pacotes de dados que chegam em um roteador durante um determinado intervalo de tempo. Isso é útil para entender a carga na rede e otimizar a capacidade de transmissão.\n",
    "\n",
    "2. Análise de ocorrências de eventos: Em séries temporais, a distribuição de Poisson pode ser aplicada para modelar o número de ocorrências de eventos, como vendas em uma loja, downloads de aplicativos, cliques em anúncios, etc. Isso permite identificar padrões e tendências ao longo do tempo.\n",
    "\n",
    "3. Previsão de demanda em negócios: A distribuição de Poisson pode ser usada para prever a demanda de produtos ou serviços com base em dados históricos de vendas. Isso é útil para o planejamento de estoque e produção.\n",
    "\n",
    "4. Análise de defeitos em processos de fabricação: Em processos industriais, a distribuição de Poisson pode ser usada para modelar o número de defeitos em um lote de produtos fabricados. Isso ajuda a identificar problemas no processo de fabricação e melhorar a qualidade do produto.\n",
    "\n",
    "5. Detecção de anomalias: A distribuição de Poisson também é útil na detecção de anomalias em dados, onde um número significativamente maior ou menor de eventos ocorre do que o esperado. Isso pode ser aplicado em sistemas de segurança, detecção de fraudes, entre outros.\n",
    "\n",
    "Em suma, a distribuição de Poisson é uma ferramenta importante em machine learning e ciência de dados para modelar e analisar dados de contagem de eventos raros, permitindo a compreensão de padrões e a tomada de decisões informadas em diversas áreas."
   ]
  },
  {
   "cell_type": "markdown",
   "id": "6bab1f26",
   "metadata": {},
   "source": [
    "Vamos criar um exemplo simples de Poisson Distribution usando Python. Suponha que queremos simular o número de acidentes de carro que ocorrem em uma determinada rua em um dia, sabendo que a média histórica é de 2 acidentes por dia.\n",
    "\n",
    "Para isso, usaremos a biblioteca `numpy` para gerar valores aleatórios com a distribuição de Poisson e a biblioteca `matplotlib` para plotar o histograma."
   ]
  },
  {
   "cell_type": "code",
   "execution_count": 18,
   "id": "e0316558",
   "metadata": {
    "ExecuteTime": {
     "end_time": "2023-07-01T13:31:18.131530Z",
     "start_time": "2023-07-01T13:31:18.031189Z"
    }
   },
   "outputs": [
    {
     "data": {
      "image/png": "[encoded data removed]",
      "text/plain": [
       "<Figure size 1440x576 with 1 Axes>"
      ]
     },
     "metadata": {
      "needs_background": "light"
     },
     "output_type": "display_data"
    }
   ],
   "source": [
    "import numpy as np\n",
    "import matplotlib.pyplot as plt\n",
    "\n",
    "# Definir o parâmetro lambda (média de acidentes por dia)\n",
    "media_acidentes_por_dia = 2\n",
    "\n",
    "# Gerar 1000 valores aleatórios com a distribuição de Poisson\n",
    "num_acidentes = np.random.poisson(media_acidentes_por_dia, 1000)\n",
    "\n",
    "# Plotar o histograma dos valores gerados\n",
    "plt.hist(num_acidentes, bins=range(7), align='left', density=True, rwidth=0.8, alpha=0.7)\n",
    "plt.xticks(range(7))\n",
    "plt.xlabel('Número de acidentes por dia')\n",
    "plt.ylabel('Probabilidade')\n",
    "plt.title('Distribuição de Poisson - Número de acidentes por dia')\n",
    "plt.grid(True)\n",
    "plt.show()"
   ]
  },
  {
   "cell_type": "markdown",
   "id": "4f0f76f6",
   "metadata": {},
   "source": [
    "Neste exemplo, usamos a função `numpy.random.poisson()` para gerar 1000 valores aleatórios com a distribuição de Poisson, utilizando a média de 2 acidentes por dia. Em seguida, plotamos um histograma dos valores gerados para visualizar a distribuição resultante.\n",
    "\n",
    "Note que, como a média é de 2 acidentes por dia, a maior probabilidade é de ocorrer 2 acidentes. Conforme nos afastamos desse valor, a probabilidade diminui. A distribuição de Poisson é adequada para modelar eventos raros que ocorrem de forma independente em um intervalo contínuo, como o número de acidentes de carro em uma rua durante um dia."
   ]
  },
  {
   "cell_type": "markdown",
   "id": "c68cebdc",
   "metadata": {},
   "source": [
    "## Probability Distributions (Continuous)"
   ]
  },
  {
   "cell_type": "markdown",
   "id": "d0739254",
   "metadata": {},
   "source": [
    "As Distribuições de Probabilidade Contínuas são utilizadas para modelar variáveis aleatórias contínuas em que os valores possíveis formam um intervalo contínuo, em oposição às variáveis discretas, onde os valores são pontuais e discretos. Essas distribuições são fundamentais na área de estatística e probabilidade, sendo amplamente utilizadas em ciência de dados e machine learning para modelar diversos fenômenos da natureza e do mundo real.\n",
    "\n",
    "Uma distribuição de probabilidade contínua é definida através de uma função de densidade de probabilidade (PDF), que descreve a probabilidade de que a variável aleatória assuma um valor dentro de um intervalo específico. A área sob a curva da PDF em um intervalo representa a probabilidade de a variável aleatória cair nesse intervalo. A probabilidade de a variável aleatória assumir um valor específico é igual à área sob a curva da PDF naquele ponto, o que é representado matematicamente pela integral da função de densidade de probabilidade.\n",
    "\n",
    "Alguns exemplos de Distribuições de Probabilidade Contínuas comuns são:\n",
    "\n",
    "1. Distribuição Normal (Gaussiana): A distribuição normal é uma das mais importantes e amplamente utilizadas distribuições contínuas. Ela é caracterizada pela sua curva em formato de sino e é totalmente determinada por seus dois parâmetros: média (μ) e desvio padrão (σ). Muitos fenômenos naturais, como altura, peso e erros de medição, podem ser aproximados por uma distribuição normal.\n",
    "\n",
    "2. Distribuição Uniforme: A distribuição uniforme é caracterizada por uma PDF constante em um intervalo específico e igual a zero fora desse intervalo. É utilizada quando todos os valores dentro do intervalo têm a mesma probabilidade de ocorrer.\n",
    "\n",
    "3. Distribuição Exponencial: A distribuição exponencial é frequentemente usada para modelar o tempo entre eventos em um processo de Poisson. É caracterizada pelo parâmetro λ, que representa a taxa de ocorrência dos eventos.\n",
    "\n",
    "4. Distribuição Gamma: A distribuição gamma é uma generalização da distribuição exponencial e é utilizada para modelar tempos de espera em processos com mais de um evento.\n",
    "\n",
    "5. Distribuição de Weibull: A distribuição de Weibull é amplamente usada em engenharia para modelar a vida útil de componentes e materiais.\n",
    "\n",
    "Essas são apenas algumas das muitas distribuições contínuas disponíveis. A escolha da distribuição mais adequada depende dos dados e do fenômeno em questão. Em ciência de dados e machine learning, é comum ajustar modelos estatísticos baseados em distribuições contínuas aos dados observados, permitindo a realização de inferências e previsões úteis para resolver problemas do mundo real."
   ]
  },
  {
   "cell_type": "markdown",
   "id": "17dc62ce",
   "metadata": {},
   "source": [
    "As Distribuições de Probabilidade Contínuas desempenham um papel importante em machine learning e ciência de dados, pois permitem modelar e entender o comportamento de variáveis contínuas presentes nos dados. Elas são usadas para criar modelos estatísticos e probabilísticos que, por sua vez, ajudam a fazer previsões, realizar inferências e tomar decisões fundamentadas com base nas informações disponíveis.\n",
    "\n",
    "A seguir, descrevo algumas das principais distribuições contínuas usadas em machine learning e ciência de dados, bem como seus exemplos de aplicação:\n",
    "\n",
    "1. Distribuição Normal (Gaussiana): A distribuição normal é amplamente utilizada em diversas aplicações de machine learning. Em problemas de regressão linear, a suposição de que os resíduos do modelo de regressão seguem uma distribuição normal é comum. Além disso, muitos algoritmos de aprendizado, como regressão logística, SVM (Support Vector Machines) e redes neurais, também assumem que os dados seguem uma distribuição normal. Exemplo: Modelar a distribuição de altura de indivíduos em uma população.\n",
    "\n",
    "2. Distribuição Exponencial: A distribuição exponencial é frequentemente utilizada para modelar tempos de espera ou tempos de sobrevivência em problemas de ciência de dados. Exemplos de aplicação incluem o tempo de vida útil de componentes eletrônicos, o tempo entre falhas de máquinas ou a duração de uma ligação telefônica antes de ser finalizada.\n",
    "\n",
    "3. Distribuição de Poisson: A distribuição de Poisson é usada para modelar a ocorrência de eventos raros em um intervalo de tempo ou espaço. É comum em problemas de contagem, como a quantidade de chamadas telefônicas recebidas em uma central em um determinado período, o número de acidentes de trânsito em um cruzamento em um dia, entre outros.\n",
    "\n",
    "4. Distribuição Uniforme: Embora a distribuição uniforme seja comumente utilizada para gerar números aleatórios em um intervalo específico, ela também pode ser aplicada em situações em que não há informações sobre quais valores são mais prováveis. Por exemplo, em problemas de otimização, é possível atribuir distribuições uniformes a variáveis de decisão quando seus valores ótimos são desconhecidos.\n",
    "\n",
    "5. Distribuição Beta: A distribuição beta é muito utilizada em problemas de modelagem de proporções ou probabilidades. Ela é aplicada em casos onde se deseja modelar a incerteza sobre uma proporção desconhecida. Exemplo: Taxa de conversão de usuários em um site.\n",
    "\n",
    "Esses são apenas alguns exemplos de como as Distribuições de Probabilidade Contínuas são aplicadas em machine learning e ciência de dados. A escolha da distribuição mais adequada depende do contexto específico do problema e das características dos dados. Em muitos casos, técnicas de estimação de parâmetros e ajuste de modelos são utilizadas para encontrar a melhor distribuição que representa os dados observados."
   ]
  },
  {
   "cell_type": "markdown",
   "id": "e80359f6",
   "metadata": {},
   "source": [
    "Vamos criar um exemplo utilizando a distribuição normal (Gaussiana) em Python. Primeiro, vamos gerar uma amostra de dados seguindo uma distribuição normal com média 0 e desvio padrão 1. Em seguida, vamos plotar o histograma dos dados para visualizar a distribuição."
   ]
  },
  {
   "cell_type": "code",
   "execution_count": 6,
   "id": "abdd9f46",
   "metadata": {
    "ExecuteTime": {
     "end_time": "2023-07-01T12:51:22.531355Z",
     "start_time": "2023-07-01T12:51:22.407123Z"
    }
   },
   "outputs": [
    {
     "data": {
      "image/png": "[encoded data removed]",
      "text/plain": [
       "<Figure size 1440x576 with 1 Axes>"
      ]
     },
     "metadata": {
      "needs_background": "light"
     },
     "output_type": "display_data"
    }
   ],
   "source": [
    "import numpy as np\n",
    "import matplotlib.pyplot as plt\n",
    "\n",
    "# Definindo os parâmetros da distribuição normal\n",
    "media = 0\n",
    "desvio_padrao = 1\n",
    "tamanho_amostra = 1000\n",
    "\n",
    "# Gerando a amostra de dados seguindo uma distribuição normal\n",
    "amostra = np.random.normal(media, desvio_padrao, tamanho_amostra)\n",
    "\n",
    "# Plotando o histograma dos dados\n",
    "plt.hist(amostra, bins=30, density=True, alpha=0.6, color='blue')\n",
    "plt.xlabel('Valores')\n",
    "plt.ylabel('Densidade de Probabilidade')\n",
    "plt.title('Histograma da Distribuição Normal')\n",
    "plt.grid(True)\n",
    "plt.show()"
   ]
  },
  {
   "cell_type": "markdown",
   "id": "260d1451",
   "metadata": {},
   "source": [
    "Neste exemplo, geramos uma amostra de 1000 valores seguindo uma distribuição normal com média 0 e desvio padrão 1. O histograma resultante mostra a distribuição dos dados, que se assemelha a uma curva em formato de sino, típica da distribuição normal. O parâmetro density=True no plt.hist() faz com que a área total sob o histograma seja igual a 1, tornando-o uma estimativa da função de densidade de probabilidade (PDF) da distribuição normal.\n",
    "\n",
    "Observe que a forma da distribuição normal é controlada pelos parâmetros de média e desvio padrão. Alterar esses parâmetros alterará a forma da distribuição e o posicionamento do pico da curva. Essa flexibilidade é uma das razões pelas quais a distribuição normal é tão amplamente utilizada em estatística, ciência de dados e machine learning."
   ]
  },
  {
   "cell_type": "markdown",
   "id": "fdf8187d",
   "metadata": {},
   "source": [
    "## Probability Density Function"
   ]
  },
  {
   "cell_type": "markdown",
   "id": "ffc2b52a",
   "metadata": {},
   "source": [
    "A Probability Density Function (PDF), ou Função de Densidade de Probabilidade em português, é um conceito fundamental na teoria das probabilidades e estatística. É usada para descrever a probabilidade de uma variável contínua cair em um determinado intervalo. A PDF é geralmente denotada por \\(f(x)\\) e sua integral ao longo de um intervalo representa a probabilidade de que a variável aleatória esteja contida nesse intervalo.\n",
    "\n",
    "Para entender melhor o conceito de PDF, vamos descrever suas principais características e fornecer exemplos:\n",
    "\n",
    "Características da PDF:\n",
    "\n",
    "1. A PDF é sempre não negativa: $f(x) \\geq 0$ para todo $x$ no domínio da variável aleatória.\n",
    "\n",
    "2. A área total sob a curva da PDF é igual a 1: $\\int_{-\\infty}^{\\infty} f(x) \\, dx = 1$.\n",
    "\n",
    "3. A probabilidade de que a variável aleatória $X$ esteja em um intervalo $a \\leq x \\leq b$ é dada pela integral da PDF nesse intervalo: $P(a \\leq X \\leq b) = \\int_{a}^{b} f(x) \\, dx$.\n",
    "\n",
    "Exemplos de PDF:\n",
    "\n",
    "1. Distribuição Normal (Gaussiana): A PDF da distribuição normal é uma curva em formato de sino, dada pela equação $f(x) = \\frac{1}{\\sqrt{2\\pi}\\sigma} e^{-\\frac{(x-\\mu)^2}{2\\sigma^2}}$, onde $\\mu$ é a média e $\\sigma$ é o desvio padrão.\n",
    "\n",
    "2. Distribuição Exponencial: A PDF da distribuição exponencial é decrescente e é dada por $f(x) = \\lambda e^{-\\lambda x}$, onde $\\lambda$ é a taxa de ocorrência.\n",
    "\n",
    "3. Distribuição Uniforme: A PDF da distribuição uniforme é constante em um intervalo e zero fora desse intervalo. Por exemplo, para uma distribuição uniforme em um intervalo $[a, b]$, a PDF é dada por $f(x) = \\frac{1}{b-a}$ para $a \\leq x \\leq b$ e $f(x) = 0$ caso contrário.\n",
    "\n",
    "A PDF é uma ferramenta fundamental em estatística e machine learning. Em análise estatística, a PDF é usada para descrever a distribuição de uma variável aleatória contínua e calcular probabilidades associadas. Em machine learning, a PDF é usada para ajustar modelos estatísticos aos dados observados, estimar parâmetros desconhecidos e fazer previsões sobre novos dados. Através da PDF, podemos entender melhor o comportamento das variáveis contínuas e realizar inferências estatísticas para tomar decisões informadas."
   ]
  },
  {
   "cell_type": "markdown",
   "id": "900040f1",
   "metadata": {},
   "source": [
    "Aqui estão as principais aplicações da PDF em machine learning e ciência de dados:\n",
    "\n",
    "1. Estimativa de parâmetros: Ao ajustar modelos estatísticos aos dados, é comum assumir uma distribuição de probabilidade para a variável resposta. Por exemplo, na regressão linear, podemos assumir que os resíduos seguem uma distribuição normal, o que nos permite estimar os parâmetros do modelo usando a Máxima Verossimilhança.\n",
    "\n",
    "2. Testes de hipóteses: Em muitos testes estatísticos, a distribuição nula é assumida para a estatística de teste, e a PDF é usada para calcular o valor-p, que é a probabilidade de obter um resultado tão extremo quanto o observado sob a hipótese nula.\n",
    "\n",
    "3. Simulações de Monte Carlo: Em simulações de Monte Carlo, a PDF é usada para gerar valores aleatórios que representam uma variável com uma determinada distribuição de probabilidade. Essas simulações são frequentemente usadas em modelagem estatística para avaliar a incerteza e o comportamento de sistemas complexos.\n",
    "\n",
    "4. Análise de dados: A PDF é usada para explorar a distribuição de uma variável contínua em um conjunto de dados e entender sua forma, características e tendências. Isso ajuda a identificar padrões e insights importantes nos dados.\n",
    "\n",
    "Exemplos:\n",
    "\n",
    "1. Em um problema de análise de dados que envolve a medição da altura de indivíduos em uma população, podemos assumir que a altura segue uma distribuição normal com média $\\mu$ e desvio padrão $\\sigma$. A PDF da distribuição normal é dada por $f(x) = \\frac{1}{\\sqrt{2\\pi}\\sigma} e^{-\\frac{(x-\\mu)^2}{2\\sigma^2}}$, onde $x$ representa a altura de um indivíduo.\n",
    "\n",
    "2. Na área de aprendizado de máquina, o algoritmo de classificação Gaussiano Naive Bayes assume que as características dos dados seguem distribuições normais (ou gaussianas) para cada classe. Nesse caso, a PDF da distribuição normal é usada para estimar a probabilidade de uma determinada característica pertencer a uma classe específica.\n",
    "\n",
    "3. Em processamento de linguagem natural, pode-se modelar a probabilidade de uma sequência de palavras ocorrer usando uma distribuição de probabilidade chamada Modelo de Linguagem, que pode ser baseado em uma distribuição discreta (usando a função de massa de probabilidade) ou uma distribuição contínua (usando a PDF) para modelar a probabilidade de cada palavra condicionada às palavras anteriores.\n",
    "\n",
    "A Probability Density Function é uma ferramenta poderosa que permite que cientistas de dados e profissionais de machine learning compreendam melhor os dados e apliquem métodos estatísticos sofisticados para resolver problemas e tomar decisões informadas."
   ]
  },
  {
   "cell_type": "markdown",
   "id": "a1fb19b3",
   "metadata": {},
   "source": [
    "Para criar um exemplo de uma Probability Density Function (PDF) em Python, vamos usar a biblioteca `scipy.stats` que oferece diversas distribuições de probabilidade. Neste exemplo, usaremos a distribuição normal (Gaussiana) como PDF. A distribuição normal é frequentemente usada para modelar dados que têm uma distribuição simétrica em torno de uma média.\n",
    "\n",
    "Certifique-se de ter a biblioteca `scipy` instalada em seu ambiente Python antes de executar o código abaixo. Caso não tenha, você pode instalá-la usando o comando `pip install scipy`."
   ]
  },
  {
   "cell_type": "code",
   "execution_count": 7,
   "id": "0fbfd691",
   "metadata": {
    "ExecuteTime": {
     "end_time": "2023-07-01T12:51:22.968463Z",
     "start_time": "2023-07-01T12:51:22.532413Z"
    }
   },
   "outputs": [
    {
     "data": {
      "image/png": "[encoded data removed]",
      "text/plain": [
       "<Figure size 1440x576 with 1 Axes>"
      ]
     },
     "metadata": {
      "needs_background": "light"
     },
     "output_type": "display_data"
    }
   ],
   "source": [
    "\n",
    "import numpy as np\n",
    "import matplotlib.pyplot as plt\n",
    "from scipy.stats import norm\n",
    "\n",
    "# Parâmetros da distribuição normal\n",
    "mu = 0       # Média\n",
    "sigma = 1    # Desvio padrão\n",
    "\n",
    "# Criar um array de valores de x no intervalo [-5, 5]\n",
    "x = np.linspace(-5, 5, 100)\n",
    "\n",
    "# Calcula os valores da PDF da distribuição normal para cada valor de x\n",
    "pdf_values = norm.pdf(x, mu, sigma)\n",
    "\n",
    "# Plota a PDF\n",
    "plt.plot(x, pdf_values, label='PDF (Normal)')\n",
    "plt.xlabel('x')\n",
    "plt.ylabel('Probabilidade')\n",
    "plt.title('Probability Density Function (PDF) - Distribuição Normal')\n",
    "plt.legend()\n",
    "plt.grid(True)\n",
    "plt.show()"
   ]
  },
  {
   "cell_type": "markdown",
   "id": "1ed0c6a8",
   "metadata": {},
   "source": [
    "Neste exemplo, a PDF é representada pela curva de uma distribuição normal com média $\\mu = 0$ e desvio padrão $\\sigma = 1$. A PDF mostra como a probabilidade é distribuída ao longo do eixo x, sendo mais alta na média e diminuindo gradualmente conforme nos afastamos dela.\n",
    "\n",
    "Você pode ajustar os parâmetros `mu` e `sigma` para explorar diferentes distribuições normais e entender como eles afetam a forma da PDF. Além disso, a biblioteca `scipy.stats` oferece várias outras distribuições de probabilidade que você pode explorar para diferentes situações de modelagem de dados."
   ]
  },
  {
   "cell_type": "markdown",
   "id": "722fde3e",
   "metadata": {},
   "source": [
    "## Culmulative Distribution Function"
   ]
  },
  {
   "cell_type": "markdown",
   "id": "f22c28ee",
   "metadata": {},
   "source": [
    "A Cumulative Distribution Function (CDF) ou Função de Distribuição Acumulada é uma função matemática que descreve a probabilidade cumulativa de uma variável aleatória ser menor ou igual a um valor específico. Em outras palavras, a CDF fornece a probabilidade acumulada de um evento ocorrer até certo ponto.\n",
    "\n",
    "A CDF é denotada por $F(x)$ para uma variável aleatória $X$ e é definida como:\n",
    "\n",
    "$$ F(x) = P(X \\leq x) $$\n",
    "\n",
    "Ou seja, a CDF em um ponto $x$ representa a probabilidade de que a variável aleatória $X$ assuma um valor menor ou igual a $x$.\n",
    "\n",
    "Principais características da CDF:\n",
    "- A CDF é uma função não decrescente, ou seja, conforme $x$ aumenta, a probabilidade acumulada também aumenta ou permanece constante.\n",
    "- Se $x$ é menos que o menor valor possível da variável aleatória, a CDF é igual a 0.\n",
    "- Se $x$ é maior que o maior valor possível da variável aleatória, a CDF é igual a 1.\n",
    "\n",
    "Exemplo:\n",
    "Vamos considerar um exemplo simples usando a distribuição uniforme contínua entre 0 e 1. A CDF dessa distribuição pode ser definida como:\n",
    "\n",
    "$$ F(x) = \\begin{cases} 0 & \\text{se } x < 0 \\\\ x & \\text{se } 0 \\leq x \\leq 1 \\\\ 1 & \\text{se } x > 1 \\end{cases} $$\n",
    "\n",
    "Agora, vamos calcular a probabilidade acumulada para alguns valores de $x$:\n",
    "- $F(0.2) = 0.2$: A probabilidade de $X$ ser menor ou igual a 0.2 é 0.2.\n",
    "- $F(0.5) = 0.5$: A probabilidade de $X$ ser menor ou igual a 0.5 é 0.5.\n",
    "- $F(0.8) = 0.8$: A probabilidade de $X$ ser menor ou igual a 0.8 é 0.8.\n",
    "- $F(1.2) = 1.0$: A probabilidade de $X$ ser menor ou igual a 1.2 é 1.0.\n",
    "\n",
    "Agora, se plotarmos a CDF da distribuição uniforme contínua, teremos uma linha diagonal crescente de (0,0) até (1,1) no intervalo [0,1], indicando a acumulação gradual da probabilidade à medida que avançamos no eixo x.\n",
    "\n",
    "A CDF é uma ferramenta importante em estatística e análise de dados, pois fornece informações sobre a distribuição de probabilidade da variável aleatória e pode ser usada para calcular quantis e intervalos de confiança, entre outras aplicações."
   ]
  },
  {
   "cell_type": "markdown",
   "id": "eb926c5f",
   "metadata": {
    "ExecuteTime": {
     "end_time": "2023-06-30T21:53:55.582460Z",
     "start_time": "2023-06-30T21:53:55.579584Z"
    }
   },
   "source": [
    "<img src=\"./imgs/cdfs.png\">"
   ]
  },
  {
   "cell_type": "markdown",
   "id": "f0e365f7",
   "metadata": {},
   "source": [
    "Principais aplicações da CDF em machine learning e ciência de dados:\n",
    "\n",
    "1. Análise de dados: A CDF é usada para descrever a distribuição de probabilidade de uma variável e visualizar a probabilidade acumulada em diferentes pontos. Isso permite identificar rapidamente a proporção de valores abaixo ou igual a um determinado limiar, bem como a probabilidade de um evento ocorrer dentro de um determinado intervalo.\n",
    "\n",
    "2. Estimativa de quantis: A partir da CDF, é possível estimar valores percentis, como quartis, medianas e outros quantis. Por exemplo, o quantil Q(p) é o valor em que a probabilidade acumulada é igual a p (0 <= p <= 1). A mediana, por exemplo, é o quantil Q(0.5), que divide a distribuição em duas partes iguais.\n",
    "\n",
    "3. Intervalos de confiança: A CDF pode ser usada para calcular intervalos de confiança para estimativas de parâmetros de modelos ou estatísticas de interesse. Por exemplo, intervalos de confiança para média ou mediana.\n",
    "\n",
    "4. Teste de hipóteses: A CDF é fundamental em testes de hipóteses, pois permite calcular valores críticos e p-valores, que são usados para tomar decisões estatísticas.\n",
    "\n",
    "5. Modelagem estatística: A CDF é usada para descrever a distribuição de probabilidade de resíduos em modelos estatísticos, permitindo verificar se os resíduos seguem uma distribuição específica.\n",
    "\n",
    "Exemplo prático em machine learning:\n",
    "Suponha que você esteja construindo um modelo de regressão para prever o preço de imóveis com base em várias características, como área, número de quartos, localização, etc. Ao analisar a CDF dos erros de previsão do modelo, você pode ter uma ideia melhor da precisão do modelo em diferentes intervalos de preço. Isso pode ajudar a identificar áreas onde o modelo precisa ser aprimorado ou onde está performando melhor.\n",
    "\n",
    "No geral, a CDF é uma ferramenta valiosa em machine learning e ciência de dados para analisar, descrever e visualizar a distribuição de probabilidade de uma variável aleatória, permitindo uma melhor compreensão dos dados e a tomada de decisões informadas com base nas probabilidades acumuladas."
   ]
  },
  {
   "cell_type": "markdown",
   "id": "6932d842",
   "metadata": {},
   "source": [
    "Para criar um exemplo de Cumulative Distribution Function (CDF) em Python, podemos utilizar a biblioteca `numpy` para gerar uma distribuição de probabilidade acumulada. Vamos criar um exemplo de CDF para uma distribuição normal padrão (média 0 e desvio padrão 1)."
   ]
  },
  {
   "cell_type": "code",
   "execution_count": 8,
   "id": "87237478",
   "metadata": {
    "ExecuteTime": {
     "end_time": "2023-07-01T12:51:23.096835Z",
     "start_time": "2023-07-01T12:51:22.969616Z"
    }
   },
   "outputs": [
    {
     "data": {
      "image/png": "[encoded data removed]",
      "text/plain": [
       "<Figure size 1440x576 with 1 Axes>"
      ]
     },
     "metadata": {
      "needs_background": "light"
     },
     "output_type": "display_data"
    }
   ],
   "source": [
    "import numpy as np\n",
    "import matplotlib.pyplot as plt\n",
    "\n",
    "# Gerar dados de uma distribuição normal padrão\n",
    "dados = np.random.randn(1000)\n",
    "\n",
    "# Ordenar os dados em ordem crescente\n",
    "dados_ordenados = np.sort(dados)\n",
    "\n",
    "# Calcular as probabilidades acumuladas para cada valor\n",
    "prob_acumulada = np.arange(1, len(dados_ordenados) + 1) / len(dados_ordenados)\n",
    "\n",
    "# Plotar a CDF\n",
    "plt.plot(dados_ordenados, prob_acumulada, marker='.', linestyle='none')\n",
    "plt.xlabel('Valores')\n",
    "plt.ylabel('Probabilidade Acumulada')\n",
    "plt.title('Cumulative Distribution Function (CDF)')\n",
    "plt.grid(True)\n",
    "plt.show()"
   ]
  },
  {
   "cell_type": "markdown",
   "id": "d4ef3e01",
   "metadata": {},
   "source": [
    "Neste exemplo, geramos 1000 valores de uma distribuição normal padrão usando `np.random.randn(1000)`. Em seguida, ordenamos os dados em ordem crescente e calculamos as probabilidades acumuladas para cada valor, dividindo o número de valores menores ou iguais ao valor atual pelo total de valores. Por fim, plotamos a CDF usando `plt.plot()`.\n",
    "\n",
    "A CDF nos mostra como a probabilidade acumulada varia ao longo dos valores. No caso da distribuição normal padrão, a CDF começa em zero e tende a um à medida que nos aproximamos dos extremos positivos e negativos, indicando que a maioria dos valores está concentrada em torno da média 0.\n",
    "\n",
    "Essa CDF pode ser útil para analisar e visualizar a distribuição de probabilidade dos dados, bem como para calcular percentis e intervalos de confiança."
   ]
  },
  {
   "cell_type": "markdown",
   "id": "5d6c18b5",
   "metadata": {},
   "source": [
    "## Uniform Distribution"
   ]
  },
  {
   "cell_type": "markdown",
   "id": "11358d10",
   "metadata": {},
   "source": [
    "A Uniform Distribution (Distribuição Uniforme) é um tipo de distribuição de probabilidade contínua em que todos os valores **em um determinado intervalo têm a mesma probabilidade de ocorrer**. É chamada \"uniforme\" porque a probabilidade é uniformemente distribuída em todo o intervalo.\n",
    "\n",
    "Características da distribuição uniforme contínua:\n",
    "- A probabilidade de qualquer valor dentro do intervalo é a mesma.\n",
    "- A função de densidade de probabilidade (Probability Density Function - PDF) é constante dentro do intervalo e igual a zero fora dele.\n",
    "\n",
    "A função de densidade de probabilidade (PDF) da distribuição uniforme contínua é definida como:\n",
    "\n",
    "$$ f(x) = \\frac{1}{b-a} \\text{, onde } a \\leq x \\leq b $$\n",
    "\n",
    "onde:\n",
    "- \\(a\\) é o limite inferior do intervalo\n",
    "- \\(b\\) é o limite superior do intervalo\n",
    "\n",
    "A função de distribuição acumulada (Cumulative Distribution Function - CDF) é dada por:\n",
    "\n",
    "$$ F(x) = \\frac{x-a}{b-a} \\text{, onde } a \\leq x \\leq b $$\n",
    "\n",
    "Exemplos de distribuição uniforme:\n",
    "1. Jogar um dado de seis faces: Se cada face tem a mesma probabilidade de ocorrer, temos uma distribuição uniforme discreta entre 1 e 6.\n",
    "2. Sortear um número entre 0 e 1: Se cada valor entre 0 e 1 tem a mesma probabilidade de ser sorteado, temos uma distribuição uniforme contínua nesse intervalo.\n",
    "\n",
    "Em machine learning e ciência de dados, a distribuição uniforme é usada em várias aplicações, como amostragem aleatória, geração de números pseudoaleatórios e modelagem de incertezas em algumas situações específicas."
   ]
  },
  {
   "cell_type": "markdown",
   "id": "73cd2404",
   "metadata": {},
   "source": [
    "Em machine learning e ciência de dados, a Uniform Distribution (Distribuição Uniforme) é frequentemente utilizada em várias aplicações. Algumas das principais utilizações são:\n",
    "\n",
    "1. Amostragem aleatória: A distribuição uniforme é amplamente utilizada para realizar amostragens aleatórias em diversos algoritmos de machine learning e simulações. Por exemplo, quando precisamos selecionar um subconjunto aleatório de dados para treinamento ou validação de um modelo, podemos usar a função de amostragem da distribuição uniforme.\n",
    "\n",
    "2. Geração de números pseudoaleatórios: A distribuição uniforme é a base para gerar números pseudoaleatórios em muitos pacotes de computação científica, como o NumPy em Python. Esses números são úteis em simulações e experimentos quando a aleatoriedade é necessária.\n",
    "\n",
    "3. Exploração de hiperparâmetros: Ao ajustar hiperparâmetros de um modelo de machine learning, pode ser útil usar distribuições uniformes para realizar uma busca aleatória dentro de um determinado intervalo. Isso ajuda a explorar diferentes configurações e evitar que o processo de otimização fique preso em valores específicos.\n",
    "\n",
    "4. Algoritmos de otimização: Em alguns algoritmos de otimização, a distribuição uniforme pode ser usada para gerar pontos iniciais ou realizar perturbações aleatórias para explorar o espaço de soluções.\n",
    "\n",
    "5. Geração de ruído: Em algumas técnicas de data augmentation, a distribuição uniforme pode ser usada para adicionar ruído aos dados de treinamento, tornando o modelo mais robusto.\n",
    "\n",
    "6. Geração de números aleatórios: A distribuição uniforme é muito utilizada para gerar números aleatórios dentro de um intervalo específico. Isso é útil em simulações, jogos, testes e outras situações onde a aleatoriedade é necessária.\n",
    "\n",
    "7. Inicialização de parâmetros de modelos: Em algoritmos de aprendizado de máquina, é comum inicializar os parâmetros dos modelos de forma aleatória. A distribuição uniforme pode ser usada para essa tarefa, garantindo que os parâmetros comecem em valores diversos dentro de um intervalo pré-definido.\n",
    "\n",
    "8. Exploração em algoritmos de otimização: Em algoritmos de otimização, como o algoritmo de busca aleatória, a distribuição uniforme é usada para gerar candidatos de soluções de forma aleatória dentro de uma região específica do espaço de busca.\n",
    "\n",
    "9. Testes de hipóteses: Em alguns testes estatísticos, a distribuição uniforme pode ser usada como uma distribuição nula para comparar os resultados com outras distribuições obtidas dos dados.\n",
    "\n",
    "10. Geração de ruído: Em algumas tarefas de processamento de sinal e reconhecimento de padrões, a adição de ruído aleatório aos dados pode ser útil para melhorar a robustez e a generalização do modelo. A distribuição uniforme é uma das opções para gerar esse tipo de ruído.\n",
    "\n",
    "11. Simulações e estudos de Monte Carlo: Em simulações e métodos de Monte Carlo, onde são realizadas múltiplas amostragens aleatórias para estimar resultados, a distribuição uniforme é muitas vezes usada para selecionar valores aleatórios para as variáveis de entrada.\n",
    "\n",
    "Esses são apenas alguns exemplos do uso da distribuição uniforme em machine learning e ciência de dados. A simplicidade dessa distribuição torna-a uma escolha comum para várias aplicações, e ela pode ser facilmente manipulada e integrada a diferentes cenários de análise de dados e modelagem."
   ]
  },
  {
   "cell_type": "markdown",
   "id": "a3fd5063",
   "metadata": {
    "ExecuteTime": {
     "end_time": "2023-06-30T22:13:13.774983Z",
     "start_time": "2023-06-30T22:13:13.767212Z"
    }
   },
   "source": [
    "Vamos gerar um conjunto de dados seguindo uma distribuição uniforme entre 0 e 1 e plotar um histograma para visualizá-lo:"
   ]
  },
  {
   "cell_type": "code",
   "execution_count": 9,
   "id": "6ba8f2a9",
   "metadata": {
    "ExecuteTime": {
     "end_time": "2023-07-01T12:51:23.242068Z",
     "start_time": "2023-07-01T12:51:23.098007Z"
    }
   },
   "outputs": [
    {
     "data": {
      "image/png": "[encoded data removed]",
      "text/plain": [
       "<Figure size 1440x576 with 1 Axes>"
      ]
     },
     "metadata": {
      "needs_background": "light"
     },
     "output_type": "display_data"
    }
   ],
   "source": [
    "import numpy as np\n",
    "import matplotlib.pyplot as plt\n",
    "\n",
    "# Gerar dados com distribuição uniforme entre 0 e 1\n",
    "dados = np.random.uniform(0, 1, 1000)\n",
    "\n",
    "# Plotar histograma\n",
    "plt.hist(dados, bins=20, density=True, alpha=0.6, color='g')\n",
    "plt.xlabel('Valores')\n",
    "plt.ylabel('Probabilidade')\n",
    "plt.title('Exemplo de Uniform Distribution')\n",
    "plt.grid(True)\n",
    "plt.show()"
   ]
  },
  {
   "cell_type": "markdown",
   "id": "84cf6fc5",
   "metadata": {},
   "source": [
    "Neste exemplo, utilizamos a função `np.random.uniform(0, 1, 1000)` do NumPy para gerar 1000 valores aleatórios seguindo uma distribuição uniforme entre 0 e 1. O histograma gerado mostra que a probabilidade é constante em todo o intervalo [0, 1], confirmando que os valores estão seguindo uma distribuição uniforme."
   ]
  },
  {
   "cell_type": "markdown",
   "id": "afe7ec45",
   "metadata": {},
   "source": [
    "## Normal Distribution"
   ]
  },
  {
   "cell_type": "markdown",
   "id": "341d88db",
   "metadata": {},
   "source": [
    "A Distribuição Normal, também conhecida como Distribuição Gaussiana, é uma das distribuições mais importantes e amplamente utilizadas em estatística e ciência de dados. É caracterizada pela sua forma de sino (curva normal) e possui duas propriedades essenciais: média (μ) e desvio padrão (σ). A notação matemática para indicar que uma variável aleatória segue uma distribuição normal é X ~ N(μ, σ^2).\n",
    "\n",
    "A função de densidade de probabilidade (PDF) da Distribuição Normal é dada pela seguinte fórmula:\n",
    "\n",
    "$$ f(x) = \\frac{1}{\\sqrt{2\\pi\\sigma^2}} \\cdot e^{-\\frac{(x - \\mu)^2}{2\\sigma^2}} $$\n",
    "\n",
    "onde:\n",
    "- $x$ é o valor da variável aleatória contínua que queremos avaliar.\n",
    "- $\\mu$ é a média (valor esperado) da distribuição.\n",
    "- $\\sigma$ é o desvio padrão da distribuição.\n",
    "\n",
    "A função $e$ na fórmula representa a base do logaritmo natural (aproximadamente 2.71828) elevada a uma potência.\n",
    "\n",
    "A curva da Distribuição Normal é simétrica em torno da média $\\mu$. O valor de $\\mu$ define o ponto central da curva e é onde o pico da distribuição está localizado. O desvio padrão $\\sigma$ controla a dispersão dos dados em relação à média. Quanto maior o valor de $\\sigma$, mais achatada será a curva, indicando maior dispersão dos dados.\n",
    "\n",
    "A integral da PDF ao longo de um intervalo particular fornece a probabilidade de que a variável aleatória assuma valores dentro desse intervalo. A área total sob a curva da Distribuição Normal é igual a 1, o que significa que a probabilidade total de todos os eventos possíveis é igual a 1.\n",
    "\n",
    "A curva da Distribuição Normal é simétrica em torno da média (μ) e tem o pico no valor da média. O desvio padrão (σ) controla a dispersão dos dados em relação à média: quanto maior o valor de σ, mais dispersos os dados estarão em relação à média.\n",
    "\n",
    "É importante ressaltar que a Distribuição Normal é amplamente aplicada devido à sua simplicidade e ao fato de que muitos fenômenos naturais tendem a seguir essa distribuição devido ao Teorema do Limite Central. No entanto, é essencial verificar se a suposição de normalidade é válida para os dados em questão antes de aplicar métodos que assumem a normalidade. Existem também outras distribuições que podem ser mais adequadas para determinados conjuntos de dados, dependendo da natureza do problema e dos dados disponíveis."
   ]
  },
  {
   "cell_type": "markdown",
   "id": "7c5cb8af",
   "metadata": {},
   "source": [
    "A Distribuição Normal, também conhecida como Distribuição Gaussiana, é amplamente utilizada em machine learning e ciência de dados devido às suas propriedades bem compreendidas e sua presença em muitos fenômenos naturais. Vamos explorar algumas das principais aplicações da Distribuição Normal nesses campos:\n",
    "\n",
    "1. **Modelagem de Dados**: A Distribuição Normal é frequentemente usada para modelar dados contínuos que apresentam uma distribuição aproximadamente simétrica em torno da média. Por exemplo, pode ser aplicada para representar a altura ou o peso de indivíduos em uma população, pontuações de testes padronizados, tempo de execução de tarefas, entre outros.\n",
    "\n",
    "2. **Testes Estatísticos**: Muitos testes estatísticos e inferenciais assumem a normalidade dos dados para serem aplicados corretamente. Por exemplo, o teste t de Student e a análise de variância (ANOVA) requerem que os dados sigam uma Distribuição Normal para que os resultados sejam válidos.\n",
    "\n",
    "3. **Teorema Central do Limite**: O Teorema Central do Limite afirma que, à medida que o tamanho da amostra aumenta, a média de uma amostra tende a seguir uma Distribuição Normal, independentemente da distribuição original dos dados. Isso é fundamental em estatística inferencial, pois permite que usemos a Distribuição Normal para fazer inferências sobre uma população com base em uma amostra.\n",
    "\n",
    "4. **Intervalos de Confiança**: A Distribuição Normal é usada para calcular intervalos de confiança ao estimar parâmetros populacionais com base em amostras. Esses intervalos indicam a faixa provável em que o valor real do parâmetro está contido com um certo nível de confiança.\n",
    "\n",
    "5. **Processos Estocásticos**: A Distribuição Normal é comumente usada para modelar o ruído ou o erro em processos estocásticos. Por exemplo, em previsões de séries temporais, pode-se assumir que os erros seguem uma Distribuição Normal.\n",
    "\n",
    "6. **Machine Learning**: A Distribuição Normal é frequentemente aplicada em algoritmos de machine learning que pressupõem a normalidade dos dados, como Regressão Linear, Análise de Componentes Principais (PCA), classificadores Naive Bayes e muitos outros.\n",
    "\n",
    "7. **Pontuações em testes padronizados**: Muitos testes padronizados, como o SAT e o GMAT, são projetados para seguir uma distribuição normal, onde a média e o desvio padrão são conhecidos. Isso permite comparar as pontuações dos candidatos com base na sua posição relativa na distribuição.\n",
    "\n",
    "8. **Teorema Central do Limite**: O Teorema Central do Limite estabelece que a média de uma grande amostra de observações de qualquer distribuição tende a seguir uma distribuição normal. Esse é um conceito fundamental em inferência estatística e permite que muitos métodos sejam aplicados mesmo quando a distribuição da população não é conhecida.\n",
    "\n",
    "9. **Modelagem de dados contínuos**: Em muitos casos, dados contínuos como altura, peso, temperatura, entre outros, podem ser aproximados pela Distribuição Normal para facilitar a modelagem e análise estatística.\n",
    "\n",
    "10. **Testes de hipóteses**: A Distribuição Normal é frequentemente usada em testes de hipóteses para calcular valores críticos e p-values.\n",
    "\n",
    "11. **Regressão Linear**: Em modelos de regressão linear, os resíduos são frequentemente assumidos como tendo distribuição normal, o que é importante para a validade dos resultados do modelo.\n",
    "\n",
    "**Exemplo de uso em machine learning:**\n",
    "\n",
    "Suponha que você está trabalhando com um conjunto de dados que contém as notas de alunos em um exame e deseja prever o desempenho de um novo aluno. Se as notas dos alunos seguirem uma Distribuição Normal, você pode usar técnicas de regressão linear ou algoritmos Gaussian Naive Bayes para fazer a previsão.\n",
    "\n",
    "Em resumo, a Distribuição Normal é uma das distribuições mais importantes e amplamente utilizadas em ciência de dados e machine learning, e seu uso apropriado pode levar a melhores modelos e análises estatísticas."
   ]
  },
  {
   "cell_type": "markdown",
   "id": "aae981a3",
   "metadata": {},
   "source": [
    "Para criar um exemplo de Normal Distribution em Python, podemos usar a biblioteca `numpy` para gerar dados aleatórios que seguem uma distribuição normal. Vamos criar um conjunto de dados com notas de alunos em um exame, assumindo que essas notas seguem uma distribuição normal com média 70 e desvio padrão 10."
   ]
  },
  {
   "cell_type": "code",
   "execution_count": 10,
   "id": "afc10767",
   "metadata": {
    "ExecuteTime": {
     "end_time": "2023-07-01T12:51:23.360186Z",
     "start_time": "2023-07-01T12:51:23.242925Z"
    }
   },
   "outputs": [
    {
     "data": {
      "image/png": "[encoded data removed]",
      "text/plain": [
       "<Figure size 1440x576 with 1 Axes>"
      ]
     },
     "metadata": {
      "needs_background": "light"
     },
     "output_type": "display_data"
    }
   ],
   "source": [
    "import numpy as np\n",
    "import matplotlib.pyplot as plt\n",
    "\n",
    "# Definindo os parâmetros da distribuição normal\n",
    "media = 70\n",
    "desvio_padrao = 10\n",
    "tamanho_amostra = 1000\n",
    "\n",
    "# Gerando uma amostra de notas de alunos seguindo a distribuição normal\n",
    "notas_alunos = np.random.normal(loc=media, scale=desvio_padrao, size=tamanho_amostra)\n",
    "\n",
    "# Plotando um histograma das notas dos alunos\n",
    "plt.hist(notas_alunos, bins=30, density=True, alpha=0.6, color='blue')\n",
    "plt.xlabel('Notas dos Alunos')\n",
    "plt.ylabel('Densidade')\n",
    "plt.title('Distribuição Normal de Notas de Alunos')\n",
    "plt.grid(True)\n",
    "plt.show()"
   ]
  },
  {
   "cell_type": "markdown",
   "id": "2299468e",
   "metadata": {},
   "source": [
    "Neste exemplo, geramos 1000 notas de alunos seguindo uma Distribuição Normal com média 70 e desvio padrão 10. O histograma mostra a distribuição das notas, que deve ser aproximadamente normal em torno da média 70. A densidade das barras do histograma representa a probabilidade de cada intervalo de notas. Note que a quantidade de intervalos (bins) pode ser ajustada de acordo com a quantidade de dados e a visualização desejada."
   ]
  },
  {
   "cell_type": "markdown",
   "id": "e5e92f07",
   "metadata": {},
   "source": [
    "Para utilizar regressão linear e prever a nota de um novo aluno no exemplo da distribuição normal de notas de alunos, primeiro precisamos dividir o conjunto de dados em dados de treinamento e dados de teste. Vamos ajustar um modelo de regressão linear aos dados de treinamento e depois fazer a previsão da nota de um novo aluno usando o modelo.\n",
    "\n",
    "Vamos supor que as notas dos alunos sejam a variável dependente (y) e que não temos outras variáveis independentes (x) para utilizar no modelo de regressão linear. Nesse caso, a regressão linear simples assume a forma:\n",
    "\n",
    "$$ y = \\beta_0 + \\beta_1 \\times x $$\n",
    "\n",
    "Vamos seguir o exemplo anterior e usar os dados gerados para as notas dos alunos."
   ]
  },
  {
   "cell_type": "code",
   "execution_count": 16,
   "id": "f6af912e",
   "metadata": {
    "ExecuteTime": {
     "end_time": "2023-07-01T13:07:32.770407Z",
     "start_time": "2023-07-01T13:07:32.762325Z"
    }
   },
   "outputs": [
    {
     "name": "stdout",
     "output_type": "stream",
     "text": [
      "A nota prevista do novo aluno é: 70.66\n"
     ]
    }
   ],
   "source": [
    "import numpy as np\n",
    "import matplotlib.pyplot as plt\n",
    "from sklearn.linear_model import LinearRegression\n",
    "\n",
    "# Definindo os parâmetros da distribuição normal\n",
    "media = 70\n",
    "desvio_padrao = 10\n",
    "tamanho_amostra = 1000\n",
    "\n",
    "# Gerando uma amostra de notas de alunos seguindo a distribuição normal\n",
    "notas_alunos = np.random.normal(loc=media, scale=desvio_padrao, size=tamanho_amostra)\n",
    "\n",
    "# Criando os dados de treinamento e teste\n",
    "x_treinamento = np.arange(1, tamanho_amostra+1).reshape(-1, 1)  # Números de 1 a 1000\n",
    "y_treinamento = notas_alunos.reshape(-1, 1)\n",
    "\n",
    "# Criando o modelo de regressão linear\n",
    "modelo_regressao = LinearRegression()\n",
    "\n",
    "# Ajustando o modelo aos dados de treinamento\n",
    "modelo_regressao.fit(x_treinamento, y_treinamento)\n",
    "\n",
    "# Fazendo a previsão para um novo aluno (número 1001)\n",
    "nova_nota_aluno = modelo_regressao.predict([[tamanho_amostra + 1]])[0][0]\n",
    "\n",
    "print(f\"A nota prevista do novo aluno é: {nova_nota_aluno:.2f}\")"
   ]
  },
  {
   "cell_type": "markdown",
   "id": "b9d767ac",
   "metadata": {
    "ExecuteTime": {
     "end_time": "2023-07-01T13:06:04.298404Z",
     "start_time": "2023-07-01T13:06:04.295006Z"
    }
   },
   "source": [
    "Neste exemplo, criamos um modelo de regressão linear usando a biblioteca `scikit-learn` e ajustamos o modelo aos dados de treinamento (notas dos alunos). Em seguida, fazemos a previsão da nota de um novo aluno cujo número é 1001, utilizando o método `predict` do modelo.\n",
    "\n",
    "É importante ressaltar que este é um exemplo simplificado, já que estamos usando apenas a ordem dos dados como variável independente. Em situações reais, é comum ter múltiplas variáveis independentes que podem influenciar a nota de um aluno, como horas de estudo, idade, etc. Nesses casos, uma abordagem de regressão linear múltipla seria mais apropriada."
   ]
  },
  {
   "cell_type": "markdown",
   "id": "530870c6",
   "metadata": {},
   "source": [
    "A padronização (standardization), também conhecida como normalização, é um processo comum na pré-processamento de dados em ciência de dados e machine learning. O objetivo da padronização é transformar os dados para que eles tenham média zero e desvio padrão igual a um. Isso é útil para evitar que recursos com escalas diferentes dominem o modelo durante o treinamento e também para facilitar a interpretação dos coeficientes dos modelos lineares.\n",
    "\n",
    "A fórmula geral para a padronização é dada por:\n",
    "\n",
    "$$ x_{\\text{padronizado}} = \\frac{x - \\text{média}(x)}{\\text{desvio padrão}(x)} $$\n",
    "\n",
    "Onde:\n",
    "- $ x $ é o valor original de uma determinada variável.\n",
    "- $ \\text{média}(x) $ é a média dos valores da variável.\n",
    "- $ \\text{desvio padrão}(x) $ é o desvio padrão dos valores da variável.\n",
    "\n",
    "Dessa forma, ao padronizar os dados, eles estarão centrados em zero (a média é zero) e terão uma dispersão relativa consistente (o desvio padrão é igual a um).\n",
    "\n",
    "Vamos ver um exemplo de como padronizar um conjunto de dados usando Python:\n",
    "\n",
    "```python\n",
    "import numpy as np\n",
    "\n",
    "# Dados de exemplo (3 observações em 2 características)\n",
    "dados = np.array([[10, 20],\n",
    "                  [15, 30],\n",
    "                  [5, 10]])\n",
    "\n",
    "# Calculando a média e o desvio padrão de cada característica\n",
    "media = np.mean(dados, axis=0)\n",
    "desvio_padrao = np.std(dados, axis=0)\n",
    "\n",
    "# Padronizando os dados\n",
    "dados_padronizados = (dados - media) / desvio_padrao\n",
    "\n",
    "print(\"Dados originais:\")\n",
    "print(dados)\n",
    "\n",
    "print(\"\\nDados padronizados:\")\n",
    "print(dados_padronizados)\n",
    "```\n",
    "\n",
    "Saída:\n",
    "```\n",
    "Dados originais:\n",
    "[[10 20]\n",
    " [15 30]\n",
    " [ 5 10]]\n",
    "\n",
    "Dados padronizados:\n",
    "[[ 0.26726124  0.26726124]\n",
    " [ 1.33630621  1.33630621]\n",
    " [-1.60356745 -1.60356745]]\n",
    "```\n",
    "\n",
    "Observe que os dados padronizados têm média zero e desvio padrão igual a um em cada característica.\n",
    "\n",
    "A padronização é um passo importante no pré-processamento de dados, especialmente quando se utiliza algoritmos sensíveis à escala dos atributos, como a regressão linear e o k-NN. Além disso, muitos algoritmos de aprendizado de máquina, como redes neurais, convergem mais rapidamente quando os dados estão padronizados. No entanto, é importante lembrar que a padronização deve ser feita com base nos dados de treinamento e, em seguida, aplicada aos dados de teste usando os mesmos parâmetros de média e desvio padrão calculados nos dados de treinamento."
   ]
  },
  {
   "cell_type": "markdown",
   "id": "c6f520ee",
   "metadata": {},
   "source": [
    "## Chi-Squared Distribution"
   ]
  },
  {
   "cell_type": "markdown",
   "id": "117ead52",
   "metadata": {},
   "source": [
    "A distribuição qui-quadrado (Chi-Squared Distribution) é uma distribuição de probabilidade contínua que surge em muitos contextos estatísticos e é amplamente utilizada em testes de hipóteses e intervalos de confiança.\n",
    "\n",
    "A distribuição qui-quadrado é caracterizada pelo parâmetro \"graus de liberdade\" (df) que determina a sua forma. A forma da distribuição varia com o número de graus de liberdade, e ela se estende apenas para valores não negativos.\n",
    "\n",
    "A função de densidade de probabilidade (PDF) da distribuição qui-quadrado é dada por:\n",
    "\n",
    "$$ f(x) = \\frac{1}{2^{k/2} \\Gamma(k/2)} x^{(k/2)-1} e^{-x/2} $$\n",
    "\n",
    "onde:\n",
    "- $ k $ é o número de graus de liberdade (um parâmetro inteiro positivo),\n",
    "- $ x $ é a variável aleatória (um valor não negativo),\n",
    "- $ \\Gamma(\\cdot) $ é a função gama, que é uma generalização do fatorial para números reais.\n",
    "\n",
    "Exemplos de aplicação da distribuição qui-quadrado em ciência de dados e machine learning incluem:\n",
    "\n",
    "1. Teste qui-quadrado de independência: Utilizado para determinar se existe uma associação entre duas variáveis categóricas em uma tabela de contingência. Por exemplo, podemos usar o teste qui-quadrado para avaliar se há uma associação entre gênero e preferência por determinado produto em uma pesquisa de mercado.\n",
    "\n",
    "2. Intervalo de confiança para a variância de uma amostra: A distribuição qui-quadrado é utilizada para construir intervalos de confiança para a variância de uma população com base em uma amostra.\n",
    "\n",
    "3. Teste de Aderência (Goodness-of-Fit Test): É aplicado para avaliar se uma amostra segue uma distribuição de probabilidade específica. Por exemplo, podemos usar o teste qui-quadrado para verificar se os dados de uma pesquisa estão de acordo com uma distribuição normal.\n",
    "\n",
    "4. Análise de componentes principais (PCA): A distribuição qui-quadrado é usada para calcular os autovalores na análise de componentes principais.\n",
    "\n",
    "5. Análise de Tabelas de Contingência: A distribuição qui-quadrado é comumente usada para analisar tabelas de contingência que relacionam duas ou mais variáveis categóricas. Isso ajuda a determinar se as frequências observadas são significativamente diferentes das frequências esperadas, o que pode indicar alguma relação entre as variáveis.\n",
    "\n",
    "6. Regressão Logística: A distribuição qui-quadrado é fundamental para a inferência estatística em modelos de regressão logística. Os coeficientes estimados desse modelo são distribuídos de acordo com a distribuição qui-quadrado, permitindo a realização de testes de significância e intervalos de confiança.\n",
    "\n",
    "7. Avaliação de Modelos de Aprendizado de Máquina: Em muitos casos, a distribuição qui-quadrado é usada para avaliar a adequação de modelos de aprendizado de máquina, comparando as previsões do modelo com os dados reais.\n",
    "\n",
    "8. Análise de Componentes Principais (PCA): A distribuição qui-quadrado também é utilizada na análise de componentes principais para calcular os autovalores e testar a importância dos componentes principais.\n",
    "\n",
    "Em Python, podemos gerar valores aleatórios com a distribuição qui-quadrado usando a biblioteca `numpy`, e também calcular a função de densidade de probabilidade (PDF) usando a biblioteca `scipy.stats`. Por exemplo:"
   ]
  },
  {
   "cell_type": "code",
   "execution_count": 23,
   "id": "7ab1d581",
   "metadata": {
    "ExecuteTime": {
     "end_time": "2023-07-01T13:43:43.053085Z",
     "start_time": "2023-07-01T13:43:42.892226Z"
    }
   },
   "outputs": [
    {
     "data": {
      "image/png": "[encoded data removed]",
      "text/plain": [
       "<Figure size 1440x576 with 1 Axes>"
      ]
     },
     "metadata": {
      "needs_background": "light"
     },
     "output_type": "display_data"
    }
   ],
   "source": [
    "import numpy as np\n",
    "import matplotlib.pyplot as plt\n",
    "from scipy.stats import chi2\n",
    "\n",
    "# Definir o número de graus de liberdade\n",
    "df = 5\n",
    "\n",
    "# Gerar 1000 valores aleatórios com distribuição qui-quadrado\n",
    "valores_aleatorios = np.random.chisquare(df, size=1000)\n",
    "\n",
    "# Calcular a PDF da distribuição qui-quadrado\n",
    "x = np.linspace(0, 20, 1000)\n",
    "pdf = chi2.pdf(x, df)\n",
    "\n",
    "# Plotar o histograma dos valores gerados e a PDF teórica\n",
    "plt.hist(valores_aleatorios, bins=30, density=True, alpha=0.7, label='Amostra')\n",
    "plt.plot(x, pdf, 'r-', lw=2, label='PDF teórica')\n",
    "plt.xlabel('Valores qui-quadrado')\n",
    "plt.ylabel('Probabilidade')\n",
    "plt.title('Distribuição qui-quadrado com {} graus de liberdade'.format(df))\n",
    "plt.legend()\n",
    "plt.grid(True)\n",
    "plt.show()"
   ]
  },
  {
   "cell_type": "markdown",
   "id": "f3e0202b",
   "metadata": {},
   "source": [
    "Neste exemplo, geramos 1000 valores aleatórios com distribuição qui-quadrado com 5 graus de liberdade e plotamos o histograma dos valores gerados juntamente com a função de densidade de probabilidade (PDF) teórica da distribuição qui-quadrado com 5 graus de liberdade. Observe como os valores aleatórios se aproximam da forma da PDF teórica à medida que o número de amostras aumenta."
   ]
  },
  {
   "cell_type": "markdown",
   "id": "f56f5088",
   "metadata": {},
   "source": [
    "### Experimento: Teste de independencia\n",
    "\n",
    "Para criar um exemplo de teste qui-quadrado para avaliar a independência entre gênero e preferência por determinado produto em uma pesquisa de mercado, vamos simular alguns dados fictícios e realizar o teste usando a biblioteca scipy.stats do Python. Primeiramente, vamos supor que temos os seguintes dados:\n",
    "\n",
    "- Gênero (masculino ou feminino): 100 pessoas (50 homens e 50 mulheres).\n",
    "- Preferência pelo produto (sim ou não): 100 pessoas (60 sim e 40 não).\n",
    "\n",
    "Vamos criar uma tabela de contingência para esses dados e, em seguida, realizar o teste qui-quadrado para verificar a independência entre as variáveis."
   ]
  },
  {
   "cell_type": "code",
   "execution_count": 51,
   "id": "0d3088c2",
   "metadata": {
    "ExecuteTime": {
     "end_time": "2023-07-01T14:03:08.452652Z",
     "start_time": "2023-07-01T14:03:08.432383Z"
    }
   },
   "outputs": [
    {
     "name": "stdout",
     "output_type": "stream",
     "text": [
      "Tabela de Contingência:\n"
     ]
    },
    {
     "data": {
      "text/html": [
       "<div>\n",
       "<style scoped>\n",
       "    .dataframe tbody tr th:only-of-type {\n",
       "        vertical-align: middle;\n",
       "    }\n",
       "\n",
       "    .dataframe tbody tr th {\n",
       "        vertical-align: top;\n",
       "    }\n",
       "\n",
       "    .dataframe thead th {\n",
       "        text-align: right;\n",
       "    }\n",
       "</style>\n",
       "<table border=\"1\" class=\"dataframe\">\n",
       "  <thead>\n",
       "    <tr style=\"text-align: right;\">\n",
       "      <th>Preferencia</th>\n",
       "      <th>Não</th>\n",
       "      <th>Sim</th>\n",
       "    </tr>\n",
       "    <tr>\n",
       "      <th>Genero</th>\n",
       "      <th></th>\n",
       "      <th></th>\n",
       "    </tr>\n",
       "  </thead>\n",
       "  <tbody>\n",
       "    <tr>\n",
       "      <th>Feminino</th>\n",
       "      <td>70</td>\n",
       "      <td>30</td>\n",
       "    </tr>\n",
       "    <tr>\n",
       "      <th>Masculino</th>\n",
       "      <td>20</td>\n",
       "      <td>80</td>\n",
       "    </tr>\n",
       "  </tbody>\n",
       "</table>\n",
       "</div>"
      ],
      "text/plain": [
       "Preferencia  Não  Sim\n",
       "Genero               \n",
       "Feminino      70   30\n",
       "Masculino     20   80"
      ]
     },
     "metadata": {},
     "output_type": "display_data"
    },
    {
     "name": "stdout",
     "output_type": "stream",
     "text": [
      "\n",
      "Resultado do Teste Qui-Quadrado:\n",
      "Qui-Quadrado: 48.505050505050505\n",
      "\n",
      "P-valor: 3.2943936056491247e-12\n",
      "\n",
      "Graus de Liberdade: 1\n",
      "\n",
      "Valores esperados:\n",
      "[[45. 55.]\n",
      " [45. 55.]]\n"
     ]
    }
   ],
   "source": [
    "import numpy as np\n",
    "import pandas as pd\n",
    "from scipy.stats import chi2_contingency\n",
    "\n",
    "# Dados fictícios\n",
    "genero = ['Masculino'] * 50 + ['Feminino'] * 50\n",
    "preferencia = ['Sim'] * 60 + ['Não'] * 40\n",
    "\n",
    "# Criando a tabela de contingência\n",
    "tabela_contingencia = pd.DataFrame()\n",
    "tabela_contingencia['Genero'] = genero\n",
    "tabela_contingencia['Preferencia'] = preferencia\n",
    "tabela_contingencia = pd.crosstab(df['Genero'], df['Preferencia'])\n",
    "tabela_contingencia\n",
    "\n",
    "# Realizando o teste qui-quadrado\n",
    "chi2, p, dof, expected = chi2_contingency(tabela_contingencia)\n",
    "\n",
    "print(\"Tabela de Contingência:\")\n",
    "display(tabela_contingencia)\n",
    "\n",
    "print(\"\\nResultado do Teste Qui-Quadrado:\")\n",
    "print(f\"Qui-Quadrado: {chi2}\")\n",
    "print('')\n",
    "print(f\"P-valor: {p}\")\n",
    "print('')\n",
    "print(f\"Graus de Liberdade: {dof}\")\n",
    "print('')\n",
    "print(\"Valores esperados:\")\n",
    "print(expected)"
   ]
  },
  {
   "cell_type": "markdown",
   "id": "edac9884",
   "metadata": {},
   "source": [
    "O resultado do teste qui-quadrado fornecerá um valor de qui-quadrado e um p-valor. Com base no p-valor, podemos verificar se há associação significativa entre gênero e preferência pelo produto. Se o p-valor for menor que um nível de significância pré-definido (por exemplo, 0,05), podemos rejeitar a hipótese nula de independência e concluir que há uma associação significativa entre as variáveis. Caso contrário, não há evidências suficientes para afirmar que as variáveis são dependentes.\n",
    "\n",
    "A interpretação dos resultados da tabela de contingência e do teste qui-quadrado é a seguinte:\n",
    "- A tabela de contingência mostra o cruzamento das duas variáveis: \"Gênero\" e \"Preferência\". Por exemplo, temos 70 mulheres que responderam \"Não\" e 30 mulheres que responderam \"Sim\", e temos 20 homens que responderam \"Não\" e 80 homens que responderam \"Sim\".\n",
    "\n",
    "- O valor do Qui-Quadrado (48.505050505050505) é uma medida de quanto os valores observados na tabela de contingência se desviam dos valores esperados, assumindo independência entre as duas variáveis. Quanto maior o valor do Qui-Quadrado, maior é a diferença entre os valores observados e esperados, o que pode indicar uma associação significativa entre as variáveis.\n",
    "\n",
    "- O P-valor (3.2943936056491247e-12) é a probabilidade de obter o valor do Qui-Quadrado observado ou um valor mais extremo, sob a hipótese nula de que as duas variáveis são independentes. Neste caso, o P-valor é muito pequeno (próximo de zero), o que significa que é altamente improvável que a associação observada entre as variáveis seja devido ao acaso.\n",
    "\n",
    "- Os graus de liberdade (1) são uma medida do número de categorias independentes que são usadas para calcular o Qui-Quadrado. No caso de uma tabela de contingência 2x2, os graus de liberdade são (número de linhas - 1) * (número de colunas - 1).\n",
    "\n",
    "- Os valores esperados representam as frequências que seriam esperadas em cada célula da tabela de contingência se as duas variáveis fossem independentes. No exemplo, os valores esperados são aproximadamente iguais em todas as células (45 e 55), o que sugere que não há uma associação significativa entre as variáveis.\n",
    "\n",
    "Em resumo, o resultado do teste qui-quadrado indica que há uma associação significativa entre o gênero e a preferência dos indivíduos em relação ao produto, ou seja, a preferência não é independente do gênero. Isso significa que a distribuição das respostas não é uniforme entre homens e mulheres, e há uma preferência diferenciada entre os grupos de gênero.\n",
    "\n",
    "É importante destacar que o exemplo acima é apenas uma simulação com dados fictícios. Em uma análise real, os dados seriam obtidos a partir de uma pesquisa de mercado ou de uma fonte confiável de dados. O teste qui-quadrado é uma ferramenta estatística valiosa para analisar a independência entre variáveis categóricas e é amplamente utilizado em análises de dados em ciência de dados e machine learning."
   ]
  },
  {
   "cell_type": "markdown",
   "id": "ab245b74",
   "metadata": {},
   "source": [
    "## Sampling from a Distribution"
   ]
  },
  {
   "cell_type": "markdown",
   "id": "a91f09a7",
   "metadata": {},
   "source": [
    "Amostragem de uma distribuição, também conhecida como amostragem aleatória ou amostragem de Monte Carlo, é o processo de gerar amostras aleatórias a partir de uma distribuição de probabilidade. Essa técnica é comumente utilizada em estatísticas, análise de dados e aprendizado de máquina para fazer inferências sobre uma população com base em um conjunto limitado de observações (amostras).\n",
    "\n",
    "Aqui está como funciona o processo de amostragem a partir de uma distribuição:\n",
    "\n",
    "1. Definir a Distribuição de Probabilidade: Primeiro, você precisa conhecer a distribuição de probabilidade da qual deseja fazer a amostragem. Isso pode ser uma distribuição teórica conhecida, como a distribuição Normal, distribuição de Poisson, ou uma distribuição empírica personalizada estimada a partir de dados do mundo real.\n",
    "\n",
    "2. Gerar Números Aleatórios: Números aleatórios são gerados usando algoritmos que produzem números uniformemente distribuídos entre 0 e 1. Esses números aleatórios servem como probabilidades que determinam o resultado da amostra.\n",
    "\n",
    "3. Aplicar a Amostragem por Transformação Inversa (para algumas distribuições): Para algumas distribuições comuns, como a distribuição Normal ou Exponencial, você pode usar o método de transformação inversa. Esse método envolve encontrar a função inversa da função de distribuição acumulada (CDF) e aplicá-la aos números aleatórios para obter amostras da distribuição desejada.\n",
    "\n",
    "4. Usar a Amostragem por Rejeição ou Outros Métodos (para distribuições complexas): Para distribuições mais complexas, como aquelas com formas funcionais desconhecidas ou CDFs não facilmente invertíveis, são utilizados outros métodos, como amostragem por rejeição, Cadeias de Markov Monte Carlo (MCMC) ou técnicas numéricas para aproximar as amostras.\n",
    "\n",
    "Exemplos de Amostragem de uma Distribuição:"
   ]
  },
  {
   "cell_type": "markdown",
   "id": "8495b34e",
   "metadata": {},
   "source": [
    "### Exemplo 1: Amostragem de uma Distribuição Normal"
   ]
  },
  {
   "cell_type": "code",
   "execution_count": 53,
   "id": "3e0cface",
   "metadata": {
    "ExecuteTime": {
     "end_time": "2023-07-01T14:19:19.843520Z",
     "start_time": "2023-07-01T14:19:19.836930Z"
    }
   },
   "outputs": [
    {
     "data": {
      "text/plain": [
       "array([-0.03506514, -0.02467109, -2.46123932,  0.14859735, -0.63600222,\n",
       "       -0.36970431, -1.59017387,  0.67318702,  0.55181548, -1.16483478,\n",
       "        0.17940459,  1.64643435,  0.14010829, -2.01424681, -0.57047571,\n",
       "        0.12697047,  2.11611733, -1.20915221, -0.14739598, -1.06740493,\n",
       "        0.87923235, -0.36631356, -2.73155936, -0.39325857, -0.1120963 ,\n",
       "        0.38796497,  0.18167983,  0.65722858, -0.12351189,  0.08463335,\n",
       "        0.01220868, -0.41513934,  0.56816697,  0.84670332, -0.04371685,\n",
       "       -0.49167474, -1.08251862,  0.35494369, -1.00351878,  0.15944351,\n",
       "        0.13112615,  1.06705086,  1.38719554, -3.03811517, -0.20150331,\n",
       "       -2.10092426,  1.16156688, -0.023188  ,  1.15166544,  0.25816057,\n",
       "       -1.3502991 , -0.96765516, -0.13428523,  0.56954015,  0.0567787 ,\n",
       "        0.1775053 , -0.35744285,  1.12997039,  0.14606816,  0.04842269,\n",
       "        0.29543108, -0.41500265, -0.35019792,  0.48131523,  0.77631083,\n",
       "        0.88080002, -0.1952412 ,  0.12327907, -0.6064939 ,  0.78660852,\n",
       "       -0.94482607,  0.2221382 ,  0.87898075,  0.12570927,  0.30000267,\n",
       "       -0.27277978, -1.85391365, -0.67360385,  0.04435578, -0.68905757,\n",
       "        0.48521063, -1.46402332, -1.93749256,  0.69503994, -0.31164126,\n",
       "        0.34637962, -0.52103405,  0.56474069,  1.35741815,  1.42836376,\n",
       "       -0.64796131, -0.42192082,  0.17014091,  1.87091666, -1.15282673,\n",
       "       -1.14576939,  0.8689459 , -0.66576704,  0.65915695, -0.5850134 ,\n",
       "        0.35228218, -0.50997905, -1.004686  ,  0.14630636, -1.21253331,\n",
       "        0.4563028 , -0.23427659, -1.3610192 ,  0.29993553,  0.27887477,\n",
       "       -2.3521849 , -0.05090649,  0.00989628,  0.09267482, -1.8187652 ,\n",
       "        0.35370499,  0.51302619, -0.93799017, -1.39914152, -0.9793953 ,\n",
       "        0.12878037, -1.23781508, -1.35361235,  2.09947083, -0.00531022,\n",
       "       -0.31119073, -0.67046931, -0.42310213,  1.80186109,  0.81625845,\n",
       "        2.38673077,  0.39193985, -0.95624689,  0.27116865,  0.54862133,\n",
       "        0.61391277, -0.44216083,  1.80387592, -1.26957004,  0.33945102,\n",
       "       -0.292395  , -0.77695023,  0.2471056 ,  1.25657774,  0.40397907,\n",
       "        0.2730924 , -2.01962183,  0.92120358, -0.40605532,  0.53417579,\n",
       "        0.92018778,  0.1928796 , -2.001165  ,  1.41652349,  1.8052111 ,\n",
       "        0.81310663, -0.72646735,  1.22982816, -0.28206121, -0.06697236,\n",
       "        1.19752206,  0.64749528, -2.35294454,  0.20785412,  1.18534385,\n",
       "       -1.36358817,  0.97748043, -1.6697576 , -0.21479346,  0.54143143,\n",
       "       -0.25311513,  1.17763492, -1.41468847,  0.81523365,  0.05290471,\n",
       "       -0.85255586,  0.43875667, -0.07033388,  1.47955843,  0.58340775,\n",
       "        0.41265063, -0.67295413,  0.1465675 , -0.57516262, -0.06229562,\n",
       "        1.24535081, -0.28575283, -1.44615772,  0.49452891,  0.7868471 ,\n",
       "        1.58896513,  0.86437332, -0.27167373,  0.26079489,  0.38931297,\n",
       "        0.43418517, -2.47408353, -0.57348157,  0.47704614,  1.09937451,\n",
       "       -0.63426835, -0.41495035, -0.23848555, -0.13489157,  0.85444831,\n",
       "       -0.73846283,  0.86480322,  1.41878447, -0.39367954, -0.42988614,\n",
       "        0.15754248, -0.58648726, -0.08790368, -1.46965856,  0.85570615,\n",
       "        1.66302172, -0.67321285, -1.64622549,  0.92088311, -0.4184943 ,\n",
       "       -0.66783807, -0.12199056, -1.22084668,  0.48200372, -1.26460752,\n",
       "       -1.18437229, -1.1978031 ,  0.1639981 , -1.81368959,  2.08827244,\n",
       "       -0.37552791, -2.11620299, -1.06073728,  0.59878487,  1.34834464,\n",
       "        0.16318844,  0.08563879, -1.53017576,  1.48885749,  0.5559294 ,\n",
       "        0.32108176,  0.01691375,  0.53102941, -0.80005308,  0.93934039,\n",
       "        0.80338987, -0.09814469, -0.27209104, -2.15843646, -1.73220718,\n",
       "        0.54576644,  0.9047312 ,  1.07005025, -1.34717498,  2.29345147,\n",
       "        1.00029106, -0.57345193,  0.16332339, -1.69737955, -0.61690275,\n",
       "        0.53826271,  0.06268979,  1.74314353, -1.47944642, -0.1171326 ,\n",
       "       -1.13661579,  1.53505437,  0.26535676,  0.00844348, -0.1331379 ,\n",
       "       -0.87708377,  1.19844696,  0.17060559,  0.24475192,  0.58232151,\n",
       "       -0.86178201,  1.99528723,  1.56951249, -0.03595868, -0.30108699,\n",
       "        0.63964169,  1.12018861,  1.75027532,  0.6448142 ,  0.13656746,\n",
       "        0.13713505, -1.88068722, -0.43029644,  0.36122171, -2.25773077,\n",
       "        0.17993666, -0.8120259 ,  1.57701892, -0.28468133, -0.26362873,\n",
       "       -0.1374138 , -0.00465034,  0.79283061, -0.34430171,  0.02343178,\n",
       "        0.79879276,  0.00853013,  0.65543084, -0.44556573,  0.35100644,\n",
       "        1.30899161,  0.60245347, -1.87101843,  0.55536493, -1.15398844,\n",
       "       -0.92497833,  0.49187969, -0.96956407, -1.10980554, -0.00349521,\n",
       "       -0.6134205 , -1.62975844,  0.55538525,  0.98542004,  0.90470473,\n",
       "       -0.89831524,  0.41090107, -0.49407831, -1.26749697, -0.74732786,\n",
       "       -2.81933702, -1.05729906, -1.46670717,  0.2029076 ,  0.29149633,\n",
       "       -1.6897244 ,  0.82797965, -0.60776141, -1.06939928, -1.79032329,\n",
       "       -0.80086749, -0.13922087,  0.99579728, -0.10529356, -0.31487041,\n",
       "        0.58049405,  0.14009341, -1.50506449, -0.43672434, -0.57500728,\n",
       "       -0.14993975, -0.4753036 , -0.80647224,  1.46487704, -0.04521232,\n",
       "        0.47685915, -0.11735009,  0.8152164 , -0.09084703,  0.97236939,\n",
       "       -2.87026908,  0.09968945,  0.26109238,  0.30463539, -1.083813  ,\n",
       "       -0.72267668, -1.0433103 ,  0.48708759,  0.90427241, -1.64387296,\n",
       "        0.20517312, -0.86461297,  1.74757441,  0.56261708, -0.35194645,\n",
       "       -0.13490063,  1.29705655,  0.05719424, -1.78862316,  1.51732517,\n",
       "        0.81283723, -0.53736107,  0.60071416, -0.61348074, -0.64000052,\n",
       "       -0.12114485,  0.60000268,  0.4704554 ,  0.93833787,  0.47481636,\n",
       "        1.45333423,  1.72438555,  0.30215889, -0.33639533, -0.17945442,\n",
       "       -1.92546384,  0.02063915, -0.61693392, -0.70493001, -0.0378804 ,\n",
       "       -2.09894454, -0.17888061,  0.20403451, -1.53553298,  1.35437431,\n",
       "        0.44287415,  1.29069897,  0.43420927,  0.36084343,  1.52209316,\n",
       "        1.31545506,  1.94162306, -0.12404279, -0.79465307, -1.15770956,\n",
       "       -0.97737938,  0.67837188,  2.72636081,  1.50859452, -0.17962321,\n",
       "        0.76636824, -0.55339854, -0.49119898, -1.03442605, -0.9678256 ,\n",
       "        0.5554024 ,  1.48268085,  1.04110077,  1.45765107,  0.78380411,\n",
       "       -0.03432386, -0.5255288 ,  0.57685424, -1.67962951, -0.60451685,\n",
       "       -0.7876286 ,  1.24408385, -1.37758351,  0.9295961 ,  0.38741912,\n",
       "        0.39964135, -0.46753085, -1.46323677,  0.50027271,  0.88588126,\n",
       "        0.49715123, -0.14403158, -1.13792095, -0.62307147,  0.45024174,\n",
       "       -0.79009639, -0.96199553, -1.44660938,  0.53523474,  0.51420217,\n",
       "        1.15415428, -2.14409078,  1.17186127,  1.11347626,  1.20865093,\n",
       "        0.11961677,  0.22179086,  0.21711002, -0.91300385, -0.87051629,\n",
       "        0.22574642, -0.24910861,  0.71610855, -0.35652309, -1.468693  ,\n",
       "       -1.42200388, -0.76126838,  0.72612933, -0.51926277,  0.2984726 ,\n",
       "       -1.67227531,  0.16203904,  0.03778258,  1.19020344,  0.15424377,\n",
       "        0.76286708,  1.94574295,  0.03990032,  1.53379881,  0.12396207,\n",
       "       -0.5342691 , -0.1086495 , -0.5066755 , -0.47058004, -0.57347955,\n",
       "       -0.30335106,  0.71074732, -1.70126983,  0.28713216,  0.12022648,\n",
       "        1.38441508, -0.36567014,  1.13170157, -0.85989928, -0.45499645,\n",
       "        0.41665651,  0.60776829, -0.26516507,  0.22284228, -0.16434878,\n",
       "        0.79137959, -0.14659212, -0.22294345,  0.99127628,  0.21025547,\n",
       "        0.66832744,  2.49856751, -1.98519798, -1.02746534, -0.9277822 ,\n",
       "       -0.85356991,  1.42313347, -2.66713589,  0.48166733, -1.53271813,\n",
       "        0.02557241,  0.25939868,  0.90628875, -0.26552534, -0.17310635,\n",
       "       -2.04950707,  2.28014236,  0.30642709,  0.43878677,  1.0730356 ,\n",
       "       -0.06745127,  0.42385974,  0.7153472 , -1.47475702,  0.5306316 ,\n",
       "        2.07516637,  1.74683355,  1.53206441,  1.91052936, -1.25959318,\n",
       "       -0.52487438, -0.91143137,  3.49511321,  0.24392277, -1.41426056,\n",
       "       -1.1016677 ,  0.1071091 , -1.3629467 ,  1.86868272,  0.79051882,\n",
       "        0.31308674, -1.05360377, -1.32105348,  0.34916686,  0.13745283,\n",
       "       -1.28335661, -0.05385138, -0.05127839,  0.7380658 ,  2.1063986 ,\n",
       "       -2.07952486,  0.8011748 , -0.69649391,  0.42154181,  0.13070931,\n",
       "        0.50013414, -1.24309663,  0.96962128,  0.04085779,  1.39173296,\n",
       "        1.59244695,  0.23683724,  0.98988827,  0.90337645,  1.33870743,\n",
       "        1.26631906, -1.16398518,  0.27823462, -1.38833154, -0.52190849,\n",
       "       -0.48133749,  0.58510371, -0.230162  , -0.15962932,  0.99915054,\n",
       "        0.87942645,  0.27596192,  0.74916917,  0.64594111,  1.96485236,\n",
       "       -0.20878053, -0.75196014,  0.20389623, -0.95037247, -0.36794948,\n",
       "        0.45012226, -0.50735567, -0.22809636, -0.27296869, -0.43328129,\n",
       "       -1.09647203,  1.01223398,  1.37007864,  0.95161348,  0.94273408,\n",
       "       -0.41569729,  0.17521898, -0.77937333, -0.13480337, -0.04591742,\n",
       "       -1.38512173,  0.13214748, -0.53084133,  0.26522909, -0.23509319,\n",
       "        0.34641757,  0.69779056, -1.253378  , -0.31961116, -0.64798415,\n",
       "        1.17831898,  1.69778391,  0.04242127,  0.4044996 , -1.47398033,\n",
       "        0.30309364, -0.25876496,  1.35855384, -0.22748674, -0.82059567,\n",
       "       -1.34280283,  0.18105706, -0.54343874,  1.21729321,  0.63324286,\n",
       "       -0.10097022,  0.62727063,  1.74319973, -1.15990942, -0.63508882,\n",
       "        1.94165437, -0.75443124,  0.66232749,  1.18704345, -0.01577332,\n",
       "        0.68945054, -0.29392758,  1.81666477, -0.44187729, -0.95459087,\n",
       "        0.88871745,  0.70995544,  0.14905648,  0.03304943, -0.49599596,\n",
       "       -0.7346829 , -0.60572867,  0.31270349, -0.20674152, -1.49102714,\n",
       "       -0.42050754, -0.21269349,  0.50979554,  0.29200662,  1.75542807,\n",
       "       -0.97951504,  0.55304884,  0.63479886,  0.27925822, -0.29711473,\n",
       "       -0.68356128, -0.04079294, -1.78791774, -0.92390916, -0.97483018,\n",
       "        0.50370352,  0.62538445, -1.0722779 , -1.30760288, -1.46316134,\n",
       "        0.97776465,  0.91506161,  0.6494984 ,  1.50328746,  1.77787874,\n",
       "       -0.99339028, -0.3944075 ,  0.78027767, -2.76069727, -0.25072536,\n",
       "        0.96267333, -0.34862151,  0.7317349 , -2.00038261,  0.28403743,\n",
       "       -0.46088716, -0.22527507, -0.94786744,  1.59921326,  0.06893569,\n",
       "        0.14572663,  2.06159162, -0.92488175,  0.13991315, -0.68121353,\n",
       "       -0.72962318,  0.30781041, -0.28185577,  1.97821389,  1.78225812,\n",
       "       -0.1624821 , -1.54101997, -0.2911643 ,  1.04751934, -0.88651341,\n",
       "        1.60464474,  0.58116467, -1.17085574, -0.66010384, -0.51881145,\n",
       "       -0.80602369, -1.14546043, -0.57506871, -0.38069678,  1.29909383,\n",
       "        0.43867426,  0.49818128,  0.3495986 , -0.79611088,  1.14710994,\n",
       "       -0.43436077, -0.3358432 ,  0.37911493,  2.49973687, -0.56537338,\n",
       "       -1.6294862 ,  0.28933544,  0.6838558 , -0.43435776, -0.59374928,\n",
       "       -1.27133487,  0.33704665,  1.94433253,  1.71245588,  0.30082157,\n",
       "       -0.416193  ,  0.38197394, -0.32488184, -0.64062288,  0.16285908,\n",
       "        1.27792213, -0.18930665, -0.20107958, -0.2647595 ,  0.79263711,\n",
       "        0.8521559 , -1.07639065, -0.17658577,  1.10625777, -0.33463608,\n",
       "        1.39249875,  0.6864813 ,  1.75638582, -0.31124706,  0.70175132,\n",
       "        0.73287812,  1.07745568,  0.35338698,  1.11340303, -0.63078012,\n",
       "       -0.05580793, -1.4880524 , -0.26974602, -0.85104838,  0.33105097,\n",
       "        0.98606364,  0.56462059,  0.78022247,  0.09554474, -0.14075501,\n",
       "       -1.17298265, -1.92456334, -1.50793783, -0.66310186,  0.9123787 ,\n",
       "       -1.22876303, -0.82169345, -0.47042525,  1.28821   , -0.0382625 ,\n",
       "        0.13498864,  0.41069993,  1.39491941,  0.08371799, -1.76527875,\n",
       "        0.12692892,  1.4404823 ,  0.64102967,  0.21502778,  0.35374159,\n",
       "       -1.83716424, -1.97658402,  0.89411421,  1.28567537, -0.62949328,\n",
       "        0.19329194,  0.62079477,  1.66006577, -0.07994059,  0.73777401,\n",
       "        1.99318602, -0.28044888,  0.06479423, -1.10557704, -1.05528151,\n",
       "        0.87544683,  1.19388108,  1.1636266 , -1.03313448, -0.20569405,\n",
       "        0.47847589, -2.27630869,  0.45697966,  1.88046849,  1.13669212,\n",
       "       -2.41031308,  0.39734434,  0.21596353,  0.27166109,  0.10713332,\n",
       "       -0.32645667, -2.32534717,  0.31092153,  0.62738299, -0.55536067,\n",
       "        1.25857415, -1.64018628, -1.72532141,  0.08498728, -0.68170722,\n",
       "        0.97204122, -0.42756673,  1.35803764, -0.72202651,  0.14370796,\n",
       "       -1.98449966, -0.05325468,  0.07269427,  1.20957912, -1.51108388,\n",
       "       -0.28298521,  1.45283295,  1.58538699, -0.83436708, -0.68568984,\n",
       "       -1.69966939, -2.12300318, -0.38888286, -0.64527844,  2.06151948,\n",
       "        0.34770923, -0.20863884,  0.65599954,  1.02845692,  1.21367533,\n",
       "        0.25958039, -0.02362947,  0.15818924, -0.05847188, -0.52922766,\n",
       "        1.0431905 , -0.1928571 , -1.01434285,  0.02057331,  0.71666395,\n",
       "       -1.45593901, -0.26887219, -0.80211096,  2.18269225,  0.09176003,\n",
       "        1.55219476,  0.24411982,  0.33344918, -0.06141587, -0.22301242,\n",
       "       -0.07387177, -0.65738551, -0.01105955, -1.62369172,  0.17344552,\n",
       "       -1.20483202,  0.09443103,  0.32095818,  1.41706918,  0.31677042,\n",
       "       -0.26635295, -0.62886671,  0.71632191, -0.09912145, -0.75240479,\n",
       "        0.15338574, -1.8569431 ,  0.07999762, -0.78043064, -0.32634774,\n",
       "        1.99419385, -0.48528892,  0.78983615,  1.04921393,  0.85376095,\n",
       "        0.37116395, -1.10762681, -0.65054788, -1.16576596, -0.35195592,\n",
       "       -0.34031981, -0.91375886,  0.54735331, -0.49342637, -0.36276099,\n",
       "       -1.5688562 ,  0.06927756, -0.09422237, -0.5994764 ,  0.38112117,\n",
       "        0.11886687,  0.58757439,  0.63265711,  0.7150575 ,  1.66869562,\n",
       "        0.12859815, -0.94606708, -0.4299505 , -0.4032466 , -0.91981402,\n",
       "       -2.51334651,  0.23122383,  0.03366665,  1.91390622,  1.85041093,\n",
       "        0.67982456,  0.56268078, -0.82963497,  0.1886328 , -0.11653437,\n",
       "        0.14577467, -0.76893229,  0.41911517, -1.36934211,  3.03549341,\n",
       "        1.44706715,  1.32722549, -1.27537533, -1.62070934,  0.2747711 ,\n",
       "       -0.30445049,  1.84772595,  0.62776948, -0.04124211,  1.47988327,\n",
       "        0.18212667,  0.22899638,  1.04212184, -0.67749773,  1.01869419,\n",
       "        0.56602794, -0.92073111,  1.9580541 , -0.45746944, -1.6344817 ,\n",
       "       -0.77758721, -1.03572956,  0.1956935 ,  1.62251777,  0.24869916,\n",
       "        1.5858627 ,  1.06661095, -2.66648963,  0.89946907, -0.58098357,\n",
       "        0.51270425, -0.05787611,  2.78613747,  0.43606845,  0.58380312,\n",
       "        1.07825404, -1.48911339,  1.08345764, -0.21560458, -0.69145042,\n",
       "        0.82003096, -1.48832322,  0.93893891, -0.15748525, -0.10014065,\n",
       "       -2.24420404,  0.90042045,  0.24762649, -0.46717773, -0.92743816,\n",
       "        0.78158114,  0.34818278,  0.00518343, -0.98825331,  0.30278659])"
      ]
     },
     "execution_count": 53,
     "metadata": {},
     "output_type": "execute_result"
    }
   ],
   "source": [
    "import numpy as np\n",
    "\n",
    "# Parâmetros da distribuição normal\n",
    "media = 0\n",
    "desvio_padrao = 1\n",
    "\n",
    "# Gerar 1000 amostras aleatórias da distribuição normal\n",
    "amostras = np.random.normal(media, desvio_padrao, 1000)\n",
    "amostras"
   ]
  },
  {
   "cell_type": "markdown",
   "id": "64a97841",
   "metadata": {},
   "source": [
    "### Exemplo 2: Amostragem de uma Distribuição Discreta"
   ]
  },
  {
   "cell_type": "code",
   "execution_count": 54,
   "id": "6f19c0ee",
   "metadata": {
    "ExecuteTime": {
     "end_time": "2023-07-01T14:20:12.047461Z",
     "start_time": "2023-07-01T14:20:12.044432Z"
    }
   },
   "outputs": [
    {
     "data": {
      "text/plain": [
       "array([3, 3, 2, 1, 3, 3, 3, 3, 2, 3, 2, 3, 3, 3, 3, 3, 3, 3, 1, 2, 3, 3,\n",
       "       1, 2, 1, 3, 3, 2, 3, 3, 3, 1, 3, 1, 3, 2, 1, 1, 2, 3, 1, 3, 2, 3,\n",
       "       3, 1, 3, 3, 3, 3, 1, 3, 2, 3, 3, 3, 3, 3, 3, 2, 2, 1, 3, 3, 1, 2,\n",
       "       3, 3, 3, 1, 3, 1, 2, 1, 3, 1, 2, 3, 3, 3, 3, 1, 2, 1, 1, 2, 3, 1,\n",
       "       1, 3, 3, 3, 3, 3, 3, 3, 3, 3, 3, 2])"
      ]
     },
     "execution_count": 54,
     "metadata": {},
     "output_type": "execute_result"
    }
   ],
   "source": [
    "import numpy as np\n",
    "\n",
    "# Probabilidades dos resultados em uma distribuição discreta\n",
    "probabilidades = [0.3, 0.2, 0.5]\n",
    "resultados = [1, 2, 3]\n",
    "\n",
    "# Gerar 100 amostras aleatórias da distribuição discreta\n",
    "amostras = np.random.choice(resultados, 100, p=probabilidades)\n",
    "amostras"
   ]
  },
  {
   "cell_type": "markdown",
   "id": "464f4380",
   "metadata": {},
   "source": [
    "A amostragem a partir de uma distribuição nos permite simular dados e realizar diversas análises estatísticas. Ela é particularmente útil em casos em que não é viável ou prático obter dados de toda a população, e precisamos tirar conclusões com base em um subconjunto representativo dos dados."
   ]
  },
  {
   "cell_type": "markdown",
   "id": "98bd2cf3",
   "metadata": {
    "ExecuteTime": {
     "end_time": "2023-07-01T14:21:08.374545Z",
     "start_time": "2023-07-01T14:21:08.371571Z"
    }
   },
   "source": [
    "## Synthetic Data"
   ]
  },
  {
   "cell_type": "markdown",
   "id": "1db0682b",
   "metadata": {},
   "source": [
    "Criar dados sintéticos que sigam a mesma distribuição dos dados existentes é uma prática comum em análise de dados e aprendizado de máquina. Esse processo é conhecido como geração de dados sintéticos ou amostragem a partir da distribuição empírica. O objetivo é obter um conjunto maior de dados que represente fielmente as características da distribuição original.\n",
    "\n",
    "Existem várias maneiras de criar dados sintéticos seguindo a distribuição dos dados já existentes:\n",
    "\n",
    "1. Amostragem Aleatória com Reposição: Nesse método, você simplesmente faz amostragem aleatória dos dados existentes, permitindo que cada ponto de dados seja selecionado mais de uma vez (com reposição). Isso pode criar um conjunto maior de dados que segue aproximadamente a mesma distribuição dos dados originais.\n",
    "\n",
    "2. Amostragem Aleatória sem Reposição: Aqui, você faz amostragem aleatória dos dados existentes, mas cada ponto de dados é selecionado apenas uma vez (sem reposição). Esse método é útil quando você precisa de dados sintéticos sem repetição.\n",
    "\n",
    "3. Ajuste de Distribuição: Se você sabe qual é a distribuição teórica que melhor representa seus dados originais, pode ajustar essa distribuição aos dados existentes usando técnicas como Mínimos Quadrados ou Máxima Verossimilhança. Em seguida, gera-se dados sintéticos a partir dessa distribuição ajustada.\n",
    "\n",
    "4. Amostragem por Kernel (Kernel Density Estimation): Esse método estima a densidade dos dados existentes e, em seguida, gera novos dados sintéticos amostrando a partir dessa densidade estimada.\n",
    "\n",
    "5. Cadeias de Markov Monte Carlo (MCMC): Essa técnica é usada para simular dados de distribuições complexas que não podem ser facilmente amostradas usando métodos convencionais. O MCMC gera uma sequência de amostras que se aproximam da distribuição desejada.\n",
    "\n",
    "Exemplos de criação de dados sintéticos:"
   ]
  },
  {
   "cell_type": "markdown",
   "id": "887d441c",
   "metadata": {},
   "source": [
    "### Exemplo 1: Amostragem Aleatória com Reposição"
   ]
  },
  {
   "cell_type": "code",
   "execution_count": 56,
   "id": "e84520dc",
   "metadata": {
    "ExecuteTime": {
     "end_time": "2023-07-01T14:22:53.222194Z",
     "start_time": "2023-07-01T14:22:53.218447Z"
    }
   },
   "outputs": [
    {
     "data": {
      "text/plain": [
       "array([1, 5, 4, 3, 1, 4, 1, 4, 3, 2, 5, 2, 2, 3, 1, 5, 2, 1, 5, 3, 5, 4,\n",
       "       3, 2, 4, 1, 2, 4, 3, 4, 4, 2, 4, 5, 2, 5, 4, 5, 3, 3, 4, 5, 4, 3,\n",
       "       5, 3, 5, 2, 4, 5, 5, 2, 1, 2, 5, 1, 3, 4, 1, 3, 5, 1, 2, 4, 2, 2,\n",
       "       4, 2, 5, 2, 5, 2, 5, 1, 5, 4, 2, 1, 2, 5, 2, 3, 1, 3, 2, 5, 1, 1,\n",
       "       5, 1, 5, 3, 2, 1, 1, 1, 3, 5, 5, 3, 2, 3, 1, 2, 4, 2, 3, 1, 2, 5,\n",
       "       2, 4, 2, 2, 2, 1, 3, 1, 2, 5, 5, 5, 2, 2, 4, 4, 3, 2, 2, 5, 4, 1,\n",
       "       4, 3, 1, 5, 4, 2, 3, 3, 1, 1, 3, 4, 2, 5, 2, 4, 1, 5, 2, 2, 5, 3,\n",
       "       5, 2, 5, 2, 4, 3, 5, 4, 4, 3, 1, 5, 3, 3, 2, 3, 3, 5, 3, 3, 1, 4,\n",
       "       5, 1, 5, 4, 3, 3, 2, 4, 3, 5, 5, 2, 3, 5, 4, 2, 3, 3, 2, 1, 5, 5,\n",
       "       2, 3, 1, 4, 3, 5, 2, 1, 5, 5, 3, 2, 1, 3, 4, 5, 3, 5, 3, 2, 1, 2,\n",
       "       5, 5, 3, 3, 3, 5, 1, 4, 4, 4, 4, 2, 1, 4, 1, 1, 4, 2, 3, 3, 2, 5,\n",
       "       4, 5, 1, 3, 5, 1, 1, 2, 1, 5, 1, 4, 2, 4, 5, 1, 5, 1, 1, 1, 2, 5,\n",
       "       2, 1, 2, 2, 3, 2, 5, 4, 5, 5, 4, 2, 4, 4, 5, 5, 3, 1, 2, 4, 5, 5,\n",
       "       2, 3, 5, 4, 2, 4, 1, 5, 2, 5, 1, 2, 4, 4, 1, 5, 2, 4, 4, 5, 1, 1,\n",
       "       1, 4, 4, 4, 4, 4, 4, 3, 2, 1, 2, 5, 1, 1, 4, 4, 5, 2, 2, 2, 5, 3,\n",
       "       2, 1, 1, 4, 4, 2, 2, 4, 1, 5, 5, 5, 2, 5, 3, 2, 3, 2, 2, 5, 2, 3,\n",
       "       1, 3, 4, 2, 3, 5, 4, 1, 3, 3, 3, 4, 5, 4, 5, 5, 1, 2, 2, 3, 2, 3,\n",
       "       4, 2, 1, 1, 1, 4, 3, 4, 4, 4, 5, 4, 2, 3, 1, 5, 3, 3, 4, 1, 3, 2,\n",
       "       1, 2, 5, 3, 5, 2, 5, 2, 4, 4, 5, 2, 3, 1, 5, 3, 2, 2, 5, 3, 5, 4,\n",
       "       2, 4, 5, 2, 5, 1, 3, 2, 2, 4, 1, 4, 3, 5, 1, 4, 5, 3, 3, 1, 1, 2,\n",
       "       3, 2, 5, 1, 2, 3, 5, 1, 3, 4, 5, 5, 4, 1, 3, 5, 2, 1, 1, 3, 4, 5,\n",
       "       5, 2, 2, 2, 2, 3, 3, 2, 2, 2, 5, 3, 1, 3, 3, 5, 5, 2, 4, 3, 4, 1,\n",
       "       2, 3, 5, 5, 4, 5, 4, 2, 4, 3, 5, 5, 3, 1, 2, 4, 2, 3, 2, 1, 2, 4,\n",
       "       3, 1, 1, 1, 5, 2, 4, 5, 4, 4, 4, 4, 2, 2, 4, 4, 1, 5, 2, 1, 3, 1,\n",
       "       5, 3, 4, 1, 5, 1, 5, 1, 5, 4, 5, 2, 1, 3, 3, 3, 5, 3, 5, 3, 3, 4,\n",
       "       4, 4, 1, 5, 5, 4, 4, 3, 3, 3, 1, 4, 4, 4, 3, 1, 2, 2, 3, 3, 4, 5,\n",
       "       3, 3, 2, 3, 5, 4, 5, 1, 3, 3, 5, 1, 4, 5, 2, 1, 4, 1, 2, 1, 5, 5,\n",
       "       1, 3, 1, 5, 4, 1, 2, 2, 4, 4, 4, 4, 1, 4, 4, 3, 2, 1, 5, 3, 3, 5,\n",
       "       3, 1, 2, 4, 3, 1, 3, 1, 3, 1, 4, 1, 5, 3, 4, 3, 1, 3, 2, 1, 1, 3,\n",
       "       4, 5, 4, 5, 2, 5, 4, 5, 5, 2, 5, 3, 2, 2, 3, 2, 2, 4, 4, 1, 1, 2,\n",
       "       2, 3, 3, 2, 5, 4, 5, 4, 2, 4, 1, 2, 2, 2, 3, 2, 2, 2, 5, 4, 1, 2,\n",
       "       4, 1, 4, 2, 4, 4, 4, 2, 3, 3, 4, 2, 4, 3, 5, 5, 4, 3, 5, 5, 4, 4,\n",
       "       3, 1, 5, 1, 5, 5, 5, 4, 1, 2, 4, 5, 1, 1, 3, 4, 2, 3, 1, 3, 5, 4,\n",
       "       2, 2, 1, 3, 2, 2, 5, 5, 1, 3, 5, 3, 1, 4, 1, 4, 5, 2, 1, 3, 3, 4,\n",
       "       3, 5, 4, 2, 1, 4, 5, 4, 5, 4, 4, 2, 4, 5, 4, 3, 2, 5, 1, 4, 5, 3,\n",
       "       4, 3, 4, 4, 1, 1, 3, 2, 4, 1, 2, 3, 5, 1, 4, 1, 4, 1, 3, 3, 3, 3,\n",
       "       3, 4, 4, 5, 3, 2, 4, 4, 5, 4, 1, 4, 1, 5, 1, 2, 4, 2, 3, 5, 5, 4,\n",
       "       4, 5, 4, 1, 1, 1, 5, 5, 2, 3, 4, 5, 2, 3, 1, 4, 5, 2, 1, 3, 2, 3,\n",
       "       5, 2, 4, 1, 2, 5, 5, 3, 3, 4, 5, 5, 5, 1, 1, 5, 1, 5, 3, 3, 1, 3,\n",
       "       3, 4, 4, 5, 2, 2, 4, 5, 4, 3, 5, 5, 2, 2, 2, 1, 3, 3, 3, 3, 3, 3,\n",
       "       1, 5, 2, 2, 2, 3, 2, 1, 3, 3, 1, 5, 1, 1, 1, 5, 2, 1, 3, 2, 2, 4,\n",
       "       1, 2, 3, 5, 5, 2, 5, 4, 5, 5, 5, 3, 4, 4, 5, 2, 3, 2, 1, 3, 5, 3,\n",
       "       3, 2, 1, 3, 1, 1, 2, 2, 5, 5, 3, 5, 2, 5, 5, 5, 1, 5, 2, 1, 5, 5,\n",
       "       2, 3, 2, 4, 2, 3, 2, 1, 1, 2, 1, 3, 4, 4, 3, 5, 5, 4, 1, 1, 5, 4,\n",
       "       2, 2, 1, 3, 5, 1, 3, 3, 5, 3, 3, 5, 4, 2, 4, 2, 2, 5, 4, 5, 4, 3,\n",
       "       1, 4, 4, 3, 3, 2, 1, 1, 1, 4])"
      ]
     },
     "execution_count": 56,
     "metadata": {},
     "output_type": "execute_result"
    }
   ],
   "source": [
    "import numpy as np\n",
    "\n",
    "# Dados originais\n",
    "dados_originais = [1, 2, 3, 4, 5]\n",
    "\n",
    "# Criar 1000 dados sintéticos seguindo a mesma distribuição\n",
    "dados_sinteticos = np.random.choice(dados_originais, 1000, replace=True)\n",
    "dados_sinteticos"
   ]
  },
  {
   "cell_type": "markdown",
   "id": "9a9cf191",
   "metadata": {},
   "source": [
    "### Exemplo 2: Ajuste de Distribuição"
   ]
  },
  {
   "cell_type": "code",
   "execution_count": 62,
   "id": "55ad2e02",
   "metadata": {
    "ExecuteTime": {
     "end_time": "2023-07-01T15:13:49.150476Z",
     "start_time": "2023-07-01T15:13:49.145312Z"
    }
   },
   "outputs": [
    {
     "name": "stdout",
     "output_type": "stream",
     "text": [
      "Help on uniform_gen in module scipy.stats._continuous_distns:\n",
      "\n",
      "<scipy.stats._continuous_distns.uniform_gen object>\n",
      "    A uniform continuous random variable.\n",
      "    \n",
      "    In the standard form, the distribution is uniform on ``[0, 1]``. Using\n",
      "    the parameters ``loc`` and ``scale``, one obtains the uniform distribution\n",
      "    on ``[loc, loc + scale]``.\n",
      "    \n",
      "    As an instance of the `rv_continuous` class, `uniform` object inherits from it\n",
      "    a collection of generic methods (see below for the full list),\n",
      "    and completes them with details specific for this particular distribution.\n",
      "    \n",
      "    Methods\n",
      "    -------\n",
      "    rvs(loc=0, scale=1, size=1, random_state=None)\n",
      "        Random variates.\n",
      "    pdf(x, loc=0, scale=1)\n",
      "        Probability density function.\n",
      "    logpdf(x, loc=0, scale=1)\n",
      "        Log of the probability density function.\n",
      "    cdf(x, loc=0, scale=1)\n",
      "        Cumulative distribution function.\n",
      "    logcdf(x, loc=0, scale=1)\n",
      "        Log of the cumulative distribution function.\n",
      "    sf(x, loc=0, scale=1)\n",
      "        Survival function  (also defined as ``1 - cdf``, but `sf` is sometimes more accurate).\n",
      "    logsf(x, loc=0, scale=1)\n",
      "        Log of the survival function.\n",
      "    ppf(q, loc=0, scale=1)\n",
      "        Percent point function (inverse of ``cdf`` --- percentiles).\n",
      "    isf(q, loc=0, scale=1)\n",
      "        Inverse survival function (inverse of ``sf``).\n",
      "    moment(n, loc=0, scale=1)\n",
      "        Non-central moment of order n\n",
      "    stats(loc=0, scale=1, moments='mv')\n",
      "        Mean('m'), variance('v'), skew('s'), and/or kurtosis('k').\n",
      "    entropy(loc=0, scale=1)\n",
      "        (Differential) entropy of the RV.\n",
      "    fit(data)\n",
      "        Parameter estimates for generic data.\n",
      "        See `scipy.stats.rv_continuous.fit <https://docs.scipy.org/doc/scipy/reference/generated/scipy.stats.rv_continuous.fit.html#scipy.stats.rv_continuous.fit>`__ for detailed documentation of the\n",
      "        keyword arguments.\n",
      "    expect(func, args=(), loc=0, scale=1, lb=None, ub=None, conditional=False, **kwds)\n",
      "        Expected value of a function (of one argument) with respect to the distribution.\n",
      "    median(loc=0, scale=1)\n",
      "        Median of the distribution.\n",
      "    mean(loc=0, scale=1)\n",
      "        Mean of the distribution.\n",
      "    var(loc=0, scale=1)\n",
      "        Variance of the distribution.\n",
      "    std(loc=0, scale=1)\n",
      "        Standard deviation of the distribution.\n",
      "    interval(alpha, loc=0, scale=1)\n",
      "        Endpoints of the range that contains fraction alpha [0, 1] of the\n",
      "        distribution\n",
      "    \n",
      "    Examples\n",
      "    --------\n",
      "    >>> from scipy.stats import uniform\n",
      "    >>> import matplotlib.pyplot as plt\n",
      "    >>> fig, ax = plt.subplots(1, 1)\n",
      "    \n",
      "    Calculate the first four moments:\n",
      "    \n",
      "    \n",
      "    >>> mean, var, skew, kurt = uniform.stats(moments='mvsk')\n",
      "    \n",
      "    Display the probability density function (``pdf``):\n",
      "    \n",
      "    >>> x = np.linspace(uniform.ppf(0.01),\n",
      "    ...                 uniform.ppf(0.99), 100)\n",
      "    >>> ax.plot(x, uniform.pdf(x),\n",
      "    ...        'r-', lw=5, alpha=0.6, label='uniform pdf')\n",
      "    \n",
      "    Alternatively, the distribution object can be called (as a function)\n",
      "    to fix the shape, location and scale parameters. This returns a \"frozen\"\n",
      "    RV object holding the given parameters fixed.\n",
      "    \n",
      "    Freeze the distribution and display the frozen ``pdf``:\n",
      "    \n",
      "    >>> rv = uniform()\n",
      "    >>> ax.plot(x, rv.pdf(x), 'k-', lw=2, label='frozen pdf')\n",
      "    \n",
      "    Check accuracy of ``cdf`` and ``ppf``:\n",
      "    \n",
      "    >>> vals = uniform.ppf([0.001, 0.5, 0.999])\n",
      "    >>> np.allclose([0.001, 0.5, 0.999], uniform.cdf(vals))\n",
      "    True\n",
      "    \n",
      "    Generate random numbers:\n",
      "    \n",
      "    >>> r = uniform.rvs(size=1000)\n",
      "    \n",
      "    And compare the histogram:\n",
      "    \n",
      "    >>> ax.hist(r, density=True, histtype='stepfilled', alpha=0.2)\n",
      "    >>> ax.legend(loc='best', frameon=False)\n",
      "    >>> plt.show()\n",
      "\n"
     ]
    }
   ],
   "source": [
    "from scipy.stats import uniform\n",
    "\n",
    "help(uniform)"
   ]
  },
  {
   "cell_type": "code",
   "execution_count": 57,
   "id": "cb84378e",
   "metadata": {
    "ExecuteTime": {
     "end_time": "2023-07-01T14:23:26.877792Z",
     "start_time": "2023-07-01T14:23:26.863335Z"
    }
   },
   "outputs": [
    {
     "data": {
      "text/plain": [
       "array([ 2.63512433e+00,  1.36355931e+00,  1.64994674e+00,  3.43941323e+00,\n",
       "        2.38302988e+00,  1.33399319e+00,  1.95925288e+00,  4.46136740e+00,\n",
       "        4.24792336e+00,  1.30925521e+00,  4.14932664e-01,  5.07354530e+00,\n",
       "        1.46054340e+00,  2.48328118e+00,  3.11883052e+00,  1.11538564e+00,\n",
       "        3.49579573e+00,  1.44484124e+00,  2.39449820e+00,  5.69638204e+00,\n",
       "        2.71851959e+00,  3.00690954e+00,  1.46480299e+00,  1.03946939e-01,\n",
       "        4.39417573e+00,  4.24119310e+00,  3.57356853e+00,  3.04849232e+00,\n",
       "        3.35581882e+00,  5.03843463e+00,  4.08454944e+00,  4.11642783e+00,\n",
       "        3.27206950e+00,  1.55915551e+00,  2.29838311e+00, -9.61036155e-01,\n",
       "        2.63756378e+00,  1.72856017e+00,  5.57550322e+00,  3.37046010e+00,\n",
       "        5.42594082e+00,  1.91381264e+00,  4.59105006e+00,  3.67248710e+00,\n",
       "        4.37113929e+00,  2.83421596e+00,  2.98332122e+00,  3.82488309e+00,\n",
       "        3.32561859e+00,  2.51848203e+00,  1.42390038e+00,  4.98495765e+00,\n",
       "        9.51066218e-01,  3.59719801e+00,  3.23971171e+00, -9.36646735e-02,\n",
       "        3.38929627e+00,  3.12103062e+00,  3.21677759e+00,  3.77402875e+00,\n",
       "        1.26534239e+00,  4.02953812e+00,  2.16408111e+00,  2.59994383e+00,\n",
       "        3.03955294e+00,  4.71436133e+00,  2.96529166e+00,  2.00214072e+00,\n",
       "        4.70812237e+00,  1.78711266e+00,  2.48557622e+00,  4.76416308e+00,\n",
       "        3.83455601e+00,  2.28700202e+00,  1.84935881e+00,  3.88256423e+00,\n",
       "        1.45018418e+00,  4.77124220e+00,  3.41841715e+00,  2.15111877e+00,\n",
       "        3.83518677e+00,  5.72784754e+00,  3.94738329e+00,  2.81787456e+00,\n",
       "        3.82701335e+00,  5.46352387e+00,  4.63499101e+00,  3.03624099e+00,\n",
       "        3.20241879e+00,  3.78409106e+00,  3.10447871e+00,  2.32185065e+00,\n",
       "        4.46854483e+00,  3.73799018e+00,  4.48933027e+00,  1.64989373e+00,\n",
       "        2.95437576e+00,  2.61413150e+00,  2.48157052e+00,  2.81027150e+00,\n",
       "        1.96521352e+00,  4.89293136e+00,  2.50395205e+00,  2.62749201e+00,\n",
       "        3.19435245e+00,  4.50009128e+00,  7.80343935e-01,  3.80064861e+00,\n",
       "        2.00658089e+00,  1.70810482e+00,  2.26517209e+00,  2.16219020e+00,\n",
       "        3.61422909e+00,  2.25820834e-01,  1.95439779e+00,  4.45608853e+00,\n",
       "        4.64643529e+00,  2.44899216e+00,  1.75696217e+00,  2.29526382e+00,\n",
       "        3.43764694e+00,  3.92565007e+00,  3.18423419e+00,  3.62222398e+00,\n",
       "        3.69323295e+00,  3.16966276e+00,  3.52024214e+00,  6.12620767e+00,\n",
       "        2.36383487e+00,  1.43227016e+00,  5.45798758e+00,  5.37755913e+00,\n",
       "        5.46213715e+00,  2.56933126e+00,  4.05475112e+00,  3.80469461e+00,\n",
       "        8.29470953e-01,  2.54331611e+00,  2.28411124e+00,  2.52446796e+00,\n",
       "        4.15412641e+00,  2.14688176e+00,  2.80077968e+00,  3.99424715e+00,\n",
       "        1.88378711e+00,  1.83729950e+00,  2.36752273e+00,  3.17681959e+00,\n",
       "        4.09062878e+00,  3.29241532e+00,  3.91183247e-03,  2.88849989e+00,\n",
       "        3.19105390e+00,  2.43450256e+00,  2.97439885e+00,  1.74203228e+00,\n",
       "        1.76452086e+00,  2.03710026e+00,  2.67803671e+00,  2.20484473e+00,\n",
       "        4.20713844e+00,  3.80328017e+00,  4.27971565e+00,  3.19679885e+00,\n",
       "        2.32326618e+00,  2.85981722e+00,  2.96564192e+00,  3.91019359e+00,\n",
       "        2.67520833e+00,  2.85005003e+00,  2.54247403e+00,  3.89189329e+00,\n",
       "        5.87715842e+00,  4.18517617e+00,  2.95151349e+00,  3.84433995e+00,\n",
       "        7.38307500e-01,  3.13689673e+00,  2.85017375e+00,  3.10161727e+00,\n",
       "        4.14253727e+00,  1.93501068e+00,  4.71935827e+00,  4.01923313e+00,\n",
       "        4.09192677e+00,  3.13189278e+00,  2.83178621e+00,  3.00800657e+00,\n",
       "        2.83621951e+00,  3.14851440e+00,  3.57021614e+00,  4.70207762e+00,\n",
       "        2.38900143e+00,  3.31776687e+00,  1.58673974e+00,  3.53101519e+00,\n",
       "        1.06304022e+00,  2.01232949e+00,  2.70996466e+00,  1.15456185e+00,\n",
       "        2.16713126e+00,  4.05556343e+00,  3.61942900e-01,  3.32161135e+00,\n",
       "        4.15130816e+00,  5.49115316e+00,  1.93247853e+00,  3.14089487e+00,\n",
       "        4.74944405e+00,  2.04767007e+00,  3.50968981e+00,  4.52925789e+00,\n",
       "        4.61316943e+00,  3.03378131e+00,  2.92166544e+00,  2.62163607e+00,\n",
       "        3.06850522e+00,  5.29653648e+00,  3.59158623e+00,  7.36722657e-01,\n",
       "        2.76089763e+00,  5.86058831e+00,  3.52112733e+00,  2.58672966e+00,\n",
       "        5.74720710e-01,  4.76573286e+00,  6.35314388e+00,  4.28458313e+00,\n",
       "        3.11705086e+00,  2.27453358e+00,  3.05033527e+00,  2.76443976e+00,\n",
       "        4.17456434e+00,  3.98780061e+00,  3.49078504e+00,  3.63239578e+00,\n",
       "        2.05811059e+00,  5.19175089e+00,  1.96381337e+00,  2.37139724e+00,\n",
       "        4.13709427e+00,  2.69413049e+00,  3.19337187e+00,  2.97611685e+00,\n",
       "        3.87019409e+00,  1.82433774e+00,  3.92380806e+00,  1.53147255e+00,\n",
       "        5.77130634e+00,  2.24932507e+00,  2.94221161e+00,  1.61626506e+00,\n",
       "        2.17570803e+00,  7.39351138e-01,  2.16639241e+00,  2.57566328e+00,\n",
       "        4.64130605e+00,  4.62116982e+00,  3.76562150e+00,  1.14863797e+00,\n",
       "        3.17490627e+00,  3.80275871e+00,  1.71267577e+00,  1.75264097e+00,\n",
       "        3.06475908e+00,  4.70713850e+00,  4.05931736e+00,  1.42111100e+00,\n",
       "        3.62950035e+00,  3.93702400e+00,  2.81174024e+00,  2.31469194e+00,\n",
       "        2.70626167e+00,  4.70276013e+00,  3.01040534e+00,  4.22124179e+00,\n",
       "        2.96700786e+00,  3.96763211e+00,  6.07326623e+00,  8.36832136e-01,\n",
       "        2.56985399e+00,  3.95062840e+00,  1.41086590e+00,  4.02629163e+00,\n",
       "        4.55888435e+00,  1.07970400e+00,  4.66602775e+00,  2.01517544e+00,\n",
       "        5.13472207e+00,  3.24982624e+00,  3.86611492e+00,  1.64769594e+00,\n",
       "        1.79861026e+00,  1.44056519e+00,  2.80121490e+00,  2.85104841e+00,\n",
       "        4.84604656e+00,  2.42284822e+00,  2.64558209e+00,  3.52203751e+00,\n",
       "        4.12744049e+00,  2.73671478e+00,  4.59214978e+00,  2.53587488e+00,\n",
       "        2.18468874e+00,  3.89510217e+00,  4.30330264e-01,  3.79462075e+00,\n",
       "        3.66236685e+00,  3.71169059e+00,  3.25849368e+00,  4.82008414e+00,\n",
       "        3.88173076e+00,  4.12362875e+00,  5.03370511e+00,  3.29372555e+00,\n",
       "        4.71008333e+00,  2.42023007e+00,  4.33433019e+00,  3.53399536e+00,\n",
       "        2.81491722e+00,  4.19574043e+00,  1.86910774e+00,  1.91329246e+00,\n",
       "        2.67482185e+00,  2.94771081e+00,  3.07696914e+00,  4.42822603e+00,\n",
       "        2.68298549e+00,  4.62880308e+00,  3.67615349e+00,  3.01562761e+00,\n",
       "        1.94225581e+00,  9.55780934e-01,  3.27120595e+00,  8.15559008e-01,\n",
       "        5.09951386e+00,  4.46072748e+00,  2.57410389e+00,  1.90477780e+00,\n",
       "        1.58225239e+00,  2.43817875e+00,  2.78764255e+00,  9.05455147e-01,\n",
       "        2.43720160e+00,  2.63166258e+00,  4.30188336e+00,  3.45352289e+00,\n",
       "        2.42104771e+00,  2.43271514e+00,  1.69733415e+00,  4.41149958e+00,\n",
       "        3.08207085e+00,  3.03195824e+00,  2.32313053e+00,  1.78235429e+00,\n",
       "        3.80787945e+00,  4.36813338e+00,  2.30354988e+00,  1.15134988e+00,\n",
       "        3.45564022e+00,  1.32935709e+00,  4.26847983e+00,  1.87300699e+00,\n",
       "        4.20092669e+00,  2.82875526e+00,  4.47957704e+00,  1.62175767e+00,\n",
       "        1.07111435e+00,  3.25167160e+00,  4.62044928e+00,  3.73290282e+00,\n",
       "        2.97072961e+00,  3.58963697e+00,  1.18158540e+00,  3.66782697e+00,\n",
       "        3.14465974e+00,  2.47015318e+00,  1.16524632e+00,  3.90854365e+00,\n",
       "        2.16775922e+00,  1.95643685e+00,  5.58681936e+00,  3.45256529e+00,\n",
       "        1.91799722e+00,  4.30985126e+00,  3.06049251e+00,  4.55889224e+00,\n",
       "        1.23954708e+00,  3.45315995e+00,  2.45857721e+00,  2.94765586e+00,\n",
       "        5.02946488e+00,  3.71284738e+00,  6.84090324e-01,  3.73107470e+00,\n",
       "        1.34161750e+00,  2.35783795e+00,  2.45771162e+00,  3.40692531e+00,\n",
       "        3.19028244e+00,  2.50072919e+00,  2.85648296e+00,  5.17331937e+00,\n",
       "        3.10518521e+00,  8.68034507e-01,  1.55173102e+00,  1.87537895e+00,\n",
       "        5.76068577e+00,  1.89652748e+00,  1.97027590e+00,  3.35082665e+00,\n",
       "        4.97472727e+00,  2.69536579e+00,  2.27662709e+00,  4.80786115e+00,\n",
       "        3.19963300e+00,  3.38786293e+00,  4.19575559e+00,  3.27168479e+00,\n",
       "        4.01411729e+00,  2.56052124e+00,  2.35561238e+00,  3.51515048e+00,\n",
       "        4.29647043e+00,  2.76715572e+00,  2.37954604e+00,  5.23785461e+00,\n",
       "        3.88874950e+00,  3.31889017e+00,  1.39538153e+00,  3.73822449e+00,\n",
       "        1.63351728e+00,  4.19676612e+00,  5.01500161e+00,  4.68005102e+00,\n",
       "        4.76648824e+00,  2.17275432e+00,  4.25031725e+00,  2.65405258e+00,\n",
       "        4.51971791e+00,  3.42793791e+00,  2.81668581e+00,  2.75307107e+00,\n",
       "        3.69255347e+00,  2.44653463e+00,  1.15606738e+00,  4.46685520e+00,\n",
       "        2.70728101e+00,  4.91273453e+00,  4.39432119e+00,  3.53531066e+00,\n",
       "        5.02270090e+00,  2.55623291e+00,  4.18957794e+00,  3.29221429e+00,\n",
       "        8.44105192e-01,  2.61658741e+00,  2.10858953e+00,  2.36562002e+00,\n",
       "        2.01227506e+00,  7.01684970e-01,  3.62592416e+00,  2.33786176e+00,\n",
       "        2.95591162e+00,  3.93535463e+00,  2.94953837e+00,  4.04924050e+00,\n",
       "        3.71842322e+00,  2.65378153e+00,  3.44640424e+00,  4.06496508e+00,\n",
       "        2.84563329e+00,  3.88626158e+00,  4.17068330e+00,  2.58330915e+00,\n",
       "        3.96560766e+00,  2.61394953e+00,  4.08670382e+00,  1.82240781e+00,\n",
       "        3.42773734e+00,  3.38617840e+00,  3.84459862e+00,  3.19011474e+00,\n",
       "        2.87687114e+00,  1.69412388e+00,  2.81642729e+00,  2.34814040e+00,\n",
       "        4.29914853e+00,  3.84503320e+00,  7.69334452e-01,  5.37822212e+00,\n",
       "        3.97271922e+00,  2.79001110e+00,  3.87658675e+00,  1.87725336e+00,\n",
       "        2.06042157e+00,  1.35279305e+00,  3.03447572e+00,  4.36029483e+00,\n",
       "        3.73342470e+00,  3.26630894e+00,  3.31630807e+00,  5.50114230e+00,\n",
       "        4.65991794e+00,  2.10673774e+00,  1.53619767e+00,  3.14264814e+00,\n",
       "        2.72164801e+00,  4.35836397e+00,  2.27588370e+00,  4.61387405e+00,\n",
       "        3.55462457e+00,  2.14313621e+00,  1.66624973e+00,  3.31017052e+00,\n",
       "        2.46635050e+00,  4.21082673e+00,  2.91072982e+00, -5.20555532e-01,\n",
       "        3.13650056e+00,  1.07958768e+00,  2.07068678e+00,  1.44699713e+00,\n",
       "        2.88346454e+00,  1.08859915e+00,  1.56437383e+00,  4.72024482e+00,\n",
       "        3.25343801e+00,  2.65847907e+00,  2.24357529e+00,  1.91252143e+00,\n",
       "        5.40733891e+00,  2.61547840e+00,  6.91890371e-01,  1.91426340e+00,\n",
       "        4.45646188e+00,  4.81432473e+00,  8.45385677e-01,  2.04815731e+00,\n",
       "        1.44716037e+00,  1.00960379e+00,  3.80273772e+00,  3.36765517e+00,\n",
       "        2.79978726e+00,  2.59474690e+00,  3.75476489e+00,  3.67290191e+00,\n",
       "        3.38286735e+00,  3.48263946e+00,  5.99482884e+00,  1.39032149e+00,\n",
       "        1.75151369e+00,  4.12237930e+00,  4.29980111e+00,  6.73276649e+00,\n",
       "        2.18915016e+00,  4.05428339e+00,  2.87986049e+00,  4.01176727e+00,\n",
       "        5.14232788e-01,  3.02671082e+00,  2.94443982e+00,  1.88740773e+00,\n",
       "        3.51084264e+00,  1.88605353e+00,  3.18358413e+00,  2.61992323e+00,\n",
       "        2.45814379e+00,  3.41479574e+00,  3.63238462e+00,  2.46306991e+00,\n",
       "        2.07288789e+00,  2.91700380e+00,  3.63421611e+00,  3.90649648e+00,\n",
       "        2.46646906e+00,  1.78136506e+00,  2.66684308e+00,  3.18436899e+00,\n",
       "        4.79582571e-01,  2.95153225e+00,  1.71838393e+00,  2.69882448e+00,\n",
       "        2.63728828e+00,  2.30526204e+00,  2.56318045e+00,  4.55939161e+00,\n",
       "        2.73355450e+00,  6.88344113e+00,  2.41330591e+00,  1.62424290e+00,\n",
       "        4.37474291e+00,  1.86596606e+00,  2.48901455e+00,  3.63420419e-01,\n",
       "        2.83053168e+00,  5.75494702e+00,  3.73221435e+00,  2.91575300e+00,\n",
       "        2.33668797e+00,  1.34685788e+00,  5.65531021e+00,  5.55738787e-01,\n",
       "        4.15629848e+00,  3.04430613e+00,  3.48436876e+00,  5.17268349e+00,\n",
       "        1.67336994e+00,  3.72998134e+00,  1.42138761e+00,  5.89567115e+00,\n",
       "        2.93845576e+00,  1.45981056e+00,  2.79307720e+00,  3.57929295e+00,\n",
       "        5.27933983e+00,  2.69913275e+00,  2.22432893e+00,  4.41560207e+00,\n",
       "        3.13695192e+00,  3.05488341e+00,  3.41707930e+00,  6.27488768e-01,\n",
       "        2.92236691e+00,  2.32977661e+00,  2.25242910e+00,  3.39298856e+00,\n",
       "       -9.23921162e-02,  1.75070693e+00,  3.10760285e+00,  3.68744769e+00,\n",
       "        2.93710013e+00,  1.43711703e+00,  2.59363918e+00,  4.29955020e+00,\n",
       "        4.44899441e+00,  2.43643416e+00,  1.54507106e+00,  5.24996766e+00,\n",
       "        6.23781507e+00,  3.73505642e+00,  3.01636985e+00,  1.58284668e+00,\n",
       "        3.34473328e+00,  3.13049318e+00,  2.07774783e+00,  2.09733666e+00,\n",
       "        2.20069003e+00,  4.57432232e+00,  3.64956618e+00,  4.61510039e+00,\n",
       "        2.87945511e+00,  3.42170767e+00,  2.82475803e+00,  1.47782258e+00,\n",
       "        3.66129651e+00,  2.23492939e+00,  3.57600569e+00,  1.09509349e+00,\n",
       "        4.09746110e+00,  3.73495268e+00,  1.98190945e+00,  3.28189506e+00,\n",
       "        3.13319614e+00,  5.53080215e+00,  2.70444605e+00,  3.30214817e+00,\n",
       "        1.55012482e+00,  3.45429372e+00,  4.41592169e+00,  4.39862213e+00,\n",
       "        3.27561359e+00,  3.36181889e+00,  3.50103505e+00,  3.50482027e+00,\n",
       "        3.36484149e+00,  8.10099965e-01,  4.06510853e+00,  3.22784739e+00,\n",
       "        2.78195667e+00,  1.38265836e+00,  4.14120736e+00,  5.55816148e+00,\n",
       "        4.62385362e+00,  2.40699814e+00,  9.66211122e-01,  1.40750672e+00,\n",
       "        3.11421699e+00,  3.72530061e+00,  4.30768505e+00,  3.37202872e+00,\n",
       "        2.15363824e+00,  3.17405508e+00,  2.33366470e+00,  3.63930874e+00,\n",
       "        4.30880862e+00,  2.57812243e+00,  3.46195893e+00,  2.94501714e+00,\n",
       "        2.73130684e+00,  2.37187170e+00,  3.91036262e+00,  4.44686186e+00,\n",
       "        3.73016601e+00,  3.55231350e+00,  3.29574320e+00,  1.93257437e+00,\n",
       "        4.89935686e+00,  3.03283704e+00,  2.93135639e+00,  4.09553240e+00,\n",
       "        3.09472763e+00,  3.04082670e+00,  1.80872353e+00,  2.09645219e+00,\n",
       "        2.89275011e+00,  4.68783299e+00,  1.75227495e+00,  1.73791656e+00,\n",
       "        2.03600725e+00,  3.97239632e+00,  2.77658405e+00,  2.03957488e+00,\n",
       "        3.94405537e+00,  1.92758725e+00,  3.23753644e+00,  1.50770531e+00,\n",
       "        4.87435167e+00,  4.54275090e+00,  3.14161244e+00,  5.08887590e+00,\n",
       "        2.34604809e+00,  1.72684441e+00,  4.99446758e+00,  1.91684180e+00,\n",
       "        3.00507016e+00,  6.02604342e+00,  2.24117489e+00,  3.06679264e+00,\n",
       "        4.33261680e+00,  3.87617755e+00,  1.57826874e+00,  4.25553895e+00,\n",
       "        2.74818781e+00,  4.07695297e+00,  1.27109361e+00,  5.65733031e+00,\n",
       "        2.71841040e+00,  3.76063400e+00,  1.96083129e+00,  9.94681722e-01,\n",
       "        2.58242052e+00,  4.16904412e+00,  4.25686520e+00,  2.30839940e+00,\n",
       "        5.08201235e+00,  1.78365095e+00,  2.72736036e+00,  3.65736208e+00,\n",
       "        1.75422366e+00, -6.14738968e-01,  4.11251941e+00,  3.28194499e+00,\n",
       "        3.22504097e+00,  1.84956484e+00,  3.13902704e+00,  2.37759179e+00,\n",
       "        2.09846122e+00,  4.41874833e+00,  1.98349253e+00,  3.03384596e+00,\n",
       "        3.19372451e+00,  2.17927466e+00,  2.59645074e+00,  3.79074217e+00,\n",
       "        4.59772050e+00,  3.03381441e+00,  3.69803248e+00,  2.39544876e+00,\n",
       "        2.47518601e+00,  2.02691733e+00,  3.56833472e+00,  2.15589597e+00,\n",
       "        2.49266604e+00,  2.73575168e+00,  1.36837081e+00,  2.12163429e+00,\n",
       "        3.40086379e+00,  2.36398671e+00,  5.47532526e+00,  4.28300089e+00,\n",
       "        4.39882953e+00,  1.60227992e+00,  2.26429909e+00,  2.59023488e+00,\n",
       "        2.97941473e+00,  5.22532671e+00,  1.06430447e+00,  2.95028855e+00,\n",
       "        2.38167887e+00,  3.12801413e+00,  3.17537745e+00,  2.41601288e+00,\n",
       "        3.02064726e+00,  3.08942633e+00,  1.77275905e+00,  5.73205968e+00,\n",
       "        2.92457151e+00,  5.28704343e+00,  4.00255860e+00,  3.08969212e+00,\n",
       "        2.59027271e+00,  3.41940439e+00,  6.77336653e-01,  1.20579888e+00,\n",
       "        2.09500473e+00,  1.34677323e+00,  3.05019234e+00,  3.17409004e+00,\n",
       "        5.33110617e+00,  3.53041078e+00,  3.28784349e+00,  3.25662907e+00,\n",
       "        3.40370418e+00,  2.63372830e+00,  2.86894360e+00,  2.06746990e+00,\n",
       "        9.44114711e-01,  2.57131560e+00,  3.42943562e+00,  4.42178918e+00,\n",
       "        2.68972490e+00,  1.90479250e+00,  3.10680749e+00,  2.09449650e+00,\n",
       "        1.42709150e+00,  1.74071781e+00,  3.37174840e+00,  3.36707924e+00,\n",
       "        3.81062852e+00,  3.41545753e+00,  4.58466183e+00,  5.02401572e+00,\n",
       "        3.90542053e+00,  2.32540599e+00,  3.54590810e+00,  2.69939844e+00,\n",
       "        3.40858857e+00,  3.04726047e+00,  2.99907726e+00,  3.45637672e+00,\n",
       "        5.43513965e+00,  3.89081908e+00,  3.34277230e+00,  3.18558623e+00,\n",
       "        4.78826055e+00,  2.07948270e+00,  3.93662229e+00,  6.33049849e+00,\n",
       "        3.66708624e+00,  2.36146388e+00,  1.89720254e+00,  2.78213462e+00,\n",
       "        4.46491556e+00,  4.14936546e+00,  2.86022878e+00,  4.22103463e+00,\n",
       "        4.43384586e+00,  3.22159540e+00,  2.46422431e+00,  5.86945240e+00,\n",
       "        1.36972913e+00,  3.35001955e+00,  2.73084365e+00,  3.83978806e+00,\n",
       "        3.64967283e+00,  2.20536679e+00,  2.20823439e+00,  3.05500070e+00,\n",
       "        4.42847144e+00,  2.40742791e+00,  2.73830809e+00,  3.66825170e+00,\n",
       "        4.93030762e+00,  3.42146709e+00,  6.14831851e-01,  1.34050117e+00,\n",
       "        1.86659767e+00,  1.68348996e+00,  4.83671664e+00,  3.32913807e+00,\n",
       "        4.29628550e+00,  2.77488090e+00,  2.88696805e+00,  2.42898102e+00,\n",
       "        2.97478233e+00,  2.75120067e+00,  3.70499344e+00,  2.80728780e+00,\n",
       "        3.28877266e+00,  3.50493836e+00,  3.11095542e+00,  5.68860775e+00,\n",
       "        2.44400108e+00,  2.50985449e+00,  1.80600023e+00,  3.33277501e+00,\n",
       "        4.15469500e+00,  3.24201990e+00,  5.92013760e+00,  2.58818465e+00,\n",
       "        1.48942737e+00,  2.79524700e+00,  1.17671321e+00,  3.70785394e+00,\n",
       "        1.38457757e+00,  2.73946782e+00,  2.14353287e+00,  2.84864510e+00,\n",
       "        1.91105021e+00,  2.08442157e+00,  3.27002039e+00,  3.84553743e+00,\n",
       "        1.42957698e+00,  4.61848498e+00,  2.73725317e+00,  3.01087607e+00,\n",
       "        3.35335992e+00,  2.56140559e+00,  4.79570155e+00,  2.84401724e+00,\n",
       "        1.55607435e+00,  5.33276670e+00,  5.52897564e+00,  2.10940826e+00,\n",
       "        4.03012530e+00,  5.56316068e+00,  3.45003486e+00,  3.57389801e+00,\n",
       "        4.53089408e+00,  4.76366462e+00,  3.96492005e+00,  1.43911772e+00,\n",
       "        1.71129582e+00,  2.79586979e+00,  4.84676461e+00,  1.63013576e+00,\n",
       "        2.90969605e+00,  4.39554385e+00,  2.11865609e+00,  2.49959819e+00,\n",
       "        1.16467367e+00,  2.23978439e+00,  1.97795066e+00,  2.96895072e+00,\n",
       "        1.79913817e+00,  4.48330117e+00,  1.80225586e+00,  2.55594851e+00,\n",
       "        2.20559733e+00,  2.55816110e+00,  6.54426432e+00,  2.10794963e+00,\n",
       "        3.81743156e+00,  1.75625574e+00,  4.60443519e+00,  3.34847961e+00,\n",
       "        3.46448689e+00,  3.83999005e+00,  4.74878167e+00,  5.13329405e+00,\n",
       "        4.84812224e+00,  1.85793265e+00,  4.22993078e+00,  2.95652236e+00,\n",
       "        4.77778527e+00,  5.64965822e-01,  3.40471361e+00,  1.47341311e+00,\n",
       "        3.85479592e+00,  2.37795603e+00,  1.78392081e+00,  7.77065359e-01,\n",
       "        2.26042180e+00,  3.41130034e+00,  3.67415179e+00,  2.88314863e+00,\n",
       "        2.64577158e+00,  3.75889394e+00,  6.38609979e+00,  3.62313331e+00,\n",
       "        1.86431082e+00,  1.48525527e+00,  2.81488624e+00,  3.98107811e+00,\n",
       "        2.13657973e+00,  2.04839085e+00,  1.89471780e+00,  1.87399165e+00])"
      ]
     },
     "execution_count": 57,
     "metadata": {},
     "output_type": "execute_result"
    }
   ],
   "source": [
    "import numpy as np\n",
    "from scipy.stats import norm\n",
    "\n",
    "# Dados originais\n",
    "dados_originais = [1.2, 2.5, 3.1, 4.0, 4.8]\n",
    "\n",
    "# Ajuste de distribuição normal aos dados\n",
    "media, desvio_padrao = norm.fit(dados_originais)\n",
    "\n",
    "# Gerar 1000 dados sintéticos seguindo a distribuição normal ajustada\n",
    "dados_sinteticos = np.random.normal(media, desvio_padrao, 1000)\n",
    "dados_sinteticos"
   ]
  },
  {
   "cell_type": "markdown",
   "id": "e2c6f5e2",
   "metadata": {},
   "source": [
    "A criação de dados sintéticos é útil para diversas aplicações, como aumentar o tamanho do conjunto de dados para treinamento de modelos de aprendizado de máquina, realizar simulações para análise de risco e validar algoritmos em dados gerados de forma controlada. No entanto, é importante lembrar que os dados sintéticos devem sempre refletir as características importantes da distribuição original para que as conclusões e análises sejam válidas."
   ]
  },
  {
   "cell_type": "markdown",
   "id": "b0b3a39e",
   "metadata": {},
   "source": [
    "# Week 2 - Describing Probability Distribution with Multiples Variables"
   ]
  },
  {
   "cell_type": "markdown",
   "id": "32732101",
   "metadata": {},
   "source": [
    "## Lesson 1 - Describing Distributions"
   ]
  },
  {
   "cell_type": "markdown",
   "id": "f9d3ecb6",
   "metadata": {},
   "source": [
    "## Measures of Central Tendency"
   ]
  },
  {
   "cell_type": "markdown",
   "id": "971ef681",
   "metadata": {},
   "source": [
    "## Expected Value"
   ]
  },
  {
   "cell_type": "markdown",
   "id": "f02c6536",
   "metadata": {},
   "source": [
    "## Expected Value of a Funciton"
   ]
  },
  {
   "cell_type": "markdown",
   "id": "9ce4cd0d",
   "metadata": {},
   "source": [
    "## Sum of Expectations"
   ]
  },
  {
   "cell_type": "markdown",
   "id": "ba1e2130",
   "metadata": {},
   "source": [
    "## Variance"
   ]
  },
  {
   "cell_type": "markdown",
   "id": "ffa41364",
   "metadata": {},
   "source": [
    "## Standard Deviation"
   ]
  },
  {
   "cell_type": "markdown",
   "id": "5f4b37a0",
   "metadata": {},
   "source": [
    "## Sum of Gaussians"
   ]
  },
  {
   "cell_type": "markdown",
   "id": "7313f6bc",
   "metadata": {},
   "source": [
    "## Standarizing a distribution"
   ]
  },
  {
   "cell_type": "markdown",
   "id": "05a8835f",
   "metadata": {},
   "source": [
    "## Skewness and Kurtosis: Moments of a Distribution"
   ]
  },
  {
   "cell_type": "markdown",
   "id": "ad5a67ce",
   "metadata": {},
   "source": [
    "## Skewness and Kurtosis - Skewness"
   ]
  },
  {
   "cell_type": "markdown",
   "id": "dd4b19ae",
   "metadata": {},
   "source": [
    "## Skewness and Kurtosis - Kurtosis"
   ]
  },
  {
   "cell_type": "markdown",
   "id": "58046966",
   "metadata": {},
   "source": [
    "## Quantiles and Box-plots"
   ]
  },
  {
   "cell_type": "markdown",
   "id": "cb0bb35c",
   "metadata": {},
   "source": [
    "## Visualizing data: Kernel density estimation"
   ]
  },
  {
   "cell_type": "markdown",
   "id": "bca60ad5",
   "metadata": {},
   "source": [
    "## Visualizing data: Violin plots"
   ]
  },
  {
   "cell_type": "markdown",
   "id": "8418e515",
   "metadata": {},
   "source": [
    "## Visualizing data: QQ Plots"
   ]
  },
  {
   "cell_type": "markdown",
   "id": "cd83ee86",
   "metadata": {},
   "source": [
    "## Lesson 2 - Probability Distribution with Multiples Variables"
   ]
  },
  {
   "cell_type": "markdown",
   "id": "799c5dcd",
   "metadata": {},
   "source": [
    "## Joint Distributions (Discrete)"
   ]
  },
  {
   "cell_type": "markdown",
   "id": "fb948754",
   "metadata": {},
   "source": [
    "## Joint Distributions (Continuous)"
   ]
  },
  {
   "cell_type": "markdown",
   "id": "90c53f73",
   "metadata": {},
   "source": [
    "## Marginal and Conditional Distribution"
   ]
  },
  {
   "cell_type": "markdown",
   "id": "cf17c12b",
   "metadata": {},
   "source": [
    "## Conditional Distribution"
   ]
  },
  {
   "cell_type": "markdown",
   "id": "b3c83a4b",
   "metadata": {},
   "source": [
    "## Covariance of a Dataset"
   ]
  },
  {
   "cell_type": "markdown",
   "id": "8837e074",
   "metadata": {},
   "source": [
    "## Covariance of a Probability Distribution"
   ]
  },
  {
   "cell_type": "markdown",
   "id": "03db4287",
   "metadata": {},
   "source": [
    "## Covariance Matrix"
   ]
  },
  {
   "cell_type": "markdown",
   "id": "9b11aac0",
   "metadata": {},
   "source": [
    "## Correlation Coefficient"
   ]
  },
  {
   "cell_type": "markdown",
   "id": "8eec13e1",
   "metadata": {},
   "source": [
    "## Multivariate Gaussian Distribution"
   ]
  },
  {
   "cell_type": "markdown",
   "id": "2be7608b",
   "metadata": {},
   "source": [
    "# Week 3 - Sampling and Point Estimation "
   ]
  },
  {
   "cell_type": "markdown",
   "id": "69470928",
   "metadata": {},
   "source": [
    "## subtitle"
   ]
  },
  {
   "cell_type": "markdown",
   "id": "980da49c",
   "metadata": {},
   "source": [
    "## subtitle"
   ]
  },
  {
   "cell_type": "markdown",
   "id": "41c74502",
   "metadata": {},
   "source": [
    "## subtitle"
   ]
  },
  {
   "cell_type": "markdown",
   "id": "0dd43402",
   "metadata": {},
   "source": [
    "## subtitle"
   ]
  },
  {
   "cell_type": "markdown",
   "id": "24cb2ea0",
   "metadata": {},
   "source": [
    "## subtitle"
   ]
  },
  {
   "cell_type": "markdown",
   "id": "0a602fef",
   "metadata": {},
   "source": [
    "# Week 4 - Confidence Interval and Hypothesis Testing"
   ]
  },
  {
   "cell_type": "markdown",
   "id": "95afc428",
   "metadata": {},
   "source": [
    "# Latex Symbols\n",
    "\n",
    "https://towardsdatascience.com/write-markdown-latex-in-the-jupyter-notebook-10985edb91fd"
   ]
  }
 ],
 "metadata": {
  "kernelspec": {
   "display_name": "Python 3 (ipykernel)",
   "language": "python",
   "name": "python3"
  },
  "language_info": {
   "codemirror_mode": {
    "name": "ipython",
    "version": 3
   },
   "file_extension": ".py",
   "mimetype": "text/x-python",
   "name": "python",
   "nbconvert_exporter": "python",
   "pygments_lexer": "ipython3",
   "version": "3.10.6"
  },
  "toc": {
   "base_numbering": 1,
   "nav_menu": {},
   "number_sections": true,
   "sideBar": true,
   "skip_h1_title": false,
   "title_cell": "Table of Contents",
   "title_sidebar": "Contents",
   "toc_cell": false,
   "toc_position": {
    "height": "calc(100% - 180px)",
    "left": "10px",
    "top": "150px",
    "width": "341.465px"
   },
   "toc_section_display": true,
   "toc_window_display": true
  },
  "varInspector": {
   "cols": {
    "lenName": 16,
    "lenType": 16,
    "lenVar": 40
   },
   "kernels_config": {
    "python": {
     "delete_cmd_postfix": "",
     "delete_cmd_prefix": "del ",
     "library": "var_list.py",
     "varRefreshCmd": "print(var_dic_list())"
    },
    "r": {
     "delete_cmd_postfix": ") ",
     "delete_cmd_prefix": "rm(",
     "library": "var_list.r",
     "varRefreshCmd": "cat(var_dic_list()) "
    }
   },
   "types_to_exclude": [
    "module",
    "function",
    "builtin_function_or_method",
    "instance",
    "_Feature"
   ],
   "window_display": false
  }
 },
 "nbformat": 4,
 "nbformat_minor": 5
}
