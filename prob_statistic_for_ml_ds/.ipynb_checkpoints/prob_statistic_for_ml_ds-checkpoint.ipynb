{
 "cells": [
  {
   "cell_type": "markdown",
   "id": "2c53d313",
   "metadata": {},
   "source": [
    "# Probability & Statistics for Machine Learning & Data Science"
   ]
  },
  {
   "cell_type": "markdown",
   "id": "29d53538",
   "metadata": {},
   "source": [
    "# Week 1 - Introduction to Probability and Probability Distributions"
   ]
  },
  {
   "cell_type": "markdown",
   "id": "43d84a7d",
   "metadata": {},
   "source": [
    "## Lesson 1 - Introdution to Probability"
   ]
  },
  {
   "cell_type": "markdown",
   "id": "8ace2900",
   "metadata": {},
   "source": [
    "## What is probability ?"
   ]
  },
  {
   "cell_type": "markdown",
   "id": "5b507333",
   "metadata": {},
   "source": [
    "A probabilidade é uma medida numérica que quantifica a chance de um evento ocorrer. Ela descreve a **incerteza** associada a um determinado fenômeno e permite que possamos fazer previsões e tomar decisões com base nessa incerteza. A probabilidade é amplamente utilizada em diversas áreas, incluindo ciência de dados, estatística, matemática, engenharia, economia e muito mais.\n",
    "\n",
    "Existem diferentes abordagens para definir a probabilidade, sendo duas das mais comuns a abordagem clássica e a abordagem frequentista.\n",
    "\n",
    "1. Abordagem Clássica: Nesta abordagem, a probabilidade é calculada com base na razão entre o número de eventos favoráveis e o número total de eventos possíveis. Por exemplo, ao lançar um dado justo de seis faces, a probabilidade de obter um número específico, como o número 3, é de 1/6, pois há apenas uma face com esse número e seis faces ao todo.\n",
    "\n",
    "2. Abordagem Frequentista: Nesta abordagem, a probabilidade é calculada com base na frequência relativa de um evento em um grande número de repetições de um experimento. Por exemplo, se lançarmos uma moeda várias vezes, a probabilidade de obter cara é a proporção de vezes em que obtivemos cara em relação ao número total de lançamentos.\n",
    "\n",
    "Além disso, a probabilidade pode ser expressa em uma escala de 0 a 1, em que 0 indica impossibilidade absoluta e 1 indica certeza absoluta.\n",
    "\n",
    "Digamos que, de uma turma de 10 crianças numa escola, você precise escolher algumas para formar um time. Dessas 10, 3 sabem jogar futebol. Qual a probabilidade de a criança escolhida saber jogar futebol ?\n",
    "\n",
    "<center>$$ P(soccer) = \\frac{\\text{evento}}{\\text{espaço amostral}} = \\frac{3}{10} = 0.3 $$</center>\n",
    "\n",
    "As 3 crianças que sabem jogar fazem parte da amostra do evento de interesse, e fazem parte da população, a turma de 10 alunos.\n",
    "\n",
    "Vejamos alguns outros exemplos de aplicação da probabilidade:\n",
    "\n",
    "1. Lançamento de uma moeda: A probabilidade de obter cara ou coroa em um único lançamento de uma moeda justa é de 1/2 ou 0,5.\n",
    "\n",
    "2. Evento climático: A probabilidade de chover em um determinado dia pode ser expressa como 0,3, o que indica que há uma chance de 30% de ocorrer chuva nesse dia.\n",
    "\n",
    "3. Teste médico: Suponha que um teste médico para detectar uma doença tenha uma sensibilidade de 95% e uma especificidade de 90%. Isso significa que a probabilidade de um resultado positivo ser verdadeiro (indicando a presença da doença) é de 95%, enquanto a probabilidade de um resultado negativo ser verdadeiro (indicando a ausência da doença) é de 90%.\n",
    "\n",
    "Esses são apenas alguns exemplos simples para ilustrar o conceito de probabilidade. À medida que os cenários se tornam mais complexos, técnicas estatísticas mais avançadas, como a teoria das probabilidades, a teoria das distribuições e o cálculo probabilístico, podem ser aplicadas para calcular e interpretar a probabilidade com mais precisão."
   ]
  },
  {
   "cell_type": "markdown",
   "id": "da4d6f5a",
   "metadata": {},
   "source": [
    "O **complemento de um evento** em probabilidade é o evento que consiste em todos os resultados que não pertencem ao evento original. Em outras palavras, é o conjunto de todos os resultados possíveis que não satisfazem a condição do evento original. O complemento de um evento A é denotado por A' ou complemento de A. A probabilidade do complemento de um evento A é calculada subtraindo-se a probabilidade de A do valor 1 (probabilidade total).\n",
    "\n",
    "A fórmula para calcular o complemento de um evento A é:\n",
    "P(A') = 1 - P(A)\n",
    "\n",
    "Aqui estão alguns exemplos para ilustrar o conceito de complemento de probabilidade:\n",
    "\n",
    "1. Lançamento de um dado: Considere o evento A de obter um número par em um lançamento justo de um dado de seis faces. Os números pares possíveis são 2, 4 e 6. Portanto, a probabilidade de A é 3/6 = 1/2 (ou 0,5). O complemento de A (evento A') é obter um número ímpar. Os números ímpares possíveis são 1, 3 e 5. Assim, a probabilidade de A' é 3/6 = 1/2 (ou 0,5). Note que a probabilidade de A e A' somam 1, pois são eventos complementares.\n",
    "\n",
    "2. Lançamento de uma moeda: Suponha o evento A de obter cara em um lançamento justo de uma moeda. A probabilidade de A é 1/2 (ou 0,5). O complemento de A (evento A') é obter coroa. A probabilidade de A' também é 1/2 (ou 0,5), pois a moeda tem apenas dois lados possíveis.\n",
    "\n",
    "3. Evento climático: Considere o evento A de chover em um determinado dia. A probabilidade de A pode ser 0,3 (ou 30%). O complemento de A (evento A') é não chover, e a probabilidade de A' seria 1 - 0,3 = 0,7 (ou 70%).\n",
    "\n",
    "Ao trabalhar com probabilidade, o complemento é uma ferramenta útil para calcular a probabilidade de um evento ocorrer quando não temos diretamente sua probabilidade disponível. É importante lembrar que a probabilidade de um evento e seu complemento sempre somam 1, já que um dos dois eventos deve ocorrer necessariamente."
   ]
  },
  {
   "cell_type": "markdown",
   "id": "b4b4313f",
   "metadata": {},
   "source": [
    "## Sum of Probabilities (Disjoint Events)"
   ]
  },
  {
   "cell_type": "markdown",
   "id": "6b5c17d0",
   "metadata": {},
   "source": [
    "A **soma das probabilidades de eventos disjuntos** é um conceito fundamental em probabilidade. Quando temos eventos disjuntos, significa que eles **não podem ocorrer simultaneamente**, ou seja, se um evento acontece, o outro não pode ocorrer ao mesmo tempo. Nesse caso, a probabilidade da união desses eventos é igual à soma das probabilidades individuais de cada evento.\n",
    "\n",
    "Formalmente, se tivermos eventos disjuntos A e B, a probabilidade da união de A e B é dada por:\n",
    "$$ P(A ∪ B) = P(A) + P(B) $$\n",
    "\n",
    "Essa fórmula se estende para mais de dois eventos disjuntos. Se tivermos eventos disjuntos $A1, A2, ..., An$, a probabilidade da união de todos esses eventos é dada por:\n",
    "$$ P(A1 ∪ A2 ∪ ... ∪ An) = P(A1) + P(A2) + ... + P(An) $$\n",
    "\n",
    "Aqui estão alguns exemplos para ilustrar o conceito de soma de probabilidades para eventos disjuntos:\n",
    "\n",
    "1. Lançamento de um dado: Considere o evento A de obter um número par em um lançamento justo de um dado de seis faces, e o evento B de obter um número ímpar. Esses eventos são disjuntos, pois não é possível obter um número que seja simultaneamente par e ímpar. A probabilidade de A é 3/6 = 1/2 (ou 0,5), e a probabilidade de B também é 3/6 = 1/2 (ou 0,5). A probabilidade da união de A e B (obter um número par ou ímpar) é $P(A ∪ B) = P(A) + P(B) = 1/2 + 1/2 = 1$.\n",
    "\n",
    "2. Eventos climáticos: Suponha que temos três eventos disjuntos: A de chover, B de nevar e C de fazer sol em um determinado dia. Se a probabilidade de A (chover) for 0,3, a probabilidade de B (nevar) for 0,2 e a probabilidade de C (fazer sol) for 0,5, então a probabilidade da união desses eventos (ocorrer chuva, neve ou sol) é $ P(A ∪ B ∪ C) = P(A) + P(B) + P(C) = 0,3 + 0,2 + 0,5 = 1$.\n",
    "\n",
    "A soma das probabilidades para eventos disjuntos é uma propriedade fundamental que nos permite calcular a probabilidade de ocorrência de pelo menos um desses eventos. É importante ressaltar que essa propriedade se aplica somente a eventos disjuntos, ou seja, eventos que não podem ocorrer simultaneamente. Caso os eventos não sejam disjuntos, é necessário levar em consideração as interseções entre eles para calcular as probabilidades corretamente."
   ]
  },
  {
   "cell_type": "markdown",
   "id": "1fd6bf41",
   "metadata": {},
   "source": [
    "A soma de probabilidades em eventos disjuntos é uma técnica importante em data science e machine learning para calcular a probabilidade de ocorrência de eventos que são mutuamente exclusivos. Essa técnica é útil em várias áreas, incluindo classificação de dados, análise de risco e detecção de anomalias.\n",
    "\n",
    "Aqui estão alguns exemplos de como a soma de probabilidades em eventos disjuntos é aplicada em data science e machine learning:\n",
    "\n",
    "1. Classificação binária: Considere um problema de classificação binária em que temos dois eventos disjuntos, como \"classe 0\" e \"classe 1\". Ao construir um modelo de machine learning para classificar dados em uma dessas duas classes, a soma das probabilidades previstas para cada classe deve ser igual a 1. Isso ocorre porque a probabilidade total de todas as possíveis classes deve ser de 1. Portanto, ao fazer uma previsão, o modelo atribuirá uma probabilidade para cada classe e, em seguida, a soma dessas probabilidades será normalizada para 1.\n",
    "\n",
    "2. Análise de risco: Na análise de risco, é comum ter eventos disjuntos que representam diferentes cenários de risco. Por exemplo, em um modelo de crédito, podemos ter eventos disjuntos como \"inadimplência\" e \"pagamento em dia\". A probabilidade de ocorrência desses eventos disjuntos pode ser calculada separadamente e, em seguida, utilizada para estimar o risco total associado a um indivíduo ou uma transação.\n",
    "\n",
    "3. Detecção de anomalias: A detecção de anomalias é um campo em que identificamos eventos que são significativamente diferentes do comportamento normal. Podemos ter eventos disjuntos que representam \"comportamento normal\" e \"anomalias\". A soma das probabilidades desses eventos disjuntos pode ser utilizada para determinar a probabilidade total de um ponto de dados ser uma anomalia, permitindo a classificação eficiente de pontos de dados não usuais.\n",
    "\n",
    "Em resumo, a soma de probabilidades em eventos disjuntos desempenha um papel fundamental em data science e machine learning ao permitir o cálculo da probabilidade total de eventos exclusivos. Isso é essencial para a construção de modelos, a tomada de decisões baseada em risco e a detecção de padrões incomuns nos dados."
   ]
  },
  {
   "cell_type": "markdown",
   "id": "8c2b801e",
   "metadata": {},
   "source": [
    "## Sum of Probabilities (Joint Events)"
   ]
  },
  {
   "cell_type": "markdown",
   "id": "ab9a53af",
   "metadata": {},
   "source": [
    "A soma de probabilidades em **eventos conjuntos** refere-se à probabilidade da ocorrência de **dois eventos simultaneamente**. Quando temos eventos conjuntos, a probabilidade da união desses eventos é calculada considerando a probabilidade de cada evento individual, levando em conta a **possível interseção** entre eles.\n",
    "\n",
    "Para dois eventos A e B, a probabilidade da união desses eventos é dada por:\n",
    "$$ P(A ∪ B) = P(A) + P(B) - P(A ∩ B) $$\n",
    "\n",
    "Essa fórmula leva em consideração que a probabilidade da interseção entre A e B é contada duas vezes (uma vez em P(A) e outra vez em P(B)). Portanto, subtraímos a probabilidade da interseção para evitar duplicação.\n",
    "\n",
    "Aqui estão alguns exemplos para ilustrar o conceito de soma de probabilidades em eventos conjuntos:\n",
    "\n",
    "1. Lançamento de um dado: Considere o evento A de obter um número par e o evento B de obter um número maior que 4 em um lançamento justo de um dado de seis faces. A probabilidade de A é 3/6 = 1/2 (ou 0,5), a probabilidade de B é 2/6 = 1/3 (ou aproximadamente 0,3333). A interseção entre A e B ocorre quando obtemos um número par maior que 4, ou seja, apenas o número 6. Portanto, a probabilidade de A ∩ B é 1/6 (ou aproximadamente 0,1667). A probabilidade da união de A e B é então:\n",
    "$$ P(A ∪ B) = P(A) + P(B) - P(A ∩ B) = 0,5 + 0,3333 - 0,1667 = 0,6666 $$.\n",
    "\n",
    "2. Eventos climáticos: Suponha que temos dois eventos: A de chover e B de fazer sol em um determinado dia. Se a probabilidade de A (chover) for 0,3 e a probabilidade de B (fazer sol) for 0,5, e a probabilidade da interseção entre A e B (ocorrer chuva e fazer sol) for 0,1, então a probabilidade da união desses eventos (ocorrer chuva ou fazer sol) é:\n",
    "$$ P(A ∪ B) = P(A) + P(B) - P(A ∩ B) = 0,3 + 0,5 - 0,1 = 0,7 $$.\n",
    "\n",
    "A soma de probabilidades em eventos conjuntos nos permite calcular a probabilidade da ocorrência de pelo menos um dos eventos. É importante lembrar que essa propriedade se aplica somente a eventos conjuntos, ou seja, eventos que podem ocorrer simultaneamente. Caso os eventos não sejam conjuntos, a fórmula da soma de probabilidades não pode ser aplicada diretamente, e outros métodos, como a teoria da probabilidade condicional, podem ser necessários para calcular as probabilidades corretamente."
   ]
  },
  {
   "cell_type": "markdown",
   "id": "e7fa97a6",
   "metadata": {},
   "source": [
    "A soma de probabilidades em eventos conjuntos é uma técnica importante em data science e machine learning para calcular a probabilidade de ocorrência de eventos que estão interligados ou relacionados de alguma forma. Essa técnica é amplamente aplicada em várias áreas, como classificação multiclasse, análise de dependência e detecção de padrões complexos.\n",
    "\n",
    "Aqui estão alguns exemplos de como a soma de probabilidades em eventos conjuntos é utilizada em data science e machine learning:\n",
    "\n",
    "1. Classificação multiclasse: Em problemas de classificação com mais de duas classes, a soma de probabilidades em eventos conjuntos é usada para atribuir probabilidades às diferentes classes. Cada classe representa um evento conjunto específico, e a probabilidade de um ponto de dados pertencer a cada classe é calculada. Ao fazer uma previsão, o modelo atribui probabilidades a todas as classes e, em seguida, normaliza essas probabilidades para que a soma total seja igual a 1.\n",
    "\n",
    "2. Análise de dependência: A soma de probabilidades em eventos conjuntos é útil para analisar a dependência entre variáveis em um conjunto de dados. Por exemplo, ao analisar a relação entre duas variáveis, como \"idade\" e \"renda\", podemos calcular a probabilidade conjunta de diferentes combinações de valores dessas variáveis. Essa análise de dependência ajuda a identificar associações ou relações significativas entre as variáveis e é usada em várias técnicas, como tabelas de contingência e coeficientes de correlação.\n",
    "\n",
    "3. Detecção de padrões complexos: Em alguns casos, é necessário identificar padrões complexos que envolvem a ocorrência simultânea de vários eventos. A soma de probabilidades em eventos conjuntos é usada para calcular a probabilidade de ocorrência desses padrões complexos. Por exemplo, em uma análise de séries temporais, podemos estar interessados na probabilidade de um conjunto específico de eventos ocorrer em um determinado período de tempo. A soma das probabilidades desses eventos conjuntos ajuda a quantificar a probabilidade total do padrão ocorrer.\n",
    "\n",
    "Em resumo, a soma de probabilidades em eventos conjuntos desempenha um papel fundamental em data science e machine learning, permitindo calcular a probabilidade de ocorrência de eventos relacionados ou interdependentes. Essa técnica é amplamente utilizada na classificação multiclasse, análise de dependência e detecção de padrões complexos, fornecendo informações valiosas para a tomada de decisões e a compreensão dos dados."
   ]
  },
  {
   "cell_type": "markdown",
   "id": "05046c23",
   "metadata": {},
   "source": [
    "## Independence"
   ]
  },
  {
   "cell_type": "markdown",
   "id": "3d66513f",
   "metadata": {},
   "source": [
    "A **independência** é um conceito fundamental em probabilidade e estatística que descreve a **relação entre dois eventos**. Dois eventos são considerados independentes se a ocorrência (ou não ocorrência) de um evento não afeta a probabilidade do outro evento ocorrer.\n",
    "\n",
    "Em outras palavras, se A e B são eventos independentes, a probabilidade de ambos ocorrerem é igual ao produto das probabilidades individuais de cada evento. Matematicamente, isso pode ser expresso como:\n",
    "\n",
    "$$ P(A ∩ B) = P(A) * P(B) $$\n",
    "\n",
    "Aqui estão alguns exemplos para ilustrar o conceito de independência:\n",
    "\n",
    "1. Lançamento de uma moeda e lançamento de um dado: Considere os eventos A de obter cara em um lançamento justo de uma moeda e B de obter um número par em um lançamento justo de um dado de seis faces. Esses eventos são independentes, pois o resultado do lançamento da moeda não tem influência no resultado do lançamento do dado e vice-versa. A probabilidade de obter cara é 1/2, e a probabilidade de obter um número par no dado é 3/6 = 1/2. A probabilidade de ocorrer cara e um número par ao mesmo tempo é P(A ∩ B) = P(A) * P(B) = 1/2 * 1/2 = 1/4. \n",
    "\n",
    "\n",
    "2. Utilizando novamente o exemplo da moeda, qual é a probabilidade de cair cara **cinco vezes** ? Dado que são eventos independentes e que cada probabilidade é de 1/2, podemos estender a **regra do produto** para:\n",
    "\n",
    "$$ P(H) = (\\frac{1}{2})^{5} = \\frac{1}{32}$$\n",
    "\n",
    "Seguindo o mesmo exemplo, qual a probabilidade de ao jogar um dado, obter 10 números seis ?\n",
    "\n",
    "$$ P(10-6) = (\\frac{1}{6})^{10} = 1.6538171687920194e-08$$\n",
    "\n",
    "3. Evento climático: Suponha que tenhamos dois eventos: A de chover em um determinado dia e B de fazer sol no mesmo dia. Se a probabilidade de A (chover) for 0,3 e a probabilidade de B (fazer sol) for 0,7, e supondo que esses eventos sejam independentes, a probabilidade de ocorrer chuva e fazer sol no mesmo dia é:\n",
    "$$ P(A ∩ B) = P(A) * P(B) = 0,3 * 0,7 = 0,21 $$\n",
    "\n",
    "A independência entre eventos é uma suposição importante em muitos modelos probabilísticos e estatísticos. No entanto, é essencial ter cuidado ao assumir a independência, pois nem sempre é uma suposição válida. Em alguns casos, a dependência entre eventos pode ser significativa e afetar os resultados de uma análise estatística. Portanto, é importante avaliar a independência dos eventos com base no contexto específico e nos dados disponíveis antes de fazer suposições sobre a independência."
   ]
  },
  {
   "cell_type": "markdown",
   "id": "ba6091ac",
   "metadata": {},
   "source": [
    "## Rules"
   ]
  },
  {
   "cell_type": "markdown",
   "id": "fcaf82f3",
   "metadata": {},
   "source": [
    "A regra do produto e a regra da soma são duas regras fundamentais em probabilidade que nos permitem calcular a probabilidade de eventos compostos. Aqui está um resumo de cada uma delas:\n",
    "\n",
    "Regra do Produto:\n",
    "A regra do produto é usada para calcular a probabilidade de dois **eventos independentes ocorrerem simultaneamente**. Se A e B são eventos independentes, a probabilidade de ambos ocorrerem é igual ao produto das probabilidades individuais de cada evento:\n",
    "$$ P(A ∩ B) = P(A) * P(B)$$\n",
    "\n",
    "Essa regra é aplicável quando a ocorrência de um evento **não afeta** a probabilidade do outro evento ocorrer.\n",
    "\n",
    "Regra da Soma:\n",
    "A regra da soma é usada para calcular a probabilidade da **união de dois eventos (ou mais) ocorrerem**. Sejam A e B dois eventos quaisquer, a probabilidade de pelo menos um deles ocorrer é dada pela soma das probabilidades individuais dos eventos, subtraindo a probabilidade da interseção entre eles para evitar duplicação:\n",
    "P(A ∪ B) = P(A) + P(B) - P(A ∩ B)\n",
    "\n",
    "Essa regra leva em consideração a possibilidade de existir uma **interseção entre os eventos**, que deve ser corretamente contabilizada para evitar a duplicação da probabilidade.\n",
    "\n",
    "Essas regras são amplamente utilizadas em probabilidade e estatística para calcular a probabilidade de eventos compostos e são fundamentais para análises probabilísticas mais complexas. É importante ter em mente que essas regras são válidas apenas em determinadas condições, como a independência entre eventos para a regra do produto e a disjunção ou interseção adequada entre eventos para a regra da soma."
   ]
  },
  {
   "cell_type": "markdown",
   "id": "145ab66a",
   "metadata": {},
   "source": [
    "## Birthday Problem"
   ]
  },
  {
   "cell_type": "markdown",
   "id": "da041fec",
   "metadata": {},
   "source": [
    "O \"problema do aniversário\" (ou \"birthday problem\") é um famoso problema probabilístico que envolve a probabilidade de duas pessoas em um grupo compartilharem o mesmo dia de aniversário. O problema é surpreendente, pois a intuição inicial pode levar a estimativas incorretas da probabilidade.\n",
    "\n",
    "Para entender o problema do aniversário com 30 pessoas, vamos considerar o seguinte cenário:\n",
    "\n",
    "Suponha que tenhamos um grupo de 30 pessoas. Queremos calcular a probabilidade de pelo menos duas pessoas nesse grupo compartilharem o mesmo dia de aniversário.\n",
    "\n",
    "Para resolver esse problema, podemos usar a **regra da soma** e o conceito de **complemento de probabilidade**. Vamos calcular a **probabilidade de nenhuma das 30 pessoas ter o mesmo aniversário** e, em seguida, **subtrair essa probabilidade de 1 (probabilidade total)** para obter a **probabilidade de pelo menos duas pessoas compartilharem o mesmo aniversário**.\n",
    "\n",
    "A probabilidade de uma pessoa ter uma data de aniversário específica é de 1/365 (desconsiderando os anos bissextos). Portanto, a probabilidade de nenhuma das 30 pessoas ter o mesmo aniversário é:\n",
    "\n",
    "$$ P(NC) = (365/365) * (364/365) * (363/365) * ... * (336/365) $$\n",
    "\n",
    "Essa probabilidade **P(NC)** ou P(Nenhum Compartilhado) é calculada levando em consideração a **probabilidade condicional** de cada pessoa ter uma data de aniversário diferente das demais.\n",
    "\n",
    "No início do cálculo, assumimos que a primeira pessoa escolhida tem qualquer uma das 365 datas de aniversário possíveis (probabilidade de 365/365 = 1). Em seguida, queremos calcular a probabilidade de que a segunda pessoa escolhida tenha um aniversário diferente da primeira pessoa. A probabilidade de escolher uma data de aniversário diferente é de 364/365, pois há apenas uma data de aniversário que é igual à da primeira pessoa.\n",
    "\n",
    "Para a terceira pessoa, queremos que ela tenha um aniversário diferente das duas primeiras. A probabilidade condicional de escolher uma data de aniversário diferente é de 363/365, pois existem apenas duas datas de aniversário que são iguais às das duas primeiras pessoas.\n",
    "\n",
    "Esse padrão continua para todas as 30 pessoas: a probabilidade condicional de cada pessoa ter um aniversário diferente das pessoas anteriores é calculada dividindo o número de datas de aniversário possíveis que são diferentes das datas já selecionadas pelo número total de datas de aniversário disponíveis.\n",
    "\n",
    "Assim, multiplicamos as probabilidades condicionais de cada pessoa ter um aniversário diferente das demais para obter a probabilidade de nenhuma das 30 pessoas ter o mesmo aniversário.\n",
    "\n",
    "Neste exemplo, a expressão $(365/365) * (364/365) * (363/365) * ... * (336/365)$ é usada para calcular essa probabilidade específica para um grupo de 30 pessoas. Cada termo na multiplicação representa a probabilidade condicional de cada pessoa ter um aniversário diferente das pessoas anteriores, dado que elas já escolheram datas de aniversário únicas.\n",
    "\n",
    "É importante notar que esse cálculo assume que todas as datas de aniversário são igualmente prováveis e que os aniversários são independentes entre as pessoas. Em situações da vida real, essas suposições podem não ser totalmente válidas, mas o problema do aniversário é um exemplo clássico que ilustra as propriedades probabilísticas interessantes e não intuitivas relacionadas à probabilidade de compartilhamento de aniversários em grupos.\n",
    "\n",
    "Agora, para obter a probabilidade de pelo menos duas pessoas compartilharem o mesmo aniversário, subtraímos essa probabilidade de 1:\n",
    "\n",
    "$$ P(C) = 1 - P(NC) $$\n",
    "\n",
    "Sendo C \"Compartilhado\" e NC \"Nenhum Compartilhado\".\n",
    "\n",
    "Calculando essas probabilidades usando a fórmula acima, descobrimos que a probabilidade de pelo menos duas pessoas compartilharem o mesmo aniversário em um grupo de 30 pessoas é aproximadamente **0,7063**, ou seja, cerca de **70,63%**.\n",
    "\n",
    "Essa probabilidade pode parecer surpreendentemente alta, pois intuitivamente esperamos que seja muito menor com apenas 30 pessoas. No entanto, **devido ao grande número de combinações possíveis** de pares de aniversários em um grupo, a probabilidade acaba sendo considerável.\n",
    "\n",
    "O problema do aniversário demonstra como a probabilidade pode ser contraintuitiva em certas situações e ressalta a importância de usar cálculos probabilísticos corretos para evitar conclusões enganosas."
   ]
  },
  {
   "cell_type": "markdown",
   "id": "550a2c36",
   "metadata": {},
   "source": [
    "## Conditional Probability"
   ]
  },
  {
   "cell_type": "markdown",
   "id": "ebe57f7a",
   "metadata": {},
   "source": [
    "A probabilidade condicional é uma medida de probabilidade que se baseia em um evento ocorrer, dado que outro evento já ocorreu. Ela descreve a probabilidade de um evento A acontecer, dado que um evento B já ocorreu. A probabilidade condicional é expressa como P(A|B), lida como \"a probabilidade de A dado B\".\n",
    "\n",
    "A fórmula para a probabilidade condicional é dada por:\n",
    "\n",
    "$$ P(A|B) = P(A ∩ B) / P(B) $$\n",
    "\n",
    "Onde:\n",
    "- P(A ∩ B) representa a probabilidade da ocorrência conjunta dos eventos A e B, ou seja, a interseção de A e B.\n",
    "- P(B) é a probabilidade do evento B ocorrer.\n",
    "\n",
    "A probabilidade condicional nos permite atualizar nossas estimativas de probabilidade com base em informações adicionais. Ela é especialmente útil quando **há dependência entre eventos**.\n",
    "\n",
    "Aqui estão alguns exemplos para ilustrar a probabilidade condicional:\n",
    "\n",
    "Exemplo 1: Lançamento de dados\n",
    "Considere o lançamento de um dado justo. Evento A é obter um número par (2, 4 ou 6), e evento B é obter um número maior que 3 (4 ou 6). A probabilidade de obter um número par (A) dado que o número obtido é maior que 3 (B) é de 2/3, pois dos dois números maiores que 3 (4 e 6), dois são pares.\n",
    "\n",
    "$$ P(A|B) = P(A ∩ B) / P(B) = (1/6) / (2/6) = 2/3 $$\n",
    "\n",
    "Exemplo 2: Teste médico\n",
    "Suponha que um teste médico para uma doença específica tenha uma taxa de precisão de 95%. Evento A é ter a doença e evento B é o resultado do teste ser positivo. A probabilidade de ter a doença (A) dado um resultado positivo no teste (B) depende da taxa de falsos positivos e verdadeiros positivos do teste.\n",
    "\n",
    "Se a taxa de falsos positivos for de 5%, significa que 5% das pessoas saudáveis terão resultados positivos. Se a prevalência da doença na população for de 1%, podemos calcular a probabilidade condicional usando a fórmula:\n",
    "\n",
    "$$ P(A|B) = \\frac{P(A ∩ B)}{P(B)} = \\frac{P(A) * P(B|A)}{[P(A) * P(B|A) + P(A') * P(B|A')]} $$\n",
    "\n",
    "Onde:\n",
    "- P(A') é a probabilidade complementar de A, ou seja, a probabilidade de não ter a doença.\n",
    "- P(B|A) é a probabilidade de um resultado positivo no teste dado que a pessoa tem a doença.\n",
    "- P(B|A') é a probabilidade de um resultado positivo no teste dado que a pessoa não tem a doença.\n",
    "\n",
    "Neste exemplo, se substituirmos os valores correspondentes na fórmula, obteremos a probabilidade condicional de ter a doença dado um resultado positivo no teste.\n",
    "\n",
    "$$ P(A|B) = \\frac{(0.01 * 0.95)}{[(0.01 * 0.95) + (0.99 * 0.05)]} $$\n",
    "\n",
    "$$ P(A|B) = \\frac{0.0095}{(0.0095 + 0.0495)} = \\frac{0.0095}{0.059} $$\n",
    "\n",
    "$$ P(A|B) ≈ 0.161 $$\n",
    "\n",
    "\n",
    "A probabilidade condicional é uma ferramenta poderosa para fazer inferências e tomar decisões com base em informações disponíveis. Ela nos ajuda a atualizar nossas estimativas de probabilidade e levar em consideração eventos prévios para tomar decisões mais informadas."
   ]
  },
  {
   "cell_type": "markdown",
   "id": "1ffb901e",
   "metadata": {},
   "source": [
    "No exemplo de jogar duas moedas, considere que a primeira moeda foi lançada e deu cara. Agora, queremos determinar a probabilidade de a segunda moeda também dar cara, dado esse resultado da primeira moeda.\n",
    "\n",
    "Aqui, estamos interessados na probabilidade condicional de obter cara na segunda jogada, dado que a primeira jogada resultou em cara. Vamos denotar o evento A como a primeira moeda dar cara e o evento B como a segunda moeda dar cara.\n",
    "\n",
    "Podemos usar a fórmula da probabilidade condicional para calcular esse valor:\n",
    "\n",
    "$$ P(B|A) = P(A ∩ B) / P(A)$$\n",
    "\n",
    "A probabilidade de A ∩ B representa a probabilidade de ambos os eventos A e B ocorrerem, ou seja, a probabilidade de a primeira e a segunda moedas darem cara. No caso de jogar uma moeda justa, a probabilidade de cara em cada jogada é de 1/2. Portanto, a probabilidade de A ∩ B é (1/2) * (1/2) = 1/4.\n",
    "\n",
    "A probabilidade de A é a probabilidade de a primeira moeda dar cara, que também é 1/2.\n",
    "\n",
    "Substituindo esses valores na fórmula, obtemos:\n",
    "\n",
    "$$P(B|A) = (1/4) / (1/2) = 1/2$$\n",
    "\n",
    "Isso significa que, dado que a primeira moeda deu cara, a probabilidade de a segunda moeda dar cara é de 1/2.\n",
    "\n",
    "Em termos práticos, podemos interpretar isso como: se sabemos que a primeira moeda deu cara, não há influência do resultado da primeira jogada no resultado da segunda jogada. Portanto, a probabilidade de obter cara na segunda jogada é a mesma de qualquer outro lançamento de moeda individualmente, ou seja, 1/2.\n",
    "\n",
    "Esse exemplo ilustra como a probabilidade condicional pode ser usada para atualizar a probabilidade com base em informações prévias. No contexto de data science e machine learning, a probabilidade condicional é aplicada em várias tarefas, como classificação, previsão e tomada de decisões com base em informações condicionais disponíveis."
   ]
  },
  {
   "cell_type": "markdown",
   "id": "5b300ca8",
   "metadata": {},
   "source": [
    "Dado uma escola com 100 alunos, em que 40% gosta de futebol e 60% não, e que, 80% dos alunos usam chuteira, qual a probabilidade de dado que o aluno gosta de futebol P(S), qual a probabilidade dele usar chuteira ? Podemos visualizar todas as possibildiades na árvore de probabilidade condicional abaixo.\n",
    "\n",
    "<img src=\"./imgs/condicional_probability_tree.png\">"
   ]
  },
  {
   "cell_type": "markdown",
   "id": "44a610f0",
   "metadata": {},
   "source": [
    "A probabilidade condicional desempenha um papel importante em data science e machine learning, fornecendo informações úteis para análise, modelagem e tomada de decisões. Aqui estão algumas aplicações do uso de probabilidade condicional nesses campos:\n",
    "\n",
    "1. Classificação: A probabilidade condicional é amplamente usada em algoritmos de classificação, como o Naive Bayes. Esses algoritmos estimam a probabilidade de um ponto de dados pertencer a uma determinada classe com base em características observadas. A probabilidade condicional é fundamental para calcular essas estimativas, permitindo que o modelo tome decisões de classificação com base em probabilidades condicionais.\n",
    "\n",
    "2. Recomendação personalizada: Em sistemas de recomendação, a probabilidade condicional é usada para personalizar recomendações com base em preferências anteriores. Por exemplo, em um sistema de recomendação de filmes, a probabilidade condicional pode ser usada para estimar a probabilidade de um usuário gostar de um filme específico com base em filmes que ele já assistiu e classificou anteriormente.\n",
    "\n",
    "3. Análise de risco e detecção de fraudes: A probabilidade condicional desempenha um papel fundamental na análise de risco e detecção de fraudes. Por exemplo, em seguros, a probabilidade condicional é usada para estimar a probabilidade de um sinistro ocorrer com base em fatores de risco conhecidos. Da mesma forma, na detecção de fraudes, a probabilidade condicional é usada para identificar comportamentos suspeitos com base em padrões anteriores de atividade fraudulenta.\n",
    "\n",
    "4. Processamento de linguagem natural: Em tarefas de processamento de linguagem natural, a probabilidade condicional é usada para modelar a probabilidade de uma sequência de palavras dada uma sequência de palavras anterior. Isso é utilizado em algoritmos de modelagem de linguagem, tradução automática e correção ortográfica, onde a probabilidade condicional é usada para estimar a probabilidade de uma palavra ocorrer com base no contexto anterior.\n",
    "\n",
    "5. Redes Bayesianas: As redes Bayesianas são modelos probabilísticos que representam relacionamentos entre variáveis através de um grafo acíclico direcionado. A probabilidade condicional é essencial para construir e inferir em redes Bayesianas, pois as probabilidades condicionais são especificadas para cada variável dada a combinação de valores em suas variáveis pais.\n",
    "\n",
    "Em resumo, a probabilidade condicional é uma ferramenta essencial em data science e machine learning. Ela permite modelar e calcular a probabilidade de eventos com base em informações contextuais, ajudando na classificação, recomendação personalizada, análise de risco, detecção de fraudes, processamento de linguagem natural e muito mais. A capacidade de calcular probabilidades condicionais permite que os modelos sejam mais precisos e informados na tomada de decisões."
   ]
  },
  {
   "cell_type": "markdown",
   "id": "5b4e1cfe",
   "metadata": {},
   "source": [
    "## Bayes Theorem - Intuition"
   ]
  },
  {
   "cell_type": "markdown",
   "id": "d4fa2b48",
   "metadata": {},
   "source": [
    "O Teorema de Bayes é um conceito fundamental em probabilidade e estatística que descreve como atualizar a probabilidade de um evento dado um novo conjunto de informações. Ele é usado para calcular probabilidades condicionais de forma inversa, ou seja, estima a probabilidade de um evento A ocorrer, dado que um evento B já ocorreu.\n",
    "\n",
    "O Teorema de Bayes é expresso pela seguinte fórmula:\n",
    "\n",
    "$$ P(A|B) = \\frac{[P(B|A) * P(A)]}{P(B)} = \\frac{[P(B|A) * P(A)])}{[P(A) * P(B|A) + P(A') * P(B|A')]} $$\n",
    "\n",
    "\n",
    "Onde:\n",
    "- P(A|B) é a probabilidade do evento A ocorrer dado o evento B.\n",
    "- P(B|A) é a probabilidade do evento B ocorrer dado o evento A.\n",
    "- P(A) e P(B) são as probabilidades marginais dos eventos A e B, respectivamente.\n",
    "\n",
    "O Teorema de Bayes é frequentemente utilizado quando queremos atualizar nossas estimativas de probabilidade com base em novas informações ou evidências. Ele nos permite calcular a probabilidade posterior de um evento A ocorrer, dado que um evento B já ocorreu, levando em consideração a probabilidade prévia de A e a probabilidade condicional de B dado A.\n",
    "\n",
    "Um exemplo clássico (já visto acima) de aplicação do Teorema de Bayes é o teste de diagnóstico médico. Suponha que uma doença rara tem uma taxa de prevalência de 1% na população. Um teste para essa doença tem uma taxa de precisão de 95%, ou seja, a probabilidade de um resultado positivo no teste dado que a pessoa tem a doença é de 95%. No entanto, o teste também tem uma taxa de falsos positivos de 5%, ou seja, a probabilidade de um resultado positivo no teste dado que a pessoa não tem a doença é de 5%.\n",
    "\n",
    "Agora, vamos supor que uma pessoa fez o teste e obteve um resultado positivo. A pergunta é: qual é a probabilidade de a pessoa realmente ter a doença?\n",
    "\n",
    "Podemos aplicar o Teorema de Bayes para responder a essa pergunta. Vamos definir os eventos da seguinte forma:\n",
    "- A: A pessoa tem a doença.\n",
    "- B: A pessoa obteve um resultado positivo no teste.\n",
    "\n",
    "Temos as seguintes probabilidades:\n",
    "- P(A) = 0.01 (probabilidade de uma pessoa ter a doença)\n",
    "- P(A') = 0.99 (probabilidade de uma pessoa não ter a doença)\n",
    "- P(B|A) = 0.95 (probabilidade de um resultado positivo dado que a pessoa tem a doença)\n",
    "- P(B|A') = 0.05 (probabilidade de um resultado positivo dado que a pessoa não tem a doença)\n",
    "\n",
    "Podemos calcular a probabilidade posterior de a pessoa ter a doença usando o Teorema de Bayes:\n",
    "\n",
    "$$ P(A|B) = \\frac{[P(B|A) * P(A)]}{[P(B|A) * P(A) + P(B|A') * P(A')]} $$\n",
    "\n",
    "Substituindo os valores, temos:\n",
    "\n",
    "$$ P(A|B) = \\frac{[0.95 * 0.01]}{[0.95 * 0.01 + 0.05 * 0.99]} $$\n",
    "\n",
    "Calculando, obtemos:\n",
    "\n",
    "$$ P(A|B) ≈ 0.161 $$\n",
    "\n",
    "Portanto, dado um resultado positivo no teste, a probabilidade de a pessoa realmente ter a doença é de aproximadamente 16.1%.\n",
    "\n",
    "A probabilidade de estar doente é chamado de **prior**. O evento, ou seja, o diagonóstico positivo é chamado de **evento**. Enquanto que a probabilidade de estar doente dado o disgnóstico positivo é chamado de **posterior**.\n",
    "\n",
    "Esse exemplo ilustra como o Teorema de Bayes permite atualizar nossas estimativas de probabilidade com base em novas informações. Ele é amplamente utilizado em várias áreas, como medicina, ciência de dados, aprendizado de máquina, processamento de linguagem natural, entre outros, para fazer inferências e tomar decisões baseadas em evidências condicionais."
   ]
  },
  {
   "cell_type": "markdown",
   "id": "ad8f71c3",
   "metadata": {},
   "source": [
    "O Teorema de Bayes é uma ferramenta poderosa em data science e machine learning, permitindo a atualização de probabilidades com base em novas informações. Aqui estão alguns exemplos de como o Teorema de Bayes é aplicado nessas áreas:\n",
    "\n",
    "1. Classificação Bayesiana: O Teorema de Bayes é fundamental na abordagem de classificação bayesiana, onde a probabilidade de um ponto de dados pertencer a uma determinada classe é estimada com base em probabilidades condicionais. O Teorema de Bayes é usado para calcular a probabilidade posterior de uma classe dado um conjunto de características observadas. Por exemplo, na classificação de e-mails como spam ou não spam, o Teorema de Bayes é aplicado para calcular a probabilidade de um e-mail ser spam dado o conteúdo do e-mail.\n",
    "\n",
    "2. Filtragem Bayesiana: O Teorema de Bayes é usado em filtros bayesianos, como o filtro de Kalman e o filtro de partículas, que são amplamente utilizados em sistemas de rastreamento, previsão e fusão de sensores. Esses filtros aplicam o Teorema de Bayes para atualizar estimativas e incertezas com base em observações e modelos probabilísticos.\n",
    "\n",
    "3. Recomendação personalizada: Em sistemas de recomendação, o Teorema de Bayes é usado para calcular a probabilidade de um usuário gostar de um determinado item com base em suas preferências anteriores e no feedback de outros usuários. Por exemplo, em um sistema de recomendação de filmes, o Teorema de Bayes é aplicado para atualizar as probabilidades de preferência de um usuário com base nas classificações que ele atribuiu a filmes anteriores e nas classificações médias dos filmes pela comunidade.\n",
    "\n",
    "4. Processamento de linguagem natural: Na área de processamento de linguagem natural, o Teorema de Bayes é usado em várias tarefas, como classificação de documentos, detecção de spam, correção ortográfica e tradução automática. Por exemplo, na classificação de documentos, o Teorema de Bayes é aplicado para calcular a probabilidade de um documento pertencer a uma determinada categoria com base nas palavras presentes no documento.\n",
    "\n",
    "5. Detecção de anomalias: O Teorema de Bayes é usado na detecção de anomalias para identificar pontos de dados que são estatisticamente incomuns em relação a um conjunto de dados. O Teorema de Bayes é aplicado para calcular a probabilidade de um ponto de dados ser uma anomalia com base na distribuição estatística dos dados normais.\n",
    "\n",
    "Esses são apenas alguns exemplos de como o Teorema de Bayes é aplicado em data science e machine learning. Ele fornece uma estrutura matemática para atualizar probabilidades com base em novas evidências e é usado em uma ampla variedade de tarefas, desde classificação e filtragem até recomendação personalizada e detecção de anomalias."
   ]
  },
  {
   "cell_type": "markdown",
   "id": "71a4a2cd",
   "metadata": {},
   "source": [
    "## Monty Hall Problem"
   ]
  },
  {
   "cell_type": "markdown",
   "id": "55754f2e",
   "metadata": {},
   "source": [
    "O problema de Monty Hall é um famoso quebra-cabeça probabilístico baseado em um jogo de TV chamado \"Let's Make a Deal\" (Vamos fazer um acordo), apresentado por Monty Hall. O problema é assim formulado:\n",
    "\n",
    "Suponha que você esteja em um jogo onde há três portas: A, B e C. Atrás de uma dessas portas, há um prêmio (por exemplo, um carro), e as outras duas portas estão vazias. Você escolhe uma das portas (digamos, a porta A). Em seguida, o apresentador Monty Hall, que sabe onde o prêmio está, abre outra porta (digamos, a porta C) que revela que não há prêmio atrás dela.\n",
    "\n",
    "Aqui está o dilema: o apresentador Monty Hall oferece a você a chance de mudar sua escolha para a outra porta não aberta (porta B). Você deve mudar sua escolha? Isso aumenta suas chances de ganhar o prêmio?\n",
    "\n",
    "A resposta surpreendente é que, sim, você deve mudar sua escolha. A probabilidade de ganhar o prêmio é maior se você mudar sua escolha para a outra porta. Isso pode ser explicado usando o Teorema de Bayes.\n",
    "\n",
    "Inicialmente, a probabilidade de o prêmio estar atrás de qualquer uma das três portas é de 1/3 para cada porta. Suponha que você escolha a porta A. Existem duas situações possíveis:\n",
    "\n",
    "1. O prêmio está atrás da porta A (probabilidade de 1/3): Se você não mudar sua escolha, você ganhará o prêmio.\n",
    "\n",
    "2. O prêmio está atrás de uma das outras duas portas (porta B ou porta C) (probabilidade de 2/3): Se você mudar sua escolha, você perderá o prêmio, pois o apresentador Monty Hall revelará a porta sem prêmio (por exemplo, porta C) e você terá que abrir a outra porta sem prêmio (porta B).\n",
    "\n",
    "Agora, vamos calcular as probabilidades considerando as duas situações:\n",
    "\n",
    "- Se você não mudar sua escolha, sua probabilidade de ganhar é 1/3.\n",
    "- Se você mudar sua escolha, sua probabilidade de ganhar é 2/3.\n",
    "\n",
    "Portanto, é mais vantajoso mudar sua escolha, pois a probabilidade de ganhar o prêmio é maior (2/3) em comparação com a probabilidade de não mudar (1/3).\n",
    "\n",
    "Isso pode ser entendido de forma intuitiva: inicialmente, a probabilidade de você escolher a porta correta é de 1/3, enquanto a probabilidade de o prêmio estar em uma das outras duas portas é de 2/3. Quando o apresentador Monty Hall abre uma porta sem prêmio, essa informação atualiza a probabilidade de que o prêmio esteja na porta não aberta, que é a porta B. Portanto, mudar sua escolha aumenta suas chances de ganhar o prêmio.\n",
    "\n",
    "O problema de Monty Hall é um exemplo intrigante de probabilidade condicional e ilustra como o contexto e a atualização de informações podem afetar as probabilidades em um cenário aparentemente simples."
   ]
  },
  {
   "cell_type": "markdown",
   "id": "17ad299a",
   "metadata": {},
   "source": [
    "## Bayes Theorem - Spam Exemple"
   ]
  },
  {
   "cell_type": "markdown",
   "id": "2d1adee6",
   "metadata": {},
   "source": [
    "O Teorema de Bayes é amplamente utilizado em sistemas de detecção de spam para classificar e filtrar emails indesejados. O teorema permite calcular a probabilidade de um email ser spam, dado um conjunto de palavras ou características observadas no email.\n",
    "\n",
    "Aqui está como o Teorema de Bayes é aplicado na detecção de spams:\n",
    "\n",
    "1. Definindo as probabilidades iniciais:\n",
    "   - P(Spam): Probabilidade de um email ser spam.\n",
    "   - P(Não Spam): Probabilidade de um email não ser spam.\n",
    "   - Essas probabilidades podem ser estimadas com base em dados históricos de emails classificados como spam e não spam.\n",
    "\n",
    "2. Construindo um modelo de palavras:\n",
    "   - Um conjunto de palavras ou características é selecionado para construir um modelo de spam.\n",
    "   - Por exemplo, palavras como \"oferta\", \"grátis\", \"promoção\" podem ser fortes indicadores de spam.\n",
    "   - O modelo atribui uma probabilidade para cada palavra ou característica, tanto para emails classificados como spam quanto para não spam.\n",
    "   - Essas probabilidades podem ser estimadas usando técnicas estatísticas, como frequência relativa ou frequência inversa do documento (TF-IDF).\n",
    "\n",
    "3. Calculando a probabilidade de ser spam dado as palavras observadas:\n",
    "   - Dado um email com um conjunto de palavras, calculamos a probabilidade de ser spam usando o Teorema de Bayes.\n",
    "   - P(Spam|Palavras) = (P(Palavras|Spam) * P(Spam)) / P(Palavras)\n",
    "   - P(Palavras|Spam): Probabilidade de observar as palavras no email, dado que é spam.\n",
    "   - P(Palavras): Probabilidade de observar as palavras independentemente de ser spam ou não.\n",
    "   - O denominador P(Palavras) é uma constante que normaliza as probabilidades.\n",
    "\n",
    "4. Comparando as probabilidades:\n",
    "   - A probabilidade P(Spam|Palavras) é comparada com a probabilidade P(Não Spam|Palavras).\n",
    "   - Se P(Spam|Palavras) > P(Não Spam|Palavras), o email é classificado como spam. Caso contrário, é classificado como não spam.\n",
    "\n",
    "Exemplo:\n",
    "Suponha que, com base em dados históricos, temos as seguintes probabilidades:\n",
    "- P(Spam) = 0,4 (40% dos emails são spam).\n",
    "- P(Não Spam) = 0,6 (60% dos emails não são spam).\n",
    "- P(Palavra|Spam) = 0,8 (80% das palavras em emails spam são \"oferta\").\n",
    "- P(Palavra|Não Spam) = 0,2 (20% das palavras em emails não spam são \"oferta\").\n",
    "- Suponha que o email contenha a palavra \"oferta\".\n",
    "\n",
    "Usando o Teorema de Bayes, podemos calcular:\n",
    "- P(Spam|Palavra) = (P(Palavra|Spam) * P(Spam)) / P(Palavra)\n",
    "- P(Spam|Palavra) = (0,8 * 0,4) / P(Palavra)\n",
    "\n",
    "Para calcular P(Palavra), precisaríamos levar em conta todas as palavras observadas no email e calcular a probabilidade de ocorrerem em spam ou não spam. Essa etapa envolve um modelo mais complexo e cálculos adicionais.\n",
    "\n",
    "Com base nas probabilidades e no cálculo acima, podemos decidir se o email é spam ou não spam, comparando a probabilidade P(Spam|Palavra) com a probabilidade P(Não Spam|Palavra).\n",
    "\n",
    "É importante notar que o Teorema de Bayes é apenas uma das abordagens para a detecção de spam e existem outras técnicas e algoritmos mais avançados que podem ser usados em conjunto para obter melhores resultados."
   ]
  },
  {
   "cell_type": "markdown",
   "id": "8fd2fb94",
   "metadata": {},
   "source": [
    "## Bayes Theorem - The Naive Bayes"
   ]
  },
  {
   "cell_type": "markdown",
   "id": "7589603d",
   "metadata": {},
   "source": [
    "O Naive Bayes é um algoritmo de classificação amplamente utilizado em aprendizado de máquina e mineração de dados. Ele é baseado no Teorema de Bayes e faz suposições simplificadoras sobre a independência condicional das características.\n",
    "\n",
    "Aqui está uma explicação do Naive Bayes e como ele funciona:\n",
    "\n",
    "1. Suposição de independência condicional:\n",
    "   - O Naive Bayes assume que todas as características relevantes para a classificação são **independentes entre si**, dado o valor da classe. (Ex. a ocorrencia de palavras \"oferta\" e \"ganhar\" num email. Essa ocorrência é claramente dependente, não independente)\n",
    "   - Essa suposição simplificadora permite que o algoritmo **calcule facilmente as probabilidades condicionais** necessárias para a classificação.\n",
    "\n",
    "2. Probabilidade condicional:\n",
    "   - O Naive Bayes usa a probabilidade condicional para estimar a probabilidade de uma instância pertencer a cada classe.\n",
    "   - Ele calcula a probabilidade de cada classe dado os valores das características da instância.\n",
    "\n",
    "3. Treinamento:\n",
    "   - Durante a fase de treinamento, o Naive Bayes estima as probabilidades condicionais a partir dos dados de treinamento.\n",
    "   - Para cada classe, são calculadas as probabilidades condicionais das características.\n",
    "\n",
    "4. Classificação:\n",
    "   - Durante a fase de classificação, o Naive Bayes usa as probabilidades condicionais estimadas para determinar a classe mais provável para uma nova instância.\n",
    "   - Ele calcula a probabilidade de cada classe para a instância e seleciona a classe com a maior probabilidade.\n",
    "\n",
    "**Exemplo:**\n",
    "\n",
    "De 100 emails, 20 ou 20% são spams. 80 ou 80% não são spams. 14 emails, dentre os spams, contém a palavra \"lottery\", ou seja 14/20 = 0,7 ou 70%. Já dos emails nao spam, 10 possuem a palavra \"lottery\", ou seja 10/80 = 0.125 ou 12,5%. Já com a palavra \"winning\", está presente em 20 emails ou 20% que são spams, e em 8 ou 80% dos não spams. Já dos emails que são spams, está presente em 15, ou seja 15/20 = 0.75 ou 75% e dos que não são spams está presente em 8, ou seja 8/80 = 0.1.\n",
    "\n",
    "1. Treinamento:\n",
    "   - Calculamos as probabilidades condicionais das características para cada classe (spam e não spam) com base nos dados de treinamento.\n",
    "\n",
    "2. Classificação:\n",
    "   - Dada uma nova instância, por exemplo, um e-mail com as palavras \"oferta\" (lottery) e \"ganhar\", calculamos a probabilidade de ser spam e a probabilidade de ser não spam usando as probabilidades condicionais estimadas.\n",
    "   - Multiplicamos as probabilidades condicionais relevantes e as multiplicamos pela probabilidade inicial da classe (P(Spam) e P(Não Spam)).\n",
    "   - Comparamos as probabilidades calculadas e atribuímos a instância à classe com a maior probabilidade.\n",
    "\n",
    "\n",
    "<img src=\"./imgs/naive_bayes_spam.png\">   \n",
    "\n",
    "O Naive Bayes é rápido, simples e eficiente em muitos cenários, mesmo com a suposição de independência condicional simplificadora. Ele é amplamente usado em problemas de classificação de texto, como detecção de spam, análise de sentimento, categorização de documentos, entre outros.\n",
    "\n",
    "No entanto, é importante notar que o Naive Bayes pode não funcionar bem em casos em que as suposições de independência condicional são violadas ou quando as características são altamente correlacionadas. Nesses casos, outros algoritmos de classificação mais complexos podem ser mais adequados."
   ]
  },
  {
   "cell_type": "markdown",
   "id": "7f005fd9",
   "metadata": {},
   "source": [
    "## Probability in Machine Learning"
   ]
  },
  {
   "cell_type": "markdown",
   "id": "c5508ce2",
   "metadata": {},
   "source": [
    "Probabilidade e probabilidade condicional são aplicadas em várias tarefas de machine learning, incluindo reconhecimento de imagem (image recognition) e análise de sentimentos (sentiment analysis). Aqui está uma explicação de como esses conceitos são utilizados nessas tarefas:\n",
    "\n",
    "1. Reconhecimento de imagem:\n",
    "   - Probabilidade: Na tarefa de reconhecimento de imagem, a probabilidade é usada para estimar a chance de uma imagem pertencer a determinadas classes.\n",
    "   - Por exemplo, um modelo de reconhecimento de imagem pode calcular a probabilidade de uma imagem ser um gato, um cachorro ou um pássaro.\n",
    "   - Essas probabilidades são geralmente calculadas usando técnicas como redes neurais convolucionais (CNNs) e softmax para atribuir probabilidades às diferentes classes.\n",
    "\n",
    "   - Probabilidade condicional: A probabilidade condicional é usada para modelar a relação entre os pixels de uma imagem e as classes associadas.\n",
    "   - Por exemplo, um modelo de reconhecimento de imagem pode estimar a probabilidade condicional de um pixel dado que a imagem pertence a uma determinada classe.\n",
    "   - Essa informação é usada para aprender padrões e características discriminativas nas imagens que ajudam na classificação correta.\n",
    "\n",
    "2. Análise de sentimentos:\n",
    "   - Probabilidade: Na análise de sentimentos, a probabilidade é usada para estimar a chance de uma determinada frase ou documento ser positivo, negativo ou neutro.\n",
    "   - Por exemplo, um modelo de análise de sentimentos pode calcular a probabilidade de uma avaliação de produto ser positiva ou negativa.\n",
    "   - Essas probabilidades podem ser usadas para determinar a polaridade do sentimento associado ao texto analisado.\n",
    "\n",
    "   - Probabilidade condicional: A probabilidade condicional é usada para modelar a relação entre as palavras ou características linguísticas e as polaridades dos sentimentos.\n",
    "   - Por exemplo, um modelo de análise de sentimentos pode estimar a probabilidade condicional de uma palavra ser encontrada em uma avaliação positiva ou negativa.\n",
    "   - Essa informação é usada para aprender quais palavras são fortemente associadas a sentimentos positivos ou negativos, ajudando na classificação do sentimento.\n",
    "\n",
    "Em ambas as tarefas, a probabilidade e a probabilidade condicional são essenciais para o treinamento dos modelos e a tomada de decisões. Essas probabilidades são usadas para estimar a confiança das previsões e ajustar os parâmetros dos modelos para maximizar a probabilidade de previsões corretas.\n",
    "\n",
    "Além disso, a probabilidade condicional também é usada em técnicas de processamento de linguagem natural, como modelos de linguagem baseados em cadeias de Markov e algoritmos de tradução automática, onde a probabilidade condicional de uma sequência de palavras pode ser usada para estimar a probabilidade de uma sequência de tradução ser correta.\n",
    "\n",
    "Em resumo, a probabilidade e a probabilidade condicional desempenham um papel fundamental em várias tarefas de machine learning, incluindo reconhecimento de imagem e análise de sentimentos, ajudando a tomar decisões confiáveis e a obter resultados precisos."
   ]
  },
  {
   "cell_type": "markdown",
   "id": "4cea02ef",
   "metadata": {},
   "source": [
    "## Lesson 2 - Probability Distributions"
   ]
  },
  {
   "cell_type": "markdown",
   "id": "e95282e9",
   "metadata": {},
   "source": [
    "## Random Variables"
   ]
  },
  {
   "cell_type": "markdown",
   "id": "65e7f72f",
   "metadata": {},
   "source": [
    "Uma variável aleatória é uma função que associa valores numéricos a eventos em um espaço amostral. Ela representa a quantificação dos resultados possíveis de um experimento aleatório. Aqui está uma explicação mais detalhada, uma descrição e exemplos de variáveis aleatórias:\n",
    "\n",
    "1. Definição de variável aleatória:\n",
    "   - Uma variável aleatória é uma função que mapeia os resultados de um experimento aleatório para valores numéricos.\n",
    "   - Ela atribui um valor numérico a cada possível resultado do experimento.\n",
    "   - As variáveis aleatórias quantitativas podem ser discretas, assumindo apenas valores isolados, ou contínuas, assumindo valores em um intervalo contínuo.\n",
    "   \n",
    "<img src=\"./imgs/tipos_variaveis.png\">   \n",
    "\n",
    "2. Variáveis aleatórias discretas:\n",
    "   - Uma variável aleatória discreta assume um número finito ou contável de valores distintos.\n",
    "   - Exemplos de variáveis aleatórias discretas incluem o resultado de lançar um dado (1, 2, 3, 4, 5, 6) ou o número de caras em três lançamentos de uma moeda (0, 1, 2, 3).\n",
    "\n",
    "3. Variáveis aleatórias contínuas:\n",
    "   - Uma variável aleatória contínua assume um intervalo contínuo de valores reais.\n",
    "   - Exemplos de variáveis aleatórias contínuas incluem a altura de uma pessoa, a temperatura ambiente ou o tempo necessário para concluir uma tarefa.\n",
    "\n",
    "4. Função de probabilidade:\n",
    "   - Uma variável aleatória é caracterizada por sua função de probabilidade, que atribui uma probabilidade a cada valor possível da variável.\n",
    "   - Para variáveis aleatórias discretas, a função de probabilidade é geralmente expressa como uma tabela de probabilidades para cada valor.\n",
    "   - Para variáveis aleatórias contínuas, a função de probabilidade é descrita por uma função densidade de probabilidade (PDF), que representa a probabilidade de a variável assumir valores em um intervalo.\n",
    "\n",
    "5. Exemplos de variáveis aleatórias:\n",
    "   - Um exemplo de variável aleatória discreta é o número de falhas em um sistema durante um período de tempo fixo.\n",
    "   - Um exemplo de variável aleatória contínua é a temperatura média diária de uma cidade durante um determinado mês.\n",
    "\n",
    "Em machine learning, as variáveis aleatórias são usadas para modelar e descrever os dados. Elas desempenham um papel crucial na estimação de parâmetros, na inferência estatística e na construção de modelos preditivos. Conhecendo as propriedades das variáveis aleatórias, é possível fazer previsões, calcular probabilidades e tomar decisões informadas com base nos dados observados."
   ]
  },
  {
   "cell_type": "markdown",
   "id": "ee05d6df",
   "metadata": {},
   "source": [
    "**Experimento**\n",
    "\n",
    "Para confirmar empiricamente que a probabilidade de sair cara e coroa em um lançamento de moeda é igual, podemos realizar um experimento simples, **repetindo o lançamento da moeda várias vezes e registrando os resultados**.\n",
    "\n",
    "O procedimento básico é o seguinte:\n",
    "\n",
    "1. Escolha um número de lançamentos que deseja realizar no experimento, por exemplo, 100, 1000 ou mais.\n",
    "2. Lance a moeda e registre o resultado de cada lançamento. Você pode atribuir \"cara\" ao valor 1 e \"coroa\" ao valor 0, por exemplo.\n",
    "3. Ao final do experimento, calcule a proporção de \"caras\" e \"coroas\" observadas dividindo o número de vezes que cada resultado ocorreu pelo total de lançamentos.\n",
    "4. Compare as proporções obtidas. Se a moeda for justa, ou seja, se a probabilidade de sair cara for igual à probabilidade de sair coroa, espera-se que as **proporções se aproximem de 0,5 para ambos os resultados**.\n",
    "5. Repita o experimento várias vezes, aumentando o número de lançamentos em cada repetição, para obter uma amostra maior e reduzir a variabilidade dos resultados.\n",
    "\n",
    "Por exemplo, se você realizar 100 lançamentos e obter 52 \"caras\" e 48 \"coroas\", a proporção de \"caras\" será de 0,52 e a proporção de \"coroas\" será de 0,48. Se realizar 1000 lançamentos e obter 498 \"caras\" e 502 \"coroas\", as proporções serão de 0,498 e 0,502, respectivamente.\n",
    "\n",
    "Ao repetir o experimento com um número cada vez maior de lançamentos, as proporções observadas devem se aproximar cada vez mais de 0,5 para ambos os resultados, indicando que a probabilidade de sair cara e coroa é igual.\n",
    "\n",
    "Esse tipo de experimento é uma forma prática de confirmar a igualdade de probabilidades e verificar se a moeda é justa. No entanto, é importante lembrar que pequenas flutuações podem ocorrer devido à aleatoriedade inerente ao processo de lançamento da moeda. Portanto, é recomendado repetir o experimento várias vezes para obter uma estimativa mais confiável das proporções."
   ]
  },
  {
   "cell_type": "code",
   "execution_count": 2,
   "id": "c6406c82",
   "metadata": {
    "ExecuteTime": {
     "end_time": "2023-06-29T22:37:53.692867Z",
     "start_time": "2023-06-29T22:37:53.436396Z"
    }
   },
   "outputs": [
    {
     "data": {
      "image/png": "[encoded data removed]",
      "text/plain": [
       "<Figure size 1440x576 with 1 Axes>"
      ]
     },
     "metadata": {
      "needs_background": "light"
     },
     "output_type": "display_data"
    }
   ],
   "source": [
    "import numpy as np\n",
    "import matplotlib.pyplot as plt\n",
    "plt.rcParams[\"figure.figsize\"] = (20, 8)\n",
    "\n",
    "# Set the seed for reproducibility\n",
    "np.random.seed(42)\n",
    "\n",
    "# Perform the coin flipping experiment\n",
    "num_experiments = 10000\n",
    "num_flips = 10\n",
    "results = []\n",
    "\n",
    "for exp in range(num_experiments):\n",
    "    flips = np.random.choice(['Heads', 'Tails'], size=num_flips)\n",
    "    num_heads = np.sum(flips == 'Heads')\n",
    "    num_tails = num_flips - num_heads\n",
    "    results.append((num_heads, num_tails))\n",
    "\n",
    "# Count the frequencies of heads and tails\n",
    "heads_counts = [result[0] for result in results]\n",
    "tails_counts = [result[1] for result in results]\n",
    "\n",
    "# Plot the distribution of heads and tails\n",
    "labels = ['Heads', 'Tails']\n",
    "counts = [heads_counts, tails_counts]\n",
    "\n",
    "plt.figure(figsize=(20, 8))\n",
    "plt.hist(counts, bins=np.arange(num_flips + 2) - 0.5, label=labels)\n",
    "plt.xlabel('Number of occurrences')\n",
    "plt.ylabel('Frequency')\n",
    "plt.xticks(range(num_flips + 1))\n",
    "plt.title('Distribution of \"Heads\" and \"Tails\"')\n",
    "plt.legend()\n",
    "plt.show()"
   ]
  },
  {
   "cell_type": "markdown",
   "id": "2fe6e30a",
   "metadata": {},
   "source": [
    "O gráfico gerado mostra a distribuição do número de vezes que o valor \"cara\" e \"coroa\" ocorreram em 10.000 experimentos de lançamento de uma moeda, onde cada experimento consiste em lançar a moeda 10 vezes.\n",
    "\n",
    "No eixo x do gráfico, temos o número de ocorrências, variando de 0 a 10. Isso representa o número de vezes que o valor \"cara\" ou \"coroa\" apareceu nos 10 lançamentos.\n",
    "\n",
    "No eixo y, temos a frequência de cada número de ocorrências. Isso indica quantos experimentos resultaram em um determinado número de \"caras\" ou \"coroas\".\n",
    "\n",
    "As barras azuis representam a distribuição do número de vezes que o valor \"cara\" ocorreu, enquanto as barras laranjas representam a distribuição do número de vezes que o valor \"coroa\" ocorreu.\n",
    "\n",
    "A partir do gráfico, podemos observar algumas informações. Por exemplo:\n",
    "- O número mais comum de \"caras\" ou \"coroas\" é 5, pois a barra correspondente é a mais alta.\n",
    "- Conforme nos afastamos de 5, a frequência diminui, o que indica que é menos provável obter um número extremo de \"caras\" ou \"coroas\" (0, 1, 9 ou 10) em um experimento de 10 lançamentos de moeda.\n",
    "\n",
    "Esse gráfico nos dá uma visão visual da distribuição dos resultados dos lançamentos da moeda e nos permite entender melhor como os resultados podem ser esperados."
   ]
  },
  {
   "cell_type": "markdown",
   "id": "e03679f6",
   "metadata": {},
   "source": [
    "Nesse experimento, podemos relacioná-lo à variável aleatória discreta, onde a variável é o número de vezes que a face \"cara\" aparece nos lançamentos da moeda.\n",
    "\n",
    "Uma variável aleatória é uma função que atribui um valor numérico a cada resultado possível de um experimento aleatório. No caso desse experimento, a variável aleatória representa o número de \"caras\" em cada conjunto de 10 lançamentos de moeda.\n",
    "\n",
    "Cada lançamento da moeda é considerado um ensaio independente, e a variável aleatória assume um valor inteiro entre 0 e 10. A distribuição da variável aleatória é obtida ao repetir o experimento várias vezes e contar o número de ocorrências de cada valor possível.\n",
    "\n",
    "No código fornecido, a lista `heads_counts` armazena os valores da variável aleatória, ou seja, o número de vezes que \"cara\" aparece em cada conjunto de 10 lançamentos. Esses valores são utilizados para construir o histograma, que representa a distribuição da variável aleatória.\n",
    "\n",
    "Assim, podemos considerar a variável aleatória discreta como a contagem de \"caras\" nos lançamentos da moeda, e o experimento nos permite analisar a distribuição dessa variável, observando a frequência de cada valor possível.\n",
    "\n",
    "É importante destacar que esse experimento com a moeda segue uma distribuição binomial, pois estamos contando o **número de sucessos (caras)** em um número fixo de ensaios independentes (lançamentos). A análise da distribuição da variável aleatória nos permite compreender melhor as probabilidades associadas ao experimento e auxilia na tomada de decisões em problemas práticos relacionados."
   ]
  },
  {
   "cell_type": "markdown",
   "id": "5bd981fd",
   "metadata": {},
   "source": [
    "## Probability Distribution (Discrete)"
   ]
  },
  {
   "cell_type": "markdown",
   "id": "5f02a025",
   "metadata": {},
   "source": [
    "A distribuição de probabilidades discreta descreve a probabilidade de ocorrência de valores específicos em uma variável aleatória discreta. Nessa distribuição, os valores possíveis são enumeráveis e têm probabilidades associadas a eles.\n",
    "\n",
    "Cada valor da variável aleatória discreta tem uma probabilidade de ocorrência que varia de 0 a 1, e a soma de todas as probabilidades deve ser igual a 1. A distribuição de probabilidades pode ser expressa por meio de uma função de probabilidade ou por uma tabela de valores.\n",
    "\n",
    "Existem várias distribuições de probabilidades discretas comumente utilizadas em estatística e probabilidade. Alguns exemplos são:\n",
    "\n",
    "1. Distribuição Uniforme Discreta: Todos os valores possíveis têm a mesma probabilidade de ocorrência. Por exemplo, ao lançar um dado justo de 6 faces, cada face tem probabilidade 1/6 de ser obtida.\n",
    "\n",
    "2. Distribuição Bernoulli: Tem dois possíveis resultados, geralmente rotulados como sucesso e fracasso. A probabilidade de sucesso, denotada por p, é fixa para cada ensaio. Por exemplo, lançar uma moeda honesta, onde cara é sucesso e coroa é fracasso.\n",
    "\n",
    "3. Distribuição Binomial: Descreve o número de sucessos em um número fixo de ensaios independentes. É caracterizada por dois parâmetros: o número de ensaios (n) e a probabilidade de sucesso (p) em cada ensaio. Por exemplo, o número de \"caras\" em 10 lançamentos de uma moeda justa.\n",
    "\n",
    "4. Distribuição Poisson: Modela a ocorrência de eventos raros em um intervalo de tempo ou espaço fixo. É caracterizada por um único parâmetro, lambda (λ), que representa a taxa média de ocorrência do evento. Por exemplo, o número de chamadas recebidas em uma central telefônica em um minuto.\n",
    "\n",
    "Esses são apenas alguns exemplos de distribuições de probabilidades discretas. Cada uma delas possui características distintas e é aplicável em diferentes contextos. A escolha da distribuição adequada depende das características dos dados e do problema em questão.\n",
    "\n",
    "Ao estudar uma variável aleatória discreta, é importante compreender sua distribuição de probabilidades para realizar análises estatísticas, calcular médias, variâncias e tomar decisões informadas baseadas nos dados observados."
   ]
  },
  {
   "cell_type": "markdown",
   "id": "b05530fb",
   "metadata": {},
   "source": [
    "Em machine learning e ciência de dados, as distribuições de probabilidades discretas desempenham um papel importante na modelagem e análise de dados. Elas são usadas para descrever a probabilidade de ocorrência de diferentes valores em variáveis discretas, que são aquelas que podem assumir apenas valores distintos e enumeráveis.\n",
    "\n",
    "A escolha adequada de uma distribuição de probabilidades discreta depende do tipo de dados que estamos lidando e das suposições sobre o comportamento desses dados. Aqui estão alguns exemplos de como as distribuições de probabilidades discretas são aplicadas em machine learning e ciência de dados:\n",
    "\n",
    "1. Na classificação de textos, as distribuições de probabilidades discretas, como a distribuição multinomial, podem ser usadas para modelar a frequência das palavras em um documento. Essa informação pode ser usada para treinar modelos de classificação de texto, como o Naive Bayes, que usa a probabilidade condicional para classificar novos documentos.\n",
    "\n",
    "2. Na geração de sequências, como na geração de texto ou música, as distribuições de probabilidades discretas são usadas para modelar a probabilidade de ocorrência de cada símbolo em uma sequência. Por exemplo, o modelo de linguagem de Markov pode ser usado para prever a próxima palavra em uma frase com base nas probabilidades condicionais das palavras anteriores.\n",
    "\n",
    "3. Na recomendação de itens, as distribuições de probabilidades discretas podem ser usadas para modelar a preferência do usuário por diferentes itens. Por exemplo, o modelo de filtragem colaborativa pode usar a distribuição multinomial para modelar a probabilidade de um usuário gostar ou não de um determinado item.\n",
    "\n",
    "4. Na detecção de fraudes, as distribuições de probabilidades discretas podem ser usadas para modelar o comportamento normal do usuário e identificar anomalias. Por exemplo, a distribuição de Poisson pode ser usada para modelar a taxa média de ocorrência de determinados eventos e detectar desvios significativos dessa taxa.\n",
    "\n",
    "Esses são apenas alguns exemplos de como as distribuições de probabilidades discretas são aplicadas em machine learning e ciência de dados. A escolha da distribuição adequada depende do problema em questão e das características dos dados. Uma distribuição apropriada pode fornecer uma representação eficaz dos dados e permitir a aplicação de técnicas estatísticas e de aprendizado de máquina para análise e tomada de decisões."
   ]
  },
  {
   "cell_type": "markdown",
   "id": "f495d9e4",
   "metadata": {},
   "source": [
    "A probability mass function (PMF) ou **função de massa de probabilidade**, é uma função que associa a cada valor possível de uma variável aleatória discreta a sua probabilidade de ocorrência. A PMF é usada para descrever a distribuição de probabilidades de uma variável aleatória discreta.\n",
    "\n",
    "A função de massa de probabilidade deve satisfazer duas propriedades:\n",
    "\n",
    "1. Para cada valor possível da variável aleatória, a probabilidade associada deve ser não negativa. Ou seja, a função de massa de probabilidade deve retornar valores maiores ou iguais a zero.\n",
    "\n",
    "2. A soma de todas as probabilidades associadas aos valores possíveis da variável aleatória deve ser igual a 1. Isso significa que a função de massa de probabilidade deve atribuir toda a probabilidade total aos valores possíveis da variável aleatória.\n",
    "\n",
    "Um exemplo comum de PMF é a distribuição binomial. Nessa distribuição, a PMF é dada pela fórmula:\n",
    "\n",
    "P(X = k) = C(n, k) * p^k * (1 - p)^(n - k)\n",
    "\n",
    "Onde:\n",
    "- X é a variável aleatória.\n",
    "- k é o valor específico que a variável aleatória pode assumir.\n",
    "- n é o número de ensaios.\n",
    "- p é a probabilidade de sucesso em cada ensaio.\n",
    "- C(n, k) é o coeficiente binomial, que representa o número de combinações de n objetos tomados k de cada vez.\n",
    "\n",
    "A PMF permite calcular a probabilidade exata de um valor específico da variável aleatória ocorrer, bem como fazer cálculos relacionados à distribuição, como calcular a média, a variância e outros momentos.\n",
    "\n",
    "Em resumo, a PMF é uma função que descreve a distribuição de probabilidades de uma variável aleatória discreta, atribuindo a cada valor possível a sua probabilidade de ocorrência. Ela é uma ferramenta fundamental para compreender e analisar variáveis aleatórias discretas."
   ]
  },
  {
   "cell_type": "markdown",
   "id": "773df56e",
   "metadata": {},
   "source": [
    "A probability mass function (PMF), ou função de massa de probabilidade, em machine learning e ciência de dados, desempenha um papel crucial na modelagem e análise de dados discretos. A PMF é uma função que atribui a cada valor possível de uma variável aleatória discreta a sua probabilidade de ocorrência.\n",
    "\n",
    "Em machine learning e ciência de dados, a PMF é frequentemente utilizada em várias tarefas, tais como:\n",
    "\n",
    "1. Análise exploratória de dados: A PMF pode ser usada para visualizar a distribuição de probabilidades dos valores em uma variável discreta. Isso permite entender a frequência de cada valor e identificar possíveis padrões ou discrepâncias nos dados. Por exemplo, ao analisar dados sobre a preferência de produtos, podemos usar a PMF para determinar a probabilidade de um determinado produto ser escolhido.\n",
    "\n",
    "2. Modelagem de dados: A PMF é usada para construir modelos probabilísticos para representar dados discretos. Por exemplo, em um problema de classificação com variáveis discretas, como a classificação de documentos em categorias, a PMF pode ser usada para estimar as probabilidades condicionais de pertencer a cada categoria.\n",
    "\n",
    "3. Geração de dados sintéticos: A PMF pode ser usada para gerar dados sintéticos com base em uma distribuição específica. Por exemplo, ao simular dados de uma variável aleatória discreta com uma distribuição conhecida, podemos usar a PMF para gerar amostras aleatórias que sigam essa distribuição.\n",
    "\n",
    "4. Avaliação de modelos: A PMF pode ser usada para avaliar a qualidade dos modelos de aprendizado de máquina. Comparando as distribuições de probabilidade previstas pelo modelo com a PMF dos dados reais, podemos medir o quão bem o modelo está ajustando os dados e fazer comparações entre diferentes modelos.\n",
    "\n",
    "Em resumo, a PMF em machine learning e ciência de dados é usada para representar a distribuição de probabilidades de variáveis discretas. Ela desempenha um papel fundamental na modelagem de dados, avaliação de modelos e análise exploratória de dados, permitindo que sejam tomadas decisões informadas com base nas probabilidades associadas a cada valor possível da variável em questão."
   ]
  },
  {
   "cell_type": "markdown",
   "id": "113c9a79",
   "metadata": {},
   "source": [
    "## Binomial Distribution"
   ]
  },
  {
   "cell_type": "markdown",
   "id": "8d1e3c96",
   "metadata": {},
   "source": [
    "A distribuição binomial é um tipo de distribuição de probabilidade discreta que modela o número de sucessos em um certo número fixo de ensaios independentes, onde cada ensaio tem apenas duas possibilidades: sucesso ou fracasso. Ela é amplamente utilizada em estatística e em aplicações práticas em ciência de dados.\n",
    "\n",
    "A notação $X \\sim Binomial(n, p)$ é usada para representar que a variável aleatória 𝑋 segue uma distribuição binomial com parâmetros $n$ e $p$.\n",
    "\n",
    "$$ X \\sim Binomial(n, p)$$\n",
    "\n",
    "A distribuição binomial é caracterizada por dois parâmetros: o número de ensaios (n) e a probabilidade de sucesso em cada ensaio (p). A função de probabilidade da distribuição binomial é dada pela fórmula:\n",
    "\n",
    "$$ P(X = k) = C(n, k) * p^k * (1 - p)^{(n - k)} $$\n",
    "\n",
    "\n",
    "Onde:\n",
    "- X é a variável aleatória que representa o número de sucessos.\n",
    "- k é o número específico de sucessos desejado.\n",
    "- n é o número total de ensaios.\n",
    "- p é a probabilidade de sucesso em cada ensaio.\n",
    "- C(n, k) é o coeficiente binomial, que representa o número de combinações de n objetos tomados k de cada vez.\n",
    "\n",
    "A distribuição binomial possui as seguintes propriedades:\n",
    "\n",
    "1. Os valores da variável aleatória X estão no intervalo [0, n], onde n é o número total de ensaios.\n",
    "2. A média da distribuição binomial é dada por E(X) = n * p.\n",
    "3. A variância da distribuição binomial é dada por Var(X) = n * p * (1 - p).\n",
    "\n",
    "Exemplos de aplicação da distribuição binomial incluem:\n",
    "\n",
    "1. Lançamento de moedas: Seja X o número de vezes que uma moeda cai em \"cara\" em 10 lançamentos. Nesse caso, n = 10 e p = 0.5 (probabilidade de \"cara\"). A distribuição binomial pode ser usada para calcular a probabilidade de obter um certo número de \"caras\" em 10 lançamentos.\n",
    "\n",
    "2. Testes de hipóteses: A distribuição binomial é usada para testar a significância estatística de um resultado em um experimento binomial. Por exemplo, em um teste de medicamento, pode-se usar a distribuição binomial para calcular a probabilidade de obter um certo número de pacientes que responderam positivamente ao medicamento.\n",
    "\n",
    "3. Marketing: A distribuição binomial pode ser usada para modelar o número de clientes que respondem a uma campanha de marketing, onde cada cliente tem uma certa probabilidade de responder.\n",
    "\n",
    "Em resumo, a distribuição binomial é uma distribuição de probabilidade discreta que modela o número de sucessos em um número fixo de ensaios independentes. Ela é amplamente usada em estatística e ciência de dados para modelagem e análise de dados discretos."
   ]
  },
  {
   "cell_type": "markdown",
   "id": "473848a2",
   "metadata": {},
   "source": [
    "A distribuição binomial desempenha um papel importante em machine learning e ciência de dados, sendo amplamente utilizada em várias aplicações. Aqui estão algumas maneiras pelas quais a distribuição binomial é aplicada nesses campos:\n",
    "\n",
    "1. Testes de hipóteses: A distribuição binomial é usada em testes de hipóteses para avaliar a significância estatística de um resultado observado. Por exemplo, ao comparar duas abordagens de classificação, podemos usar a distribuição binomial para calcular a probabilidade de obter um certo número de acertos ao acaso, considerando a taxa de sucesso esperada de cada abordagem.\n",
    "\n",
    "2. Modelagem de eventos raros: A distribuição binomial pode ser aplicada quando estamos interessados na ocorrência de eventos raros. Por exemplo, em análise de fraudes, podemos modelar o número de transações fraudulentas em uma determinada amostra usando a distribuição binomial, assumindo uma taxa de fraude conhecida.\n",
    "\n",
    "3. Testes de controle de qualidade: A distribuição binomial é utilizada em testes de controle de qualidade para verificar se um processo está produzindo produtos defeituosos além de um limite aceitável. Podemos contar o número de itens defeituosos em uma amostra e modelar a distribuição desse número usando a distribuição binomial.\n",
    "\n",
    "4. Simulação de experimentos: Em muitos casos, é inviável realizar experimentos em larga escala para coletar dados. Nesses casos, a distribuição binomial pode ser usada para simular os resultados esperados. Por exemplo, ao planejar um experimento de marketing, podemos usar a distribuição binomial para simular o número de conversões esperadas com base nas taxas de conversão observadas em dados históricos.\n",
    "\n",
    "5. Análise de séries temporais: Em alguns cenários, a distribuição binomial é aplicada em análise de séries temporais, onde estamos interessados em modelar a probabilidade de eventos ocorrerem em intervalos de tempo específicos. Por exemplo, na previsão de demanda em varejo, podemos modelar a probabilidade de um determinado número de vendas ocorrerem em um determinado período usando a distribuição binomial.\n",
    "\n",
    "Esses são apenas alguns exemplos de como a distribuição binomial é aplicada em machine learning e ciência de dados. A escolha da distribuição apropriada depende do problema em questão e das características dos dados, mas a distribuição binomial é amplamente utilizada quando lidamos com variáveis discretas e eventos independentes."
   ]
  },
  {
   "cell_type": "markdown",
   "id": "e01b0a77",
   "metadata": {},
   "source": [
    "### Experimento: Marketing\n",
    "A distribuição binomial pode ser usada para modelar o número de clientes que respondem a uma campanha de marketing, onde cada cliente tem uma certa probabilidade de responder."
   ]
  },
  {
   "cell_type": "markdown",
   "id": "b9cb6524",
   "metadata": {},
   "source": [
    "Exemplo de como você pode usar a distribuição binomial em marketing para modelar o número de clientes que respondem a uma campanha de marketing:"
   ]
  },
  {
   "cell_type": "code",
   "execution_count": 3,
   "id": "beda298e",
   "metadata": {
    "ExecuteTime": {
     "end_time": "2023-06-29T22:38:02.530788Z",
     "start_time": "2023-06-29T22:38:02.361906Z"
    }
   },
   "outputs": [
    {
     "data": {
      "image/png": "[encoded data removed]",
      "text/plain": [
       "<Figure size 1440x576 with 1 Axes>"
      ]
     },
     "metadata": {
      "needs_background": "light"
     },
     "output_type": "display_data"
    }
   ],
   "source": [
    "import numpy as np\n",
    "import matplotlib.pyplot as plt\n",
    "\n",
    "# Número de clientes\n",
    "n_clientes = 100\n",
    "\n",
    "# Probabilidade de um cliente responder à campanha\n",
    "p_resposta = 0.2\n",
    "\n",
    "# Gerar amostras aleatórias da distribuição binomial\n",
    "respostas = np.random.binomial(n_clientes, p_resposta, size=1000)\n",
    "\n",
    "# Plotar a distribuição das respostas dos clientes\n",
    "plt.hist(respostas, bins=range(n_clientes+1), density=True, edgecolor='black')\n",
    "plt.xlabel('Número de Respostas dos Clientes')\n",
    "plt.ylabel('Probabilidade')\n",
    "plt.title('Distribuição das Respostas dos Clientes')\n",
    "plt.show()"
   ]
  },
  {
   "cell_type": "markdown",
   "id": "c2e45e70",
   "metadata": {},
   "source": [
    "Neste exemplo, assumimos que existem 100 clientes e cada cliente tem uma probabilidade de 0,2 (20%) de responder à campanha de marketing. Usamos a função `np.random.binomial` para gerar amostras aleatórias da distribuição binomial, representando o número de respostas dos clientes em cada simulação.\n",
    "\n",
    "Ao executar esse código, obtemos um histograma que mostra a **distribuição das respostas dos clientes**. O eixo x representa o número de respostas dos clientes, variando de 0 ao total de clientes, e o eixo y representa a probabilidade de cada resposta. O histograma fornece uma compreensão da probabilidade de diferentes níveis de resposta, permitindo avaliar a eficácia da sua campanha de marketing.\n",
    "\n",
    "Note que a distribuição real irá variar a cada vez que você executar o código devido à natureza aleatória da distribuição binomial."
   ]
  },
  {
   "cell_type": "markdown",
   "id": "52ebc82f",
   "metadata": {},
   "source": [
    "### Experimento: Simulação de taxa de conversão\n",
    "Em muitos casos, é inviável realizar experimentos em larga escala para coletar dados. Nesses casos, a distribuição binomial pode ser usada para simular os resultados esperados. Por exemplo, ao planejar um experimento de marketing, podemos usar a distribuição binomial para simular o número de conversões esperadas com base nas taxas de conversão observadas em dados históricos."
   ]
  },
  {
   "cell_type": "code",
   "execution_count": 12,
   "id": "d9c10058",
   "metadata": {
    "ExecuteTime": {
     "end_time": "2023-06-29T22:49:13.165421Z",
     "start_time": "2023-06-29T22:49:13.162618Z"
    }
   },
   "outputs": [
    {
     "name": "stdout",
     "output_type": "stream",
     "text": [
      "Número médio esperado de conversões: 10.044\n"
     ]
    }
   ],
   "source": [
    "import numpy as np\n",
    "\n",
    "# Taxa de conversão histórica\n",
    "taxa_conversao = 0.1\n",
    "\n",
    "# Número de tentativas/experimentos\n",
    "n_tentativas = 1000\n",
    "\n",
    "# Simular resultados do experimento\n",
    "conversoes = np.random.binomial(n=100, p=taxa_conversao, size=n_tentativas)\n",
    "\n",
    "# Calcular o número médio esperado de conversões\n",
    "conversoes_esperadas = np.mean(conversoes)\n",
    "\n",
    "print(\"Número médio esperado de conversões:\", conversoes_esperadas)\n",
    "\n",
    "# # Plotar a distribuição das respostas dos clientes\n",
    "# plt.hist(conversoes, bins = range(n_tentativas + 1), density=False, edgecolor='black')\n",
    "# plt.xlabel('Número de Conversões')\n",
    "# plt.ylabel('Probabilidade')\n",
    "# plt.title('Distribuição das Conversões dos Clientes')\n",
    "# plt.show()"
   ]
  },
  {
   "cell_type": "markdown",
   "id": "1a151710",
   "metadata": {},
   "source": [
    "Neste exemplo, assumimos uma taxa de conversão histórica de 0,1, que representa a probabilidade de uma conversão ocorrer em cada tentativa. Especificamos o número de tentativas/experimentos como 1000. Usando a função np.random.binomial, simulamos os resultados do experimento, gerando amostras aleatórias da distribuição binomial. Cada amostra representa o número de conversões em um único experimento com 100 tentativas.\n",
    "\n",
    "Por fim, calculamos o número médio esperado de conversões obtendo a média dos resultados simulados. Esse valor fornece uma estimativa do número de conversões que podemos esperar, em média, com base na taxa de conversão histórica"
   ]
  },
  {
   "cell_type": "markdown",
   "id": "16adc871",
   "metadata": {},
   "source": [
    "## Binomial Coefficient"
   ]
  },
  {
   "cell_type": "markdown",
   "id": "3c973cfb",
   "metadata": {},
   "source": [
    "O coeficiente binomial, representado como $\\binom{n}{k}$, é uma função matemática que calcula o número de combinações possíveis de se escolher \\(k\\) elementos de um conjunto de \\(n\\) elementos. Também é conhecido como \"n choose k\" ou \"nCk\".\n",
    "\n",
    "A fórmula para o coeficiente binomial é dada por:\n",
    "\n",
    "$$ \\binom{n}{k} = \\frac{n!}{k!(n-k)!} $$\n",
    "\n",
    "Onde:\n",
    "- $n!$ representa o fatorial* de $n$, que é o produto de todos os números inteiros positivos de 1 a $n$.\n",
    "- $k!$ representa o fatorial de $k$, que é o produto de todos os números inteiros positivos de 1 a $k$.\n",
    "- $(n-k)!$ representa o fatorial de $(n-k)$.\n",
    "\n",
    "O coeficiente binomial é usado principalmente para contar o número de maneiras diferentes de escolher um subconjunto de \\(k\\) elementos de um conjunto maior de \\(n\\) elementos, sem levar em consideração a ordem em que os elementos são escolhidos. É comumente aplicado em problemas de combinação, permutação e probabilidade.\n",
    "\n",
    "Por exemplo, considere o lançamento de uma moeda justa duas vezes. Queremos saber o número de maneiras diferentes de obter 1 cara e 1 coroa em dois lançamentos. Nesse caso, temos \\(n = 2\\) (número total de lançamentos) e \\(k = 1\\) (número de caras). Aplicando a fórmula do coeficiente binomial, obtemos:\n",
    "\n",
    "$$ \\binom{2}{1} = \\frac{2!}{1!(2-1)!} = \\frac{2}{1} = 2 $$\n",
    "\n",
    "Isso significa que existem duas maneiras diferentes de obter 1 cara e 1 coroa em dois lançamentos de uma moeda justa: cara-coroa e coroa-cara.\n",
    "\n",
    "O coeficiente binomial é amplamente utilizado em diversos campos, como combinatória, estatística, probabilidade, teoria de conjuntos e na análise de algoritmos. Ele desempenha um papel fundamental na contagem e na análise de eventos compostos em muitos problemas matemáticos e científicos."
   ]
  },
  {
   "cell_type": "markdown",
   "id": "c91b24a6",
   "metadata": {
    "ExecuteTime": {
     "end_time": "2023-06-29T23:18:55.035903Z",
     "start_time": "2023-06-29T23:18:55.031989Z"
    }
   },
   "source": [
    "Fatorial é uma operação matemática que consiste em multiplicar um número por todos os seus antecessores até chegar a 1. É denotado pelo símbolo \"!\" após o número. Por exemplo, o fatorial de 5 é representado como 5!, o fatorial de 3 é representado como 3!, e assim por diante.\n",
    "\n",
    "A fórmula geral para calcular o fatorial de um número inteiro positivo \\(n\\) é:\n",
    "\n",
    "$$ n! = n \\cdot (n-1) \\cdot (n-2) \\cdot \\ldots \\cdot 3 \\cdot 2 \\cdot 1$$\n",
    "\n",
    "Por definição, o fatorial de 0 é igual a 1, ou seja, \\(0! = 1\\).\n",
    "\n",
    "O fatorial é usado em várias áreas da matemática, como combinação, permutação, cálculo de probabilidades, análise de algoritmos e muitos outros. Ele também tem aplicações práticas em problemas do mundo real, como o cálculo de arranjos, o número de maneiras de organizar objetos e a análise de eventos independentes.\n",
    "\n",
    "Por exemplo, se queremos calcular o fatorial de 5, temos:\n",
    "\n",
    "$$ 5! = 5 \\cdot 4 \\cdot 3 \\cdot 2 \\cdot 1 = 120 $$\n",
    "\n",
    "Portanto, o fatorial de 5 é igual a 120."
   ]
  },
  {
   "cell_type": "markdown",
   "id": "7f62d934",
   "metadata": {},
   "source": [
    "Em machine learning e ciência de dados, o coeficiente binomial também desempenha um papel importante em várias áreas. Como:\n",
    "\n",
    "1. **Recursos combinatórios**: Em problemas de classificação e regressão, muitas vezes precisamos lidar com a combinação de recursos ou variáveis. O coeficiente binomial é usado para calcular o número total de combinações possíveis de $k$ recursos dentre um conjunto de $n$ recursos. Essa informação é útil para dimensionar o espaço de recursos, determinar a complexidade do modelo e otimizar o processo de seleção de recursos.\n",
    "\n",
    "2. **Probabilidade e estatística**: Em machine learning e ciência de dados, frequentemente nos deparamos com problemas que envolvem a contagem de eventos ou o cálculo de probabilidades. O coeficiente binomial é usado em cálculos de probabilidades binomiais, como a probabilidade de obter um certo número de sucessos em um número fixo de ensaios independentes. Isso é particularmente útil em problemas de classificação binária, onde queremos estimar a probabilidade de um evento ocorrer.\n",
    "\n",
    "3. **Modelagem de dados**: Em técnicas como regressão logística e regressão linear, o coeficiente binomial é usado para ajustar os parâmetros do modelo aos dados observados. O coeficiente binomial é incorporado nas funções de verossimilhança, que medem a adequação dos parâmetros do modelo aos dados. A maximização da função de verossimilhança é um objetivo comum na estimação de parâmetros em modelos estatísticos.\n",
    "\n",
    "4. **Amostragem**: O coeficiente binomial também é usado em problemas de amostragem, onde queremos estimar o número de combinações possíveis ou o tamanho de uma amostra representativa. Por exemplo, na validação cruzada, usada para avaliar modelos de machine learning, o coeficiente binomial é usado para calcular o número total de partições possíveis dos dados em conjuntos de treinamento e teste.\n",
    "\n",
    "Em resumo, o coeficiente binomial é amplamente utilizado em machine learning e ciência de dados para lidar com problemas de contagem, combinação, probabilidade, estimação de parâmetros e amostragem. Ele fornece uma ferramenta fundamental para calcular a probabilidade de eventos e analisar dados em várias etapas do processo de análise de dados."
   ]
  },
  {
   "cell_type": "markdown",
   "id": "29dc07bb",
   "metadata": {},
   "source": [
    "## Bernoulli Distribution"
   ]
  },
  {
   "cell_type": "code",
   "execution_count": null,
   "id": "aed98ce4",
   "metadata": {},
   "outputs": [],
   "source": []
  },
  {
   "cell_type": "markdown",
   "id": "1af55625",
   "metadata": {},
   "source": [
    "## Probability Density Function"
   ]
  },
  {
   "cell_type": "code",
   "execution_count": null,
   "id": "26f6fce7",
   "metadata": {},
   "outputs": [],
   "source": []
  },
  {
   "cell_type": "markdown",
   "id": "da948594",
   "metadata": {},
   "source": [
    "## Culmulative Distribution Function"
   ]
  },
  {
   "cell_type": "code",
   "execution_count": null,
   "id": "193fd445",
   "metadata": {},
   "outputs": [],
   "source": []
  },
  {
   "cell_type": "markdown",
   "id": "eff8d8c6",
   "metadata": {},
   "source": [
    "## Uniform Distribution"
   ]
  },
  {
   "cell_type": "code",
   "execution_count": null,
   "id": "700638d8",
   "metadata": {},
   "outputs": [],
   "source": []
  },
  {
   "cell_type": "markdown",
   "id": "e4352a52",
   "metadata": {},
   "source": [
    "## Poisson Distribution"
   ]
  },
  {
   "cell_type": "code",
   "execution_count": null,
   "id": "435c3dfc",
   "metadata": {},
   "outputs": [],
   "source": []
  },
  {
   "cell_type": "markdown",
   "id": "b419e502",
   "metadata": {},
   "source": [
    "## Normal Distribution"
   ]
  },
  {
   "cell_type": "code",
   "execution_count": null,
   "id": "198db315",
   "metadata": {},
   "outputs": [],
   "source": []
  },
  {
   "cell_type": "markdown",
   "id": "be7bca78",
   "metadata": {},
   "source": [
    "## Chi-Squared Distribution"
   ]
  },
  {
   "cell_type": "code",
   "execution_count": null,
   "id": "6fbe691f",
   "metadata": {},
   "outputs": [],
   "source": []
  },
  {
   "cell_type": "markdown",
   "id": "a692ffcc",
   "metadata": {},
   "source": [
    "## Sampling from a Distribution"
   ]
  },
  {
   "cell_type": "code",
   "execution_count": null,
   "id": "a592780d",
   "metadata": {},
   "outputs": [],
   "source": []
  },
  {
   "cell_type": "markdown",
   "id": "fb560f1c",
   "metadata": {},
   "source": [
    "# Week 2 - Describing Probability Distribution with Multiples Variables"
   ]
  },
  {
   "cell_type": "markdown",
   "id": "640b90ee",
   "metadata": {},
   "source": [
    "## Lesson 1 - Describing Distributions"
   ]
  },
  {
   "cell_type": "markdown",
   "id": "ef6008cd",
   "metadata": {},
   "source": [
    "## Measures of Central Tendency"
   ]
  },
  {
   "cell_type": "markdown",
   "id": "d58cc544",
   "metadata": {},
   "source": [
    "## Expected Value"
   ]
  },
  {
   "cell_type": "markdown",
   "id": "d4774bde",
   "metadata": {},
   "source": [
    "## Expected Value of a Funciton"
   ]
  },
  {
   "cell_type": "markdown",
   "id": "59938aad",
   "metadata": {},
   "source": [
    "## Sum of Expectations"
   ]
  },
  {
   "cell_type": "markdown",
   "id": "298391f3",
   "metadata": {},
   "source": [
    "## Variance"
   ]
  },
  {
   "cell_type": "markdown",
   "id": "d8e48e51",
   "metadata": {},
   "source": [
    "## Standard Deviation"
   ]
  },
  {
   "cell_type": "markdown",
   "id": "a1c975c5",
   "metadata": {},
   "source": [
    "## Sum of Gaussians"
   ]
  },
  {
   "cell_type": "markdown",
   "id": "b7a779c9",
   "metadata": {},
   "source": [
    "## Standarizing a distribution"
   ]
  },
  {
   "cell_type": "markdown",
   "id": "e2bbb16d",
   "metadata": {},
   "source": [
    "## Skewness and Kurtosis: Moments of a Distribution"
   ]
  },
  {
   "cell_type": "markdown",
   "id": "7ed7836e",
   "metadata": {},
   "source": [
    "## Skewness and Kurtosis - Skewness"
   ]
  },
  {
   "cell_type": "markdown",
   "id": "245b8e9d",
   "metadata": {},
   "source": [
    "## Skewness and Kurtosis - Kurtosis"
   ]
  },
  {
   "cell_type": "markdown",
   "id": "baf69bb6",
   "metadata": {},
   "source": [
    "## Quantiles and Box-plots"
   ]
  },
  {
   "cell_type": "markdown",
   "id": "d078596c",
   "metadata": {},
   "source": [
    "## Visualizing data: Kernel density estimation"
   ]
  },
  {
   "cell_type": "markdown",
   "id": "acea4fdb",
   "metadata": {},
   "source": [
    "## Visualizing data: Violin plots"
   ]
  },
  {
   "cell_type": "markdown",
   "id": "a79a64a6",
   "metadata": {},
   "source": [
    "## Visualizing data: QQ Plots"
   ]
  },
  {
   "cell_type": "markdown",
   "id": "2e396683",
   "metadata": {},
   "source": [
    "## Lesson 2 - Probability Distribution with Multiples Variables"
   ]
  },
  {
   "cell_type": "markdown",
   "id": "4eb6bc7c",
   "metadata": {},
   "source": [
    "## Joint Distributions (Discrete)"
   ]
  },
  {
   "cell_type": "markdown",
   "id": "00504377",
   "metadata": {},
   "source": [
    "## Joint Distributions (Continuous)"
   ]
  },
  {
   "cell_type": "markdown",
   "id": "5f48635e",
   "metadata": {},
   "source": [
    "## Marginal and Conditional Distribution"
   ]
  },
  {
   "cell_type": "markdown",
   "id": "715d051e",
   "metadata": {},
   "source": [
    "## Conditional Distribution"
   ]
  },
  {
   "cell_type": "markdown",
   "id": "26a69c4d",
   "metadata": {},
   "source": [
    "## Covariance of a Dataset"
   ]
  },
  {
   "cell_type": "markdown",
   "id": "e9334ff3",
   "metadata": {},
   "source": [
    "## Covariance of a Probability Distribution"
   ]
  },
  {
   "cell_type": "markdown",
   "id": "1387530d",
   "metadata": {},
   "source": [
    "## Covariance Matrix"
   ]
  },
  {
   "cell_type": "markdown",
   "id": "581ab184",
   "metadata": {},
   "source": [
    "## Correlation Coefficient"
   ]
  },
  {
   "cell_type": "markdown",
   "id": "8ef8bc76",
   "metadata": {},
   "source": [
    "## Multivariate Gaussian Distribution"
   ]
  },
  {
   "cell_type": "markdown",
   "id": "0084c56d",
   "metadata": {},
   "source": [
    "# Week 3 - Sampling and Point Estimation "
   ]
  },
  {
   "cell_type": "markdown",
   "id": "c9426eee",
   "metadata": {},
   "source": [
    "## subtitle"
   ]
  },
  {
   "cell_type": "markdown",
   "id": "83b9b071",
   "metadata": {},
   "source": [
    "## subtitle"
   ]
  },
  {
   "cell_type": "markdown",
   "id": "571e299a",
   "metadata": {},
   "source": [
    "## subtitle"
   ]
  },
  {
   "cell_type": "markdown",
   "id": "fa24c900",
   "metadata": {},
   "source": [
    "## subtitle"
   ]
  },
  {
   "cell_type": "markdown",
   "id": "c249fecc",
   "metadata": {},
   "source": [
    "## subtitle"
   ]
  },
  {
   "cell_type": "markdown",
   "id": "1d798a03",
   "metadata": {},
   "source": [
    "# Week 4 - Confidence Interval and Hypothesis Testing"
   ]
  },
  {
   "cell_type": "markdown",
   "id": "e91e2258",
   "metadata": {},
   "source": [
    "# Latex Symbols\n",
    "\n",
    "https://towardsdatascience.com/write-markdown-latex-in-the-jupyter-notebook-10985edb91fd"
   ]
  }
 ],
 "metadata": {
  "kernelspec": {
   "display_name": "Python 3 (ipykernel)",
   "language": "python",
   "name": "python3"
  },
  "language_info": {
   "codemirror_mode": {
    "name": "ipython",
    "version": 3
   },
   "file_extension": ".py",
   "mimetype": "text/x-python",
   "name": "python",
   "nbconvert_exporter": "python",
   "pygments_lexer": "ipython3",
   "version": "3.10.6"
  },
  "toc": {
   "base_numbering": 1,
   "nav_menu": {},
   "number_sections": true,
   "sideBar": true,
   "skip_h1_title": false,
   "title_cell": "Table of Contents",
   "title_sidebar": "Contents",
   "toc_cell": false,
   "toc_position": {
    "height": "calc(100% - 180px)",
    "left": "10px",
    "top": "150px",
    "width": "341.465px"
   },
   "toc_section_display": true,
   "toc_window_display": true
  },
  "varInspector": {
   "cols": {
    "lenName": 16,
    "lenType": 16,
    "lenVar": 40
   },
   "kernels_config": {
    "python": {
     "delete_cmd_postfix": "",
     "delete_cmd_prefix": "del ",
     "library": "var_list.py",
     "varRefreshCmd": "print(var_dic_list())"
    },
    "r": {
     "delete_cmd_postfix": ") ",
     "delete_cmd_prefix": "rm(",
     "library": "var_list.r",
     "varRefreshCmd": "cat(var_dic_list()) "
    }
   },
   "types_to_exclude": [
    "module",
    "function",
    "builtin_function_or_method",
    "instance",
    "_Feature"
   ],
   "window_display": false
  }
 },
 "nbformat": 4,
 "nbformat_minor": 5
}
