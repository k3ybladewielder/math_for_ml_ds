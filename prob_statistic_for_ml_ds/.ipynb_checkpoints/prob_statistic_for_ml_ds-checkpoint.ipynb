{
 "cells": [
  {
   "cell_type": "markdown",
   "id": "a2837aef",
   "metadata": {},
   "source": [
    "# Probability & Statistics for Machine Learning & Data Science"
   ]
  },
  {
   "cell_type": "markdown",
   "id": "76a5cb7b",
   "metadata": {},
   "source": [
    "# Week 1 - Introduction to Probability and Probability Distributions"
   ]
  },
  {
   "cell_type": "markdown",
   "id": "9330ef11",
   "metadata": {},
   "source": [
    "## Lesson 1 - Introdution to Probability"
   ]
  },
  {
   "cell_type": "markdown",
   "id": "d6f98e58",
   "metadata": {},
   "source": [
    "## What is probability ?"
   ]
  },
  {
   "cell_type": "markdown",
   "id": "b004f8d5",
   "metadata": {},
   "source": [
    "A probabilidade é uma medida numérica que quantifica a chance de um evento ocorrer. Ela descreve a **incerteza** associada a um determinado fenômeno e permite que possamos fazer previsões e tomar decisões com base nessa incerteza. A probabilidade é amplamente utilizada em diversas áreas, incluindo ciência de dados, estatística, matemática, engenharia, economia e muito mais.\n",
    "\n",
    "Existem diferentes abordagens para definir a probabilidade, sendo duas das mais comuns a abordagem clássica e a abordagem frequentista.\n",
    "\n",
    "1. Abordagem Clássica: Nesta abordagem, a probabilidade é calculada com base na razão entre o número de eventos favoráveis e o número total de eventos possíveis. Por exemplo, ao lançar um dado justo de seis faces, a probabilidade de obter um número específico, como o número 3, é de 1/6, pois há apenas uma face com esse número e seis faces ao todo.\n",
    "\n",
    "2. Abordagem Frequentista: Nesta abordagem, a probabilidade é calculada com base na frequência relativa de um evento em um grande número de repetições de um experimento. Por exemplo, se lançarmos uma moeda várias vezes, a probabilidade de obter cara é a proporção de vezes em que obtivemos cara em relação ao número total de lançamentos.\n",
    "\n",
    "Além disso, a probabilidade pode ser expressa em uma escala de 0 a 1, em que 0 indica impossibilidade absoluta e 1 indica certeza absoluta.\n",
    "\n",
    "Digamos que, de uma turma de 10 crianças numa escola, você precise escolher algumas para formar um time. Dessas 10, 3 sabem jogar futebol. Qual a probabilidade de a criança escolhida saber jogar futebol ?\n",
    "\n",
    "$$ P(soccer) = \\frac{\\text{evento}}{\\text{espaço amostral}} = \\frac{3}{10} = 0.3 $$\n",
    "\n",
    "As 3 crianças que sabem jogar fazem parte da amostra do evento de interesse, e fazem parte da população, a turma de 10 alunos.\n",
    "\n",
    "Vejamos alguns outros exemplos de aplicação da probabilidade:\n",
    "\n",
    "1. Lançamento de uma moeda: A probabilidade de obter cara ou coroa em um único lançamento de uma moeda justa é de 1/2 ou 0,5.\n",
    "\n",
    "2. Evento climático: A probabilidade de chover em um determinado dia pode ser expressa como 0,3, o que indica que há uma chance de 30% de ocorrer chuva nesse dia.\n",
    "\n",
    "3. Teste médico: Suponha que um teste médico para detectar uma doença tenha uma sensibilidade de 95% e uma especificidade de 90%. Isso significa que a probabilidade de um resultado positivo ser verdadeiro (indicando a presença da doença) é de 95%, enquanto a probabilidade de um resultado negativo ser verdadeiro (indicando a ausência da doença) é de 90%.\n",
    "\n",
    "Esses são apenas alguns exemplos simples para ilustrar o conceito de probabilidade. À medida que os cenários se tornam mais complexos, técnicas estatísticas mais avançadas, como a teoria das probabilidades, a teoria das distribuições e o cálculo probabilístico, podem ser aplicadas para calcular e interpretar a probabilidade com mais precisão."
   ]
  },
  {
   "cell_type": "markdown",
   "id": "31c3ba2c",
   "metadata": {},
   "source": [
    "O **complemento de um evento** em probabilidade é o evento que consiste em todos os resultados que não pertencem ao evento original. Em outras palavras, é o conjunto de todos os resultados possíveis que não satisfazem a condição do evento original. O complemento de um evento A é denotado por A' ou complemento de A. A probabilidade do complemento de um evento A é calculada subtraindo-se a probabilidade de A do valor 1 (probabilidade total).\n",
    "\n",
    "A fórmula para calcular o complemento de um evento A é:\n",
    "P(A') = 1 - P(A)\n",
    "\n",
    "Aqui estão alguns exemplos para ilustrar o conceito de complemento de probabilidade:\n",
    "\n",
    "1. Lançamento de um dado: Considere o evento A de obter um número par em um lançamento justo de um dado de seis faces. Os números pares possíveis são 2, 4 e 6. Portanto, a probabilidade de A é 3/6 = 1/2 (ou 0,5). O complemento de A (evento A') é obter um número ímpar. Os números ímpares possíveis são 1, 3 e 5. Assim, a probabilidade de A' é 3/6 = 1/2 (ou 0,5). Note que a probabilidade de A e A' somam 1, pois são eventos complementares.\n",
    "\n",
    "2. Lançamento de uma moeda: Suponha o evento A de obter cara em um lançamento justo de uma moeda. A probabilidade de A é 1/2 (ou 0,5). O complemento de A (evento A') é obter coroa. A probabilidade de A' também é 1/2 (ou 0,5), pois a moeda tem apenas dois lados possíveis.\n",
    "\n",
    "3. Evento climático: Considere o evento A de chover em um determinado dia. A probabilidade de A pode ser 0,3 (ou 30%). O complemento de A (evento A') é não chover, e a probabilidade de A' seria 1 - 0,3 = 0,7 (ou 70%).\n",
    "\n",
    "Ao trabalhar com probabilidade, o complemento é uma ferramenta útil para calcular a probabilidade de um evento ocorrer quando não temos diretamente sua probabilidade disponível. É importante lembrar que a probabilidade de um evento e seu complemento sempre somam 1, já que um dos dois eventos deve ocorrer necessariamente."
   ]
  },
  {
   "cell_type": "markdown",
   "id": "1cb7211a",
   "metadata": {},
   "source": [
    "## Sum of Probabilities (Disjoint Events)"
   ]
  },
  {
   "cell_type": "markdown",
   "id": "62967f6f",
   "metadata": {},
   "source": [
    "A **soma das probabilidades de eventos disjuntos** é um conceito fundamental em probabilidade. Quando temos eventos disjuntos, significa que eles **não podem ocorrer simultaneamente**, ou seja, se um evento acontece, o outro não pode ocorrer ao mesmo tempo. Nesse caso, a probabilidade da união desses eventos é igual à soma das probabilidades individuais de cada evento.\n",
    "\n",
    "Formalmente, se tivermos eventos disjuntos A e B, a probabilidade da união de A e B é dada por:\n",
    "$$ P(A ∪ B) = P(A) + P(B) $$\n",
    "\n",
    "Essa fórmula se estende para mais de dois eventos disjuntos. Se tivermos eventos disjuntos $A1, A2, ..., An$, a probabilidade da união de todos esses eventos é dada por:\n",
    "$$ P(A1 ∪ A2 ∪ ... ∪ An) = P(A1) + P(A2) + ... + P(An) $$\n",
    "\n",
    "Aqui estão alguns exemplos para ilustrar o conceito de soma de probabilidades para eventos disjuntos:\n",
    "\n",
    "1. Lançamento de um dado: Considere o evento A de obter um número par em um lançamento justo de um dado de seis faces, e o evento B de obter um número ímpar. Esses eventos são disjuntos, pois não é possível obter um número que seja simultaneamente par e ímpar. A probabilidade de A é 3/6 = 1/2 (ou 0,5), e a probabilidade de B também é 3/6 = 1/2 (ou 0,5). A probabilidade da união de A e B (obter um número par ou ímpar) é $P(A ∪ B) = P(A) + P(B) = 1/2 + 1/2 = 1$.\n",
    "\n",
    "2. Eventos climáticos: Suponha que temos três eventos disjuntos: A de chover, B de nevar e C de fazer sol em um determinado dia. Se a probabilidade de A (chover) for 0,3, a probabilidade de B (nevar) for 0,2 e a probabilidade de C (fazer sol) for 0,5, então a probabilidade da união desses eventos (ocorrer chuva, neve ou sol) é $ P(A ∪ B ∪ C) = P(A) + P(B) + P(C) = 0,3 + 0,2 + 0,5 = 1$.\n",
    "\n",
    "A soma das probabilidades para eventos disjuntos é uma propriedade fundamental que nos permite calcular a probabilidade de ocorrência de pelo menos um desses eventos. É importante ressaltar que essa propriedade se aplica somente a eventos disjuntos, ou seja, eventos que não podem ocorrer simultaneamente. Caso os eventos não sejam disjuntos, é necessário levar em consideração as interseções entre eles para calcular as probabilidades corretamente."
   ]
  },
  {
   "cell_type": "markdown",
   "id": "03e2b145",
   "metadata": {},
   "source": [
    "A soma de probabilidades em eventos disjuntos é uma técnica importante em data science e machine learning para calcular a probabilidade de ocorrência de eventos que são mutuamente exclusivos. Essa técnica é útil em várias áreas, incluindo classificação de dados, análise de risco e detecção de anomalias.\n",
    "\n",
    "Aqui estão alguns exemplos de como a soma de probabilidades em eventos disjuntos é aplicada em data science e machine learning:\n",
    "\n",
    "1. Classificação binária: Considere um problema de classificação binária em que temos dois eventos disjuntos, como \"classe 0\" e \"classe 1\". Ao construir um modelo de machine learning para classificar dados em uma dessas duas classes, a soma das probabilidades previstas para cada classe deve ser igual a 1. Isso ocorre porque a probabilidade total de todas as possíveis classes deve ser de 1. Portanto, ao fazer uma previsão, o modelo atribuirá uma probabilidade para cada classe e, em seguida, a soma dessas probabilidades será normalizada para 1.\n",
    "\n",
    "2. Análise de risco: Na análise de risco, é comum ter eventos disjuntos que representam diferentes cenários de risco. Por exemplo, em um modelo de crédito, podemos ter eventos disjuntos como \"inadimplência\" e \"pagamento em dia\". A probabilidade de ocorrência desses eventos disjuntos pode ser calculada separadamente e, em seguida, utilizada para estimar o risco total associado a um indivíduo ou uma transação.\n",
    "\n",
    "3. Detecção de anomalias: A detecção de anomalias é um campo em que identificamos eventos que são significativamente diferentes do comportamento normal. Podemos ter eventos disjuntos que representam \"comportamento normal\" e \"anomalias\". A soma das probabilidades desses eventos disjuntos pode ser utilizada para determinar a probabilidade total de um ponto de dados ser uma anomalia, permitindo a classificação eficiente de pontos de dados não usuais.\n",
    "\n",
    "Em resumo, a soma de probabilidades em eventos disjuntos desempenha um papel fundamental em data science e machine learning ao permitir o cálculo da probabilidade total de eventos exclusivos. Isso é essencial para a construção de modelos, a tomada de decisões baseada em risco e a detecção de padrões incomuns nos dados."
   ]
  },
  {
   "cell_type": "markdown",
   "id": "ad68d0c9",
   "metadata": {},
   "source": [
    "## Sum of Probabilities (Joint Events)"
   ]
  },
  {
   "cell_type": "markdown",
   "id": "d4f4612d",
   "metadata": {},
   "source": [
    "A soma de probabilidades em **eventos conjuntos** refere-se à probabilidade da ocorrência de **dois eventos simultaneamente**. Quando temos eventos conjuntos, a probabilidade da união desses eventos é calculada considerando a probabilidade de cada evento individual, levando em conta a **possível interseção** entre eles.\n",
    "\n",
    "Para dois eventos A e B, a probabilidade da união desses eventos é dada por:\n",
    "$$ P(A ∪ B) = P(A) + P(B) - P(A ∩ B) $$\n",
    "\n",
    "Essa fórmula leva em consideração que a probabilidade da interseção entre A e B é contada duas vezes (uma vez em P(A) e outra vez em P(B)). Portanto, subtraímos a probabilidade da interseção para evitar duplicação.\n",
    "\n",
    "Aqui estão alguns exemplos para ilustrar o conceito de soma de probabilidades em eventos conjuntos:\n",
    "\n",
    "1. Lançamento de um dado: Considere o evento A de obter um número par e o evento B de obter um número maior que 4 em um lançamento justo de um dado de seis faces. A probabilidade de A é 3/6 = 1/2 (ou 0,5), a probabilidade de B é 2/6 = 1/3 (ou aproximadamente 0,3333). A interseção entre A e B ocorre quando obtemos um número par maior que 4, ou seja, apenas o número 6. Portanto, a probabilidade de A ∩ B é 1/6 (ou aproximadamente 0,1667). A probabilidade da união de A e B é então:\n",
    "$$ P(A ∪ B) = P(A) + P(B) - P(A ∩ B) = 0,5 + 0,3333 - 0,1667 = 0,6666 $$.\n",
    "\n",
    "2. Eventos climáticos: Suponha que temos dois eventos: A de chover e B de fazer sol em um determinado dia. Se a probabilidade de A (chover) for 0,3 e a probabilidade de B (fazer sol) for 0,5, e a probabilidade da interseção entre A e B (ocorrer chuva e fazer sol) for 0,1, então a probabilidade da união desses eventos (ocorrer chuva ou fazer sol) é:\n",
    "$$ P(A ∪ B) = P(A) + P(B) - P(A ∩ B) = 0,3 + 0,5 - 0,1 = 0,7 $$.\n",
    "\n",
    "A soma de probabilidades em eventos conjuntos nos permite calcular a probabilidade da ocorrência de pelo menos um dos eventos. É importante lembrar que essa propriedade se aplica somente a eventos conjuntos, ou seja, eventos que podem ocorrer simultaneamente. Caso os eventos não sejam conjuntos, a fórmula da soma de probabilidades não pode ser aplicada diretamente, e outros métodos, como a teoria da probabilidade condicional, podem ser necessários para calcular as probabilidades corretamente."
   ]
  },
  {
   "cell_type": "markdown",
   "id": "e7d79c1e",
   "metadata": {},
   "source": [
    "A soma de probabilidades em eventos conjuntos é uma técnica importante em data science e machine learning para calcular a probabilidade de ocorrência de eventos que estão interligados ou relacionados de alguma forma. Essa técnica é amplamente aplicada em várias áreas, como classificação multiclasse, análise de dependência e detecção de padrões complexos.\n",
    "\n",
    "Aqui estão alguns exemplos de como a soma de probabilidades em eventos conjuntos é utilizada em data science e machine learning:\n",
    "\n",
    "1. Classificação multiclasse: Em problemas de classificação com mais de duas classes, a soma de probabilidades em eventos conjuntos é usada para atribuir probabilidades às diferentes classes. Cada classe representa um evento conjunto específico, e a probabilidade de um ponto de dados pertencer a cada classe é calculada. Ao fazer uma previsão, o modelo atribui probabilidades a todas as classes e, em seguida, normaliza essas probabilidades para que a soma total seja igual a 1.\n",
    "\n",
    "2. Análise de dependência: A soma de probabilidades em eventos conjuntos é útil para analisar a dependência entre variáveis em um conjunto de dados. Por exemplo, ao analisar a relação entre duas variáveis, como \"idade\" e \"renda\", podemos calcular a probabilidade conjunta de diferentes combinações de valores dessas variáveis. Essa análise de dependência ajuda a identificar associações ou relações significativas entre as variáveis e é usada em várias técnicas, como tabelas de contingência e coeficientes de correlação.\n",
    "\n",
    "3. Detecção de padrões complexos: Em alguns casos, é necessário identificar padrões complexos que envolvem a ocorrência simultânea de vários eventos. A soma de probabilidades em eventos conjuntos é usada para calcular a probabilidade de ocorrência desses padrões complexos. Por exemplo, em uma análise de séries temporais, podemos estar interessados na probabilidade de um conjunto específico de eventos ocorrer em um determinado período de tempo. A soma das probabilidades desses eventos conjuntos ajuda a quantificar a probabilidade total do padrão ocorrer.\n",
    "\n",
    "Em resumo, a soma de probabilidades em eventos conjuntos desempenha um papel fundamental em data science e machine learning, permitindo calcular a probabilidade de ocorrência de eventos relacionados ou interdependentes. Essa técnica é amplamente utilizada na classificação multiclasse, análise de dependência e detecção de padrões complexos, fornecendo informações valiosas para a tomada de decisões e a compreensão dos dados."
   ]
  },
  {
   "cell_type": "markdown",
   "id": "6da3fe65",
   "metadata": {},
   "source": [
    "## Independence"
   ]
  },
  {
   "cell_type": "markdown",
   "id": "903e644e",
   "metadata": {},
   "source": [
    "A **independência** é um conceito fundamental em probabilidade e estatística que descreve a **relação entre dois eventos**. Dois eventos são considerados independentes se a ocorrência (ou não ocorrência) de um evento não afeta a probabilidade do outro evento ocorrer.\n",
    "\n",
    "Em outras palavras, se A e B são eventos independentes, a probabilidade de ambos ocorrerem é igual ao produto das probabilidades individuais de cada evento. Matematicamente, isso pode ser expresso como:\n",
    "\n",
    "$$ P(A ∩ B) = P(A) * P(B) $$\n",
    "\n",
    "Aqui estão alguns exemplos para ilustrar o conceito de independência:\n",
    "\n",
    "1. Lançamento de uma moeda e lançamento de um dado: Considere os eventos A de obter cara em um lançamento justo de uma moeda e B de obter um número par em um lançamento justo de um dado de seis faces. Esses eventos são independentes, pois o resultado do lançamento da moeda não tem influência no resultado do lançamento do dado e vice-versa. A probabilidade de obter cara é 1/2, e a probabilidade de obter um número par no dado é 3/6 = 1/2. A probabilidade de ocorrer cara e um número par ao mesmo tempo é P(A ∩ B) = P(A) * P(B) = 1/2 * 1/2 = 1/4. \n",
    "\n",
    "\n",
    "2. Utilizando novamente o exemplo da moeda, qual é a probabilidade de cair cara **cinco vezes** ? Dado que são eventos independentes e que cada probabilidade é de 1/2, podemos estender a **regra do produto** para:\n",
    "\n",
    "$$ P(H) = (\\frac{1}{2})^{5} = \\frac{1}{32}$$\n",
    "\n",
    "Seguindo o mesmo exemplo, qual a probabilidade de ao jogar um dado, obter 10 números seis ?\n",
    "\n",
    "$$ P(10-6) = (\\frac{1}{6})^{10} = 1.6538171687920194e-08$$\n",
    "\n",
    "3. Evento climático: Suponha que tenhamos dois eventos: A de chover em um determinado dia e B de fazer sol no mesmo dia. Se a probabilidade de A (chover) for 0,3 e a probabilidade de B (fazer sol) for 0,7, e supondo que esses eventos sejam independentes, a probabilidade de ocorrer chuva e fazer sol no mesmo dia é:\n",
    "$$ P(A ∩ B) = P(A) * P(B) = 0,3 * 0,7 = 0,21 $$\n",
    "\n",
    "A independência entre eventos é uma suposição importante em muitos modelos probabilísticos e estatísticos. No entanto, é essencial ter cuidado ao assumir a independência, pois nem sempre é uma suposição válida. Em alguns casos, a dependência entre eventos pode ser significativa e afetar os resultados de uma análise estatística. Portanto, é importante avaliar a independência dos eventos com base no contexto específico e nos dados disponíveis antes de fazer suposições sobre a independência."
   ]
  },
  {
   "cell_type": "markdown",
   "id": "3b488c19",
   "metadata": {},
   "source": [
    "## Rules"
   ]
  },
  {
   "cell_type": "markdown",
   "id": "cd425890",
   "metadata": {},
   "source": [
    "A regra do produto e a regra da soma são duas regras fundamentais em probabilidade que nos permitem calcular a probabilidade de eventos compostos. Aqui está um resumo de cada uma delas:\n",
    "\n",
    "Regra do Produto:\n",
    "A regra do produto é usada para calcular a probabilidade de dois **eventos independentes ocorrerem simultaneamente**. Se A e B são eventos independentes, a probabilidade de ambos ocorrerem é igual ao produto das probabilidades individuais de cada evento:\n",
    "$$ P(A ∩ B) = P(A) * P(B)$$\n",
    "\n",
    "Essa regra é aplicável quando a ocorrência de um evento **não afeta** a probabilidade do outro evento ocorrer.\n",
    "\n",
    "Regra da Soma:\n",
    "A regra da soma é usada para calcular a probabilidade da **união de dois eventos (ou mais) ocorrerem**. Sejam A e B dois eventos quaisquer, a probabilidade de pelo menos um deles ocorrer é dada pela soma das probabilidades individuais dos eventos, subtraindo a probabilidade da interseção entre eles para evitar duplicação:\n",
    "P(A ∪ B) = P(A) + P(B) - P(A ∩ B)\n",
    "\n",
    "Essa regra leva em consideração a possibilidade de existir uma **interseção entre os eventos**, que deve ser corretamente contabilizada para evitar a duplicação da probabilidade.\n",
    "\n",
    "Essas regras são amplamente utilizadas em probabilidade e estatística para calcular a probabilidade de eventos compostos e são fundamentais para análises probabilísticas mais complexas. É importante ter em mente que essas regras são válidas apenas em determinadas condições, como a independência entre eventos para a regra do produto e a disjunção ou interseção adequada entre eventos para a regra da soma."
   ]
  },
  {
   "cell_type": "markdown",
   "id": "497d9ab5",
   "metadata": {},
   "source": [
    "## Birthday Problem"
   ]
  },
  {
   "cell_type": "markdown",
   "id": "5e4f8cc5",
   "metadata": {},
   "source": [
    "O \"problema do aniversário\" (ou \"birthday problem\") é um famoso problema probabilístico que envolve a probabilidade de duas pessoas em um grupo compartilharem o mesmo dia de aniversário. O problema é surpreendente, pois a intuição inicial pode levar a estimativas incorretas da probabilidade.\n",
    "\n",
    "Para entender o problema do aniversário com 30 pessoas, vamos considerar o seguinte cenário:\n",
    "\n",
    "Suponha que tenhamos um grupo de 30 pessoas. Queremos calcular a probabilidade de pelo menos duas pessoas nesse grupo compartilharem o mesmo dia de aniversário.\n",
    "\n",
    "Para resolver esse problema, podemos usar a **regra da soma** e o conceito de **complemento de probabilidade**. Vamos calcular a **probabilidade de nenhuma das 30 pessoas ter o mesmo aniversário** e, em seguida, **subtrair essa probabilidade de 1 (probabilidade total)** para obter a **probabilidade de pelo menos duas pessoas compartilharem o mesmo aniversário**.\n",
    "\n",
    "A probabilidade de uma pessoa ter uma data de aniversário específica é de 1/365 (desconsiderando os anos bissextos). Portanto, a probabilidade de nenhuma das 30 pessoas ter o mesmo aniversário é:\n",
    "\n",
    "$$ P(NC) = (365/365) * (364/365) * (363/365) * ... * (336/365) $$\n",
    "\n",
    "Essa probabilidade **P(NC)** ou P(Nenhum Compartilhado) é calculada levando em consideração a **probabilidade condicional** de cada pessoa ter uma data de aniversário diferente das demais.\n",
    "\n",
    "No início do cálculo, assumimos que a primeira pessoa escolhida tem qualquer uma das 365 datas de aniversário possíveis (probabilidade de 365/365 = 1). Em seguida, queremos calcular a probabilidade de que a segunda pessoa escolhida tenha um aniversário diferente da primeira pessoa. A probabilidade de escolher uma data de aniversário diferente é de 364/365, pois há apenas uma data de aniversário que é igual à da primeira pessoa.\n",
    "\n",
    "Para a terceira pessoa, queremos que ela tenha um aniversário diferente das duas primeiras. A probabilidade condicional de escolher uma data de aniversário diferente é de 363/365, pois existem apenas duas datas de aniversário que são iguais às das duas primeiras pessoas.\n",
    "\n",
    "Esse padrão continua para todas as 30 pessoas: a probabilidade condicional de cada pessoa ter um aniversário diferente das pessoas anteriores é calculada dividindo o número de datas de aniversário possíveis que são diferentes das datas já selecionadas pelo número total de datas de aniversário disponíveis.\n",
    "\n",
    "Assim, multiplicamos as probabilidades condicionais de cada pessoa ter um aniversário diferente das demais para obter a probabilidade de nenhuma das 30 pessoas ter o mesmo aniversário.\n",
    "\n",
    "Neste exemplo, a expressão $(365/365) * (364/365) * (363/365) * ... * (336/365)$ é usada para calcular essa probabilidade específica para um grupo de 30 pessoas. Cada termo na multiplicação representa a probabilidade condicional de cada pessoa ter um aniversário diferente das pessoas anteriores, dado que elas já escolheram datas de aniversário únicas.\n",
    "\n",
    "É importante notar que esse cálculo assume que todas as datas de aniversário são igualmente prováveis e que os aniversários são independentes entre as pessoas. Em situações da vida real, essas suposições podem não ser totalmente válidas, mas o problema do aniversário é um exemplo clássico que ilustra as propriedades probabilísticas interessantes e não intuitivas relacionadas à probabilidade de compartilhamento de aniversários em grupos.\n",
    "\n",
    "Agora, para obter a probabilidade de pelo menos duas pessoas compartilharem o mesmo aniversário, subtraímos essa probabilidade de 1:\n",
    "\n",
    "$$ P(C) = 1 - P(NC) $$\n",
    "\n",
    "Sendo C \"Compartilhado\" e NC \"Nenhum Compartilhado\".\n",
    "\n",
    "Calculando essas probabilidades usando a fórmula acima, descobrimos que a probabilidade de pelo menos duas pessoas compartilharem o mesmo aniversário em um grupo de 30 pessoas é aproximadamente **0,7063**, ou seja, cerca de **70,63%**.\n",
    "\n",
    "Essa probabilidade pode parecer surpreendentemente alta, pois intuitivamente esperamos que seja muito menor com apenas 30 pessoas. No entanto, **devido ao grande número de combinações possíveis** de pares de aniversários em um grupo, a probabilidade acaba sendo considerável.\n",
    "\n",
    "O problema do aniversário demonstra como a probabilidade pode ser contraintuitiva em certas situações e ressalta a importância de usar cálculos probabilísticos corretos para evitar conclusões enganosas."
   ]
  },
  {
   "cell_type": "markdown",
   "id": "dd10e3a9",
   "metadata": {},
   "source": [
    "## Conditional Probability"
   ]
  },
  {
   "cell_type": "markdown",
   "id": "484516b9",
   "metadata": {},
   "source": [
    "A probabilidade condicional é uma medida de probabilidade que se baseia em um evento ocorrer, dado que outro evento já ocorreu. Ela descreve a probabilidade de um evento A acontecer, dado que um evento B já ocorreu. A probabilidade condicional é expressa como P(A|B), lida como \"a probabilidade de A dado B\".\n",
    "\n",
    "A fórmula para a probabilidade condicional é dada por:\n",
    "\n",
    "$$ P(A|B) = P(A ∩ B) / P(B) $$\n",
    "\n",
    "Onde:\n",
    "- P(A ∩ B) representa a probabilidade da ocorrência conjunta dos eventos A e B, ou seja, a interseção de A e B.\n",
    "- P(B) é a probabilidade do evento B ocorrer.\n",
    "\n",
    "A probabilidade condicional nos permite atualizar nossas estimativas de probabilidade com base em informações adicionais. Ela é especialmente útil quando **há dependência entre eventos**.\n",
    "\n",
    "Aqui estão alguns exemplos para ilustrar a probabilidade condicional:\n",
    "\n",
    "Exemplo 1: Lançamento de dados\n",
    "Considere o lançamento de um dado justo. Evento A é obter um número par (2, 4 ou 6), e evento B é obter um número maior que 3 (4 ou 6). A probabilidade de obter um número par (A) dado que o número obtido é maior que 3 (B) é de 2/3, pois dos dois números maiores que 3 (4 e 6), dois são pares.\n",
    "\n",
    "$$ P(A|B) = P(A ∩ B) / P(B) = (1/6) / (2/6) = 2/3 $$\n",
    "\n",
    "Exemplo 2: Teste médico\n",
    "Suponha que um teste médico para uma doença específica tenha uma taxa de precisão de 95%. Evento A é ter a doença e evento B é o resultado do teste ser positivo. A probabilidade de ter a doença (A) dado um resultado positivo no teste (B) depende da taxa de falsos positivos e verdadeiros positivos do teste.\n",
    "\n",
    "Se a taxa de falsos positivos for de 5%, significa que 5% das pessoas saudáveis terão resultados positivos. Se a prevalência da doença na população for de 1%, podemos calcular a probabilidade condicional usando a fórmula:\n",
    "\n",
    "$$ P(A|B) = \\frac{P(A ∩ B)}{P(B)} = \\frac{P(A) * P(B|A)}{[P(A) * P(B|A) + P(A') * P(B|A')]} $$\n",
    "\n",
    "Onde:\n",
    "- P(A') é a probabilidade complementar de A, ou seja, a probabilidade de não ter a doença.\n",
    "- P(B|A) é a probabilidade de um resultado positivo no teste dado que a pessoa tem a doença.\n",
    "- P(B|A') é a probabilidade de um resultado positivo no teste dado que a pessoa não tem a doença.\n",
    "\n",
    "Neste exemplo, se substituirmos os valores correspondentes na fórmula, obteremos a probabilidade condicional de ter a doença dado um resultado positivo no teste.\n",
    "\n",
    "$$ P(A|B) = \\frac{(0.01 * 0.95)}{[(0.01 * 0.95) + (0.99 * 0.05)]} $$\n",
    "\n",
    "$$ P(A|B) = \\frac{0.0095}{(0.0095 + 0.0495)} = \\frac{0.0095}{0.059} $$\n",
    "\n",
    "$$ P(A|B) ≈ 0.161 $$\n",
    "\n",
    "\n",
    "A probabilidade condicional é uma ferramenta poderosa para fazer inferências e tomar decisões com base em informações disponíveis. Ela nos ajuda a atualizar nossas estimativas de probabilidade e levar em consideração eventos prévios para tomar decisões mais informadas."
   ]
  },
  {
   "cell_type": "markdown",
   "id": "0f8cc5a7",
   "metadata": {},
   "source": [
    "No exemplo de jogar duas moedas, considere que a primeira moeda foi lançada e deu cara. Agora, queremos determinar a probabilidade de a segunda moeda também dar cara, dado esse resultado da primeira moeda.\n",
    "\n",
    "Aqui, estamos interessados na probabilidade condicional de obter cara na segunda jogada, dado que a primeira jogada resultou em cara. Vamos denotar o evento A como a primeira moeda dar cara e o evento B como a segunda moeda dar cara.\n",
    "\n",
    "Podemos usar a fórmula da probabilidade condicional para calcular esse valor:\n",
    "\n",
    "$$ P(B|A) = P(A ∩ B) / P(A)$$\n",
    "\n",
    "A probabilidade de A ∩ B representa a probabilidade de ambos os eventos A e B ocorrerem, ou seja, a probabilidade de a primeira e a segunda moedas darem cara. No caso de jogar uma moeda justa, a probabilidade de cara em cada jogada é de 1/2. Portanto, a probabilidade de A ∩ B é (1/2) * (1/2) = 1/4.\n",
    "\n",
    "A probabilidade de A é a probabilidade de a primeira moeda dar cara, que também é 1/2.\n",
    "\n",
    "Substituindo esses valores na fórmula, obtemos:\n",
    "\n",
    "$$P(B|A) = (1/4) / (1/2) = 1/2$$\n",
    "\n",
    "Isso significa que, dado que a primeira moeda deu cara, a probabilidade de a segunda moeda dar cara é de 1/2.\n",
    "\n",
    "Em termos práticos, podemos interpretar isso como: se sabemos que a primeira moeda deu cara, não há influência do resultado da primeira jogada no resultado da segunda jogada. Portanto, a probabilidade de obter cara na segunda jogada é a mesma de qualquer outro lançamento de moeda individualmente, ou seja, 1/2.\n",
    "\n",
    "Esse exemplo ilustra como a probabilidade condicional pode ser usada para atualizar a probabilidade com base em informações prévias. No contexto de data science e machine learning, a probabilidade condicional é aplicada em várias tarefas, como classificação, previsão e tomada de decisões com base em informações condicionais disponíveis."
   ]
  },
  {
   "cell_type": "markdown",
   "id": "fc41fb98",
   "metadata": {},
   "source": [
    "Dado uma escola com 100 alunos, em que 40% gosta de futebol e 60% não, e que, 80% dos alunos usam chuteira, qual a probabilidade de dado que o aluno gosta de futebol P(S), qual a probabilidade dele usar chuteira ? Podemos visualizar todas as possibildiades na árvore de probabilidade condicional abaixo.\n",
    "\n",
    "<img src=\"./imgs/condicional_probability_tree.png\">"
   ]
  },
  {
   "cell_type": "markdown",
   "id": "576a30f9",
   "metadata": {},
   "source": [
    "A probabilidade condicional desempenha um papel importante em data science e machine learning, fornecendo informações úteis para análise, modelagem e tomada de decisões. Aqui estão algumas aplicações do uso de probabilidade condicional nesses campos:\n",
    "\n",
    "1. Classificação: A probabilidade condicional é amplamente usada em algoritmos de classificação, como o Naive Bayes. Esses algoritmos estimam a probabilidade de um ponto de dados pertencer a uma determinada classe com base em características observadas. A probabilidade condicional é fundamental para calcular essas estimativas, permitindo que o modelo tome decisões de classificação com base em probabilidades condicionais.\n",
    "\n",
    "2. Recomendação personalizada: Em sistemas de recomendação, a probabilidade condicional é usada para personalizar recomendações com base em preferências anteriores. Por exemplo, em um sistema de recomendação de filmes, a probabilidade condicional pode ser usada para estimar a probabilidade de um usuário gostar de um filme específico com base em filmes que ele já assistiu e classificou anteriormente.\n",
    "\n",
    "3. Análise de risco e detecção de fraudes: A probabilidade condicional desempenha um papel fundamental na análise de risco e detecção de fraudes. Por exemplo, em seguros, a probabilidade condicional é usada para estimar a probabilidade de um sinistro ocorrer com base em fatores de risco conhecidos. Da mesma forma, na detecção de fraudes, a probabilidade condicional é usada para identificar comportamentos suspeitos com base em padrões anteriores de atividade fraudulenta.\n",
    "\n",
    "4. Processamento de linguagem natural: Em tarefas de processamento de linguagem natural, a probabilidade condicional é usada para modelar a probabilidade de uma sequência de palavras dada uma sequência de palavras anterior. Isso é utilizado em algoritmos de modelagem de linguagem, tradução automática e correção ortográfica, onde a probabilidade condicional é usada para estimar a probabilidade de uma palavra ocorrer com base no contexto anterior.\n",
    "\n",
    "5. Redes Bayesianas: As redes Bayesianas são modelos probabilísticos que representam relacionamentos entre variáveis através de um grafo acíclico direcionado. A probabilidade condicional é essencial para construir e inferir em redes Bayesianas, pois as probabilidades condicionais são especificadas para cada variável dada a combinação de valores em suas variáveis pais.\n",
    "\n",
    "Em resumo, a probabilidade condicional é uma ferramenta essencial em data science e machine learning. Ela permite modelar e calcular a probabilidade de eventos com base em informações contextuais, ajudando na classificação, recomendação personalizada, análise de risco, detecção de fraudes, processamento de linguagem natural e muito mais. A capacidade de calcular probabilidades condicionais permite que os modelos sejam mais precisos e informados na tomada de decisões."
   ]
  },
  {
   "cell_type": "markdown",
   "id": "bc8fa56f",
   "metadata": {},
   "source": [
    "## Bayes Theorem - Intuition"
   ]
  },
  {
   "cell_type": "markdown",
   "id": "fc6a6e16",
   "metadata": {},
   "source": [
    "O Teorema de Bayes é um conceito fundamental em probabilidade e estatística que descreve como atualizar a probabilidade de um evento dado um novo conjunto de informações. Ele é usado para calcular probabilidades condicionais de forma inversa, ou seja, estima a probabilidade de um evento A ocorrer, dado que um evento B já ocorreu.\n",
    "\n",
    "O Teorema de Bayes é expresso pela seguinte fórmula:\n",
    "\n",
    "$$ P(A|B) = \\frac{[P(B|A) * P(A)]}{P(B)} = \\frac{[P(B|A) * P(A)])}{[P(A) * P(B|A) + P(A') * P(B|A')]} $$\n",
    "\n",
    "\n",
    "Onde:\n",
    "- P(A|B) é a probabilidade do evento A ocorrer dado o evento B.\n",
    "- P(B|A) é a probabilidade do evento B ocorrer dado o evento A.\n",
    "- P(A) e P(B) são as probabilidades marginais dos eventos A e B, respectivamente.\n",
    "\n",
    "O Teorema de Bayes é frequentemente utilizado quando queremos atualizar nossas estimativas de probabilidade com base em novas informações ou evidências. Ele nos permite calcular a probabilidade posterior de um evento A ocorrer, dado que um evento B já ocorreu, levando em consideração a probabilidade prévia de A e a probabilidade condicional de B dado A.\n",
    "\n",
    "Um exemplo clássico (já visto acima) de aplicação do Teorema de Bayes é o teste de diagnóstico médico. Suponha que uma doença rara tem uma taxa de prevalência de 1% na população. Um teste para essa doença tem uma taxa de precisão de 95%, ou seja, a probabilidade de um resultado positivo no teste dado que a pessoa tem a doença é de 95%. No entanto, o teste também tem uma taxa de falsos positivos de 5%, ou seja, a probabilidade de um resultado positivo no teste dado que a pessoa não tem a doença é de 5%.\n",
    "\n",
    "Agora, vamos supor que uma pessoa fez o teste e obteve um resultado positivo. A pergunta é: qual é a probabilidade de a pessoa realmente ter a doença?\n",
    "\n",
    "Podemos aplicar o Teorema de Bayes para responder a essa pergunta. Vamos definir os eventos da seguinte forma:\n",
    "- A: A pessoa tem a doença.\n",
    "- B: A pessoa obteve um resultado positivo no teste.\n",
    "\n",
    "Temos as seguintes probabilidades:\n",
    "- P(A) = 0.01 (probabilidade de uma pessoa ter a doença)\n",
    "- P(A') = 0.99 (probabilidade de uma pessoa não ter a doença)\n",
    "- P(B|A) = 0.95 (probabilidade de um resultado positivo dado que a pessoa tem a doença)\n",
    "- P(B|A') = 0.05 (probabilidade de um resultado positivo dado que a pessoa não tem a doença)\n",
    "\n",
    "Podemos calcular a probabilidade posterior de a pessoa ter a doença usando o Teorema de Bayes:\n",
    "\n",
    "$$ P(A|B) = \\frac{[P(B|A) * P(A)]}{[P(B|A) * P(A) + P(B|A') * P(A')]} $$\n",
    "\n",
    "Substituindo os valores, temos:\n",
    "\n",
    "$$ P(A|B) = \\frac{[0.95 * 0.01]}{[0.95 * 0.01 + 0.05 * 0.99]} $$\n",
    "\n",
    "Calculando, obtemos:\n",
    "\n",
    "$$ P(A|B) ≈ 0.161 $$\n",
    "\n",
    "Portanto, dado um resultado positivo no teste, a probabilidade de a pessoa realmente ter a doença é de aproximadamente 16.1%.\n",
    "\n",
    "A probabilidade de estar doente é chamado de **prior**. O evento, ou seja, o diagonóstico positivo é chamado de **evento**. Enquanto que a probabilidade de estar doente dado o disgnóstico positivo é chamado de **posterior**.\n",
    "\n",
    "Esse exemplo ilustra como o Teorema de Bayes permite atualizar nossas estimativas de probabilidade com base em novas informações. Ele é amplamente utilizado em várias áreas, como medicina, ciência de dados, aprendizado de máquina, processamento de linguagem natural, entre outros, para fazer inferências e tomar decisões baseadas em evidências condicionais."
   ]
  },
  {
   "cell_type": "markdown",
   "id": "7226ea6d",
   "metadata": {},
   "source": [
    "O Teorema de Bayes é uma ferramenta poderosa em data science e machine learning, permitindo a atualização de probabilidades com base em novas informações. Aqui estão alguns exemplos de como o Teorema de Bayes é aplicado nessas áreas:\n",
    "\n",
    "1. Classificação Bayesiana: O Teorema de Bayes é fundamental na abordagem de classificação bayesiana, onde a probabilidade de um ponto de dados pertencer a uma determinada classe é estimada com base em probabilidades condicionais. O Teorema de Bayes é usado para calcular a probabilidade posterior de uma classe dado um conjunto de características observadas. Por exemplo, na classificação de e-mails como spam ou não spam, o Teorema de Bayes é aplicado para calcular a probabilidade de um e-mail ser spam dado o conteúdo do e-mail.\n",
    "\n",
    "2. Filtragem Bayesiana: O Teorema de Bayes é usado em filtros bayesianos, como o filtro de Kalman e o filtro de partículas, que são amplamente utilizados em sistemas de rastreamento, previsão e fusão de sensores. Esses filtros aplicam o Teorema de Bayes para atualizar estimativas e incertezas com base em observações e modelos probabilísticos.\n",
    "\n",
    "3. Recomendação personalizada: Em sistemas de recomendação, o Teorema de Bayes é usado para calcular a probabilidade de um usuário gostar de um determinado item com base em suas preferências anteriores e no feedback de outros usuários. Por exemplo, em um sistema de recomendação de filmes, o Teorema de Bayes é aplicado para atualizar as probabilidades de preferência de um usuário com base nas classificações que ele atribuiu a filmes anteriores e nas classificações médias dos filmes pela comunidade.\n",
    "\n",
    "4. Processamento de linguagem natural: Na área de processamento de linguagem natural, o Teorema de Bayes é usado em várias tarefas, como classificação de documentos, detecção de spam, correção ortográfica e tradução automática. Por exemplo, na classificação de documentos, o Teorema de Bayes é aplicado para calcular a probabilidade de um documento pertencer a uma determinada categoria com base nas palavras presentes no documento.\n",
    "\n",
    "5. Detecção de anomalias: O Teorema de Bayes é usado na detecção de anomalias para identificar pontos de dados que são estatisticamente incomuns em relação a um conjunto de dados. O Teorema de Bayes é aplicado para calcular a probabilidade de um ponto de dados ser uma anomalia com base na distribuição estatística dos dados normais.\n",
    "\n",
    "Esses são apenas alguns exemplos de como o Teorema de Bayes é aplicado em data science e machine learning. Ele fornece uma estrutura matemática para atualizar probabilidades com base em novas evidências e é usado em uma ampla variedade de tarefas, desde classificação e filtragem até recomendação personalizada e detecção de anomalias."
   ]
  },
  {
   "cell_type": "markdown",
   "id": "00f4cac4",
   "metadata": {},
   "source": [
    "## Monty Hall Problem"
   ]
  },
  {
   "cell_type": "markdown",
   "id": "137c4495",
   "metadata": {},
   "source": [
    "O problema de Monty Hall é um famoso quebra-cabeça probabilístico baseado em um jogo de TV chamado \"Let's Make a Deal\" (Vamos fazer um acordo), apresentado por Monty Hall. O problema é assim formulado:\n",
    "\n",
    "Suponha que você esteja em um jogo onde há três portas: A, B e C. Atrás de uma dessas portas, há um prêmio (por exemplo, um carro), e as outras duas portas estão vazias. Você escolhe uma das portas (digamos, a porta A). Em seguida, o apresentador Monty Hall, que sabe onde o prêmio está, abre outra porta (digamos, a porta C) que revela que não há prêmio atrás dela.\n",
    "\n",
    "Aqui está o dilema: o apresentador Monty Hall oferece a você a chance de mudar sua escolha para a outra porta não aberta (porta B). Você deve mudar sua escolha? Isso aumenta suas chances de ganhar o prêmio?\n",
    "\n",
    "A resposta surpreendente é que, sim, você deve mudar sua escolha. A probabilidade de ganhar o prêmio é maior se você mudar sua escolha para a outra porta. Isso pode ser explicado usando o Teorema de Bayes.\n",
    "\n",
    "Inicialmente, a probabilidade de o prêmio estar atrás de qualquer uma das três portas é de 1/3 para cada porta. Suponha que você escolha a porta A. Existem duas situações possíveis:\n",
    "\n",
    "1. O prêmio está atrás da porta A (probabilidade de 1/3): Se você não mudar sua escolha, você ganhará o prêmio.\n",
    "\n",
    "2. O prêmio está atrás de uma das outras duas portas (porta B ou porta C) (probabilidade de 2/3): Se você mudar sua escolha, você perderá o prêmio, pois o apresentador Monty Hall revelará a porta sem prêmio (por exemplo, porta C) e você terá que abrir a outra porta sem prêmio (porta B).\n",
    "\n",
    "Agora, vamos calcular as probabilidades considerando as duas situações:\n",
    "\n",
    "- Se você não mudar sua escolha, sua probabilidade de ganhar é 1/3.\n",
    "- Se você mudar sua escolha, sua probabilidade de ganhar é 2/3.\n",
    "\n",
    "Portanto, é mais vantajoso mudar sua escolha, pois a probabilidade de ganhar o prêmio é maior (2/3) em comparação com a probabilidade de não mudar (1/3).\n",
    "\n",
    "Isso pode ser entendido de forma intuitiva: inicialmente, a probabilidade de você escolher a porta correta é de 1/3, enquanto a probabilidade de o prêmio estar em uma das outras duas portas é de 2/3. Quando o apresentador Monty Hall abre uma porta sem prêmio, essa informação atualiza a probabilidade de que o prêmio esteja na porta não aberta, que é a porta B. Portanto, mudar sua escolha aumenta suas chances de ganhar o prêmio.\n",
    "\n",
    "O problema de Monty Hall é um exemplo intrigante de probabilidade condicional e ilustra como o contexto e a atualização de informações podem afetar as probabilidades em um cenário aparentemente simples."
   ]
  },
  {
   "cell_type": "markdown",
   "id": "3cd10e29",
   "metadata": {},
   "source": [
    "## Bayes Theorem - Spam Exemple"
   ]
  },
  {
   "cell_type": "markdown",
   "id": "31f82d90",
   "metadata": {},
   "source": [
    "O Teorema de Bayes é amplamente utilizado em sistemas de detecção de spam para classificar e filtrar emails indesejados. O teorema permite calcular a probabilidade de um email ser spam, dado um conjunto de palavras ou características observadas no email.\n",
    "\n",
    "Aqui está como o Teorema de Bayes é aplicado na detecção de spams:\n",
    "\n",
    "1. Definindo as probabilidades iniciais:\n",
    "   - P(Spam): Probabilidade de um email ser spam.\n",
    "   - P(Não Spam): Probabilidade de um email não ser spam.\n",
    "   - Essas probabilidades podem ser estimadas com base em dados históricos de emails classificados como spam e não spam.\n",
    "\n",
    "2. Construindo um modelo de palavras:\n",
    "   - Um conjunto de palavras ou características é selecionado para construir um modelo de spam.\n",
    "   - Por exemplo, palavras como \"oferta\", \"grátis\", \"promoção\" podem ser fortes indicadores de spam.\n",
    "   - O modelo atribui uma probabilidade para cada palavra ou característica, tanto para emails classificados como spam quanto para não spam.\n",
    "   - Essas probabilidades podem ser estimadas usando técnicas estatísticas, como frequência relativa ou frequência inversa do documento (TF-IDF).\n",
    "\n",
    "3. Calculando a probabilidade de ser spam dado as palavras observadas:\n",
    "   - Dado um email com um conjunto de palavras, calculamos a probabilidade de ser spam usando o Teorema de Bayes.\n",
    "   - P(Spam|Palavras) = (P(Palavras|Spam) * P(Spam)) / P(Palavras)\n",
    "   - P(Palavras|Spam): Probabilidade de observar as palavras no email, dado que é spam.\n",
    "   - P(Palavras): Probabilidade de observar as palavras independentemente de ser spam ou não.\n",
    "   - O denominador P(Palavras) é uma constante que normaliza as probabilidades.\n",
    "\n",
    "4. Comparando as probabilidades:\n",
    "   - A probabilidade P(Spam|Palavras) é comparada com a probabilidade P(Não Spam|Palavras).\n",
    "   - Se P(Spam|Palavras) > P(Não Spam|Palavras), o email é classificado como spam. Caso contrário, é classificado como não spam.\n",
    "\n",
    "Exemplo:\n",
    "Suponha que, com base em dados históricos, temos as seguintes probabilidades:\n",
    "- P(Spam) = 0,4 (40% dos emails são spam).\n",
    "- P(Não Spam) = 0,6 (60% dos emails não são spam).\n",
    "- P(Palavra|Spam) = 0,8 (80% das palavras em emails spam são \"oferta\").\n",
    "- P(Palavra|Não Spam) = 0,2 (20% das palavras em emails não spam são \"oferta\").\n",
    "- Suponha que o email contenha a palavra \"oferta\".\n",
    "\n",
    "Usando o Teorema de Bayes, podemos calcular:\n",
    "- P(Spam|Palavra) = (P(Palavra|Spam) * P(Spam)) / P(Palavra)\n",
    "- P(Spam|Palavra) = (0,8 * 0,4) / P(Palavra)\n",
    "\n",
    "Para calcular P(Palavra), precisaríamos levar em conta todas as palavras observadas no email e calcular a probabilidade de ocorrerem em spam ou não spam. Essa etapa envolve um modelo mais complexo e cálculos adicionais.\n",
    "\n",
    "Com base nas probabilidades e no cálculo acima, podemos decidir se o email é spam ou não spam, comparando a probabilidade P(Spam|Palavra) com a probabilidade P(Não Spam|Palavra).\n",
    "\n",
    "É importante notar que o Teorema de Bayes é apenas uma das abordagens para a detecção de spam e existem outras técnicas e algoritmos mais avançados que podem ser usados em conjunto para obter melhores resultados."
   ]
  },
  {
   "cell_type": "markdown",
   "id": "b02fe4f1",
   "metadata": {},
   "source": [
    "## Bayes Theorem - The Naive Bayes"
   ]
  },
  {
   "cell_type": "markdown",
   "id": "94a9640e",
   "metadata": {},
   "source": [
    "O Naive Bayes é um algoritmo de classificação amplamente utilizado em aprendizado de máquina e mineração de dados. Ele é baseado no Teorema de Bayes e faz suposições simplificadoras sobre a independência condicional das características.\n",
    "\n",
    "Aqui está uma explicação do Naive Bayes e como ele funciona:\n",
    "\n",
    "1. Suposição de independência condicional:\n",
    "   - O Naive Bayes assume que todas as características relevantes para a classificação são **independentes entre si**, dado o valor da classe. (Ex. a ocorrencia de palavras \"oferta\" e \"ganhar\" num email. Essa ocorrência é claramente dependente, não independente)\n",
    "   - Essa suposição simplificadora permite que o algoritmo **calcule facilmente as probabilidades condicionais** necessárias para a classificação.\n",
    "\n",
    "2. Probabilidade condicional:\n",
    "   - O Naive Bayes usa a probabilidade condicional para estimar a probabilidade de uma instância pertencer a cada classe.\n",
    "   - Ele calcula a probabilidade de cada classe dado os valores das características da instância.\n",
    "\n",
    "3. Treinamento:\n",
    "   - Durante a fase de treinamento, o Naive Bayes estima as probabilidades condicionais a partir dos dados de treinamento.\n",
    "   - Para cada classe, são calculadas as probabilidades condicionais das características.\n",
    "\n",
    "4. Classificação:\n",
    "   - Durante a fase de classificação, o Naive Bayes usa as probabilidades condicionais estimadas para determinar a classe mais provável para uma nova instância.\n",
    "   - Ele calcula a probabilidade de cada classe para a instância e seleciona a classe com a maior probabilidade.\n",
    "\n",
    "**Exemplo:**\n",
    "\n",
    "De 100 emails, 20 ou 20% são spams. 80 ou 80% não são spams. 14 emails, dentre os spams, contém a palavra \"lottery\", ou seja 14/20 = 0,7 ou 70%. Já dos emails nao spam, 10 possuem a palavra \"lottery\", ou seja 10/80 = 0.125 ou 12,5%. Já com a palavra \"winning\", está presente em 20 emails ou 20% que são spams, e em 8 ou 80% dos não spams. Já dos emails que são spams, está presente em 15, ou seja 15/20 = 0.75 ou 75% e dos que não são spams está presente em 8, ou seja 8/80 = 0.1.\n",
    "\n",
    "1. Treinamento:\n",
    "   - Calculamos as probabilidades condicionais das características para cada classe (spam e não spam) com base nos dados de treinamento.\n",
    "\n",
    "2. Classificação:\n",
    "   - Dada uma nova instância, por exemplo, um e-mail com as palavras \"oferta\" (lottery) e \"ganhar\", calculamos a probabilidade de ser spam e a probabilidade de ser não spam usando as probabilidades condicionais estimadas.\n",
    "   - Multiplicamos as probabilidades condicionais relevantes e as multiplicamos pela probabilidade inicial da classe (P(Spam) e P(Não Spam)).\n",
    "   - Comparamos as probabilidades calculadas e atribuímos a instância à classe com a maior probabilidade.\n",
    "\n",
    "\n",
    "<img src=\"./imgs/naive_bayes_spam.png\">   \n",
    "\n",
    "O Naive Bayes é rápido, simples e eficiente em muitos cenários, mesmo com a suposição de independência condicional simplificadora. Ele é amplamente usado em problemas de classificação de texto, como detecção de spam, análise de sentimento, categorização de documentos, entre outros.\n",
    "\n",
    "No entanto, é importante notar que o Naive Bayes pode não funcionar bem em casos em que as suposições de independência condicional são violadas ou quando as características são altamente correlacionadas. Nesses casos, outros algoritmos de classificação mais complexos podem ser mais adequados."
   ]
  },
  {
   "cell_type": "markdown",
   "id": "8d940ee9",
   "metadata": {},
   "source": [
    "## Probability in Machine Learning"
   ]
  },
  {
   "cell_type": "markdown",
   "id": "99f1efd9",
   "metadata": {},
   "source": [
    "Probabilidade e probabilidade condicional são aplicadas em várias tarefas de machine learning, incluindo reconhecimento de imagem (image recognition) e análise de sentimentos (sentiment analysis). Aqui está uma explicação de como esses conceitos são utilizados nessas tarefas:\n",
    "\n",
    "1. Reconhecimento de imagem:\n",
    "   - Probabilidade: Na tarefa de reconhecimento de imagem, a probabilidade é usada para estimar a chance de uma imagem pertencer a determinadas classes.\n",
    "   - Por exemplo, um modelo de reconhecimento de imagem pode calcular a probabilidade de uma imagem ser um gato, um cachorro ou um pássaro.\n",
    "   - Essas probabilidades são geralmente calculadas usando técnicas como redes neurais convolucionais (CNNs) e softmax para atribuir probabilidades às diferentes classes.\n",
    "\n",
    "   - Probabilidade condicional: A probabilidade condicional é usada para modelar a relação entre os pixels de uma imagem e as classes associadas.\n",
    "   - Por exemplo, um modelo de reconhecimento de imagem pode estimar a probabilidade condicional de um pixel dado que a imagem pertence a uma determinada classe.\n",
    "   - Essa informação é usada para aprender padrões e características discriminativas nas imagens que ajudam na classificação correta.\n",
    "\n",
    "2. Análise de sentimentos:\n",
    "   - Probabilidade: Na análise de sentimentos, a probabilidade é usada para estimar a chance de uma determinada frase ou documento ser positivo, negativo ou neutro.\n",
    "   - Por exemplo, um modelo de análise de sentimentos pode calcular a probabilidade de uma avaliação de produto ser positiva ou negativa.\n",
    "   - Essas probabilidades podem ser usadas para determinar a polaridade do sentimento associado ao texto analisado.\n",
    "\n",
    "   - Probabilidade condicional: A probabilidade condicional é usada para modelar a relação entre as palavras ou características linguísticas e as polaridades dos sentimentos.\n",
    "   - Por exemplo, um modelo de análise de sentimentos pode estimar a probabilidade condicional de uma palavra ser encontrada em uma avaliação positiva ou negativa.\n",
    "   - Essa informação é usada para aprender quais palavras são fortemente associadas a sentimentos positivos ou negativos, ajudando na classificação do sentimento.\n",
    "\n",
    "Em ambas as tarefas, a probabilidade e a probabilidade condicional são essenciais para o treinamento dos modelos e a tomada de decisões. Essas probabilidades são usadas para estimar a confiança das previsões e ajustar os parâmetros dos modelos para maximizar a probabilidade de previsões corretas.\n",
    "\n",
    "Além disso, a probabilidade condicional também é usada em técnicas de processamento de linguagem natural, como modelos de linguagem baseados em cadeias de Markov e algoritmos de tradução automática, onde a probabilidade condicional de uma sequência de palavras pode ser usada para estimar a probabilidade de uma sequência de tradução ser correta.\n",
    "\n",
    "Em resumo, a probabilidade e a probabilidade condicional desempenham um papel fundamental em várias tarefas de machine learning, incluindo reconhecimento de imagem e análise de sentimentos, ajudando a tomar decisões confiáveis e a obter resultados precisos."
   ]
  },
  {
   "cell_type": "markdown",
   "id": "b79aff00",
   "metadata": {},
   "source": [
    "## Lesson 2 - Probability Distributions"
   ]
  },
  {
   "cell_type": "markdown",
   "id": "749c34df",
   "metadata": {},
   "source": [
    "## Random Variables"
   ]
  },
  {
   "cell_type": "markdown",
   "id": "c42a3727",
   "metadata": {},
   "source": [
    "Uma variável aleatória é uma função que associa valores numéricos a eventos em um espaço amostral. Ela representa a quantificação dos resultados possíveis de um experimento aleatório. Aqui está uma explicação mais detalhada, uma descrição e exemplos de variáveis aleatórias:\n",
    "\n",
    "1. Definição de variável aleatória:\n",
    "   - Uma variável aleatória é uma função que mapeia os resultados de um experimento aleatório para valores numéricos.\n",
    "   - Ela atribui um valor numérico a cada possível resultado do experimento.\n",
    "   - As variáveis aleatórias quantitativas podem ser discretas, assumindo apenas valores isolados, ou contínuas, assumindo valores em um intervalo contínuo.\n",
    "   \n",
    "<img src=\"./imgs/tipos_variaveis.png\">   \n",
    "\n",
    "2. Variáveis aleatórias discretas:\n",
    "   - Uma variável aleatória discreta assume um número finito ou contável de valores distintos.\n",
    "   - Exemplos de variáveis aleatórias discretas incluem o resultado de lançar um dado (1, 2, 3, 4, 5, 6) ou o número de caras em três lançamentos de uma moeda (0, 1, 2, 3).\n",
    "\n",
    "3. Variáveis aleatórias contínuas:\n",
    "   - Uma variável aleatória contínua assume um intervalo contínuo de valores reais.\n",
    "   - Exemplos de variáveis aleatórias contínuas incluem a altura de uma pessoa, a temperatura ambiente ou o tempo necessário para concluir uma tarefa.\n",
    "\n",
    "4. Função de probabilidade:\n",
    "   - Uma variável aleatória é caracterizada por sua função de probabilidade, que atribui uma probabilidade a cada valor possível da variável.\n",
    "   - Para variáveis aleatórias discretas, a função de probabilidade é geralmente expressa como uma tabela de probabilidades para cada valor.\n",
    "   - Para variáveis aleatórias contínuas, a função de probabilidade é descrita por uma função densidade de probabilidade (PDF), que representa a probabilidade de a variável assumir valores em um intervalo.\n",
    "\n",
    "5. Exemplos de variáveis aleatórias:\n",
    "   - Um exemplo de variável aleatória discreta é o número de falhas em um sistema durante um período de tempo fixo.\n",
    "   - Um exemplo de variável aleatória contínua é a temperatura média diária de uma cidade durante um determinado mês.\n",
    "\n",
    "Em machine learning, as variáveis aleatórias são usadas para modelar e descrever os dados. Elas desempenham um papel crucial na estimação de parâmetros, na inferência estatística e na construção de modelos preditivos. Conhecendo as propriedades das variáveis aleatórias, é possível fazer previsões, calcular probabilidades e tomar decisões informadas com base nos dados observados."
   ]
  },
  {
   "cell_type": "markdown",
   "id": "961e6e21",
   "metadata": {},
   "source": [
    "**Experimento**\n",
    "\n",
    "Para confirmar empiricamente que a probabilidade de sair cara e coroa em um lançamento de moeda é igual, podemos realizar um experimento simples, **repetindo o lançamento da moeda várias vezes e registrando os resultados**.\n",
    "\n",
    "O procedimento básico é o seguinte:\n",
    "\n",
    "1. Escolha um número de lançamentos que deseja realizar no experimento, por exemplo, 100, 1000 ou mais.\n",
    "2. Lance a moeda e registre o resultado de cada lançamento. Você pode atribuir \"cara\" ao valor 1 e \"coroa\" ao valor 0, por exemplo.\n",
    "3. Ao final do experimento, calcule a proporção de \"caras\" e \"coroas\" observadas dividindo o número de vezes que cada resultado ocorreu pelo total de lançamentos.\n",
    "4. Compare as proporções obtidas. Se a moeda for justa, ou seja, se a probabilidade de sair cara for igual à probabilidade de sair coroa, espera-se que as **proporções se aproximem de 0,5 para ambos os resultados**.\n",
    "5. Repita o experimento várias vezes, aumentando o número de lançamentos em cada repetição, para obter uma amostra maior e reduzir a variabilidade dos resultados.\n",
    "\n",
    "Por exemplo, se você realizar 100 lançamentos e obter 52 \"caras\" e 48 \"coroas\", a proporção de \"caras\" será de 0,52 e a proporção de \"coroas\" será de 0,48. Se realizar 1000 lançamentos e obter 498 \"caras\" e 502 \"coroas\", as proporções serão de 0,498 e 0,502, respectivamente.\n",
    "\n",
    "Ao repetir o experimento com um número cada vez maior de lançamentos, as proporções observadas devem se aproximar cada vez mais de 0,5 para ambos os resultados, indicando que a probabilidade de sair cara e coroa é igual.\n",
    "\n",
    "Esse tipo de experimento é uma forma prática de confirmar a igualdade de probabilidades e verificar se a moeda é justa. No entanto, é importante lembrar que pequenas flutuações podem ocorrer devido à aleatoriedade inerente ao processo de lançamento da moeda. Portanto, é recomendado repetir o experimento várias vezes para obter uma estimativa mais confiável das proporções."
   ]
  },
  {
   "cell_type": "code",
   "execution_count": 16,
   "id": "b5146e55",
   "metadata": {
    "ExecuteTime": {
     "end_time": "2023-07-02T14:25:26.402369Z",
     "start_time": "2023-07-02T14:25:26.097190Z"
    }
   },
   "outputs": [
    {
     "data": {
      "image/png": "[encoded data removed]",
      "text/plain": [
       "<Figure size 1440x576 with 1 Axes>"
      ]
     },
     "metadata": {
      "needs_background": "light"
     },
     "output_type": "display_data"
    }
   ],
   "source": [
    "import numpy as np\n",
    "import matplotlib.pyplot as plt\n",
    "plt.rcParams[\"figure.figsize\"] = (20, 8)\n",
    "\n",
    "# Set the seed for reproducibility\n",
    "np.random.seed(42)\n",
    "\n",
    "# Perform the coin flipping experiment\n",
    "num_experiments = 10000\n",
    "num_flips = 10\n",
    "results = []\n",
    "\n",
    "for exp in range(num_experiments):\n",
    "    flips = np.random.choice(['Heads', 'Tails'], size=num_flips)\n",
    "    num_heads = np.sum(flips == 'Heads')\n",
    "    num_tails = num_flips - num_heads\n",
    "    results.append((num_heads, num_tails))\n",
    "\n",
    "# Count the frequencies of heads and tails\n",
    "heads_counts = [result[0] for result in results]\n",
    "tails_counts = [result[1] for result in results]\n",
    "\n",
    "# Plot the distribution of heads and tails\n",
    "labels = ['Heads', 'Tails']\n",
    "counts = [heads_counts, tails_counts]\n",
    "\n",
    "plt.figure(figsize=(20, 8))\n",
    "plt.hist(counts, bins=np.arange(num_flips + 2) - 0.5, label=labels)\n",
    "plt.xlabel('Number of occurrences')\n",
    "plt.ylabel('Frequency')\n",
    "plt.xticks(range(num_flips + 1))\n",
    "plt.title('Distribution of \"Heads\" and \"Tails\"')\n",
    "plt.legend()\n",
    "plt.show()"
   ]
  },
  {
   "cell_type": "markdown",
   "id": "34de7486",
   "metadata": {},
   "source": [
    "O gráfico gerado mostra a distribuição do número de vezes que o valor \"cara\" e \"coroa\" ocorreram em 10.000 experimentos de lançamento de uma moeda, onde cada experimento consiste em lançar a moeda 10 vezes.\n",
    "\n",
    "No eixo x do gráfico, temos o número de ocorrências, variando de 0 a 10. Isso representa o número de vezes que o valor \"cara\" ou \"coroa\" apareceu nos 10 lançamentos.\n",
    "\n",
    "No eixo y, temos a frequência de cada número de ocorrências. Isso indica quantos experimentos resultaram em um determinado número de \"caras\" ou \"coroas\".\n",
    "\n",
    "As barras azuis representam a distribuição do número de vezes que o valor \"cara\" ocorreu, enquanto as barras laranjas representam a distribuição do número de vezes que o valor \"coroa\" ocorreu.\n",
    "\n",
    "A partir do gráfico, podemos observar algumas informações. Por exemplo:\n",
    "- O número mais comum de \"caras\" ou \"coroas\" é 5, pois a barra correspondente é a mais alta.\n",
    "- Conforme nos afastamos de 5, a frequência diminui, o que indica que é menos provável obter um número extremo de \"caras\" ou \"coroas\" (0, 1, 9 ou 10) em um experimento de 10 lançamentos de moeda.\n",
    "\n",
    "Esse gráfico nos dá uma visão visual da distribuição dos resultados dos lançamentos da moeda e nos permite entender melhor como os resultados podem ser esperados."
   ]
  },
  {
   "cell_type": "markdown",
   "id": "dcc44f40",
   "metadata": {},
   "source": [
    "Nesse experimento, podemos relacioná-lo à variável aleatória discreta, onde a variável é o número de vezes que a face \"cara\" aparece nos lançamentos da moeda.\n",
    "\n",
    "Uma variável aleatória é uma função que atribui um valor numérico a cada resultado possível de um experimento aleatório. No caso desse experimento, a variável aleatória representa o número de \"caras\" em cada conjunto de 10 lançamentos de moeda.\n",
    "\n",
    "Cada lançamento da moeda é considerado um ensaio independente, e a variável aleatória assume um valor inteiro entre 0 e 10. A distribuição da variável aleatória é obtida ao repetir o experimento várias vezes e contar o número de ocorrências de cada valor possível.\n",
    "\n",
    "No código fornecido, a lista `heads_counts` armazena os valores da variável aleatória, ou seja, o número de vezes que \"cara\" aparece em cada conjunto de 10 lançamentos. Esses valores são utilizados para construir o histograma, que representa a distribuição da variável aleatória.\n",
    "\n",
    "Assim, podemos considerar a variável aleatória discreta como a contagem de \"caras\" nos lançamentos da moeda, e o experimento nos permite analisar a distribuição dessa variável, observando a frequência de cada valor possível.\n",
    "\n",
    "É importante destacar que esse experimento com a moeda segue uma distribuição binomial, pois estamos contando o **número de sucessos (caras)** em um número fixo de ensaios independentes (lançamentos). A análise da distribuição da variável aleatória nos permite compreender melhor as probabilidades associadas ao experimento e auxilia na tomada de decisões em problemas práticos relacionados."
   ]
  },
  {
   "cell_type": "markdown",
   "id": "fdb596de",
   "metadata": {},
   "source": [
    "## Probability Distribution (Discrete)"
   ]
  },
  {
   "cell_type": "markdown",
   "id": "ea4d5ba7",
   "metadata": {},
   "source": [
    "A distribuição de probabilidades discreta descreve a probabilidade de ocorrência de valores específicos em uma variável aleatória discreta. Nessa distribuição, os valores possíveis são enumeráveis e têm probabilidades associadas a eles.\n",
    "\n",
    "Cada valor da variável aleatória discreta tem uma probabilidade de ocorrência que varia de 0 a 1, e a soma de todas as probabilidades deve ser igual a 1. A distribuição de probabilidades pode ser expressa por meio de uma função de probabilidade ou por uma tabela de valores.\n",
    "\n",
    "Existem várias distribuições de probabilidades discretas comumente utilizadas em estatística e probabilidade. Alguns exemplos são:\n",
    "\n",
    "1. Distribuição Uniforme Discreta: Todos os valores possíveis têm a mesma probabilidade de ocorrência. Por exemplo, ao lançar um dado justo de 6 faces, cada face tem probabilidade 1/6 de ser obtida.\n",
    "\n",
    "2. Distribuição Bernoulli: Tem dois possíveis resultados, geralmente rotulados como sucesso e fracasso. A probabilidade de sucesso, denotada por p, é fixa para cada ensaio. Por exemplo, lançar uma moeda honesta, onde cara é sucesso e coroa é fracasso.\n",
    "\n",
    "3. Distribuição Binomial: Descreve o número de sucessos em um número fixo de ensaios independentes. É caracterizada por dois parâmetros: o número de ensaios (n) e a probabilidade de sucesso (p) em cada ensaio. Por exemplo, o número de \"caras\" em 10 lançamentos de uma moeda justa. A distribuição Bernoulli é usada para modelar **um único evento binário**, enquanto a distribuição binomial é usada para modelar o número de sucessos em uma **série de eventos independentes e idênticos**. A distribuição binomial pode ser vista como uma coleção de distribuições Bernoulli independentes, onde cada uma representa um único experimento dentro da série\n",
    "\n",
    "4. Distribuição Poisson: Modela a ocorrência de eventos raros em um intervalo de tempo ou espaço fixo. É caracterizada por um único parâmetro, lambda (λ), que representa a taxa média de ocorrência do evento. Por exemplo, o número de chamadas recebidas em uma central telefônica em um minuto.\n",
    "\n",
    "Esses são apenas alguns exemplos de distribuições de probabilidades discretas. Cada uma delas possui características distintas e é aplicável em diferentes contextos. A escolha da distribuição adequada depende das características dos dados e do problema em questão.\n",
    "\n",
    "Ao estudar uma variável aleatória discreta, é importante compreender sua distribuição de probabilidades para realizar análises estatísticas, calcular médias, variâncias e tomar decisões informadas baseadas nos dados observados."
   ]
  },
  {
   "cell_type": "markdown",
   "id": "cba6f4bb",
   "metadata": {},
   "source": [
    "Em machine learning e ciência de dados, as distribuições de probabilidades discretas desempenham um papel importante na modelagem e análise de dados. Elas são usadas para descrever a probabilidade de ocorrência de diferentes valores em variáveis discretas, que são aquelas que podem assumir apenas valores distintos e enumeráveis.\n",
    "\n",
    "A escolha adequada de uma distribuição de probabilidades discreta depende do tipo de dados que estamos lidando e das suposições sobre o comportamento desses dados. Aqui estão alguns exemplos de como as distribuições de probabilidades discretas são aplicadas em machine learning e ciência de dados:\n",
    "\n",
    "1. Na classificação de textos, as distribuições de probabilidades discretas, como a distribuição multinomial, podem ser usadas para modelar a frequência das palavras em um documento. Essa informação pode ser usada para treinar modelos de classificação de texto, como o Naive Bayes, que usa a probabilidade condicional para classificar novos documentos.\n",
    "\n",
    "2. Na geração de sequências, como na geração de texto ou música, as distribuições de probabilidades discretas são usadas para modelar a probabilidade de ocorrência de cada símbolo em uma sequência. Por exemplo, o modelo de linguagem de Markov pode ser usado para prever a próxima palavra em uma frase com base nas probabilidades condicionais das palavras anteriores.\n",
    "\n",
    "3. Na recomendação de itens, as distribuições de probabilidades discretas podem ser usadas para modelar a preferência do usuário por diferentes itens. Por exemplo, o modelo de filtragem colaborativa pode usar a distribuição multinomial para modelar a probabilidade de um usuário gostar ou não de um determinado item.\n",
    "\n",
    "4. Na detecção de fraudes, as distribuições de probabilidades discretas podem ser usadas para modelar o comportamento normal do usuário e identificar anomalias. Por exemplo, a distribuição de Poisson pode ser usada para modelar a taxa média de ocorrência de determinados eventos e detectar desvios significativos dessa taxa.\n",
    "\n",
    "Esses são apenas alguns exemplos de como as distribuições de probabilidades discretas são aplicadas em machine learning e ciência de dados. A escolha da distribuição adequada depende do problema em questão e das características dos dados. Uma distribuição apropriada pode fornecer uma representação eficaz dos dados e permitir a aplicação de técnicas estatísticas e de aprendizado de máquina para análise e tomada de decisões."
   ]
  },
  {
   "cell_type": "markdown",
   "id": "f5ff11af",
   "metadata": {},
   "source": [
    "A probability mass function (PMF) ou **função de massa de probabilidade**, é uma função que associa a cada valor possível de uma variável aleatória discreta a sua probabilidade de ocorrência. A PMF é usada para descrever a distribuição de probabilidades de uma variável aleatória discreta.\n",
    "\n",
    "A função de massa de probabilidade deve satisfazer duas propriedades:\n",
    "\n",
    "1. Para cada valor possível da variável aleatória, a probabilidade associada deve ser não negativa. Ou seja, a função de massa de probabilidade deve retornar valores maiores ou iguais a zero.\n",
    "\n",
    "2. A soma de todas as probabilidades associadas aos valores possíveis da variável aleatória deve ser igual a 1. Isso significa que a função de massa de probabilidade deve atribuir toda a probabilidade total aos valores possíveis da variável aleatória.\n",
    "\n",
    "Um exemplo comum de PMF é a distribuição binomial. Nessa distribuição, a PMF é dada pela fórmula:\n",
    "\n",
    "P(X = k) = C(n, k) * p^k * (1 - p)^(n - k)\n",
    "\n",
    "Onde:\n",
    "- X é a variável aleatória.\n",
    "- k é o valor específico que a variável aleatória pode assumir.\n",
    "- n é o número de ensaios.\n",
    "- p é a probabilidade de sucesso em cada ensaio.\n",
    "- C(n, k) é o coeficiente binomial, que representa o número de combinações de n objetos tomados k de cada vez.\n",
    "\n",
    "A PMF permite calcular a probabilidade exata de um valor específico da variável aleatória ocorrer, bem como fazer cálculos relacionados à distribuição, como calcular a média, a variância e outros momentos.\n",
    "\n",
    "Em resumo, a PMF é uma função que descreve a distribuição de probabilidades de uma variável aleatória discreta, atribuindo a cada valor possível a sua probabilidade de ocorrência. Ela é uma ferramenta fundamental para compreender e analisar variáveis aleatórias discretas."
   ]
  },
  {
   "cell_type": "markdown",
   "id": "48793fb1",
   "metadata": {},
   "source": [
    "A probability mass function (PMF), ou função de massa de probabilidade, em machine learning e ciência de dados, desempenha um papel crucial na modelagem e análise de dados discretos. A PMF é uma função que atribui a cada valor possível de uma variável aleatória discreta a sua probabilidade de ocorrência.\n",
    "\n",
    "Em machine learning e ciência de dados, a PMF é frequentemente utilizada em várias tarefas, tais como:\n",
    "\n",
    "1. Análise exploratória de dados: A PMF pode ser usada para visualizar a distribuição de probabilidades dos valores em uma variável discreta. Isso permite entender a frequência de cada valor e identificar possíveis padrões ou discrepâncias nos dados. Por exemplo, ao analisar dados sobre a preferência de produtos, podemos usar a PMF para determinar a probabilidade de um determinado produto ser escolhido.\n",
    "\n",
    "2. Modelagem de dados: A PMF é usada para construir modelos probabilísticos para representar dados discretos. Por exemplo, em um problema de classificação com variáveis discretas, como a classificação de documentos em categorias, a PMF pode ser usada para estimar as probabilidades condicionais de pertencer a cada categoria.\n",
    "\n",
    "3. Geração de dados sintéticos: A PMF pode ser usada para gerar dados sintéticos com base em uma distribuição específica. Por exemplo, ao simular dados de uma variável aleatória discreta com uma distribuição conhecida, podemos usar a PMF para gerar amostras aleatórias que sigam essa distribuição.\n",
    "\n",
    "4. Avaliação de modelos: A PMF pode ser usada para avaliar a qualidade dos modelos de aprendizado de máquina. Comparando as distribuições de probabilidade previstas pelo modelo com a PMF dos dados reais, podemos medir o quão bem o modelo está ajustando os dados e fazer comparações entre diferentes modelos.\n",
    "\n",
    "Em resumo, a PMF em machine learning e ciência de dados é usada para representar a distribuição de probabilidades de variáveis discretas. Ela desempenha um papel fundamental na modelagem de dados, avaliação de modelos e análise exploratória de dados, permitindo que sejam tomadas decisões informadas com base nas probabilidades associadas a cada valor possível da variável em questão."
   ]
  },
  {
   "cell_type": "markdown",
   "id": "fd47906e",
   "metadata": {},
   "source": [
    "## Binomial Distribution"
   ]
  },
  {
   "cell_type": "markdown",
   "id": "ea081bfe",
   "metadata": {},
   "source": [
    "A distribuição binomial é um tipo de distribuição de probabilidade discreta que modela o número de sucessos em um certo número fixo de ensaios independentes, onde cada ensaio tem apenas duas possibilidades: sucesso ou fracasso. Ela é amplamente utilizada em estatística e em aplicações práticas em ciência de dados.\n",
    "\n",
    "A notação $X \\sim Binomial(n, p)$ é usada para representar que a variável aleatória 𝑋 segue uma distribuição binomial com parâmetros $n$ e $p$.\n",
    "\n",
    "$$ X \\sim Binomial(n, p)$$\n",
    "\n",
    "A distribuição binomial é caracterizada por dois parâmetros: o número de ensaios (n) e a probabilidade de sucesso em cada ensaio (p). A função de probabilidade da distribuição binomial é dada pela fórmula:\n",
    "\n",
    "$$ P(X = k) = C(n, k) * p^k * (1 - p)^{(n - k)} $$\n",
    "\n",
    "\n",
    "Onde:\n",
    "- X é a variável aleatória que representa o número de sucessos.\n",
    "- k é o número específico de sucessos desejado.\n",
    "- n é o número total de ensaios.\n",
    "- p é a probabilidade de sucesso em cada ensaio.\n",
    "- C(n, k) é o coeficiente binomial, que representa o número de combinações de n objetos tomados k de cada vez.\n",
    "\n",
    "A distribuição binomial possui as seguintes propriedades:\n",
    "\n",
    "1. Os valores da variável aleatória X estão no intervalo [0, n], onde n é o número total de ensaios.\n",
    "2. A média da distribuição binomial é dada por E(X) = n * p.\n",
    "3. A variância da distribuição binomial é dada por Var(X) = n * p * (1 - p).\n",
    "\n",
    "Exemplos de aplicação da distribuição binomial incluem:\n",
    "\n",
    "1. Lançamento de moedas: Seja X o número de vezes que uma moeda cai em \"cara\" em 10 lançamentos. Nesse caso, n = 10 e p = 0.5 (probabilidade de \"cara\"). A distribuição binomial pode ser usada para calcular a probabilidade de obter um certo número de \"caras\" em 10 lançamentos.\n",
    "\n",
    "2. Testes de hipóteses: A distribuição binomial é usada para testar a significância estatística de um resultado em um experimento binomial. Por exemplo, em um teste de medicamento, pode-se usar a distribuição binomial para calcular a probabilidade de obter um certo número de pacientes que responderam positivamente ao medicamento.\n",
    "\n",
    "3. Marketing: A distribuição binomial pode ser usada para modelar o número de clientes que respondem a uma campanha de marketing, onde cada cliente tem uma certa probabilidade de responder.\n",
    "\n",
    "Em resumo, a distribuição binomial é uma distribuição de probabilidade discreta que modela o número de sucessos em um número fixo de ensaios independentes. Ela é amplamente usada em estatística e ciência de dados para modelagem e análise de dados discretos."
   ]
  },
  {
   "cell_type": "markdown",
   "id": "9338c697",
   "metadata": {},
   "source": [
    "A distribuição binomial desempenha um papel importante em machine learning e ciência de dados, sendo amplamente utilizada em várias aplicações. Aqui estão algumas maneiras pelas quais a distribuição binomial é aplicada nesses campos:\n",
    "\n",
    "1. Testes de hipóteses: A distribuição binomial é usada em testes de hipóteses para avaliar a significância estatística de um resultado observado. Por exemplo, ao comparar duas abordagens de classificação, podemos usar a distribuição binomial para calcular a probabilidade de obter um certo número de acertos ao acaso, considerando a taxa de sucesso esperada de cada abordagem.\n",
    "\n",
    "2. Modelagem de eventos raros: A distribuição binomial pode ser aplicada quando estamos interessados na ocorrência de eventos raros. Por exemplo, em análise de fraudes, podemos modelar o número de transações fraudulentas em uma determinada amostra usando a distribuição binomial, assumindo uma taxa de fraude conhecida.\n",
    "\n",
    "3. Testes de controle de qualidade: A distribuição binomial é utilizada em testes de controle de qualidade para verificar se um processo está produzindo produtos defeituosos além de um limite aceitável. Podemos contar o número de itens defeituosos em uma amostra e modelar a distribuição desse número usando a distribuição binomial.\n",
    "\n",
    "4. Simulação de experimentos: Em muitos casos, é inviável realizar experimentos em larga escala para coletar dados. Nesses casos, a distribuição binomial pode ser usada para simular os resultados esperados. Por exemplo, ao planejar um experimento de marketing, podemos usar a distribuição binomial para simular o número de conversões esperadas com base nas taxas de conversão observadas em dados históricos.\n",
    "\n",
    "5. Análise de séries temporais: Em alguns cenários, a distribuição binomial é aplicada em análise de séries temporais, onde estamos interessados em modelar a probabilidade de eventos ocorrerem em intervalos de tempo específicos. Por exemplo, na previsão de demanda em varejo, podemos modelar a probabilidade de um determinado número de vendas ocorrerem em um determinado período usando a distribuição binomial.\n",
    "\n",
    "Esses são apenas alguns exemplos de como a distribuição binomial é aplicada em machine learning e ciência de dados. A escolha da distribuição apropriada depende do problema em questão e das características dos dados, mas a distribuição binomial é amplamente utilizada quando lidamos com variáveis discretas e eventos independentes."
   ]
  },
  {
   "cell_type": "markdown",
   "id": "09fea395",
   "metadata": {},
   "source": [
    "### Experimento: Marketing\n",
    "A distribuição binomial pode ser usada para modelar o número de clientes que respondem a uma campanha de marketing, onde cada cliente tem uma certa probabilidade de responder."
   ]
  },
  {
   "cell_type": "markdown",
   "id": "426641a5",
   "metadata": {},
   "source": [
    "Exemplo de como você pode usar a distribuição binomial em marketing para modelar o número de clientes que respondem a uma campanha de marketing:"
   ]
  },
  {
   "cell_type": "code",
   "execution_count": 17,
   "id": "d2a545da",
   "metadata": {
    "ExecuteTime": {
     "end_time": "2023-07-02T14:25:26.545409Z",
     "start_time": "2023-07-02T14:25:26.403566Z"
    }
   },
   "outputs": [
    {
     "data": {
      "image/png": "[encoded data removed]",
      "text/plain": [
       "<Figure size 1440x576 with 1 Axes>"
      ]
     },
     "metadata": {
      "needs_background": "light"
     },
     "output_type": "display_data"
    }
   ],
   "source": [
    "import numpy as np\n",
    "import matplotlib.pyplot as plt\n",
    "\n",
    "# Número de clientes\n",
    "n_clientes = 100\n",
    "\n",
    "# Probabilidade de um cliente responder à campanha\n",
    "p_resposta = 0.2\n",
    "\n",
    "# Gerar amostras aleatórias da distribuição binomial\n",
    "respostas = np.random.binomial(n_clientes, p_resposta, size=1000)\n",
    "\n",
    "# Plotar a distribuição das respostas dos clientes\n",
    "plt.hist(respostas, bins=range(n_clientes+1), density=True, edgecolor='black')\n",
    "plt.xlabel('Número de Respostas dos Clientes')\n",
    "plt.ylabel('Probabilidade')\n",
    "plt.title('Distribuição das Respostas dos Clientes')\n",
    "plt.show()"
   ]
  },
  {
   "cell_type": "markdown",
   "id": "7f1eb471",
   "metadata": {},
   "source": [
    "Neste exemplo, assumimos que existem 100 clientes e cada cliente tem uma probabilidade de 0,2 (20%) de responder à campanha de marketing. Usamos a função `np.random.binomial` para gerar amostras aleatórias da distribuição binomial, representando o número de respostas dos clientes em cada simulação.\n",
    "\n",
    "Ao executar esse código, obtemos um histograma que mostra a **distribuição das respostas dos clientes**. O eixo x representa o número de respostas dos clientes, variando de 0 ao total de clientes, e o eixo y representa a probabilidade de cada resposta. O histograma fornece uma compreensão da probabilidade de diferentes níveis de resposta, permitindo avaliar a eficácia da sua campanha de marketing.\n",
    "\n",
    "Note que a distribuição real irá variar a cada vez que você executar o código devido à natureza aleatória da distribuição binomial."
   ]
  },
  {
   "cell_type": "markdown",
   "id": "d0613841",
   "metadata": {},
   "source": [
    "### Experimento: Simulação de taxa de conversão\n",
    "Em muitos casos, é inviável realizar experimentos em larga escala para coletar dados. Nesses casos, a distribuição binomial pode ser usada para simular os resultados esperados. Por exemplo, ao planejar um experimento de marketing, podemos usar a distribuição binomial para simular o número de conversões esperadas com base nas taxas de conversão observadas em dados históricos."
   ]
  },
  {
   "cell_type": "code",
   "execution_count": 18,
   "id": "e8af2c9d",
   "metadata": {
    "ExecuteTime": {
     "end_time": "2023-07-02T14:25:26.549174Z",
     "start_time": "2023-07-02T14:25:26.546295Z"
    }
   },
   "outputs": [
    {
     "name": "stdout",
     "output_type": "stream",
     "text": [
      "Número médio esperado de conversões: 10.094\n"
     ]
    }
   ],
   "source": [
    "import numpy as np\n",
    "\n",
    "# Taxa de conversão histórica\n",
    "taxa_conversao = 0.1\n",
    "\n",
    "# Número de tentativas/experimentos\n",
    "n_tentativas = 1000\n",
    "\n",
    "# Simular resultados do experimento\n",
    "conversoes = np.random.binomial(n=100, p=taxa_conversao, size=n_tentativas)\n",
    "\n",
    "# Calcular o número médio esperado de conversões\n",
    "conversoes_esperadas = np.mean(conversoes)\n",
    "\n",
    "print(\"Número médio esperado de conversões:\", conversoes_esperadas)\n",
    "\n",
    "# # Plotar a distribuição das respostas dos clientes\n",
    "# plt.hist(conversoes, bins = range(n_tentativas + 1), density=False, edgecolor='black')\n",
    "# plt.xlabel('Número de Conversões')\n",
    "# plt.ylabel('Probabilidade')\n",
    "# plt.title('Distribuição das Conversões dos Clientes')\n",
    "# plt.show()"
   ]
  },
  {
   "cell_type": "markdown",
   "id": "2027c6f3",
   "metadata": {},
   "source": [
    "Neste exemplo, assumimos uma taxa de conversão histórica de 0,1, que representa a probabilidade de uma conversão ocorrer em cada tentativa. Especificamos o número de tentativas/experimentos como 1000. Usando a função np.random.binomial, simulamos os resultados do experimento, gerando amostras aleatórias da distribuição binomial. Cada amostra representa o número de conversões em um único experimento com 100 tentativas.\n",
    "\n",
    "Por fim, calculamos o número médio esperado de conversões obtendo a média dos resultados simulados. Esse valor fornece uma estimativa do número de conversões que podemos esperar, em média, com base na taxa de conversão histórica"
   ]
  },
  {
   "cell_type": "markdown",
   "id": "12f18398",
   "metadata": {},
   "source": [
    "## Binomial Coefficient"
   ]
  },
  {
   "cell_type": "markdown",
   "id": "d3074708",
   "metadata": {},
   "source": [
    "O coeficiente binomial, representado como $\\binom{n}{k}$, é uma função matemática que calcula o número de combinações possíveis de se escolher \\(k\\) elementos de um conjunto de \\(n\\) elementos. Também é conhecido como \"n choose k\" ou \"nCk\".\n",
    "\n",
    "A fórmula para o coeficiente binomial é dada por:\n",
    "\n",
    "$$ \\binom{n}{k} = \\frac{n!}{k!(n-k)!} $$\n",
    "\n",
    "Onde:\n",
    "- $n!$ representa o fatorial* de $n$, que é o produto de todos os números inteiros positivos de 1 a $n$.\n",
    "- $k!$ representa o fatorial de $k$, que é o produto de todos os números inteiros positivos de 1 a $k$.\n",
    "- $(n-k)!$ representa o fatorial de $(n-k)$.\n",
    "\n",
    "O coeficiente binomial é usado principalmente para contar o número de maneiras diferentes de escolher um subconjunto de \\(k\\) elementos de um conjunto maior de \\(n\\) elementos, sem levar em consideração a ordem em que os elementos são escolhidos. É comumente aplicado em problemas de combinação, permutação e probabilidade.\n",
    "\n",
    "Por exemplo, considere o lançamento de uma moeda justa duas vezes. Queremos saber o número de maneiras diferentes de obter 1 cara e 1 coroa em dois lançamentos. Nesse caso, temos \\(n = 2\\) (número total de lançamentos) e \\(k = 1\\) (número de caras). Aplicando a fórmula do coeficiente binomial, obtemos:\n",
    "\n",
    "$$ \\binom{2}{1} = \\frac{2!}{1!(2-1)!} = \\frac{2}{1} = 2 $$\n",
    "\n",
    "Isso significa que existem duas maneiras diferentes de obter 1 cara e 1 coroa em dois lançamentos de uma moeda justa: cara-coroa e coroa-cara.\n",
    "\n",
    "O coeficiente binomial é amplamente utilizado em diversos campos, como combinatória, estatística, probabilidade, teoria de conjuntos e na análise de algoritmos. Ele desempenha um papel fundamental na contagem e na análise de eventos compostos em muitos problemas matemáticos e científicos."
   ]
  },
  {
   "cell_type": "markdown",
   "id": "38afad38",
   "metadata": {
    "ExecuteTime": {
     "end_time": "2023-06-29T23:18:55.035903Z",
     "start_time": "2023-06-29T23:18:55.031989Z"
    }
   },
   "source": [
    "Fatorial é uma operação matemática que consiste em multiplicar um número por todos os seus antecessores até chegar a 1. É denotado pelo símbolo \"!\" após o número. Por exemplo, o fatorial de 5 é representado como 5!, o fatorial de 3 é representado como 3!, e assim por diante.\n",
    "\n",
    "A fórmula geral para calcular o fatorial de um número inteiro positivo \\(n\\) é:\n",
    "\n",
    "$$ n! = n \\cdot (n-1) \\cdot (n-2) \\cdot \\ldots \\cdot 3 \\cdot 2 \\cdot 1$$\n",
    "\n",
    "Por definição, o fatorial de 0 é igual a 1, ou seja, \\(0! = 1\\).\n",
    "\n",
    "O fatorial é usado em várias áreas da matemática, como combinação, permutação, cálculo de probabilidades, análise de algoritmos e muitos outros. Ele também tem aplicações práticas em problemas do mundo real, como o cálculo de arranjos, o número de maneiras de organizar objetos e a análise de eventos independentes.\n",
    "\n",
    "Por exemplo, se queremos calcular o fatorial de 5, temos:\n",
    "\n",
    "$$ 5! = 5 \\cdot 4 \\cdot 3 \\cdot 2 \\cdot 1 = 120 $$\n",
    "\n",
    "Portanto, o fatorial de 5 é igual a 120."
   ]
  },
  {
   "cell_type": "markdown",
   "id": "76eef40d",
   "metadata": {},
   "source": [
    "Em machine learning e ciência de dados, o coeficiente binomial também desempenha um papel importante em várias áreas. Como:\n",
    "\n",
    "1. **Recursos combinatórios**: Em problemas de classificação e regressão, muitas vezes precisamos lidar com a combinação de recursos ou variáveis. O coeficiente binomial é usado para calcular o número total de combinações possíveis de $k$ recursos dentre um conjunto de $n$ recursos. Essa informação é útil para dimensionar o espaço de recursos, determinar a complexidade do modelo e otimizar o processo de seleção de recursos.\n",
    "\n",
    "2. **Probabilidade e estatística**: Em machine learning e ciência de dados, frequentemente nos deparamos com problemas que envolvem a contagem de eventos ou o cálculo de probabilidades. O coeficiente binomial é usado em cálculos de probabilidades binomiais, como a probabilidade de obter um certo número de sucessos em um número fixo de ensaios independentes. Isso é particularmente útil em problemas de classificação binária, onde queremos estimar a probabilidade de um evento ocorrer.\n",
    "\n",
    "3. **Modelagem de dados**: Em técnicas como regressão logística e regressão linear, o coeficiente binomial é usado para ajustar os parâmetros do modelo aos dados observados. O coeficiente binomial é incorporado nas funções de verossimilhança, que medem a adequação dos parâmetros do modelo aos dados. A maximização da função de verossimilhança é um objetivo comum na estimação de parâmetros em modelos estatísticos.\n",
    "\n",
    "4. **Amostragem**: O coeficiente binomial também é usado em problemas de amostragem, onde queremos estimar o número de combinações possíveis ou o tamanho de uma amostra representativa. Por exemplo, na validação cruzada, usada para avaliar modelos de machine learning, o coeficiente binomial é usado para calcular o número total de partições possíveis dos dados em conjuntos de treinamento e teste.\n",
    "\n",
    "Em resumo, o coeficiente binomial é amplamente utilizado em machine learning e ciência de dados para lidar com problemas de contagem, combinação, probabilidade, estimação de parâmetros e amostragem. Ele fornece uma ferramenta fundamental para calcular a probabilidade de eventos e analisar dados em várias etapas do processo de análise de dados."
   ]
  },
  {
   "cell_type": "markdown",
   "id": "f79cd982",
   "metadata": {},
   "source": [
    "## Bernoulli Distribution"
   ]
  },
  {
   "cell_type": "markdown",
   "id": "374ac490",
   "metadata": {},
   "source": [
    "A Distribuição de Bernoulli é uma distribuição de probabilidade discreta que modela um único experimento aleatório com dois resultados possíveis: sucesso (evento de interesse) com probabilidade \\(p\\) ou falha (evento complementar) com probabilidade \\(q = 1 - p\\). É nomeada em homenagem ao matemático suíço Daniel Bernoulli.\n",
    "\n",
    "A função de probabilidade da Distribuição de Bernoulli é dada por:\n",
    "\n",
    "$$ P(X = x) = \\begin{cases} p, & \\text{se } x = 1 \\\\ q, & \\text{se } x = 0 \\end{cases}\\ $$\n",
    "\n",
    "Onde:\n",
    "- \\(X\\) é a variável aleatória que representa o resultado do experimento (0 ou 1).\n",
    "- \\(x\\) são os possíveis valores que \\(X\\) pode assumir (0 ou 1).\n",
    "- \\(p\\) é a probabilidade de sucesso (ou seja, \\(P(X = 1)\\)).\n",
    "- \\(q\\) é a probabilidade de falha (ou seja, \\(P(X = 0)\\)), e \\(q = 1 - p\\).\n",
    "\n",
    "Exemplos de experimentos que podem ser modelados usando a Distribuição de Bernoulli incluem:\n",
    "\n",
    "1. Lançamento de uma moeda justa: Suponha que queremos modelar o experimento de lançar uma moeda justa e observar se ela cai com a face \"cara\" (1 - sucesso) ou \"coroa\" (0 - falha). Se a moeda é justa, a probabilidade de sair cara (\\(p\\)) é 0,5 e a probabilidade de sair coroa (\\(q\\)) também é 0,5.\n",
    "\n",
    "2. Teste de sucesso de campanha de marketing: Suponha que uma empresa deseja modelar o resultado de uma campanha de marketing para determinar se um cliente realiza uma compra após receber um anúncio (sucesso) ou não realiza a compra (falha). Se a taxa de conversão da campanha é de 0,1 (ou seja, 10%), então \\(p = 0,1\\) e \\(q = 0,9\\).\n",
    "\n",
    "3. Sucesso de um teste de controle de qualidade: Uma fábrica pode usar a Distribuição de Bernoulli para modelar a probabilidade de um item ser defeituoso (falha) ou não (sucesso) após um processo de controle de qualidade. Se a taxa de defeito for de 0,02 (ou seja, 2%), então \\(p = 0,02\\) e \\(q = 0,98\\).\n",
    "\n",
    "A Distribuição de Bernoulli é uma distribuição básica que serve como base para outras distribuições mais complexas, como a Distribuição Binomial e a Distribuição de Poisson, que modelam o número de sucessos em múltiplos experimentos Bernoulli independentes e em experimentos com taxas de sucesso muito baixas, respectivamente. É amplamente usada em estatística, ciência de dados e machine learning para modelar eventos binários e cálculos de probabilidade em experimentos aleatórios com apenas duas opções possíveis."
   ]
  },
  {
   "cell_type": "markdown",
   "id": "7638b155",
   "metadata": {},
   "source": [
    "Em machine learning e ciência de dados, a Distribuição de Bernoulli é frequentemente utilizada para modelar problemas que envolvem resultados binários, ou seja, problemas em que o resultado de um experimento pode ser apenas um de dois valores possíveis: sucesso (1) ou falha (0). Essa distribuição é fundamental para lidar com dados categóricos binários e é aplicada em várias situações práticas. Vamos explorar alguns exemplos de uso:\n",
    "\n",
    "1. Classificação binária: Em problemas de classificação binária, onde queremos prever uma classe entre duas possíveis (por exemplo, sim/não, positivo/negativo, aprovado/reprovado), a Distribuição de Bernoulli é usada para modelar a probabilidade de pertencer a uma classe específica. Por exemplo, em um sistema de detecção de spam, podemos modelar a probabilidade de um e-mail ser spam ou não-spam usando a Distribuição de Bernoulli, considerando características como palavras-chave, presença de links, etc.\n",
    "\n",
    "2. Teste A/B: Ao realizar um teste A/B para comparar duas versões diferentes de um site, aplicativo ou campanha de marketing, a Distribuição de Bernoulli é usada para modelar a probabilidade de um usuário realizar uma ação específica (por exemplo, clicar em um botão, fazer uma compra) em cada versão. Isso permite que os analistas e cientistas de dados comparem a eficácia de cada versão e tomem decisões embasadas em dados.\n",
    "\n",
    "3. Análise de sentimentos: Em tarefas de análise de sentimentos, a Distribuição de Bernoulli pode ser aplicada para modelar a probabilidade de um texto (como uma avaliação de produto ou um tweet) expressar um sentimento positivo ou negativo. Nesse caso, recursos específicos do texto, como palavras-chave ou frequência de termos, são usados para calcular a probabilidade de cada sentimento.\n",
    "\n",
    "4. Detecção de fraudes: Ao construir um sistema de detecção de fraudes, a Distribuição de Bernoulli pode ser empregada para modelar a probabilidade de uma transação ser fraudulenta ou legítima. Recursos relacionados à transação, histórico do usuário ou comportamento incomum podem ser usados para estimar essas probabilidades.\n",
    "\n",
    "É importante ressaltar que a Distribuição de Bernoulli é um caso especial da Distribuição Binomial, onde o número de ensaios é igual a 1. Quando temos múltiplos ensaios independentes com as mesmas probabilidades de sucesso, usamos a Distribuição Binomial. Portanto, a Distribuição de Bernoulli é especialmente útil quando estamos interessados em apenas um único experimento aleatório com dois resultados possíveis. Ela fornece uma base sólida para modelar e analisar dados binários em diversas aplicações de machine learning e ciência de dados."
   ]
  },
  {
   "cell_type": "code",
   "execution_count": 19,
   "id": "3f634b5b",
   "metadata": {
    "ExecuteTime": {
     "end_time": "2023-07-02T14:25:26.616161Z",
     "start_time": "2023-07-02T14:25:26.550156Z"
    }
   },
   "outputs": [
    {
     "data": {
      "image/png": "[encoded data removed]",
      "text/plain": [
       "<Figure size 1440x576 with 1 Axes>"
      ]
     },
     "metadata": {
      "needs_background": "light"
     },
     "output_type": "display_data"
    },
    {
     "name": "stdout",
     "output_type": "stream",
     "text": [
      "Número de sucessos (1): 300\n",
      "Número de falhas (0): 700\n"
     ]
    }
   ],
   "source": [
    "import numpy as np\n",
    "import matplotlib.pyplot as plt\n",
    "\n",
    "# Tamanho da amostra\n",
    "n_samples = 1000\n",
    "\n",
    "# Probabilidade de sucesso (1)\n",
    "p_success = 0.3\n",
    "\n",
    "# Gerar amostras seguindo a Distribuição de Bernoulli\n",
    "samples = np.random.binomial(n=1, p=p_success, size=n_samples)\n",
    "\n",
    "# Contar a quantidade de sucessos (1) e falhas (0)\n",
    "num_successes = np.sum(samples)\n",
    "num_failures = n_samples - num_successes\n",
    "\n",
    "# Plotar histograma dos resultados\n",
    "plt.hist(samples, bins=[0, 1, 2], align='left', rwidth=0.5, edgecolor='black')\n",
    "plt.xticks([0, 1], ['Falha (0)', 'Sucesso (1)'])\n",
    "plt.xlabel('Resultado')\n",
    "plt.ylabel('Frequência')\n",
    "plt.title(f'Histograma da Distribuição de Bernoulli (p = {p_success})')\n",
    "plt.show()\n",
    "\n",
    "# Imprimir a proporção de sucessos e falhas\n",
    "print(f'Número de sucessos (1): {num_successes}')\n",
    "print(f'Número de falhas (0): {num_failures}')"
   ]
  },
  {
   "cell_type": "markdown",
   "id": "06379b4c",
   "metadata": {},
   "source": [
    "## Poisson Distribution"
   ]
  },
  {
   "cell_type": "markdown",
   "id": "495245b4",
   "metadata": {},
   "source": [
    "A Distribuição de Poisson é uma distribuição de probabilidade discreta que modela a ocorrência de eventos raros em um intervalo específico de tempo ou espaço. Ela é usada quando queremos calcular a probabilidade de um determinado número de eventos ocorrerem em um intervalo fixo, dado um taxa média de ocorrência desses eventos.\n",
    "\n",
    "A distribuição de Poisson é caracterizada por um único parâmetro $ \\lambda $, que representa a taxa média de ocorrência dos eventos no intervalo de interesse. A função de probabilidade de Poisson é dada por:\n",
    "\n",
    "$$ P(X=k) = \\frac{e^{-\\lambda} \\cdot \\lambda^k}{k!} $$\n",
    "\n",
    "onde:\n",
    "- $ P(X=k) $ é a probabilidade de ocorrerem $ k $ eventos no intervalo.\n",
    "- $ e $ é a base do logaritmo natural (aproximadamente 2.71828).\n",
    "- $ \\lambda $ é a taxa média de ocorrência dos eventos no intervalo.\n",
    "- $ k $ é o número de eventos que queremos calcular a probabilidade.\n",
    "- $ k! $ é o fatorial de $ k $.\n",
    "\n",
    "A média ($ \\mu $) e a variância ($ \\sigma^2 $) de uma distribuição de Poisson são iguais ao parâmetro $ \\lambda $:\n",
    "\n",
    "$ \\mu = \\lambda $\n",
    "$ \\sigma^2 = \\lambda $\n",
    "\n",
    "Exemplos de aplicação da distribuição de Poisson incluem:\n",
    "\n",
    "1. Número de acidentes de carro em um cruzamento em um dia.\n",
    "2. Número de clientes que entram em uma loja em uma hora.\n",
    "3. Número de defeitos em um lote de produtos fabricados.\n",
    "\n",
    "Vamos calcular um exemplo simples usando a distribuição de Poisson em Python:\n",
    "\n",
    "```python\n",
    "import numpy as np\n",
    "from scipy.stats import poisson\n",
    "\n",
    "# Taxa média de ocorrência de eventos por dia\n",
    "taxa_media = 2\n",
    "\n",
    "# Número de eventos que queremos calcular a probabilidade\n",
    "k = 3\n",
    "\n",
    "# Calcula a probabilidade de ocorrerem exatamente k eventos em um dia\n",
    "probabilidade = poisson.pmf(k, taxa_media)\n",
    "\n",
    "print(f\"A probabilidade de ocorrerem {k} eventos em um dia é de aproximadamente {probabilidade:.4f}\")\n",
    "```\n",
    "\n",
    "Saída:\n",
    "```\n",
    "A probabilidade de ocorrerem 3 eventos em um dia é de aproximadamente 0.1804\n",
    "```\n",
    "\n",
    "Neste exemplo, assumimos uma taxa média de 2 eventos por dia e calculamos a probabilidade de ocorrerem exatamente 3 eventos em um dia usando a distribuição de Poisson. A probabilidade resultante é de aproximadamente 0.1804."
   ]
  },
  {
   "cell_type": "markdown",
   "id": "1275a50d",
   "metadata": {},
   "source": [
    "A distribuição de Poisson é amplamente utilizada em machine learning e ciência de dados para modelar e analisar dados que representam a contagem de eventos raros em um intervalo de tempo ou espaço. Ela pode ser aplicada em diversas áreas, como análise de tráfego em redes, análise de ocorrências de eventos em séries temporais, previsão de demanda em negócios, entre outras.\n",
    "\n",
    "Exemplos de uso em machine learning e ciência de dados:\n",
    "\n",
    "1. Análise de tráfego em redes: A distribuição de Poisson pode ser usada para modelar o número de pacotes de dados que chegam em um roteador durante um determinado intervalo de tempo. Isso é útil para entender a carga na rede e otimizar a capacidade de transmissão.\n",
    "\n",
    "2. Análise de ocorrências de eventos: Em séries temporais, a distribuição de Poisson pode ser aplicada para modelar o número de ocorrências de eventos, como vendas em uma loja, downloads de aplicativos, cliques em anúncios, etc. Isso permite identificar padrões e tendências ao longo do tempo.\n",
    "\n",
    "3. Previsão de demanda em negócios: A distribuição de Poisson pode ser usada para prever a demanda de produtos ou serviços com base em dados históricos de vendas. Isso é útil para o planejamento de estoque e produção.\n",
    "\n",
    "4. Análise de defeitos em processos de fabricação: Em processos industriais, a distribuição de Poisson pode ser usada para modelar o número de defeitos em um lote de produtos fabricados. Isso ajuda a identificar problemas no processo de fabricação e melhorar a qualidade do produto.\n",
    "\n",
    "5. Detecção de anomalias: A distribuição de Poisson também é útil na detecção de anomalias em dados, onde um número significativamente maior ou menor de eventos ocorre do que o esperado. Isso pode ser aplicado em sistemas de segurança, detecção de fraudes, entre outros.\n",
    "\n",
    "Em suma, a distribuição de Poisson é uma ferramenta importante em machine learning e ciência de dados para modelar e analisar dados de contagem de eventos raros, permitindo a compreensão de padrões e a tomada de decisões informadas em diversas áreas."
   ]
  },
  {
   "cell_type": "markdown",
   "id": "ab33d4e8",
   "metadata": {},
   "source": [
    "Vamos criar um exemplo simples de Poisson Distribution usando Python. Suponha que queremos simular o número de acidentes de carro que ocorrem em uma determinada rua em um dia, sabendo que a média histórica é de 2 acidentes por dia.\n",
    "\n",
    "Para isso, usaremos a biblioteca `numpy` para gerar valores aleatórios com a distribuição de Poisson e a biblioteca `matplotlib` para plotar o histograma."
   ]
  },
  {
   "cell_type": "code",
   "execution_count": 20,
   "id": "3a2a7c3f",
   "metadata": {
    "ExecuteTime": {
     "end_time": "2023-07-02T14:25:26.696828Z",
     "start_time": "2023-07-02T14:25:26.617421Z"
    }
   },
   "outputs": [
    {
     "data": {
      "image/png": "[encoded data removed]",
      "text/plain": [
       "<Figure size 1440x576 with 1 Axes>"
      ]
     },
     "metadata": {
      "needs_background": "light"
     },
     "output_type": "display_data"
    }
   ],
   "source": [
    "import numpy as np\n",
    "import matplotlib.pyplot as plt\n",
    "\n",
    "# Definir o parâmetro lambda (média de acidentes por dia)\n",
    "media_acidentes_por_dia = 2\n",
    "\n",
    "# Gerar 1000 valores aleatórios com a distribuição de Poisson\n",
    "num_acidentes = np.random.poisson(media_acidentes_por_dia, 1000)\n",
    "\n",
    "# Plotar o histograma dos valores gerados\n",
    "plt.hist(num_acidentes, bins=range(7), align='left', density=True, rwidth=0.8, alpha=0.7)\n",
    "plt.xticks(range(7))\n",
    "plt.xlabel('Número de acidentes por dia')\n",
    "plt.ylabel('Probabilidade')\n",
    "plt.title('Distribuição de Poisson - Número de acidentes por dia')\n",
    "plt.grid(True)\n",
    "plt.show()"
   ]
  },
  {
   "cell_type": "markdown",
   "id": "5c493e5e",
   "metadata": {},
   "source": [
    "Neste exemplo, usamos a função `numpy.random.poisson()` para gerar 1000 valores aleatórios com a distribuição de Poisson, utilizando a média de 2 acidentes por dia. Em seguida, plotamos um histograma dos valores gerados para visualizar a distribuição resultante.\n",
    "\n",
    "Note que, como a média é de 2 acidentes por dia, a maior probabilidade é de ocorrer 2 acidentes. Conforme nos afastamos desse valor, a probabilidade diminui. A distribuição de Poisson é adequada para modelar eventos raros que ocorrem de forma independente em um intervalo contínuo, como o número de acidentes de carro em uma rua durante um dia."
   ]
  },
  {
   "cell_type": "markdown",
   "id": "4f65972c",
   "metadata": {},
   "source": [
    "## Probability Distributions (Continuous)"
   ]
  },
  {
   "cell_type": "markdown",
   "id": "bddfbd42",
   "metadata": {},
   "source": [
    "As Distribuições de Probabilidade Contínuas são utilizadas para modelar variáveis aleatórias contínuas em que os valores possíveis formam um intervalo contínuo, em oposição às variáveis discretas, onde os valores são pontuais e discretos. Essas distribuições são fundamentais na área de estatística e probabilidade, sendo amplamente utilizadas em ciência de dados e machine learning para modelar diversos fenômenos da natureza e do mundo real.\n",
    "\n",
    "Uma distribuição de probabilidade contínua é definida através de uma função de densidade de probabilidade (PDF), que descreve a probabilidade de que a variável aleatória assuma um valor dentro de um intervalo específico. A área sob a curva da PDF em um intervalo representa a probabilidade de a variável aleatória cair nesse intervalo. A probabilidade de a variável aleatória assumir um valor específico é igual à área sob a curva da PDF naquele ponto, o que é representado matematicamente pela integral da função de densidade de probabilidade.\n",
    "\n",
    "Alguns exemplos de Distribuições de Probabilidade Contínuas comuns são:\n",
    "\n",
    "1. Distribuição Normal (Gaussiana): A distribuição normal é uma das mais importantes e amplamente utilizadas distribuições contínuas. Ela é caracterizada pela sua curva em formato de sino e é totalmente determinada por seus dois parâmetros: média (μ) e desvio padrão (σ). Muitos fenômenos naturais, como altura, peso e erros de medição, podem ser aproximados por uma distribuição normal.\n",
    "\n",
    "2. Distribuição Uniforme: A distribuição uniforme é caracterizada por uma PDF constante em um intervalo específico e igual a zero fora desse intervalo. É utilizada quando todos os valores dentro do intervalo têm a mesma probabilidade de ocorrer.\n",
    "\n",
    "3. Distribuição Exponencial: A distribuição exponencial é frequentemente usada para modelar o tempo entre eventos em um processo de Poisson. É caracterizada pelo parâmetro λ, que representa a taxa de ocorrência dos eventos.\n",
    "\n",
    "4. Distribuição Gamma: A distribuição gamma é uma generalização da distribuição exponencial e é utilizada para modelar tempos de espera em processos com mais de um evento.\n",
    "\n",
    "5. Distribuição de Weibull: A distribuição de Weibull é amplamente usada em engenharia para modelar a vida útil de componentes e materiais.\n",
    "\n",
    "Essas são apenas algumas das muitas distribuições contínuas disponíveis. A escolha da distribuição mais adequada depende dos dados e do fenômeno em questão. Em ciência de dados e machine learning, é comum ajustar modelos estatísticos baseados em distribuições contínuas aos dados observados, permitindo a realização de inferências e previsões úteis para resolver problemas do mundo real."
   ]
  },
  {
   "cell_type": "markdown",
   "id": "907924f7",
   "metadata": {},
   "source": [
    "As Distribuições de Probabilidade Contínuas desempenham um papel importante em machine learning e ciência de dados, pois permitem modelar e entender o comportamento de variáveis contínuas presentes nos dados. Elas são usadas para criar modelos estatísticos e probabilísticos que, por sua vez, ajudam a fazer previsões, realizar inferências e tomar decisões fundamentadas com base nas informações disponíveis.\n",
    "\n",
    "A seguir, descrevo algumas das principais distribuições contínuas usadas em machine learning e ciência de dados, bem como seus exemplos de aplicação:\n",
    "\n",
    "1. Distribuição Normal (Gaussiana): A distribuição normal é amplamente utilizada em diversas aplicações de machine learning. Em problemas de regressão linear, a suposição de que os resíduos do modelo de regressão seguem uma distribuição normal é comum. Além disso, muitos algoritmos de aprendizado, como regressão logística, SVM (Support Vector Machines) e redes neurais, também assumem que os dados seguem uma distribuição normal. Exemplo: Modelar a distribuição de altura de indivíduos em uma população.\n",
    "\n",
    "2. Distribuição Exponencial: A distribuição exponencial é frequentemente utilizada para modelar tempos de espera ou tempos de sobrevivência em problemas de ciência de dados. Exemplos de aplicação incluem o tempo de vida útil de componentes eletrônicos, o tempo entre falhas de máquinas ou a duração de uma ligação telefônica antes de ser finalizada.\n",
    "\n",
    "3. Distribuição de Poisson: A distribuição de Poisson é usada para modelar a ocorrência de eventos raros em um intervalo de tempo ou espaço. É comum em problemas de contagem, como a quantidade de chamadas telefônicas recebidas em uma central em um determinado período, o número de acidentes de trânsito em um cruzamento em um dia, entre outros.\n",
    "\n",
    "4. Distribuição Uniforme: Embora a distribuição uniforme seja comumente utilizada para gerar números aleatórios em um intervalo específico, ela também pode ser aplicada em situações em que não há informações sobre quais valores são mais prováveis. Por exemplo, em problemas de otimização, é possível atribuir distribuições uniformes a variáveis de decisão quando seus valores ótimos são desconhecidos.\n",
    "\n",
    "5. Distribuição Beta: A distribuição beta é muito utilizada em problemas de modelagem de proporções ou probabilidades. Ela é aplicada em casos onde se deseja modelar a incerteza sobre uma proporção desconhecida. Exemplo: Taxa de conversão de usuários em um site.\n",
    "\n",
    "Esses são apenas alguns exemplos de como as Distribuições de Probabilidade Contínuas são aplicadas em machine learning e ciência de dados. A escolha da distribuição mais adequada depende do contexto específico do problema e das características dos dados. Em muitos casos, técnicas de estimação de parâmetros e ajuste de modelos são utilizadas para encontrar a melhor distribuição que representa os dados observados."
   ]
  },
  {
   "cell_type": "markdown",
   "id": "7b165415",
   "metadata": {},
   "source": [
    "Vamos criar um exemplo utilizando a distribuição normal (Gaussiana) em Python. Primeiro, vamos gerar uma amostra de dados seguindo uma distribuição normal com média 0 e desvio padrão 1. Em seguida, vamos plotar o histograma dos dados para visualizar a distribuição."
   ]
  },
  {
   "cell_type": "code",
   "execution_count": 21,
   "id": "881500a7",
   "metadata": {
    "ExecuteTime": {
     "end_time": "2023-07-02T14:25:26.794852Z",
     "start_time": "2023-07-02T14:25:26.697677Z"
    }
   },
   "outputs": [
    {
     "data": {
      "image/png": "[encoded data removed]",
      "text/plain": [
       "<Figure size 1440x576 with 1 Axes>"
      ]
     },
     "metadata": {
      "needs_background": "light"
     },
     "output_type": "display_data"
    }
   ],
   "source": [
    "import numpy as np\n",
    "import matplotlib.pyplot as plt\n",
    "\n",
    "# Definindo os parâmetros da distribuição normal\n",
    "media = 0\n",
    "desvio_padrao = 1\n",
    "tamanho_amostra = 1000\n",
    "\n",
    "# Gerando a amostra de dados seguindo uma distribuição normal\n",
    "amostra = np.random.normal(media, desvio_padrao, tamanho_amostra)\n",
    "\n",
    "# Plotando o histograma dos dados\n",
    "plt.hist(amostra, bins=30, density=True, alpha=0.6, color='blue')\n",
    "plt.xlabel('Valores')\n",
    "plt.ylabel('Densidade de Probabilidade')\n",
    "plt.title('Histograma da Distribuição Normal')\n",
    "plt.grid(True)\n",
    "plt.show()"
   ]
  },
  {
   "cell_type": "markdown",
   "id": "8bd5e530",
   "metadata": {},
   "source": [
    "Neste exemplo, geramos uma amostra de 1000 valores seguindo uma distribuição normal com média 0 e desvio padrão 1. O histograma resultante mostra a distribuição dos dados, que se assemelha a uma curva em formato de sino, típica da distribuição normal. O parâmetro density=True no plt.hist() faz com que a área total sob o histograma seja igual a 1, tornando-o uma estimativa da função de densidade de probabilidade (PDF) da distribuição normal.\n",
    "\n",
    "Observe que a forma da distribuição normal é controlada pelos parâmetros de média e desvio padrão. Alterar esses parâmetros alterará a forma da distribuição e o posicionamento do pico da curva. Essa flexibilidade é uma das razões pelas quais a distribuição normal é tão amplamente utilizada em estatística, ciência de dados e machine learning."
   ]
  },
  {
   "cell_type": "markdown",
   "id": "043ad02e",
   "metadata": {},
   "source": [
    "## Probability Density Function"
   ]
  },
  {
   "cell_type": "markdown",
   "id": "8e84235b",
   "metadata": {},
   "source": [
    "A Probability Density Function (PDF), ou Função de Densidade de Probabilidade em português, é um conceito fundamental na teoria das probabilidades e estatística. É usada para descrever a probabilidade de uma variável contínua cair em um determinado intervalo. A PDF é geralmente denotada por \\(f(x)\\) e sua integral ao longo de um intervalo representa a probabilidade de que a variável aleatória esteja contida nesse intervalo.\n",
    "\n",
    "Para entender melhor o conceito de PDF, vamos descrever suas principais características e fornecer exemplos:\n",
    "\n",
    "Características da PDF:\n",
    "\n",
    "1. A PDF é sempre não negativa: $f(x) \\geq 0$ para todo $x$ no domínio da variável aleatória.\n",
    "\n",
    "2. A área total sob a curva da PDF é igual a 1: $\\int_{-\\infty}^{\\infty} f(x) \\, dx = 1$.\n",
    "\n",
    "3. A probabilidade de que a variável aleatória $X$ esteja em um intervalo $a \\leq x \\leq b$ é dada pela integral da PDF nesse intervalo: $P(a \\leq X \\leq b) = \\int_{a}^{b} f(x) \\, dx$.\n",
    "\n",
    "Exemplos de PDF:\n",
    "\n",
    "1. Distribuição Normal (Gaussiana): A PDF da distribuição normal é uma curva em formato de sino, dada pela equação $f(x) = \\frac{1}{\\sqrt{2\\pi}\\sigma} e^{-\\frac{(x-\\mu)^2}{2\\sigma^2}}$, onde $\\mu$ é a média e $\\sigma$ é o desvio padrão.\n",
    "\n",
    "2. Distribuição Exponencial: A PDF da distribuição exponencial é decrescente e é dada por $f(x) = \\lambda e^{-\\lambda x}$, onde $\\lambda$ é a taxa de ocorrência.\n",
    "\n",
    "3. Distribuição Uniforme: A PDF da distribuição uniforme é constante em um intervalo e zero fora desse intervalo. Por exemplo, para uma distribuição uniforme em um intervalo $[a, b]$, a PDF é dada por $f(x) = \\frac{1}{b-a}$ para $a \\leq x \\leq b$ e $f(x) = 0$ caso contrário.\n",
    "\n",
    "A PDF é uma ferramenta fundamental em estatística e machine learning. Em análise estatística, a PDF é usada para descrever a distribuição de uma variável aleatória contínua e calcular probabilidades associadas. Em machine learning, a PDF é usada para ajustar modelos estatísticos aos dados observados, estimar parâmetros desconhecidos e fazer previsões sobre novos dados. Através da PDF, podemos entender melhor o comportamento das variáveis contínuas e realizar inferências estatísticas para tomar decisões informadas."
   ]
  },
  {
   "cell_type": "markdown",
   "id": "8397abdf",
   "metadata": {},
   "source": [
    "Aqui estão as principais aplicações da PDF em machine learning e ciência de dados:\n",
    "\n",
    "1. Estimativa de parâmetros: Ao ajustar modelos estatísticos aos dados, é comum assumir uma distribuição de probabilidade para a variável resposta. Por exemplo, na regressão linear, podemos assumir que os resíduos seguem uma distribuição normal, o que nos permite estimar os parâmetros do modelo usando a Máxima Verossimilhança.\n",
    "\n",
    "2. Testes de hipóteses: Em muitos testes estatísticos, a distribuição nula é assumida para a estatística de teste, e a PDF é usada para calcular o valor-p, que é a probabilidade de obter um resultado tão extremo quanto o observado sob a hipótese nula.\n",
    "\n",
    "3. Simulações de Monte Carlo: Em simulações de Monte Carlo, a PDF é usada para gerar valores aleatórios que representam uma variável com uma determinada distribuição de probabilidade. Essas simulações são frequentemente usadas em modelagem estatística para avaliar a incerteza e o comportamento de sistemas complexos.\n",
    "\n",
    "4. Análise de dados: A PDF é usada para explorar a distribuição de uma variável contínua em um conjunto de dados e entender sua forma, características e tendências. Isso ajuda a identificar padrões e insights importantes nos dados.\n",
    "\n",
    "Exemplos:\n",
    "\n",
    "1. Em um problema de análise de dados que envolve a medição da altura de indivíduos em uma população, podemos assumir que a altura segue uma distribuição normal com média $\\mu$ e desvio padrão $\\sigma$. A PDF da distribuição normal é dada por $f(x) = \\frac{1}{\\sqrt{2\\pi}\\sigma} e^{-\\frac{(x-\\mu)^2}{2\\sigma^2}}$, onde $x$ representa a altura de um indivíduo.\n",
    "\n",
    "2. Na área de aprendizado de máquina, o algoritmo de classificação Gaussiano Naive Bayes assume que as características dos dados seguem distribuições normais (ou gaussianas) para cada classe. Nesse caso, a PDF da distribuição normal é usada para estimar a probabilidade de uma determinada característica pertencer a uma classe específica.\n",
    "\n",
    "3. Em processamento de linguagem natural, pode-se modelar a probabilidade de uma sequência de palavras ocorrer usando uma distribuição de probabilidade chamada Modelo de Linguagem, que pode ser baseado em uma distribuição discreta (usando a função de massa de probabilidade) ou uma distribuição contínua (usando a PDF) para modelar a probabilidade de cada palavra condicionada às palavras anteriores.\n",
    "\n",
    "A Probability Density Function é uma ferramenta poderosa que permite que cientistas de dados e profissionais de machine learning compreendam melhor os dados e apliquem métodos estatísticos sofisticados para resolver problemas e tomar decisões informadas."
   ]
  },
  {
   "cell_type": "markdown",
   "id": "b6d70605",
   "metadata": {},
   "source": [
    "Para criar um exemplo de uma Probability Density Function (PDF) em Python, vamos usar a biblioteca `scipy.stats` que oferece diversas distribuições de probabilidade. Neste exemplo, usaremos a distribuição normal (Gaussiana) como PDF. A distribuição normal é frequentemente usada para modelar dados que têm uma distribuição simétrica em torno de uma média.\n",
    "\n",
    "Certifique-se de ter a biblioteca `scipy` instalada em seu ambiente Python antes de executar o código abaixo. Caso não tenha, você pode instalá-la usando o comando `pip install scipy`."
   ]
  },
  {
   "cell_type": "code",
   "execution_count": 22,
   "id": "5f9211a4",
   "metadata": {
    "ExecuteTime": {
     "end_time": "2023-07-02T14:25:26.893064Z",
     "start_time": "2023-07-02T14:25:26.795662Z"
    }
   },
   "outputs": [
    {
     "data": {
      "image/png": "[encoded data removed]",
      "text/plain": [
       "<Figure size 1440x576 with 1 Axes>"
      ]
     },
     "metadata": {
      "needs_background": "light"
     },
     "output_type": "display_data"
    }
   ],
   "source": [
    "\n",
    "import numpy as np\n",
    "import matplotlib.pyplot as plt\n",
    "from scipy.stats import norm\n",
    "\n",
    "# Parâmetros da distribuição normal\n",
    "mu = 0       # Média\n",
    "sigma = 1    # Desvio padrão\n",
    "\n",
    "# Criar um array de valores de x no intervalo [-5, 5]\n",
    "x = np.linspace(-5, 5, 100)\n",
    "\n",
    "# Calcula os valores da PDF da distribuição normal para cada valor de x\n",
    "pdf_values = norm.pdf(x, mu, sigma)\n",
    "\n",
    "# Plota a PDF\n",
    "plt.plot(x, pdf_values, label='PDF (Normal)')\n",
    "plt.xlabel('x')\n",
    "plt.ylabel('Probabilidade')\n",
    "plt.title('Probability Density Function (PDF) - Distribuição Normal')\n",
    "plt.legend()\n",
    "plt.grid(True)\n",
    "plt.show()"
   ]
  },
  {
   "cell_type": "markdown",
   "id": "aff5d3c3",
   "metadata": {},
   "source": [
    "Neste exemplo, a PDF é representada pela curva de uma distribuição normal com média $\\mu = 0$ e desvio padrão $\\sigma = 1$. A PDF mostra como a probabilidade é distribuída ao longo do eixo x, sendo mais alta na média e diminuindo gradualmente conforme nos afastamos dela.\n",
    "\n",
    "Você pode ajustar os parâmetros `mu` e `sigma` para explorar diferentes distribuições normais e entender como eles afetam a forma da PDF. Além disso, a biblioteca `scipy.stats` oferece várias outras distribuições de probabilidade que você pode explorar para diferentes situações de modelagem de dados."
   ]
  },
  {
   "cell_type": "markdown",
   "id": "bd3421d8",
   "metadata": {},
   "source": [
    "## Culmulative Distribution Function"
   ]
  },
  {
   "cell_type": "markdown",
   "id": "9e1eba3a",
   "metadata": {},
   "source": [
    "A Cumulative Distribution Function (CDF) ou Função de Distribuição Acumulada é uma função matemática que descreve a probabilidade cumulativa de uma variável aleatória ser menor ou igual a um valor específico. Em outras palavras, a CDF fornece a probabilidade acumulada de um evento ocorrer até certo ponto.\n",
    "\n",
    "A CDF é denotada por $F(x)$ para uma variável aleatória $X$ e é definida como:\n",
    "\n",
    "$$ F(x) = P(X \\leq x) $$\n",
    "\n",
    "Ou seja, a CDF em um ponto $x$ representa a probabilidade de que a variável aleatória $X$ assuma um valor menor ou igual a $x$.\n",
    "\n",
    "Principais características da CDF:\n",
    "- A CDF é uma função não decrescente, ou seja, conforme $x$ aumenta, a probabilidade acumulada também aumenta ou permanece constante.\n",
    "- Se $x$ é menos que o menor valor possível da variável aleatória, a CDF é igual a 0.\n",
    "- Se $x$ é maior que o maior valor possível da variável aleatória, a CDF é igual a 1.\n",
    "\n",
    "Exemplo:\n",
    "Vamos considerar um exemplo simples usando a distribuição uniforme contínua entre 0 e 1. A CDF dessa distribuição pode ser definida como:\n",
    "\n",
    "$$ F(x) = \\begin{cases} 0 & \\text{se } x < 0 \\\\ x & \\text{se } 0 \\leq x \\leq 1 \\\\ 1 & \\text{se } x > 1 \\end{cases} $$\n",
    "\n",
    "Agora, vamos calcular a probabilidade acumulada para alguns valores de $x$:\n",
    "- $F(0.2) = 0.2$: A probabilidade de $X$ ser menor ou igual a 0.2 é 0.2.\n",
    "- $F(0.5) = 0.5$: A probabilidade de $X$ ser menor ou igual a 0.5 é 0.5.\n",
    "- $F(0.8) = 0.8$: A probabilidade de $X$ ser menor ou igual a 0.8 é 0.8.\n",
    "- $F(1.2) = 1.0$: A probabilidade de $X$ ser menor ou igual a 1.2 é 1.0.\n",
    "\n",
    "Agora, se plotarmos a CDF da distribuição uniforme contínua, teremos uma linha diagonal crescente de (0,0) até (1,1) no intervalo [0,1], indicando a acumulação gradual da probabilidade à medida que avançamos no eixo x.\n",
    "\n",
    "A CDF é uma ferramenta importante em estatística e análise de dados, pois fornece informações sobre a distribuição de probabilidade da variável aleatória e pode ser usada para calcular quantis e intervalos de confiança, entre outras aplicações."
   ]
  },
  {
   "cell_type": "markdown",
   "id": "467800a0",
   "metadata": {
    "ExecuteTime": {
     "end_time": "2023-06-30T21:53:55.582460Z",
     "start_time": "2023-06-30T21:53:55.579584Z"
    }
   },
   "source": [
    "<img src=\"./imgs/cdfs.png\">"
   ]
  },
  {
   "cell_type": "markdown",
   "id": "0aac6539",
   "metadata": {},
   "source": [
    "Principais aplicações da CDF em machine learning e ciência de dados:\n",
    "\n",
    "1. Análise de dados: A CDF é usada para descrever a distribuição de probabilidade de uma variável e visualizar a probabilidade acumulada em diferentes pontos. Isso permite identificar rapidamente a proporção de valores abaixo ou igual a um determinado limiar, bem como a probabilidade de um evento ocorrer dentro de um determinado intervalo.\n",
    "\n",
    "2. Estimativa de quantis: A partir da CDF, é possível estimar valores percentis, como quartis, medianas e outros quantis. Por exemplo, o quantil Q(p) é o valor em que a probabilidade acumulada é igual a p (0 <= p <= 1). A mediana, por exemplo, é o quantil Q(0.5), que divide a distribuição em duas partes iguais.\n",
    "\n",
    "3. Intervalos de confiança: A CDF pode ser usada para calcular intervalos de confiança para estimativas de parâmetros de modelos ou estatísticas de interesse. Por exemplo, intervalos de confiança para média ou mediana.\n",
    "\n",
    "4. Teste de hipóteses: A CDF é fundamental em testes de hipóteses, pois permite calcular valores críticos e p-valores, que são usados para tomar decisões estatísticas.\n",
    "\n",
    "5. Modelagem estatística: A CDF é usada para descrever a distribuição de probabilidade de resíduos em modelos estatísticos, permitindo verificar se os resíduos seguem uma distribuição específica.\n",
    "\n",
    "Exemplo prático em machine learning:\n",
    "Suponha que você esteja construindo um modelo de regressão para prever o preço de imóveis com base em várias características, como área, número de quartos, localização, etc. Ao analisar a CDF dos erros de previsão do modelo, você pode ter uma ideia melhor da precisão do modelo em diferentes intervalos de preço. Isso pode ajudar a identificar áreas onde o modelo precisa ser aprimorado ou onde está performando melhor.\n",
    "\n",
    "No geral, a CDF é uma ferramenta valiosa em machine learning e ciência de dados para analisar, descrever e visualizar a distribuição de probabilidade de uma variável aleatória, permitindo uma melhor compreensão dos dados e a tomada de decisões informadas com base nas probabilidades acumuladas."
   ]
  },
  {
   "cell_type": "markdown",
   "id": "91324e3f",
   "metadata": {},
   "source": [
    "Para criar um exemplo de Cumulative Distribution Function (CDF) em Python, podemos utilizar a biblioteca `numpy` para gerar uma distribuição de probabilidade acumulada. Vamos criar um exemplo de CDF para uma distribuição normal padrão (média 0 e desvio padrão 1)."
   ]
  },
  {
   "cell_type": "code",
   "execution_count": 23,
   "id": "0145160a",
   "metadata": {
    "ExecuteTime": {
     "end_time": "2023-07-02T14:25:26.978419Z",
     "start_time": "2023-07-02T14:25:26.893995Z"
    }
   },
   "outputs": [
    {
     "data": {
      "image/png": "[encoded data removed]",
      "text/plain": [
       "<Figure size 1440x576 with 1 Axes>"
      ]
     },
     "metadata": {
      "needs_background": "light"
     },
     "output_type": "display_data"
    }
   ],
   "source": [
    "import numpy as np\n",
    "import matplotlib.pyplot as plt\n",
    "\n",
    "# Gerar dados de uma distribuição normal padrão\n",
    "dados = np.random.randn(1000)\n",
    "\n",
    "# Ordenar os dados em ordem crescente\n",
    "dados_ordenados = np.sort(dados)\n",
    "\n",
    "# Calcular as probabilidades acumuladas para cada valor\n",
    "prob_acumulada = np.arange(1, len(dados_ordenados) + 1) / len(dados_ordenados)\n",
    "\n",
    "# Plotar a CDF\n",
    "plt.plot(dados_ordenados, prob_acumulada, marker='.', linestyle='none')\n",
    "plt.xlabel('Valores')\n",
    "plt.ylabel('Probabilidade Acumulada')\n",
    "plt.title('Cumulative Distribution Function (CDF)')\n",
    "plt.grid(True)\n",
    "plt.show()"
   ]
  },
  {
   "cell_type": "markdown",
   "id": "9a47627e",
   "metadata": {},
   "source": [
    "Neste exemplo, geramos 1000 valores de uma distribuição normal padrão usando `np.random.randn(1000)`. Em seguida, ordenamos os dados em ordem crescente e calculamos as probabilidades acumuladas para cada valor, dividindo o número de valores menores ou iguais ao valor atual pelo total de valores. Por fim, plotamos a CDF usando `plt.plot()`.\n",
    "\n",
    "A CDF nos mostra como a probabilidade acumulada varia ao longo dos valores. No caso da distribuição normal padrão, a CDF começa em zero e tende a um à medida que nos aproximamos dos extremos positivos e negativos, indicando que a maioria dos valores está concentrada em torno da média 0.\n",
    "\n",
    "Essa CDF pode ser útil para analisar e visualizar a distribuição de probabilidade dos dados, bem como para calcular percentis e intervalos de confiança."
   ]
  },
  {
   "cell_type": "markdown",
   "id": "6702292e",
   "metadata": {},
   "source": [
    "## Uniform Distribution"
   ]
  },
  {
   "cell_type": "markdown",
   "id": "c353e7c7",
   "metadata": {},
   "source": [
    "A Uniform Distribution (Distribuição Uniforme) é um tipo de distribuição de probabilidade contínua em que todos os valores **em um determinado intervalo têm a mesma probabilidade de ocorrer**. É chamada \"uniforme\" porque a probabilidade é uniformemente distribuída em todo o intervalo.\n",
    "\n",
    "Características da distribuição uniforme contínua:\n",
    "- A probabilidade de qualquer valor dentro do intervalo é a mesma.\n",
    "- A função de densidade de probabilidade (Probability Density Function - PDF) é constante dentro do intervalo e igual a zero fora dele.\n",
    "\n",
    "A função de densidade de probabilidade (PDF) da distribuição uniforme contínua é definida como:\n",
    "\n",
    "$$ f(x) = \\frac{1}{b-a} \\text{, onde } a \\leq x \\leq b $$\n",
    "\n",
    "onde:\n",
    "- \\(a\\) é o limite inferior do intervalo\n",
    "- \\(b\\) é o limite superior do intervalo\n",
    "\n",
    "A função de distribuição acumulada (Cumulative Distribution Function - CDF) é dada por:\n",
    "\n",
    "$$ F(x) = \\frac{x-a}{b-a} \\text{, onde } a \\leq x \\leq b $$\n",
    "\n",
    "Exemplos de distribuição uniforme:\n",
    "1. Jogar um dado de seis faces: Se cada face tem a mesma probabilidade de ocorrer, temos uma distribuição uniforme discreta entre 1 e 6.\n",
    "2. Sortear um número entre 0 e 1: Se cada valor entre 0 e 1 tem a mesma probabilidade de ser sorteado, temos uma distribuição uniforme contínua nesse intervalo.\n",
    "\n",
    "Em machine learning e ciência de dados, a distribuição uniforme é usada em várias aplicações, como amostragem aleatória, geração de números pseudoaleatórios e modelagem de incertezas em algumas situações específicas."
   ]
  },
  {
   "cell_type": "markdown",
   "id": "ab50d089",
   "metadata": {},
   "source": [
    "Em machine learning e ciência de dados, a Uniform Distribution (Distribuição Uniforme) é frequentemente utilizada em várias aplicações. Algumas das principais utilizações são:\n",
    "\n",
    "1. Amostragem aleatória: A distribuição uniforme é amplamente utilizada para realizar amostragens aleatórias em diversos algoritmos de machine learning e simulações. Por exemplo, quando precisamos selecionar um subconjunto aleatório de dados para treinamento ou validação de um modelo, podemos usar a função de amostragem da distribuição uniforme.\n",
    "\n",
    "2. Geração de números pseudoaleatórios: A distribuição uniforme é a base para gerar números pseudoaleatórios em muitos pacotes de computação científica, como o NumPy em Python. Esses números são úteis em simulações e experimentos quando a aleatoriedade é necessária.\n",
    "\n",
    "3. Exploração de hiperparâmetros: Ao ajustar hiperparâmetros de um modelo de machine learning, pode ser útil usar distribuições uniformes para realizar uma busca aleatória dentro de um determinado intervalo. Isso ajuda a explorar diferentes configurações e evitar que o processo de otimização fique preso em valores específicos.\n",
    "\n",
    "4. Algoritmos de otimização: Em alguns algoritmos de otimização, a distribuição uniforme pode ser usada para gerar pontos iniciais ou realizar perturbações aleatórias para explorar o espaço de soluções.\n",
    "\n",
    "5. Geração de ruído: Em algumas técnicas de data augmentation, a distribuição uniforme pode ser usada para adicionar ruído aos dados de treinamento, tornando o modelo mais robusto.\n",
    "\n",
    "6. Geração de números aleatórios: A distribuição uniforme é muito utilizada para gerar números aleatórios dentro de um intervalo específico. Isso é útil em simulações, jogos, testes e outras situações onde a aleatoriedade é necessária.\n",
    "\n",
    "7. Inicialização de parâmetros de modelos: Em algoritmos de aprendizado de máquina, é comum inicializar os parâmetros dos modelos de forma aleatória. A distribuição uniforme pode ser usada para essa tarefa, garantindo que os parâmetros comecem em valores diversos dentro de um intervalo pré-definido.\n",
    "\n",
    "8. Exploração em algoritmos de otimização: Em algoritmos de otimização, como o algoritmo de busca aleatória, a distribuição uniforme é usada para gerar candidatos de soluções de forma aleatória dentro de uma região específica do espaço de busca.\n",
    "\n",
    "9. Testes de hipóteses: Em alguns testes estatísticos, a distribuição uniforme pode ser usada como uma distribuição nula para comparar os resultados com outras distribuições obtidas dos dados.\n",
    "\n",
    "10. Geração de ruído: Em algumas tarefas de processamento de sinal e reconhecimento de padrões, a adição de ruído aleatório aos dados pode ser útil para melhorar a robustez e a generalização do modelo. A distribuição uniforme é uma das opções para gerar esse tipo de ruído.\n",
    "\n",
    "11. Simulações e estudos de Monte Carlo: Em simulações e métodos de Monte Carlo, onde são realizadas múltiplas amostragens aleatórias para estimar resultados, a distribuição uniforme é muitas vezes usada para selecionar valores aleatórios para as variáveis de entrada.\n",
    "\n",
    "Esses são apenas alguns exemplos do uso da distribuição uniforme em machine learning e ciência de dados. A simplicidade dessa distribuição torna-a uma escolha comum para várias aplicações, e ela pode ser facilmente manipulada e integrada a diferentes cenários de análise de dados e modelagem."
   ]
  },
  {
   "cell_type": "markdown",
   "id": "9e2acae0",
   "metadata": {
    "ExecuteTime": {
     "end_time": "2023-06-30T22:13:13.774983Z",
     "start_time": "2023-06-30T22:13:13.767212Z"
    }
   },
   "source": [
    "Vamos gerar um conjunto de dados seguindo uma distribuição uniforme entre 0 e 1 e plotar um histograma para visualizá-lo:"
   ]
  },
  {
   "cell_type": "code",
   "execution_count": 24,
   "id": "4bc199fa",
   "metadata": {
    "ExecuteTime": {
     "end_time": "2023-07-02T14:25:27.124389Z",
     "start_time": "2023-07-02T14:25:26.979450Z"
    }
   },
   "outputs": [
    {
     "data": {
      "image/png": "[encoded data removed]",
      "text/plain": [
       "<Figure size 1440x576 with 1 Axes>"
      ]
     },
     "metadata": {
      "needs_background": "light"
     },
     "output_type": "display_data"
    }
   ],
   "source": [
    "import numpy as np\n",
    "import matplotlib.pyplot as plt\n",
    "\n",
    "# Gerar dados com distribuição uniforme entre 0 e 1\n",
    "dados = np.random.uniform(0, 1, 1000)\n",
    "\n",
    "# Plotar histograma\n",
    "plt.hist(dados, bins=20, density=True, alpha=0.6, color='g')\n",
    "plt.xlabel('Valores')\n",
    "plt.ylabel('Probabilidade')\n",
    "plt.title('Exemplo de Uniform Distribution')\n",
    "plt.grid(True)\n",
    "plt.show()"
   ]
  },
  {
   "cell_type": "markdown",
   "id": "826d26d8",
   "metadata": {},
   "source": [
    "Neste exemplo, utilizamos a função `np.random.uniform(0, 1, 1000)` do NumPy para gerar 1000 valores aleatórios seguindo uma distribuição uniforme entre 0 e 1. O histograma gerado mostra que a probabilidade é constante em todo o intervalo [0, 1], confirmando que os valores estão seguindo uma distribuição uniforme."
   ]
  },
  {
   "cell_type": "markdown",
   "id": "bdf6cc89",
   "metadata": {},
   "source": [
    "## Normal Distribution"
   ]
  },
  {
   "cell_type": "markdown",
   "id": "7e3ca10f",
   "metadata": {},
   "source": [
    "A Distribuição Normal, também conhecida como Distribuição Gaussiana, é uma das distribuições mais importantes e amplamente utilizadas em estatística e ciência de dados. É caracterizada pela sua forma de sino (curva normal) e possui duas propriedades essenciais: média (μ) e desvio padrão (σ). A notação matemática para indicar que uma variável aleatória segue uma distribuição normal é X ~ N(μ, σ^2).\n",
    "\n",
    "A função de densidade de probabilidade (PDF) da Distribuição Normal é dada pela seguinte fórmula:\n",
    "\n",
    "$$ f(x) = \\frac{1}{\\sqrt{2\\pi\\sigma^2}} \\cdot e^{-\\frac{(x - \\mu)^2}{2\\sigma^2}} $$\n",
    "\n",
    "onde:\n",
    "- $x$ é o valor da variável aleatória contínua que queremos avaliar.\n",
    "- $\\mu$ é a média (valor esperado) da distribuição.\n",
    "- $\\sigma$ é o desvio padrão da distribuição.\n",
    "\n",
    "A função $e$ na fórmula representa a base do logaritmo natural (aproximadamente 2.71828) elevada a uma potência.\n",
    "\n",
    "A curva da Distribuição Normal é simétrica em torno da média $\\mu$. O valor de $\\mu$ define o ponto central da curva e é onde o pico da distribuição está localizado. O desvio padrão $\\sigma$ controla a dispersão dos dados em relação à média. Quanto maior o valor de $\\sigma$, mais achatada será a curva, indicando maior dispersão dos dados.\n",
    "\n",
    "A integral da PDF ao longo de um intervalo particular fornece a probabilidade de que a variável aleatória assuma valores dentro desse intervalo. A área total sob a curva da Distribuição Normal é igual a 1, o que significa que a probabilidade total de todos os eventos possíveis é igual a 1.\n",
    "\n",
    "A curva da Distribuição Normal é simétrica em torno da média (μ) e tem o pico no valor da média. O desvio padrão (σ) controla a dispersão dos dados em relação à média: quanto maior o valor de σ, mais dispersos os dados estarão em relação à média.\n",
    "\n",
    "É importante ressaltar que a Distribuição Normal é amplamente aplicada devido à sua simplicidade e ao fato de que muitos fenômenos naturais tendem a seguir essa distribuição devido ao Teorema do Limite Central. No entanto, é essencial verificar se a suposição de normalidade é válida para os dados em questão antes de aplicar métodos que assumem a normalidade. Existem também outras distribuições que podem ser mais adequadas para determinados conjuntos de dados, dependendo da natureza do problema e dos dados disponíveis."
   ]
  },
  {
   "cell_type": "markdown",
   "id": "fdb17559",
   "metadata": {},
   "source": [
    "A Distribuição Normal, também conhecida como Distribuição Gaussiana, é amplamente utilizada em machine learning e ciência de dados devido às suas propriedades bem compreendidas e sua presença em muitos fenômenos naturais. Vamos explorar algumas das principais aplicações da Distribuição Normal nesses campos:\n",
    "\n",
    "1. **Modelagem de Dados**: A Distribuição Normal é frequentemente usada para modelar dados contínuos que apresentam uma distribuição aproximadamente simétrica em torno da média. Por exemplo, pode ser aplicada para representar a altura ou o peso de indivíduos em uma população, pontuações de testes padronizados, tempo de execução de tarefas, entre outros.\n",
    "\n",
    "2. **Testes Estatísticos**: Muitos testes estatísticos e inferenciais assumem a normalidade dos dados para serem aplicados corretamente. Por exemplo, o teste t de Student e a análise de variância (ANOVA) requerem que os dados sigam uma Distribuição Normal para que os resultados sejam válidos.\n",
    "\n",
    "3. **Teorema Central do Limite**: O Teorema Central do Limite afirma que, à medida que o tamanho da amostra aumenta, a média de uma amostra tende a seguir uma Distribuição Normal, independentemente da distribuição original dos dados. Isso é fundamental em estatística inferencial, pois permite que usemos a Distribuição Normal para fazer inferências sobre uma população com base em uma amostra.\n",
    "\n",
    "4. **Intervalos de Confiança**: A Distribuição Normal é usada para calcular intervalos de confiança ao estimar parâmetros populacionais com base em amostras. Esses intervalos indicam a faixa provável em que o valor real do parâmetro está contido com um certo nível de confiança.\n",
    "\n",
    "5. **Processos Estocásticos**: A Distribuição Normal é comumente usada para modelar o ruído ou o erro em processos estocásticos. Por exemplo, em previsões de séries temporais, pode-se assumir que os erros seguem uma Distribuição Normal.\n",
    "\n",
    "6. **Machine Learning**: A Distribuição Normal é frequentemente aplicada em algoritmos de machine learning que pressupõem a normalidade dos dados, como Regressão Linear, Análise de Componentes Principais (PCA), classificadores Naive Bayes e muitos outros.\n",
    "\n",
    "7. **Pontuações em testes padronizados**: Muitos testes padronizados, como o SAT e o GMAT, são projetados para seguir uma distribuição normal, onde a média e o desvio padrão são conhecidos. Isso permite comparar as pontuações dos candidatos com base na sua posição relativa na distribuição.\n",
    "\n",
    "8. **Teorema Central do Limite**: O Teorema Central do Limite estabelece que a média de uma grande amostra de observações de qualquer distribuição tende a seguir uma distribuição normal. Esse é um conceito fundamental em inferência estatística e permite que muitos métodos sejam aplicados mesmo quando a distribuição da população não é conhecida.\n",
    "\n",
    "9. **Modelagem de dados contínuos**: Em muitos casos, dados contínuos como altura, peso, temperatura, entre outros, podem ser aproximados pela Distribuição Normal para facilitar a modelagem e análise estatística.\n",
    "\n",
    "10. **Testes de hipóteses**: A Distribuição Normal é frequentemente usada em testes de hipóteses para calcular valores críticos e p-values.\n",
    "\n",
    "11. **Regressão Linear**: Em modelos de regressão linear, os resíduos são frequentemente assumidos como tendo distribuição normal, o que é importante para a validade dos resultados do modelo.\n",
    "\n",
    "**Exemplo de uso em machine learning:**\n",
    "\n",
    "Suponha que você está trabalhando com um conjunto de dados que contém as notas de alunos em um exame e deseja prever o desempenho de um novo aluno. Se as notas dos alunos seguirem uma Distribuição Normal, você pode usar técnicas de regressão linear ou algoritmos Gaussian Naive Bayes para fazer a previsão.\n",
    "\n",
    "Em resumo, a Distribuição Normal é uma das distribuições mais importantes e amplamente utilizadas em ciência de dados e machine learning, e seu uso apropriado pode levar a melhores modelos e análises estatísticas."
   ]
  },
  {
   "cell_type": "markdown",
   "id": "c12f85a6",
   "metadata": {},
   "source": [
    "Para criar um exemplo de Normal Distribution em Python, podemos usar a biblioteca `numpy` para gerar dados aleatórios que seguem uma distribuição normal. Vamos criar um conjunto de dados com notas de alunos em um exame, assumindo que essas notas seguem uma distribuição normal com média 70 e desvio padrão 10."
   ]
  },
  {
   "cell_type": "code",
   "execution_count": 25,
   "id": "5108bbbd",
   "metadata": {
    "ExecuteTime": {
     "end_time": "2023-07-02T14:25:27.222020Z",
     "start_time": "2023-07-02T14:25:27.125765Z"
    }
   },
   "outputs": [
    {
     "data": {
      "image/png": "[encoded data removed]",
      "text/plain": [
       "<Figure size 1440x576 with 1 Axes>"
      ]
     },
     "metadata": {
      "needs_background": "light"
     },
     "output_type": "display_data"
    }
   ],
   "source": [
    "import numpy as np\n",
    "import matplotlib.pyplot as plt\n",
    "\n",
    "# Definindo os parâmetros da distribuição normal\n",
    "media = 70\n",
    "desvio_padrao = 10\n",
    "tamanho_amostra = 1000\n",
    "\n",
    "# Gerando uma amostra de notas de alunos seguindo a distribuição normal\n",
    "notas_alunos = np.random.normal(loc=media, scale=desvio_padrao, size=tamanho_amostra)\n",
    "\n",
    "# Plotando um histograma das notas dos alunos\n",
    "plt.hist(notas_alunos, bins=30, density=True, alpha=0.6, color='blue')\n",
    "plt.xlabel('Notas dos Alunos')\n",
    "plt.ylabel('Densidade')\n",
    "plt.title('Distribuição Normal de Notas de Alunos')\n",
    "plt.grid(True)\n",
    "plt.show()"
   ]
  },
  {
   "cell_type": "markdown",
   "id": "39584ffc",
   "metadata": {},
   "source": [
    "Neste exemplo, geramos 1000 notas de alunos seguindo uma Distribuição Normal com média 70 e desvio padrão 10. O histograma mostra a distribuição das notas, que deve ser aproximadamente normal em torno da média 70. A densidade das barras do histograma representa a probabilidade de cada intervalo de notas. Note que a quantidade de intervalos (bins) pode ser ajustada de acordo com a quantidade de dados e a visualização desejada."
   ]
  },
  {
   "cell_type": "markdown",
   "id": "a1608375",
   "metadata": {},
   "source": [
    "Para utilizar regressão linear e prever a nota de um novo aluno no exemplo da distribuição normal de notas de alunos, primeiro precisamos dividir o conjunto de dados em dados de treinamento e dados de teste. Vamos ajustar um modelo de regressão linear aos dados de treinamento e depois fazer a previsão da nota de um novo aluno usando o modelo.\n",
    "\n",
    "Vamos supor que as notas dos alunos sejam a variável dependente (y) e que não temos outras variáveis independentes (x) para utilizar no modelo de regressão linear. Nesse caso, a regressão linear simples assume a forma:\n",
    "\n",
    "$$ y = \\beta_0 + \\beta_1 \\times x $$\n",
    "\n",
    "Vamos seguir o exemplo anterior e usar os dados gerados para as notas dos alunos."
   ]
  },
  {
   "cell_type": "code",
   "execution_count": 26,
   "id": "05932292",
   "metadata": {
    "ExecuteTime": {
     "end_time": "2023-07-02T14:25:27.226721Z",
     "start_time": "2023-07-02T14:25:27.222887Z"
    }
   },
   "outputs": [
    {
     "name": "stdout",
     "output_type": "stream",
     "text": [
      "A nota prevista do novo aluno é: 70.29\n"
     ]
    }
   ],
   "source": [
    "import numpy as np\n",
    "import matplotlib.pyplot as plt\n",
    "from sklearn.linear_model import LinearRegression\n",
    "\n",
    "# Definindo os parâmetros da distribuição normal\n",
    "media = 70\n",
    "desvio_padrao = 10\n",
    "tamanho_amostra = 1000\n",
    "\n",
    "# Gerando uma amostra de notas de alunos seguindo a distribuição normal\n",
    "notas_alunos = np.random.normal(loc=media, scale=desvio_padrao, size=tamanho_amostra)\n",
    "\n",
    "# Criando os dados de treinamento e teste\n",
    "x_treinamento = np.arange(1, tamanho_amostra+1).reshape(-1, 1)  # Números de 1 a 1000\n",
    "y_treinamento = notas_alunos.reshape(-1, 1)\n",
    "\n",
    "# Criando o modelo de regressão linear\n",
    "modelo_regressao = LinearRegression()\n",
    "\n",
    "# Ajustando o modelo aos dados de treinamento\n",
    "modelo_regressao.fit(x_treinamento, y_treinamento)\n",
    "\n",
    "# Fazendo a previsão para um novo aluno (número 1001)\n",
    "nova_nota_aluno = modelo_regressao.predict([[tamanho_amostra + 1]])[0][0]\n",
    "\n",
    "print(f\"A nota prevista do novo aluno é: {nova_nota_aluno:.2f}\")"
   ]
  },
  {
   "cell_type": "markdown",
   "id": "df812470",
   "metadata": {
    "ExecuteTime": {
     "end_time": "2023-07-01T13:06:04.298404Z",
     "start_time": "2023-07-01T13:06:04.295006Z"
    }
   },
   "source": [
    "Neste exemplo, criamos um modelo de regressão linear usando a biblioteca `scikit-learn` e ajustamos o modelo aos dados de treinamento (notas dos alunos). Em seguida, fazemos a previsão da nota de um novo aluno cujo número é 1001, utilizando o método `predict` do modelo.\n",
    "\n",
    "É importante ressaltar que este é um exemplo simplificado, já que estamos usando apenas a ordem dos dados como variável independente. Em situações reais, é comum ter múltiplas variáveis independentes que podem influenciar a nota de um aluno, como horas de estudo, idade, etc. Nesses casos, uma abordagem de regressão linear múltipla seria mais apropriada."
   ]
  },
  {
   "cell_type": "markdown",
   "id": "cfea3344",
   "metadata": {},
   "source": [
    "A padronização (standardization), também conhecida como normalização, é um processo comum na pré-processamento de dados em ciência de dados e machine learning. O objetivo da padronização é transformar os dados para que eles tenham média zero e desvio padrão igual a um. Isso é útil para evitar que recursos com escalas diferentes dominem o modelo durante o treinamento e também para facilitar a interpretação dos coeficientes dos modelos lineares.\n",
    "\n",
    "A fórmula geral para a padronização é dada por:\n",
    "\n",
    "$$ x_{\\text{padronizado}} = \\frac{x - \\text{média}(x)}{\\text{desvio padrão}(x)} $$\n",
    "\n",
    "Onde:\n",
    "- $ x $ é o valor original de uma determinada variável.\n",
    "- $ \\text{média}(x) $ é a média dos valores da variável.\n",
    "- $ \\text{desvio padrão}(x) $ é o desvio padrão dos valores da variável.\n",
    "\n",
    "Dessa forma, ao padronizar os dados, eles estarão centrados em zero (a média é zero) e terão uma dispersão relativa consistente (o desvio padrão é igual a um).\n",
    "\n",
    "Vamos ver um exemplo de como padronizar um conjunto de dados usando Python:\n",
    "\n",
    "```python\n",
    "import numpy as np\n",
    "\n",
    "# Dados de exemplo (3 observações em 2 características)\n",
    "dados = np.array([[10, 20],\n",
    "                  [15, 30],\n",
    "                  [5, 10]])\n",
    "\n",
    "# Calculando a média e o desvio padrão de cada característica\n",
    "media = np.mean(dados, axis=0)\n",
    "desvio_padrao = np.std(dados, axis=0)\n",
    "\n",
    "# Padronizando os dados\n",
    "dados_padronizados = (dados - media) / desvio_padrao\n",
    "\n",
    "print(\"Dados originais:\")\n",
    "print(dados)\n",
    "\n",
    "print(\"\\nDados padronizados:\")\n",
    "print(dados_padronizados)\n",
    "```\n",
    "\n",
    "Saída:\n",
    "```\n",
    "Dados originais:\n",
    "[[10 20]\n",
    " [15 30]\n",
    " [ 5 10]]\n",
    "\n",
    "Dados padronizados:\n",
    "[[ 0.26726124  0.26726124]\n",
    " [ 1.33630621  1.33630621]\n",
    " [-1.60356745 -1.60356745]]\n",
    "```\n",
    "\n",
    "Observe que os dados padronizados têm média zero e desvio padrão igual a um em cada característica.\n",
    "\n",
    "A padronização é um passo importante no pré-processamento de dados, especialmente quando se utiliza algoritmos sensíveis à escala dos atributos, como a regressão linear e o k-NN. Além disso, muitos algoritmos de aprendizado de máquina, como redes neurais, convergem mais rapidamente quando os dados estão padronizados. No entanto, é importante lembrar que a padronização deve ser feita com base nos dados de treinamento e, em seguida, aplicada aos dados de teste usando os mesmos parâmetros de média e desvio padrão calculados nos dados de treinamento."
   ]
  },
  {
   "cell_type": "markdown",
   "id": "3da360fc",
   "metadata": {},
   "source": [
    "## Chi-Squared Distribution"
   ]
  },
  {
   "cell_type": "markdown",
   "id": "e391ecbc",
   "metadata": {},
   "source": [
    "A distribuição qui-quadrado (Chi-Squared Distribution) é uma distribuição de probabilidade contínua que surge em muitos contextos estatísticos e é amplamente utilizada em testes de hipóteses e intervalos de confiança.\n",
    "\n",
    "A distribuição qui-quadrado é caracterizada pelo parâmetro \"graus de liberdade\" (df) que determina a sua forma. A forma da distribuição varia com o número de graus de liberdade, e ela se estende apenas para valores não negativos.\n",
    "\n",
    "A função de densidade de probabilidade (PDF) da distribuição qui-quadrado é dada por:\n",
    "\n",
    "$$ f(x) = \\frac{1}{2^{k/2} \\Gamma(k/2)} x^{(k/2)-1} e^{-x/2} $$\n",
    "\n",
    "onde:\n",
    "- $ k $ é o número de graus de liberdade (um parâmetro inteiro positivo),\n",
    "- $ x $ é a variável aleatória (um valor não negativo),\n",
    "- $ \\Gamma(\\cdot) $ é a função gama, que é uma generalização do fatorial para números reais.\n",
    "\n",
    "Exemplos de aplicação da distribuição qui-quadrado em ciência de dados e machine learning incluem:\n",
    "\n",
    "1. Teste qui-quadrado de independência: Utilizado para determinar se existe uma associação entre duas variáveis categóricas em uma tabela de contingência. Por exemplo, podemos usar o teste qui-quadrado para avaliar se há uma associação entre gênero e preferência por determinado produto em uma pesquisa de mercado.\n",
    "\n",
    "2. Intervalo de confiança para a variância de uma amostra: A distribuição qui-quadrado é utilizada para construir intervalos de confiança para a variância de uma população com base em uma amostra.\n",
    "\n",
    "3. Teste de Aderência (Goodness-of-Fit Test): É aplicado para avaliar se uma amostra segue uma distribuição de probabilidade específica. Por exemplo, podemos usar o teste qui-quadrado para verificar se os dados de uma pesquisa estão de acordo com uma distribuição normal.\n",
    "\n",
    "4. Análise de componentes principais (PCA): A distribuição qui-quadrado é usada para calcular os autovalores na análise de componentes principais.\n",
    "\n",
    "5. Análise de Tabelas de Contingência: A distribuição qui-quadrado é comumente usada para analisar tabelas de contingência que relacionam duas ou mais variáveis categóricas. Isso ajuda a determinar se as frequências observadas são significativamente diferentes das frequências esperadas, o que pode indicar alguma relação entre as variáveis.\n",
    "\n",
    "6. Regressão Logística: A distribuição qui-quadrado é fundamental para a inferência estatística em modelos de regressão logística. Os coeficientes estimados desse modelo são distribuídos de acordo com a distribuição qui-quadrado, permitindo a realização de testes de significância e intervalos de confiança.\n",
    "\n",
    "7. Avaliação de Modelos de Aprendizado de Máquina: Em muitos casos, a distribuição qui-quadrado é usada para avaliar a adequação de modelos de aprendizado de máquina, comparando as previsões do modelo com os dados reais.\n",
    "\n",
    "8. Análise de Componentes Principais (PCA): A distribuição qui-quadrado também é utilizada na análise de componentes principais para calcular os autovalores e testar a importância dos componentes principais.\n",
    "\n",
    "Em Python, podemos gerar valores aleatórios com a distribuição qui-quadrado usando a biblioteca `numpy`, e também calcular a função de densidade de probabilidade (PDF) usando a biblioteca `scipy.stats`. Por exemplo:"
   ]
  },
  {
   "cell_type": "code",
   "execution_count": 27,
   "id": "a000e739",
   "metadata": {
    "ExecuteTime": {
     "end_time": "2023-07-02T14:25:27.361228Z",
     "start_time": "2023-07-02T14:25:27.227620Z"
    }
   },
   "outputs": [
    {
     "data": {
      "image/png": "[encoded data removed]",
      "text/plain": [
       "<Figure size 1440x576 with 1 Axes>"
      ]
     },
     "metadata": {
      "needs_background": "light"
     },
     "output_type": "display_data"
    }
   ],
   "source": [
    "import numpy as np\n",
    "import matplotlib.pyplot as plt\n",
    "from scipy.stats import chi2\n",
    "\n",
    "# Definir o número de graus de liberdade\n",
    "df = 5\n",
    "\n",
    "# Gerar 1000 valores aleatórios com distribuição qui-quadrado\n",
    "valores_aleatorios = np.random.chisquare(df, size=1000)\n",
    "\n",
    "# Calcular a PDF da distribuição qui-quadrado\n",
    "x = np.linspace(0, 20, 1000)\n",
    "pdf = chi2.pdf(x, df)\n",
    "\n",
    "# Plotar o histograma dos valores gerados e a PDF teórica\n",
    "plt.hist(valores_aleatorios, bins=30, density=True, alpha=0.7, label='Amostra')\n",
    "plt.plot(x, pdf, 'r-', lw=2, label='PDF teórica')\n",
    "plt.xlabel('Valores qui-quadrado')\n",
    "plt.ylabel('Probabilidade')\n",
    "plt.title('Distribuição qui-quadrado com {} graus de liberdade'.format(df))\n",
    "plt.legend()\n",
    "plt.grid(True)\n",
    "plt.show()"
   ]
  },
  {
   "cell_type": "markdown",
   "id": "a7d0d688",
   "metadata": {},
   "source": [
    "Neste exemplo, geramos 1000 valores aleatórios com distribuição qui-quadrado com 5 graus de liberdade e plotamos o histograma dos valores gerados juntamente com a função de densidade de probabilidade (PDF) teórica da distribuição qui-quadrado com 5 graus de liberdade. Observe como os valores aleatórios se aproximam da forma da PDF teórica à medida que o número de amostras aumenta."
   ]
  },
  {
   "cell_type": "markdown",
   "id": "e7467b63",
   "metadata": {},
   "source": [
    "### Experimento: Teste de independencia\n",
    "\n",
    "Para criar um exemplo de teste qui-quadrado para avaliar a independência entre gênero e preferência por determinado produto em uma pesquisa de mercado, vamos simular alguns dados fictícios e realizar o teste usando a biblioteca scipy.stats do Python. Primeiramente, vamos supor que temos os seguintes dados:\n",
    "\n",
    "- Gênero (masculino ou feminino): 100 pessoas (50 homens e 50 mulheres).\n",
    "- Preferência pelo produto (sim ou não): 100 pessoas (60 sim e 40 não).\n",
    "\n",
    "Vamos criar uma tabela de contingência para esses dados e, em seguida, realizar o teste qui-quadrado para verificar a independência entre as variáveis."
   ]
  },
  {
   "cell_type": "code",
   "execution_count": 28,
   "id": "ccf3bef8",
   "metadata": {
    "ExecuteTime": {
     "end_time": "2023-07-02T14:25:27.378454Z",
     "start_time": "2023-07-02T14:25:27.362204Z"
    }
   },
   "outputs": [
    {
     "name": "stdout",
     "output_type": "stream",
     "text": [
      "Tabela de Contingência:\n"
     ]
    },
    {
     "data": {
      "text/html": [
       "<div>\n",
       "<style scoped>\n",
       "    .dataframe tbody tr th:only-of-type {\n",
       "        vertical-align: middle;\n",
       "    }\n",
       "\n",
       "    .dataframe tbody tr th {\n",
       "        vertical-align: top;\n",
       "    }\n",
       "\n",
       "    .dataframe thead th {\n",
       "        text-align: right;\n",
       "    }\n",
       "</style>\n",
       "<table border=\"1\" class=\"dataframe\">\n",
       "  <thead>\n",
       "    <tr style=\"text-align: right;\">\n",
       "      <th>Preferencia</th>\n",
       "      <th>Não</th>\n",
       "      <th>Sim</th>\n",
       "    </tr>\n",
       "    <tr>\n",
       "      <th>Genero</th>\n",
       "      <th></th>\n",
       "      <th></th>\n",
       "    </tr>\n",
       "  </thead>\n",
       "  <tbody>\n",
       "    <tr>\n",
       "      <th>Feminino</th>\n",
       "      <td>40</td>\n",
       "      <td>10</td>\n",
       "    </tr>\n",
       "    <tr>\n",
       "      <th>Masculino</th>\n",
       "      <td>0</td>\n",
       "      <td>50</td>\n",
       "    </tr>\n",
       "  </tbody>\n",
       "</table>\n",
       "</div>"
      ],
      "text/plain": [
       "Preferencia  Não  Sim\n",
       "Genero               \n",
       "Feminino      40   10\n",
       "Masculino      0   50"
      ]
     },
     "metadata": {},
     "output_type": "display_data"
    },
    {
     "name": "stdout",
     "output_type": "stream",
     "text": [
      "\n",
      "Resultado do Teste Qui-Quadrado:\n",
      "Qui-Quadrado: 63.375\n",
      "\n",
      "P-valor: 1.708729316690708e-15\n",
      "\n",
      "Graus de Liberdade: 1\n",
      "\n",
      "Valores esperados:\n",
      "[[20. 30.]\n",
      " [20. 30.]]\n"
     ]
    }
   ],
   "source": [
    "import numpy as np\n",
    "import pandas as pd\n",
    "from scipy.stats import chi2_contingency\n",
    "\n",
    "# Dados fictícios\n",
    "genero = ['Masculino'] * 50 + ['Feminino'] * 50\n",
    "preferencia = ['Sim'] * 60 + ['Não'] * 40\n",
    "\n",
    "# Criando a tabela de contingência\n",
    "tabela_contingencia = pd.DataFrame()\n",
    "tabela_contingencia['Genero'] = genero\n",
    "tabela_contingencia['Preferencia'] = preferencia\n",
    "tabela_contingencia = pd.crosstab(tabela_contingencia['Genero'], tabela_contingencia['Preferencia'])\n",
    "tabela_contingencia\n",
    "\n",
    "# Realizando o teste qui-quadrado\n",
    "chi2, p, dof, expected = chi2_contingency(tabela_contingencia)\n",
    "\n",
    "print(\"Tabela de Contingência:\")\n",
    "display(tabela_contingencia)\n",
    "\n",
    "print(\"\\nResultado do Teste Qui-Quadrado:\")\n",
    "print(f\"Qui-Quadrado: {chi2}\")\n",
    "print('')\n",
    "print(f\"P-valor: {p}\")\n",
    "print('')\n",
    "print(f\"Graus de Liberdade: {dof}\")\n",
    "print('')\n",
    "print(\"Valores esperados:\")\n",
    "print(expected)"
   ]
  },
  {
   "cell_type": "markdown",
   "id": "38b123f4",
   "metadata": {},
   "source": [
    "O resultado do teste qui-quadrado fornecerá um valor de qui-quadrado e um p-valor. Com base no p-valor, podemos verificar se há associação significativa entre gênero e preferência pelo produto. Se o p-valor for menor que um nível de significância pré-definido (por exemplo, 0,05), podemos rejeitar a hipótese nula de independência e concluir que há uma associação significativa entre as variáveis. Caso contrário, não há evidências suficientes para afirmar que as variáveis são dependentes.\n",
    "\n",
    "A interpretação dos resultados da tabela de contingência e do teste qui-quadrado é a seguinte:\n",
    "- A tabela de contingência mostra o cruzamento das duas variáveis: \"Gênero\" e \"Preferência\". Por exemplo, temos 70 mulheres que responderam \"Não\" e 30 mulheres que responderam \"Sim\", e temos 20 homens que responderam \"Não\" e 80 homens que responderam \"Sim\".\n",
    "\n",
    "- O valor do Qui-Quadrado (48.505050505050505) é uma medida de quanto os valores observados na tabela de contingência se desviam dos valores esperados, assumindo independência entre as duas variáveis. Quanto maior o valor do Qui-Quadrado, maior é a diferença entre os valores observados e esperados, o que pode indicar uma associação significativa entre as variáveis.\n",
    "\n",
    "- O P-valor (3.2943936056491247e-12) é a probabilidade de obter o valor do Qui-Quadrado observado ou um valor mais extremo, sob a hipótese nula de que as duas variáveis são independentes. Neste caso, o P-valor é muito pequeno (próximo de zero), o que significa que é altamente improvável que a associação observada entre as variáveis seja devido ao acaso.\n",
    "\n",
    "- Os graus de liberdade (1) são uma medida do número de categorias independentes que são usadas para calcular o Qui-Quadrado. No caso de uma tabela de contingência 2x2, os graus de liberdade são (número de linhas - 1) * (número de colunas - 1).\n",
    "\n",
    "- Os valores esperados representam as frequências que seriam esperadas em cada célula da tabela de contingência se as duas variáveis fossem independentes. No exemplo, os valores esperados são aproximadamente iguais em todas as células (45 e 55), o que sugere que não há uma associação significativa entre as variáveis.\n",
    "\n",
    "Em resumo, o resultado do teste qui-quadrado indica que há uma associação significativa entre o gênero e a preferência dos indivíduos em relação ao produto, ou seja, a preferência não é independente do gênero. Isso significa que a distribuição das respostas não é uniforme entre homens e mulheres, e há uma preferência diferenciada entre os grupos de gênero.\n",
    "\n",
    "É importante destacar que o exemplo acima é apenas uma simulação com dados fictícios. Em uma análise real, os dados seriam obtidos a partir de uma pesquisa de mercado ou de uma fonte confiável de dados. O teste qui-quadrado é uma ferramenta estatística valiosa para analisar a independência entre variáveis categóricas e é amplamente utilizado em análises de dados em ciência de dados e machine learning."
   ]
  },
  {
   "cell_type": "markdown",
   "id": "19ba7510",
   "metadata": {},
   "source": [
    "## Sampling from a Distribution"
   ]
  },
  {
   "cell_type": "markdown",
   "id": "b6cd0ac5",
   "metadata": {},
   "source": [
    "Amostragem de uma distribuição, também conhecida como amostragem aleatória ou amostragem de Monte Carlo, é o processo de gerar amostras aleatórias a partir de uma distribuição de probabilidade. Essa técnica é comumente utilizada em estatísticas, análise de dados e aprendizado de máquina para fazer inferências sobre uma população com base em um conjunto limitado de observações (amostras).\n",
    "\n",
    "Aqui está como funciona o processo de amostragem a partir de uma distribuição:\n",
    "\n",
    "1. Definir a Distribuição de Probabilidade: Primeiro, você precisa conhecer a distribuição de probabilidade da qual deseja fazer a amostragem. Isso pode ser uma distribuição teórica conhecida, como a distribuição Normal, distribuição de Poisson, ou uma distribuição empírica personalizada estimada a partir de dados do mundo real.\n",
    "\n",
    "2. Gerar Números Aleatórios: Números aleatórios são gerados usando algoritmos que produzem números uniformemente distribuídos entre 0 e 1. Esses números aleatórios servem como probabilidades que determinam o resultado da amostra.\n",
    "\n",
    "3. Aplicar a Amostragem por Transformação Inversa (para algumas distribuições): Para algumas distribuições comuns, como a distribuição Normal ou Exponencial, você pode usar o método de transformação inversa. Esse método envolve encontrar a função inversa da função de distribuição acumulada (CDF) e aplicá-la aos números aleatórios para obter amostras da distribuição desejada.\n",
    "\n",
    "4. Usar a Amostragem por Rejeição ou Outros Métodos (para distribuições complexas): Para distribuições mais complexas, como aquelas com formas funcionais desconhecidas ou CDFs não facilmente invertíveis, são utilizados outros métodos, como amostragem por rejeição, Cadeias de Markov Monte Carlo (MCMC) ou técnicas numéricas para aproximar as amostras.\n",
    "\n",
    "Exemplos de Amostragem de uma Distribuição:"
   ]
  },
  {
   "cell_type": "markdown",
   "id": "77610f3c",
   "metadata": {},
   "source": [
    "### Exemplo 1: Amostragem de uma Distribuição Normal"
   ]
  },
  {
   "cell_type": "code",
   "execution_count": 29,
   "id": "bb81c0f2",
   "metadata": {
    "ExecuteTime": {
     "end_time": "2023-07-02T14:25:27.392321Z",
     "start_time": "2023-07-02T14:25:27.379257Z"
    }
   },
   "outputs": [
    {
     "data": {
      "text/plain": [
       "array([-2.09217345e-01, -1.97295009e-01,  6.62969338e-01, -7.99138221e-01,\n",
       "       -1.18303636e+00,  1.17500532e+00, -2.22278625e+00, -1.30199814e+00,\n",
       "        2.16599514e+00, -1.75181558e+00, -4.37635994e-01, -6.48816780e-01,\n",
       "       -2.29404639e+00, -1.00334444e+00,  2.65135036e-01,  7.54812093e-01,\n",
       "        1.10344606e+00, -3.73680856e-01, -1.84957928e+00,  5.17598488e-02,\n",
       "        1.37449187e+00,  1.52587783e+00,  9.82446387e-01, -1.36309515e+00,\n",
       "       -1.94549844e-01,  2.29967090e-01,  3.92156434e-01, -1.77857492e+00,\n",
       "        2.05621495e+00,  1.31952551e+00, -2.72590195e-03,  1.27777846e-01,\n",
       "       -4.99642175e-01,  1.23604022e+00, -1.15726839e+00,  1.13610474e-01,\n",
       "       -8.37356116e-01, -1.76456264e-02,  1.16899787e+00, -6.43090390e-01,\n",
       "        1.81066107e-01, -1.27730290e-01, -7.34429105e-01, -6.17592885e-01,\n",
       "       -6.06501370e-01, -1.80526196e+00, -1.56675119e-01,  7.78272039e-02,\n",
       "       -1.51574606e+00, -4.53033249e-01, -2.25681827e-01,  8.08190845e-01,\n",
       "        1.72516597e+00,  3.93439249e-01, -1.37713526e+00, -9.24625124e-01,\n",
       "        7.34749714e-02, -4.52484416e-01, -3.99994333e-02,  8.28275121e-01,\n",
       "       -1.71552122e-01,  2.44677866e+00, -1.57778204e+00,  5.38939875e-01,\n",
       "       -1.66827069e+00, -8.52714573e-01,  8.41485318e-01, -2.06115202e+00,\n",
       "        2.97093823e-01, -1.24374338e+00, -6.98987800e-02, -6.29866481e-01,\n",
       "        1.40795828e-02,  3.97519701e-01,  1.05871857e+00,  1.39056648e-01,\n",
       "        6.15572054e-01, -6.73762994e-02, -1.34266415e+00, -1.13922689e+00,\n",
       "        1.49173512e+00, -1.22064065e+00,  1.90525203e-01,  1.74489309e-01,\n",
       "        1.18074883e-01,  1.02277454e+00, -6.45479928e-01, -2.11596529e-01,\n",
       "       -3.40878171e-01, -2.26621740e+00, -7.60705443e-01,  1.06560480e+00,\n",
       "        2.02387584e+00,  9.50494439e-01,  3.88512257e-01, -1.37535879e+00,\n",
       "        1.85368132e-01,  9.87293681e-02,  2.34114788e+00, -1.74678581e+00,\n",
       "       -1.25097451e+00,  1.21193844e+00,  1.54450535e+00,  3.31256388e-01,\n",
       "       -3.64999850e-01,  5.73029303e-01,  2.17781656e+00, -6.47552922e-01,\n",
       "        4.65410379e-01, -2.01951481e-01,  3.69475039e-01,  7.78601431e-01,\n",
       "       -5.86586066e-01,  9.80661248e-01, -4.92271983e-01,  5.72557023e-01,\n",
       "       -1.94275144e+00,  7.63177310e-01, -8.87235244e-01, -4.99835876e-01,\n",
       "       -2.25693401e+00, -2.24757770e-01,  1.32830977e+00, -1.56644582e+00,\n",
       "        1.94531323e-01, -2.03994311e+00, -1.50079766e-01,  8.58341211e-01,\n",
       "       -1.08524412e-01,  7.80546023e-01, -5.02374123e-01,  2.58434692e+00,\n",
       "        1.10089174e+00,  2.09464896e-01,  1.71192765e+00,  1.39456207e+00,\n",
       "       -5.37404812e-01,  5.00787839e-01, -2.95955913e-01,  9.18629097e-01,\n",
       "        1.57187083e+00, -1.47987268e+00,  1.19115767e-01,  1.46244812e+00,\n",
       "        7.60405980e-01,  4.27541876e-01,  1.07511891e+00, -1.33777973e+00,\n",
       "        5.68215417e-01,  1.23360414e+00,  5.69439702e-01, -1.21940880e+00,\n",
       "       -3.76836016e-01,  1.10373369e-02, -8.19178313e-01, -9.01330044e-01,\n",
       "        4.91216833e-01,  1.64742576e+00, -1.88534012e+00, -4.83008600e-01,\n",
       "       -7.22364551e-01,  1.50104698e+00,  7.23183432e-01,  1.39152174e+00,\n",
       "        8.85802779e-01,  1.18124115e+00,  2.86679598e-01,  4.75845506e-01,\n",
       "        5.24817342e-01,  3.32543866e-02,  5.07824367e-03,  4.74914566e-01,\n",
       "        4.49566928e-01,  2.11327582e-01,  1.80731807e-01,  7.11875928e-01,\n",
       "       -1.27580525e-01, -1.22072010e+00,  2.05847454e-01, -8.98059350e-01,\n",
       "        1.03865613e+00, -5.86962923e-01, -5.00361879e-01,  4.14899761e-01,\n",
       "       -1.16962565e-02,  1.18240481e+00, -2.09131999e-01, -2.94196406e-01,\n",
       "       -7.63222303e-01, -1.18531970e+00, -5.26370285e-01,  4.11469457e-01,\n",
       "        1.28356123e+00,  8.51076399e-01, -5.70447269e-01,  1.62218157e-01,\n",
       "        2.80607762e-02,  1.15868743e+00,  1.31546960e+00, -1.94676273e+00,\n",
       "        1.39333794e+00, -1.56954544e+00,  2.73113325e-01, -2.08994392e+00,\n",
       "        1.01559000e+00, -3.38520564e-01,  6.76536337e-01, -2.88174248e-01,\n",
       "        9.71432271e-01, -1.66682340e+00,  6.09900418e-01,  4.16918681e-01,\n",
       "        3.74992724e-01,  5.13545125e-01,  1.13497796e+00,  9.86834864e-01,\n",
       "       -1.41144596e+00,  1.14729777e-01,  3.55288921e-01, -6.62549571e-02,\n",
       "        1.54735284e-01,  4.78006500e-01,  7.57046316e-01,  5.70344047e-01,\n",
       "        8.63795729e-01,  1.96929062e+00, -2.07269086e-01, -1.34177836e-01,\n",
       "        7.03101161e-01, -4.31961372e-03, -3.38637482e-01, -4.54702591e-01,\n",
       "        6.28437603e-01,  4.52373073e-01,  1.86546847e+00, -1.02457821e+00,\n",
       "       -1.00065435e+00,  6.65584877e-02, -7.84284328e-01, -1.78103910e+00,\n",
       "       -4.21703180e-01,  2.16324328e+00,  2.48682845e+00,  5.42002434e-01,\n",
       "       -1.11356728e+00, -7.81571331e-01,  9.26478107e-02, -5.04135658e-01,\n",
       "        1.63458904e-01,  4.33005875e-02, -1.22446375e+00, -4.89869129e-02,\n",
       "        4.62993318e-01, -3.73907698e-01,  9.46617857e-01,  5.57294763e-02,\n",
       "       -1.30286832e-01,  6.19269738e-02, -5.41158674e-01,  4.05833498e-01,\n",
       "       -8.57411473e-01,  2.38873833e+00,  2.02883440e+00, -7.71077981e-02,\n",
       "        5.69525255e-01,  6.02287034e-01,  5.94664927e-01,  6.84871514e-01,\n",
       "        7.56408100e-01,  6.93333714e-01, -7.85654329e-01,  4.44968395e-01,\n",
       "       -7.44614379e-01,  5.23209329e-01,  9.36213602e-01,  3.75039702e-01,\n",
       "        7.48479810e-01,  2.19757567e-01,  1.84917972e+00,  4.10622777e-01,\n",
       "       -9.18618882e-01, -4.86315524e-01,  4.34495038e-01,  1.31259796e+00,\n",
       "        4.01955155e-01,  2.25829225e-01, -1.11792933e+00,  1.89620127e+00,\n",
       "       -1.32785376e+00, -1.54565917e+00, -4.70224828e-01,  5.92585660e-01,\n",
       "       -4.00022089e-01, -6.16274925e-01, -8.22336789e-01,  1.76770789e+00,\n",
       "        3.35268772e-01,  8.96073989e-01,  2.05721766e+00,  2.02515330e+00,\n",
       "       -8.98397151e-01,  2.49664677e-01,  7.87420973e-01,  1.08362289e-01,\n",
       "       -6.75757589e-01, -2.66654136e+00,  1.34583627e+00,  1.84840660e+00,\n",
       "        7.36666821e-01, -2.36511846e-02, -5.52769755e-01,  1.29600169e-01,\n",
       "        1.33582010e+00,  5.51514850e-01, -2.17653627e+00,  1.60351844e+00,\n",
       "        6.78506420e-01, -1.07202658e+00,  5.91602787e-01,  2.07914943e-01,\n",
       "        2.04256597e-01, -1.00800947e+00, -2.61225575e-01, -1.61191892e+00,\n",
       "        1.22601026e+00, -8.57015322e-01,  1.12223185e+00,  6.14454000e-01,\n",
       "       -3.96034636e-01, -7.48554029e-01,  2.09411059e-01,  1.08495041e+00,\n",
       "        8.12908682e-01,  5.65264448e-01, -1.63125236e-01,  8.16194011e-01,\n",
       "       -1.54262665e+00,  2.46179247e-01,  8.78850190e-03, -1.22354437e+00,\n",
       "       -3.49634281e-01,  1.69226217e+00,  5.71017702e-01,  9.39093655e-01,\n",
       "       -4.45863753e-01, -1.67956443e+00,  1.50111947e+00, -7.32656975e-01,\n",
       "       -3.29771505e-01, -1.34872977e+00,  1.39244348e+00,  3.30649820e-01,\n",
       "       -1.31863292e-01,  6.13363486e-01, -3.70075875e-01, -6.04700101e-01,\n",
       "       -1.18112712e+00, -1.30918656e+00,  1.07093664e+00,  1.26781296e+00,\n",
       "       -1.69566678e+00, -5.12163132e-02,  1.05539556e-01, -6.50054748e-01,\n",
       "       -8.15049746e-01,  1.01379849e-01, -6.96689837e-01,  3.20563813e-02,\n",
       "       -1.08018716e+00, -5.83768125e-01, -2.76635155e-01, -3.34004125e-01,\n",
       "        1.14610840e+00, -5.52204346e-01,  9.42732482e-01, -2.97576290e+00,\n",
       "        2.05721442e-03, -2.09473811e+00,  1.23335131e+00,  2.02475615e+00,\n",
       "       -3.61063671e-02,  1.72246430e+00, -7.96920206e-01,  9.82486167e-01,\n",
       "        8.45825762e-01, -1.53317607e-01, -8.97985827e-03,  3.32201417e-01,\n",
       "        2.05866051e-01,  3.44106646e-01,  2.13943755e+00,  2.00483915e+00,\n",
       "        8.48444933e-01,  2.06799775e+00, -1.09563212e+00,  8.23430101e-01,\n",
       "        8.62016325e-01, -4.11796558e-01,  2.15643467e+00,  1.61765660e+00,\n",
       "        5.35905158e-01, -7.08419122e-01, -1.53603828e+00, -1.03314565e+00,\n",
       "        1.63889705e+00, -2.72931749e-01,  1.15314704e+00,  3.65483618e-01,\n",
       "       -2.02470497e+00, -2.60753083e-01, -9.57942862e-01,  8.32795952e-01,\n",
       "        8.88058651e-01, -1.84645775e-01,  1.54082364e+00,  1.08204834e+00,\n",
       "       -4.27955207e-01,  5.45738480e-01, -7.91949056e-01, -3.35952431e-01,\n",
       "        6.09460953e-01,  5.87153117e-02, -1.41673421e+00,  4.16382434e-01,\n",
       "       -3.18500446e-01, -7.96958557e-01, -1.09490229e+00, -1.93235622e-01,\n",
       "        2.54966046e-01, -2.30936016e-01,  3.06207430e-01, -2.61813205e-01,\n",
       "        5.91233194e-01, -1.47016427e-01, -1.63556813e+00, -1.19934710e+00,\n",
       "       -5.25888510e-01,  1.26021455e+00, -9.55351138e-01,  3.93057018e-01,\n",
       "        4.06706355e-01, -1.21689893e+00, -2.69812905e-01,  1.54604118e-01,\n",
       "       -2.79556643e-01,  5.66879890e-01,  5.28795404e-01,  2.11714782e-01,\n",
       "        9.17670460e-01, -3.70296464e-03,  1.13320407e-01,  2.82648032e-01,\n",
       "       -1.09830317e+00,  5.80189894e-01, -6.13278680e-01, -2.13033697e-01,\n",
       "        5.46817361e-01,  4.46789690e-01, -1.42103292e+00, -1.41191230e+00,\n",
       "       -9.96116871e-01,  2.01211591e-01,  1.30656723e+00, -4.81642964e-01,\n",
       "       -9.41528451e-01, -9.37022800e-01,  4.37152466e-01,  1.07518020e+00,\n",
       "        1.01775350e+00, -6.74929524e-01, -1.51741611e+00,  8.37436137e-02,\n",
       "        1.48183358e+00,  4.31885496e-01, -1.35761837e+00, -6.71997752e-02,\n",
       "       -1.00965789e+00,  3.29895433e-01, -4.29596361e-02, -2.72675083e-01,\n",
       "       -6.30749517e-01,  4.26001753e-01,  1.19399153e+00,  1.61821148e+00,\n",
       "        4.13369681e-01,  1.27060555e+00, -1.01121905e+00, -3.35231857e-01,\n",
       "       -9.58460485e-01, -4.88460399e-01, -1.02572613e+00,  1.62870826e+00,\n",
       "       -3.72782071e-01, -1.41409804e-01, -1.54587865e+00, -2.00732666e+00,\n",
       "        1.69965761e+00, -2.39015593e-01,  2.29405212e+00, -1.50469920e-01,\n",
       "       -1.24390964e+00,  2.16972213e-02,  7.40243936e-02,  1.43525840e-01,\n",
       "       -6.95143565e-02, -1.51359691e+00, -1.53480686e+00,  1.16360905e+00,\n",
       "        1.96707139e+00, -2.87386743e-01, -1.82947586e+00,  1.20356088e+00,\n",
       "       -8.47760067e-01,  3.47544234e-01, -5.24261177e-01, -4.94228404e-01,\n",
       "       -8.63120293e-01,  1.39672975e+00,  4.52009163e-01,  3.30932236e-01,\n",
       "        3.79303689e-02,  3.85089546e-01, -1.18463028e+00,  5.22773782e-01,\n",
       "        1.20930470e+00,  2.19761437e-01,  8.66180268e-01, -4.06559277e-01,\n",
       "        4.09362873e-01, -3.87182667e-01, -1.64710161e+00, -2.35152410e-01,\n",
       "        1.12585877e+00, -1.33414481e+00,  1.63212683e+00, -5.51559903e-01,\n",
       "        5.62616363e-01,  1.51822261e+00,  1.82773909e+00,  1.60828863e+00,\n",
       "       -7.58624028e-01,  1.14386125e+00, -5.93492449e-01, -9.39255295e-01,\n",
       "       -5.86679586e-01,  1.26451306e+00, -4.69931183e-01, -7.78739286e-01,\n",
       "        1.60138844e+00, -1.36175174e-01,  6.53632502e-01, -9.41008572e-01,\n",
       "       -3.95300978e-01, -2.02107506e-01, -5.78622933e-01, -8.14022008e-02,\n",
       "       -8.88850061e-01, -7.56230219e-02,  1.13991600e+00, -1.67281045e+00,\n",
       "       -1.31750585e-01, -4.80843353e-01, -5.77876236e-01,  1.95282328e+00,\n",
       "        1.44639919e+00, -4.89602831e-01, -1.35533593e+00,  1.52095339e+00,\n",
       "        4.01068663e-01, -1.15508710e+00, -9.10511209e-01,  1.05174942e-01,\n",
       "        1.75492714e+00, -3.67696455e-01,  4.53895598e-01, -5.91102624e-01,\n",
       "        4.73878472e-01, -1.63005073e+00,  6.38645827e-01,  2.41509656e-01,\n",
       "       -8.25082103e-01, -3.35148645e+00,  1.62531586e+00, -1.73970082e+00,\n",
       "        1.26177966e+00, -8.26475837e-01,  3.80975185e-01,  6.14614205e-01,\n",
       "        1.65541134e+00, -1.08393309e+00, -3.93789950e-02, -9.63998754e-01,\n",
       "       -1.04420710e+00,  9.32573372e-02,  8.40210808e-01,  2.48609673e+00,\n",
       "       -2.20040387e-01, -7.01351922e-02, -5.13655854e-03,  1.63535989e-01,\n",
       "        2.51780412e-01, -1.15528675e+00, -2.75422067e+00, -2.69970568e-01,\n",
       "        1.96073259e+00,  7.26660521e-02, -1.32734295e-01, -2.19775945e-02,\n",
       "       -6.98906133e-01, -9.93916141e-02,  4.52685605e-02,  4.00127728e-02,\n",
       "        1.11551140e-01,  1.02748206e-01, -6.21063532e-02,  1.13561245e+00,\n",
       "        1.89430901e+00, -1.68926821e+00, -5.55922189e-01, -2.21864273e+00,\n",
       "        4.98077429e-01,  1.24696233e+00,  1.11488006e-01,  1.22112805e-01,\n",
       "       -5.76449111e-01,  1.87899537e-01, -7.49031039e-02,  1.08407320e+00,\n",
       "        2.03991411e+00,  1.55752031e+00,  2.26595636e+00,  6.53844077e-01,\n",
       "        3.37336564e-01, -1.56861792e-02,  3.72021718e-01,  3.38268163e-01,\n",
       "        1.32437864e+00, -1.77356460e-01, -1.04640270e+00, -3.02924852e-02,\n",
       "       -9.23220738e-01, -2.14375510e-01, -1.72447826e+00,  3.62029735e-02,\n",
       "       -8.82210175e-01,  7.45449607e-01, -3.78243165e-01, -1.91539022e+00,\n",
       "       -4.06494881e-01, -8.34837950e-02,  3.32508180e-01,  5.30978577e-01,\n",
       "       -8.06021563e-01, -7.61613367e-01, -2.89705169e-02,  3.03983484e-01,\n",
       "        4.72797124e-01,  9.51323044e-01, -1.67607237e+00,  9.70207105e-01,\n",
       "        8.18740150e-01,  8.50145380e-01, -2.22393571e-01,  2.54816803e-01,\n",
       "        4.92713486e-01, -1.84443462e-01,  9.51409820e-01, -1.18152958e+00,\n",
       "        7.19747201e-01,  4.94604689e-01,  1.51952503e+00,  1.93857110e+00,\n",
       "       -1.91711370e-01,  1.53809929e+00,  3.03413401e-01,  3.31563486e-01,\n",
       "        3.95348701e-01, -1.33843638e+00,  1.13530365e+00, -1.38780105e+00,\n",
       "        5.04355043e-01, -2.50569100e+00, -2.17071208e-01, -1.03946074e-02,\n",
       "        6.39287289e-01,  1.45081049e+00, -7.55069038e-02, -1.24635467e+00,\n",
       "       -4.48010218e-01,  2.36299661e-01,  1.54648102e-01, -1.73907482e+00,\n",
       "       -5.12459494e-01, -5.33245213e-01, -2.07589349e-01,  6.00361727e-01,\n",
       "       -7.88879349e-01,  1.06675369e+00,  7.38716518e-01, -2.09166256e+00,\n",
       "       -4.17894474e-01,  2.11961375e-01,  1.51072933e+00, -1.19859253e+00,\n",
       "       -1.72433018e+00,  2.23467118e-01, -1.00705321e+00, -7.31884320e-02,\n",
       "       -7.29314253e-01,  9.20936524e-01,  7.42843514e-01, -6.06426887e-01,\n",
       "        1.51087965e+00,  6.36108191e-02,  3.30589060e-01, -6.62242235e-01,\n",
       "       -7.36847788e-01,  1.53312521e+00,  1.15971136e-01,  2.27150827e-01,\n",
       "       -5.11437287e-01,  2.72770142e-01,  1.78905407e-02, -1.80821743e-02,\n",
       "        1.65063273e+00,  1.33752119e-01, -1.13203391e+00,  4.98223180e-01,\n",
       "       -3.68086396e-01, -1.01395497e+00, -7.14969265e-01,  1.08977301e+00,\n",
       "       -1.02786750e+00, -9.77663135e-01,  6.28040875e-02, -3.28166352e-01,\n",
       "       -9.80527680e-01,  9.19894214e-01, -4.22257408e-01, -1.29503796e+00,\n",
       "        2.98675712e-01,  8.14496877e-01,  4.70285150e-01,  6.58259150e-01,\n",
       "        6.41596966e-01, -2.67518469e-01, -4.63971398e-01, -6.71558051e-01,\n",
       "       -6.89506923e-03, -1.63583383e+00, -1.15500137e+00,  1.32850817e+00,\n",
       "        8.96822333e-01,  1.54998421e-01,  1.52770990e+00,  3.82367530e-01,\n",
       "        2.75504693e-02, -1.35409721e+00, -2.77491584e-01,  9.79284489e-01,\n",
       "        5.60378080e-01,  1.95740445e+00,  2.40909604e-02, -2.55937196e+00,\n",
       "        3.84851774e-01, -2.44886008e+00, -4.78843195e-01,  8.93248092e-01,\n",
       "        1.68386876e+00, -1.03470538e+00,  3.98768994e-01,  1.57565710e+00,\n",
       "        9.62616356e-02, -6.15853947e-01,  1.84695693e+00,  9.91893353e-01,\n",
       "        6.67039517e-02, -1.52879576e+00, -3.56348485e-01, -7.30106767e-01,\n",
       "       -1.71787305e+00,  1.34932378e+00,  5.73141287e-01, -7.09890240e-01,\n",
       "       -5.85045560e-01, -4.58318933e-01, -9.98456231e-01,  2.84733168e+00,\n",
       "       -7.15962224e-01, -3.22145073e-01, -6.87816947e-01, -1.79237969e+00,\n",
       "       -1.23253524e+00,  1.05975480e+00, -3.25952339e-01,  4.14579896e-01,\n",
       "        4.56875026e-01,  4.59446549e-01, -6.93767070e-01,  1.68947301e+00,\n",
       "        9.21191399e-01,  4.76154008e-01,  2.51097740e-01, -1.37745627e+00,\n",
       "        8.29440648e-01, -1.31963245e-01, -8.10223817e-01, -1.02111637e+00,\n",
       "        9.82495202e-01, -1.39651932e+00, -3.99363494e-01,  1.60003544e-01,\n",
       "       -1.47946101e-01,  4.16490097e-01,  1.17464841e+00,  6.18674641e-01,\n",
       "        6.46653896e-02, -4.46330437e-01, -1.43348996e+00, -6.41773080e-02,\n",
       "       -3.74716046e-01,  5.28162188e-01, -1.36047554e-01,  1.03960020e+00,\n",
       "       -4.40221975e-01, -5.59528336e-01,  4.22894490e-01,  1.07510744e-01,\n",
       "        3.79847959e-01, -1.31808038e-01,  2.60624154e-02, -2.96430613e-01,\n",
       "        1.32889319e-01,  1.23622976e+00, -5.09163360e-01, -6.06081626e-01,\n",
       "        3.19574352e-01, -1.85306905e-01,  1.41258954e+00,  6.99703051e-01,\n",
       "        8.55316790e-01,  9.45298541e-01, -6.56417931e-01,  1.12611366e-01,\n",
       "        6.77331697e-01,  4.57615323e-03, -8.96947376e-01,  9.28404833e-01,\n",
       "       -1.74547378e-01,  3.02203050e-01,  5.82274116e-01,  1.51267070e+00,\n",
       "        2.04195156e-01, -2.01609930e+00,  1.82203513e-01,  2.81360763e-01,\n",
       "       -1.66822133e+00,  1.47249686e+00, -2.64770731e+00,  5.79515288e-01,\n",
       "       -1.53096733e+00,  1.06874570e+00,  5.64500454e-01,  1.47482818e+00,\n",
       "        5.18278481e-01,  3.54168566e-01, -3.27671049e-01, -1.73519829e+00,\n",
       "        2.18041157e+00, -4.84066471e-01,  3.37576834e-01, -8.23279555e-01,\n",
       "       -1.07297997e+00,  5.95314828e-02,  4.16148444e-01,  1.75742083e+00,\n",
       "        1.00602450e+00,  2.81169602e-01, -6.00374448e-02,  3.44677357e-01,\n",
       "       -2.61372989e-01,  2.59021618e-01, -7.95800581e-01, -5.53982774e-01,\n",
       "       -5.14385433e-02,  3.23566079e-01, -1.18581270e-01,  1.93110087e-01,\n",
       "       -9.12355083e-01, -1.20104366e+00, -4.99513316e-02, -1.68660296e+00,\n",
       "        8.59974666e-01, -1.37470489e+00, -3.90630462e-01,  5.03087816e-01,\n",
       "        9.15917601e-01,  6.42054514e-01,  4.85167173e-01,  2.57244201e+00,\n",
       "       -1.05334988e+00,  3.13598022e-01,  6.32938491e-01,  3.56631215e-01,\n",
       "       -4.64360932e-01,  5.44962379e-01,  4.75024010e-01,  1.24433256e+00,\n",
       "        4.73317644e-01, -1.90009393e+00,  7.89191941e-01, -4.01401142e-01,\n",
       "       -1.90264448e-01, -1.14334467e+00,  1.36385395e-01,  1.97403912e+00,\n",
       "        1.06697078e+00, -1.18480484e+00, -1.99674219e-01,  1.00868129e+00,\n",
       "       -1.79249626e-01, -2.04716295e+00, -5.46084495e-01,  1.38048441e+00,\n",
       "        1.50709832e+00, -1.76656836e-01, -2.74450875e-01, -2.29439377e+00,\n",
       "       -9.60419740e-02, -5.70948300e-01, -1.89357734e+00, -9.53356324e-01,\n",
       "       -1.31061182e+00,  5.79865561e-02,  1.55086157e+00, -1.52540086e-01,\n",
       "        2.61415377e-01,  2.46260827e+00, -1.90491227e+00,  1.91774377e-01,\n",
       "        1.14436457e+00,  3.12709606e-01, -1.62662354e+00,  1.92867880e+00,\n",
       "        8.39005641e-01,  2.68617757e-01, -1.38184885e+00,  2.29116895e+00,\n",
       "        5.86756967e-01,  4.45882302e-01,  5.85580077e-01,  9.58054340e-01,\n",
       "        1.14153225e-01, -1.17971381e-01, -2.24220426e+00, -7.85080556e-01,\n",
       "        1.98060399e+00, -8.30494058e-01, -2.96928904e-01, -1.15286026e+00,\n",
       "        5.09682343e-01, -2.56003007e-01, -2.91359625e-01, -8.00680035e-01,\n",
       "        4.17299665e-01,  1.47185143e+00, -1.69247337e+00, -3.03496215e-01,\n",
       "       -1.62190563e-01, -7.63686500e-01,  1.15669430e+00,  1.16925964e+00,\n",
       "        2.29552058e-01, -6.78719483e-01,  1.14780773e+00, -2.94997759e-01,\n",
       "        9.78538758e-01,  2.44296724e+00,  5.17488733e-04,  1.58111770e-01,\n",
       "       -6.98129924e-01,  1.01886469e+00,  2.11188380e-01, -1.25755527e+00,\n",
       "       -7.13800179e-01,  1.95842733e+00, -2.45524948e-01, -1.09603273e+00,\n",
       "        1.87505143e-01, -5.31129374e-01, -1.85205380e-01,  5.41271555e-01,\n",
       "        3.38271558e-01,  3.43063049e-02, -6.12969655e-01, -1.78076705e+00,\n",
       "        1.92072910e+00,  1.86072314e+00,  2.41814242e-02,  8.34670335e-01])"
      ]
     },
     "execution_count": 29,
     "metadata": {},
     "output_type": "execute_result"
    }
   ],
   "source": [
    "import numpy as np\n",
    "\n",
    "# Parâmetros da distribuição normal\n",
    "media = 0\n",
    "desvio_padrao = 1\n",
    "\n",
    "# Gerar 1000 amostras aleatórias da distribuição normal\n",
    "amostras = np.random.normal(media, desvio_padrao, 1000)\n",
    "amostras"
   ]
  },
  {
   "cell_type": "markdown",
   "id": "b90668d1",
   "metadata": {},
   "source": [
    "### Exemplo 2: Amostragem de uma Distribuição Discreta"
   ]
  },
  {
   "cell_type": "code",
   "execution_count": 30,
   "id": "c324be42",
   "metadata": {
    "ExecuteTime": {
     "end_time": "2023-07-02T14:25:27.397022Z",
     "start_time": "2023-07-02T14:25:27.393275Z"
    }
   },
   "outputs": [
    {
     "data": {
      "text/plain": [
       "array([3, 1, 3, 1, 3, 3, 3, 3, 1, 2, 3, 3, 3, 3, 1, 1, 3, 3, 3, 2, 3, 1,\n",
       "       2, 3, 1, 3, 1, 2, 2, 3, 1, 2, 1, 1, 3, 1, 1, 3, 1, 3, 3, 1, 2, 3,\n",
       "       3, 3, 3, 2, 1, 1, 3, 3, 2, 3, 3, 1, 2, 2, 1, 3, 1, 1, 3, 3, 3, 3,\n",
       "       3, 1, 1, 1, 2, 1, 3, 3, 1, 3, 1, 2, 1, 3, 3, 1, 3, 2, 3, 3, 3, 2,\n",
       "       1, 2, 3, 3, 3, 1, 3, 3, 1, 2, 3, 2])"
      ]
     },
     "execution_count": 30,
     "metadata": {},
     "output_type": "execute_result"
    }
   ],
   "source": [
    "import numpy as np\n",
    "\n",
    "# Probabilidades dos resultados em uma distribuição discreta\n",
    "probabilidades = [0.3, 0.2, 0.5]\n",
    "resultados = [1, 2, 3]\n",
    "\n",
    "# Gerar 100 amostras aleatórias da distribuição discreta\n",
    "amostras = np.random.choice(resultados, 100, p=probabilidades)\n",
    "amostras"
   ]
  },
  {
   "cell_type": "markdown",
   "id": "ea4366df",
   "metadata": {},
   "source": [
    "A amostragem a partir de uma distribuição nos permite simular dados e realizar diversas análises estatísticas. Ela é particularmente útil em casos em que não é viável ou prático obter dados de toda a população, e precisamos tirar conclusões com base em um subconjunto representativo dos dados."
   ]
  },
  {
   "cell_type": "markdown",
   "id": "5bd4c412",
   "metadata": {
    "ExecuteTime": {
     "end_time": "2023-07-01T14:21:08.374545Z",
     "start_time": "2023-07-01T14:21:08.371571Z"
    }
   },
   "source": [
    "## Synthetic Data"
   ]
  },
  {
   "cell_type": "markdown",
   "id": "35309d44",
   "metadata": {},
   "source": [
    "Criar dados sintéticos que sigam a mesma distribuição dos dados existentes é uma prática comum em análise de dados e aprendizado de máquina. Esse processo é conhecido como geração de dados sintéticos ou amostragem a partir da distribuição empírica. O objetivo é obter um conjunto maior de dados que represente fielmente as características da distribuição original.\n",
    "\n",
    "Existem várias maneiras de criar dados sintéticos seguindo a distribuição dos dados já existentes:\n",
    "\n",
    "1. Amostragem Aleatória com Reposição: Nesse método, você simplesmente faz amostragem aleatória dos dados existentes, permitindo que cada ponto de dados seja selecionado mais de uma vez (com reposição). Isso pode criar um conjunto maior de dados que segue aproximadamente a mesma distribuição dos dados originais.\n",
    "\n",
    "2. Amostragem Aleatória sem Reposição: Aqui, você faz amostragem aleatória dos dados existentes, mas cada ponto de dados é selecionado apenas uma vez (sem reposição). Esse método é útil quando você precisa de dados sintéticos sem repetição.\n",
    "\n",
    "3. Ajuste de Distribuição: Se você sabe qual é a distribuição teórica que melhor representa seus dados originais, pode ajustar essa distribuição aos dados existentes usando técnicas como Mínimos Quadrados ou Máxima Verossimilhança. Em seguida, gera-se dados sintéticos a partir dessa distribuição ajustada.\n",
    "\n",
    "4. Amostragem por Kernel (Kernel Density Estimation): Esse método estima a densidade dos dados existentes e, em seguida, gera novos dados sintéticos amostrando a partir dessa densidade estimada.\n",
    "\n",
    "5. Cadeias de Markov Monte Carlo (MCMC): Essa técnica é usada para simular dados de distribuições complexas que não podem ser facilmente amostradas usando métodos convencionais. O MCMC gera uma sequência de amostras que se aproximam da distribuição desejada.\n",
    "\n",
    "Exemplos de criação de dados sintéticos:"
   ]
  },
  {
   "cell_type": "markdown",
   "id": "2cdd67df",
   "metadata": {},
   "source": [
    "### Exemplo 1: Amostragem Aleatória com Reposição"
   ]
  },
  {
   "cell_type": "code",
   "execution_count": 31,
   "id": "24d278a7",
   "metadata": {
    "ExecuteTime": {
     "end_time": "2023-07-02T14:25:27.404017Z",
     "start_time": "2023-07-02T14:25:27.397886Z"
    }
   },
   "outputs": [
    {
     "data": {
      "text/plain": [
       "array([1, 2, 5, 3, 5, 4, 3, 3, 5, 5, 5, 3, 1, 4, 5, 1, 5, 3, 1, 3, 2, 5,\n",
       "       4, 1, 2, 5, 2, 1, 4, 1, 4, 3, 5, 2, 3, 5, 2, 3, 5, 5, 3, 1, 4, 4,\n",
       "       1, 5, 2, 1, 5, 3, 3, 5, 3, 4, 1, 4, 5, 1, 3, 1, 1, 3, 2, 3, 4, 2,\n",
       "       4, 5, 4, 1, 5, 2, 4, 5, 4, 1, 1, 2, 3, 3, 1, 5, 2, 4, 4, 5, 3, 1,\n",
       "       1, 2, 1, 3, 3, 5, 2, 2, 1, 4, 2, 1, 4, 1, 5, 2, 1, 5, 1, 3, 1, 3,\n",
       "       2, 1, 5, 2, 2, 3, 2, 1, 1, 3, 1, 3, 4, 3, 5, 5, 1, 4, 5, 5, 5, 1,\n",
       "       2, 2, 2, 1, 2, 3, 1, 1, 4, 5, 4, 2, 1, 1, 2, 5, 4, 5, 2, 4, 4, 5,\n",
       "       5, 1, 1, 5, 2, 5, 1, 4, 2, 1, 2, 2, 4, 1, 5, 2, 2, 4, 1, 2, 2, 3,\n",
       "       3, 2, 4, 5, 3, 3, 1, 5, 3, 5, 5, 1, 2, 2, 3, 1, 3, 3, 2, 1, 5, 2,\n",
       "       3, 3, 4, 1, 5, 5, 3, 4, 4, 1, 3, 3, 3, 1, 5, 2, 4, 5, 2, 5, 5, 5,\n",
       "       5, 3, 5, 2, 2, 4, 1, 2, 2, 2, 2, 1, 1, 5, 2, 2, 4, 4, 4, 4, 5, 3,\n",
       "       4, 4, 1, 2, 5, 2, 3, 5, 3, 2, 1, 4, 2, 5, 4, 5, 3, 5, 1, 3, 2, 4,\n",
       "       4, 1, 5, 2, 5, 5, 1, 3, 3, 1, 1, 1, 5, 5, 2, 1, 5, 3, 1, 3, 4, 2,\n",
       "       4, 2, 1, 2, 5, 3, 5, 1, 4, 3, 1, 5, 5, 2, 2, 4, 2, 2, 2, 4, 1, 3,\n",
       "       1, 1, 1, 5, 3, 3, 5, 5, 2, 5, 4, 5, 2, 5, 4, 5, 1, 3, 4, 4, 4, 1,\n",
       "       1, 3, 2, 3, 4, 4, 4, 3, 2, 2, 3, 4, 3, 3, 5, 5, 1, 1, 3, 5, 4, 1,\n",
       "       4, 4, 1, 3, 5, 1, 2, 2, 4, 2, 4, 5, 1, 1, 5, 4, 3, 2, 5, 2, 3, 4,\n",
       "       2, 4, 3, 4, 3, 1, 2, 2, 3, 3, 5, 3, 3, 4, 4, 2, 4, 4, 2, 1, 5, 4,\n",
       "       1, 5, 2, 4, 4, 3, 4, 4, 1, 1, 4, 5, 2, 1, 5, 4, 3, 1, 1, 3, 4, 1,\n",
       "       4, 5, 1, 4, 5, 1, 2, 4, 5, 2, 4, 1, 4, 5, 1, 1, 1, 3, 5, 2, 1, 5,\n",
       "       3, 3, 1, 5, 3, 1, 4, 4, 4, 2, 5, 4, 3, 2, 4, 1, 3, 2, 2, 3, 4, 1,\n",
       "       1, 1, 2, 4, 3, 5, 1, 3, 3, 1, 5, 2, 2, 4, 2, 3, 2, 4, 3, 3, 5, 1,\n",
       "       1, 1, 4, 2, 1, 2, 1, 5, 2, 4, 4, 2, 4, 3, 4, 5, 5, 2, 4, 2, 1, 3,\n",
       "       2, 2, 2, 2, 5, 3, 1, 3, 2, 5, 1, 2, 2, 4, 3, 3, 3, 4, 5, 5, 5, 1,\n",
       "       4, 4, 5, 5, 5, 4, 5, 3, 5, 3, 2, 2, 4, 1, 2, 4, 4, 3, 3, 5, 2, 3,\n",
       "       1, 4, 5, 3, 3, 3, 2, 3, 4, 3, 1, 3, 5, 5, 1, 5, 2, 4, 4, 2, 5, 1,\n",
       "       1, 4, 1, 2, 4, 3, 2, 2, 1, 1, 1, 3, 2, 5, 4, 1, 1, 2, 3, 1, 3, 3,\n",
       "       5, 3, 5, 4, 3, 4, 3, 5, 5, 4, 2, 2, 2, 3, 2, 4, 2, 4, 4, 3, 5, 3,\n",
       "       3, 1, 2, 2, 4, 5, 2, 2, 5, 2, 1, 2, 1, 3, 3, 1, 4, 1, 4, 5, 5, 1,\n",
       "       4, 3, 1, 1, 4, 5, 3, 4, 4, 3, 1, 1, 2, 3, 4, 2, 2, 2, 1, 5, 2, 4,\n",
       "       1, 5, 5, 2, 2, 1, 2, 1, 5, 4, 4, 3, 3, 3, 4, 2, 1, 4, 3, 3, 2, 3,\n",
       "       3, 1, 2, 5, 5, 3, 3, 1, 5, 2, 2, 4, 4, 2, 4, 1, 3, 2, 5, 5, 2, 4,\n",
       "       4, 2, 2, 2, 1, 5, 1, 1, 3, 1, 5, 4, 5, 2, 2, 2, 1, 3, 4, 1, 2, 5,\n",
       "       2, 5, 4, 2, 4, 2, 2, 5, 3, 5, 1, 4, 4, 3, 2, 4, 3, 1, 4, 1, 5, 4,\n",
       "       4, 2, 1, 5, 3, 5, 4, 1, 4, 3, 3, 4, 4, 4, 1, 2, 3, 1, 3, 4, 3, 5,\n",
       "       3, 5, 1, 1, 5, 3, 1, 3, 2, 2, 5, 5, 3, 2, 2, 5, 4, 3, 3, 1, 5, 1,\n",
       "       4, 1, 4, 1, 5, 4, 3, 5, 5, 2, 3, 1, 5, 1, 5, 3, 5, 1, 1, 3, 1, 4,\n",
       "       5, 4, 2, 2, 5, 1, 3, 2, 1, 3, 5, 1, 4, 5, 2, 5, 5, 3, 2, 3, 5, 1,\n",
       "       4, 4, 3, 1, 4, 1, 3, 2, 1, 1, 2, 5, 5, 5, 3, 5, 3, 2, 1, 4, 4, 3,\n",
       "       3, 1, 2, 1, 3, 1, 3, 4, 1, 2, 4, 2, 2, 3, 2, 5, 2, 1, 3, 3, 5, 3,\n",
       "       3, 4, 4, 4, 5, 3, 3, 3, 2, 3, 3, 1, 1, 3, 2, 2, 5, 5, 3, 4, 2, 4,\n",
       "       5, 2, 4, 3, 4, 5, 2, 2, 2, 3, 2, 4, 1, 1, 3, 4, 3, 1, 2, 1, 1, 1,\n",
       "       3, 5, 3, 5, 3, 1, 2, 4, 5, 3, 2, 4, 2, 5, 5, 4, 4, 5, 5, 1, 4, 4,\n",
       "       5, 3, 1, 3, 5, 1, 1, 5, 2, 2, 4, 5, 5, 3, 5, 2, 5, 3, 4, 1, 4, 3,\n",
       "       5, 2, 5, 1, 2, 4, 3, 4, 1, 1, 5, 5, 5, 1, 2, 4, 4, 3, 3, 2, 5, 5,\n",
       "       2, 4, 5, 4, 1, 3, 5, 3, 2, 1])"
      ]
     },
     "execution_count": 31,
     "metadata": {},
     "output_type": "execute_result"
    }
   ],
   "source": [
    "import numpy as np\n",
    "\n",
    "# Dados originais\n",
    "dados_originais = [1, 2, 3, 4, 5]\n",
    "\n",
    "# Criar 1000 dados sintéticos seguindo a mesma distribuição\n",
    "dados_sinteticos = np.random.choice(dados_originais, 1000, replace=True)\n",
    "dados_sinteticos"
   ]
  },
  {
   "cell_type": "markdown",
   "id": "267fcc26",
   "metadata": {},
   "source": [
    "### Exemplo 2: Ajuste de Distribuição"
   ]
  },
  {
   "cell_type": "code",
   "execution_count": 32,
   "id": "def9cf0b",
   "metadata": {
    "ExecuteTime": {
     "end_time": "2023-07-02T14:25:27.415666Z",
     "start_time": "2023-07-02T14:25:27.405228Z"
    }
   },
   "outputs": [
    {
     "data": {
      "text/plain": [
       "array([ 3.07991467,  4.88739765,  5.13941136,  3.38792474,  4.72524411,\n",
       "        3.22772122,  3.08193824,  3.28823969,  2.66056201,  5.35087311,\n",
       "        4.49278326,  2.04048214,  3.52777317,  3.31144784,  3.88364559,\n",
       "        2.96871027,  2.1556265 ,  1.90879637,  2.63566136,  3.77460348,\n",
       "        3.88483822,  5.18320419, -0.17901973,  5.20790879,  0.51853426,\n",
       "        3.85904639,  3.57715081,  1.89322307,  3.42265926,  2.36906062,\n",
       "        4.71955633,  1.64418204,  3.75592938,  4.19165611,  1.0731409 ,\n",
       "        1.74610361,  2.15911961,  1.11156351,  4.31484288,  3.63769726,\n",
       "        3.91063408,  4.08467907,  3.39395474,  1.11104762,  2.67073534,\n",
       "        4.35725002,  2.7174669 ,  3.26811343,  4.33164105,  4.5606351 ,\n",
       "        5.44850728,  3.1513549 ,  2.69293302,  3.04949457,  2.45399621,\n",
       "        3.04692859,  2.37637182,  4.38972104,  2.21495573,  5.27968295,\n",
       "       -0.61174136,  3.06992351,  4.26200857,  1.77652811,  2.00812042,\n",
       "        3.81405713,  3.97387312,  2.06561066,  2.98928865,  4.87627628,\n",
       "        3.3639023 ,  1.75168527,  1.26821352,  3.61254824,  4.24294755,\n",
       "        4.47581956,  4.86069176,  3.41623286,  3.14481073,  3.51078666,\n",
       "        3.85043717,  2.39915497,  3.42890797,  1.91701095, -1.34363362,\n",
       "        2.77614957,  3.98856076,  0.99564027,  4.03422129,  3.82069414,\n",
       "        2.14209885,  5.27079165,  2.45203759,  1.25243148,  3.70459011,\n",
       "        4.37517261,  5.12395064,  3.19886771,  4.28843614,  2.46753207,\n",
       "        3.85102814,  5.26277346,  6.09587206,  2.35158841,  4.93641819,\n",
       "        1.95908839,  2.36136285,  2.58995805,  4.24220351,  3.26119639,\n",
       "        1.33791532,  3.72501717,  4.78423231,  3.29893852,  4.22506678,\n",
       "        2.17359913,  4.32044714,  2.24760305,  3.27165805,  2.04818045,\n",
       "        1.66826447,  1.84130548,  2.59658372,  3.30581524,  2.13192829,\n",
       "        6.3999719 ,  2.78331005,  1.5386412 ,  0.40822432,  5.44789676,\n",
       "        3.69505102,  1.85554072,  2.71200823,  2.24551211,  4.15400957,\n",
       "        5.65601911,  2.02506125,  4.03168294,  3.15944193,  2.5039403 ,\n",
       "        2.73092625,  1.7584496 ,  3.49909472,  3.57058191,  3.88493761,\n",
       "        3.37124243,  1.89059435,  3.94216586,  2.07529851,  3.03581387,\n",
       "        1.9181329 ,  4.32326177,  2.24880693,  5.72627836,  2.4847135 ,\n",
       "        3.80695341,  3.87456637,  1.51092106,  0.69335566,  1.86881869,\n",
       "        3.35587939,  1.93273042,  2.10736659,  5.1540234 ,  2.44298357,\n",
       "        4.23486128,  2.72199317,  2.84676967,  2.54736453,  2.896177  ,\n",
       "        1.381017  ,  2.01331095,  2.1968416 ,  3.92333152,  5.00409935,\n",
       "        4.70920299,  2.73694186,  1.85079154,  2.97262549,  3.59595226,\n",
       "        3.07441558,  4.06354827,  1.74019299,  3.09299321,  3.01799205,\n",
       "        2.85631448,  2.28362115,  1.27481665,  1.3550451 ,  5.34433059,\n",
       "        1.4911868 ,  2.39698858,  2.27457311,  2.504229  ,  5.77239853,\n",
       "        3.67464266,  2.46719641,  3.0442258 ,  4.0618703 ,  4.59217261,\n",
       "        3.65234429,  5.38153018,  2.1305396 ,  2.7659188 ,  3.34855389,\n",
       "        3.5556866 ,  2.30624533,  4.43364596,  3.84160728,  2.45985958,\n",
       "        2.64666032,  4.37932266,  2.40307067,  1.96198694,  1.64618003,\n",
       "        0.71890983,  2.59473691, -0.05356868,  2.21809802,  5.97662876,\n",
       "        2.14273039,  4.03908858,  3.37549544,  4.89069319,  2.21093985,\n",
       "        3.17658189,  2.79002684,  3.21327316,  1.72662375,  2.31722023,\n",
       "        1.41449567,  1.69090899,  3.27050998,  5.48756917,  4.41799524,\n",
       "        3.4332228 ,  2.43520752,  1.2726741 ,  1.37737353,  3.08378498,\n",
       "        5.54338961,  3.95293131,  3.39229836,  5.92509387,  3.25948999,\n",
       "        3.78613479,  5.8021888 ,  4.32534569,  3.71279768,  0.15250887,\n",
       "        4.91750053,  1.49633755,  0.98295653,  3.47558538,  3.84322782,\n",
       "        1.81930182,  1.23802896,  0.37558383,  2.47078694,  2.73100182,\n",
       "        1.37559486,  5.60520865,  2.23112714,  2.39541135,  4.3332129 ,\n",
       "        1.96844487,  5.60673007,  4.33820558,  2.69202302,  4.90952843,\n",
       "        4.91942658,  2.58061046,  1.91094646,  2.57941001,  3.76389437,\n",
       "        2.46975479,  2.73430619,  2.48000216,  2.29965357,  3.49284066,\n",
       "        2.4668656 ,  4.98016507,  3.06732491,  1.79962198,  3.19869012,\n",
       "        3.98717574,  2.97329979,  2.15554674,  1.85416533,  3.49332531,\n",
       "        3.60728716,  4.41667372,  1.84753119,  3.2286944 ,  2.07111897,\n",
       "        3.31699379,  1.35498162,  4.64827536,  0.57003712,  1.87708029,\n",
       "        3.32735803,  1.97029725,  2.00800769,  3.94104652, -0.4161751 ,\n",
       "        0.79592332,  1.68535241,  1.67157606,  4.09922497,  3.66882509,\n",
       "        3.27359845,  4.64858723, -0.73324153,  3.19099069,  5.31120109,\n",
       "        3.51819653,  1.83914622,  3.9104645 ,  3.13536096,  3.21929807,\n",
       "        2.01180666,  4.9743971 ,  4.92856372,  2.90652953,  2.57407861,\n",
       "        4.19642072,  1.69987686,  2.08322637,  3.95950274,  3.04584696,\n",
       "        4.735637  ,  2.01602538,  1.81318751,  3.93278278,  1.27980907,\n",
       "        4.00728013,  3.17473752,  1.97776738,  1.69042362,  2.40332853,\n",
       "        1.29827129,  5.68952389,  3.05420514,  3.42507334,  1.45395031,\n",
       "        1.99082561,  4.11752637,  1.69614657,  2.40156577,  3.48283931,\n",
       "        2.56913888,  2.29470723,  1.50011394,  4.15105884,  4.76726568,\n",
       "        5.62767567,  2.77659389,  3.5671537 ,  4.42791367,  3.25598269,\n",
       "        4.37509147,  3.7219856 ,  3.96350175,  2.0505523 ,  0.85613447,\n",
       "        3.99629205,  3.05413594,  3.07964594,  0.87022275,  4.78412688,\n",
       "        2.61374243,  0.35381112,  5.57741971,  2.93951944,  3.7806953 ,\n",
       "        6.73794455,  2.45302324,  3.16921996,  2.29174798,  4.62421192,\n",
       "        1.47609411,  4.79844573,  4.26088016,  2.03701558,  2.8436456 ,\n",
       "        5.30160128,  0.57636478,  3.17270959,  2.59121275,  2.46889729,\n",
       "        0.07573047,  3.02449087,  0.7304251 ,  3.43491305,  3.5377419 ,\n",
       "        5.00735747,  4.8503038 ,  3.05863328,  4.31503648,  4.51729967,\n",
       "        3.27264402,  2.61597184,  5.03793981,  3.33866769,  0.73021497,\n",
       "        3.56384736,  2.18676807,  6.04980812,  2.02342724,  2.61038139,\n",
       "        4.34793712,  6.78348697,  2.9336995 ,  1.91402628,  1.94262251,\n",
       "        1.03573461,  3.34506724,  3.56765898,  1.40006392,  2.73986077,\n",
       "        2.69126776,  2.24984106,  3.89062923,  2.41417748,  4.95128367,\n",
       "        1.01456567,  2.94024487,  0.68600839,  3.82776794,  2.80977596,\n",
       "        2.84028299,  2.42025771,  4.46519982,  4.44051949,  3.5959319 ,\n",
       "        2.59306847,  3.3597095 ,  3.46842587,  2.83346486,  6.11193287,\n",
       "        2.24563584,  3.10526576,  2.56755724,  5.35092926,  2.29154866,\n",
       "        4.28272106,  2.04470468,  3.26549062,  5.68018576,  1.29138368,\n",
       "        1.971631  ,  6.12415279,  4.4925458 ,  0.75889905,  2.43745818,\n",
       "        2.67270486,  4.0153592 ,  3.93552566,  3.46683022,  1.516414  ,\n",
       "        4.87635147,  4.09189622,  2.56229792,  6.30453363,  2.77743912,\n",
       "        4.15404338,  6.06594901,  3.12886109,  2.40126857,  4.06640209,\n",
       "        3.26581636,  4.76468774,  4.12746264,  4.37162308,  2.06285114,\n",
       "        4.30758406,  1.65077649,  3.92665646,  3.93723646,  0.2997873 ,\n",
       "        4.56783858,  2.99025014,  2.40169278,  3.01389023,  1.38694742,\n",
       "        5.17832122,  4.09213001,  5.71657801,  2.90279981,  2.70095423,\n",
       "        4.32584509,  4.46321987,  4.71518625,  4.49957064,  5.37526367,\n",
       "        4.12321438,  3.83225724,  5.12606994,  1.72176182,  4.13752557,\n",
       "        2.12042833,  3.51664433,  3.69704268,  1.74107871,  3.08648546,\n",
       "        3.3683321 ,  3.41449175,  4.11973041,  3.68318335,  3.43596535,\n",
       "        3.14126263,  2.73378491,  3.50698315,  1.66831983,  2.68939536,\n",
       "        3.12673865,  1.20928836,  4.01313856,  2.81788287,  2.98633052,\n",
       "        3.33530323,  1.71213624,  3.2392185 ,  2.49699372,  4.18085758,\n",
       "        4.01744603,  2.07812153,  3.01196682,  1.6409437 ,  2.15398518,\n",
       "        3.32913637,  4.12810205,  2.80309681,  2.65859273,  4.03922371,\n",
       "        3.65977841,  1.34237887,  2.87351494,  2.74663779,  2.55313628,\n",
       "        2.47364093,  3.81323146,  1.56922062,  4.52385426,  3.07393733,\n",
       "        3.10954928,  5.26833738,  4.22189995,  2.48076056,  3.4109199 ,\n",
       "        2.44419214,  3.22511863,  1.87960328,  2.84303723,  3.54465973,\n",
       "        2.83690961,  2.37661512,  5.31769128,  2.90744769,  2.07391791,\n",
       "        2.88942128,  3.13810909,  3.87128884,  3.35411464,  3.05994158,\n",
       "        3.41511275,  5.84481421,  2.13086439,  2.08301783,  4.74213152,\n",
       "        2.22890531,  2.50873187,  3.74730692,  2.45160696,  4.37490053,\n",
       "        2.42190944,  2.43451835,  5.04842707,  2.85600297,  1.61588192,\n",
       "        6.12863857,  3.17426003,  2.70854769,  2.29534973,  3.47844997,\n",
       "        3.42927077,  5.52159196,  2.85573404,  4.30184929,  6.77371243,\n",
       "        3.7097975 ,  3.433302  ,  3.51192833,  3.53021924,  2.75538115,\n",
       "        1.51716652,  4.08660888,  2.77708984,  2.80103808,  3.93928017,\n",
       "        2.74606934,  4.77813413,  1.59339041,  3.21962666,  1.88754938,\n",
       "        1.90928174,  2.55962714,  3.79849284,  3.76030246,  4.41182495,\n",
       "        1.49243715,  2.49636536,  2.97497968,  5.36272175,  0.98483845,\n",
       "        3.41021351,  2.99007617,  0.58054449,  4.26679741,  2.07519599,\n",
       "        4.66356489,  2.08873067,  2.52635702,  4.63555911,  2.29080723,\n",
       "        3.82680615,  0.85729714,  3.40868279,  3.73093718,  4.44689245,\n",
       "        3.34325334,  1.81100469,  2.38631659,  1.04092096,  2.37968354,\n",
       "        3.01890526,  3.50768741,  1.59531444,  4.19629137,  2.97343804,\n",
       "        4.21113903,  5.26569837,  2.34480431,  3.2463504 ,  2.01950744,\n",
       "        2.45073607,  2.57341093,  2.76219958,  3.00615121,  4.4895929 ,\n",
       "        1.84089059,  3.02527469,  3.953982  ,  4.6338431 ,  1.50034884,\n",
       "        3.94487114,  2.22357159,  3.5461082 ,  3.04324903,  3.35909555,\n",
       "        3.74766307,  2.0608732 ,  3.53589811,  3.98615953,  2.59576422,\n",
       "        1.8272868 ,  0.78557034,  2.80603423,  4.58006132,  2.62687372,\n",
       "        3.33562068,  3.43913858,  4.89245633,  0.54131645,  4.28840163,\n",
       "        3.14586464,  4.26702668,  4.04472409,  2.43654079,  4.93147191,\n",
       "        5.2728704 ,  4.58562786,  5.62121364,  2.88305295,  2.03745948,\n",
       "        4.00873615,  3.50235072,  3.82697973,  2.42021423,  5.40322679,\n",
       "        3.34880781,  1.69466967,  3.33629347,  3.83776014,  2.00631487,\n",
       "        3.80627627,  3.29212757,  1.7907712 ,  2.29817595,  3.30161558,\n",
       "        3.17992569,  0.90540018,  3.69441292,  3.37921982,  4.0838216 ,\n",
       "        3.75269861,  2.7595938 ,  3.18943149,  6.12519994,  2.14942432,\n",
       "        2.69364017,  2.16196777,  1.67331234,  2.62888951,  2.8768316 ,\n",
       "        2.1358711 ,  6.28333637,  3.01012844,  1.92378224,  4.21112851,\n",
       "        1.95074921,  2.90985458,  1.06900504,  3.95183971,  3.9194179 ,\n",
       "        3.80482911,  4.03295749,  2.76536142,  4.05974277,  5.80484212,\n",
       "        3.59911074,  3.13897484,  1.36273332,  3.46756343,  1.94967148,\n",
       "        3.12961789,  1.96580139,  1.89203998,  2.99868246,  5.43917892,\n",
       "        2.32874101,  1.86148689,  5.96125625,  2.46092247,  2.91889448,\n",
       "        2.98316481,  3.76118996,  1.85970374,  2.83677264,  3.61499806,\n",
       "        3.15374373,  2.08600515,  1.75192321,  3.76127852,  2.6585526 ,\n",
       "        4.74391128,  2.9955674 ,  3.67910411,  3.90580133,  3.66155491,\n",
       "        2.13914835,  4.17838387,  4.0757682 ,  2.35323239,  2.55418896,\n",
       "        3.39901306,  3.83882673,  2.61596821,  3.42031622,  2.29403876,\n",
       "        2.95442428,  2.94113102,  5.77153457,  4.24335346,  2.98467565,\n",
       "        3.27673764,  2.50521632,  2.79882637,  3.20833398,  2.50027555,\n",
       "        3.63362235,  3.65898499,  6.06867554,  0.30301277,  2.7666888 ,\n",
       "        2.19662903, -0.06752083,  3.57372787,  2.90911956,  4.00827708,\n",
       "        4.10385124,  1.99773774,  2.60825964,  4.7443415 ,  0.77585196,\n",
       "        2.5765614 ,  3.11888503,  2.33628534,  2.72333861,  4.76857454,\n",
       "        4.39069617,  1.49768272,  4.19156221,  3.32047918,  4.07024664,\n",
       "        4.64460226,  3.58985299,  5.27687854,  4.86962802,  4.98182729,\n",
       "        2.8989621 ,  3.40597309,  3.02176162,  2.25820226,  4.44310477,\n",
       "        3.91014267,  2.41317695,  3.56116775,  1.46914827, -0.24123399,\n",
       "        3.46600937,  5.25400074,  2.33922383,  2.83985823,  2.05807843,\n",
       "        3.06772483,  2.64708001,  3.06899925,  1.84293776,  2.82596958,\n",
       "        2.06788971,  0.47441643,  4.01712131,  3.44257575,  3.17225604,\n",
       "        3.60933717,  1.19161645,  4.82173   ,  2.96221552,  4.42124362,\n",
       "        1.37465092,  2.69199519,  5.28844962,  4.05176562,  1.40826489,\n",
       "        3.80710349,  2.32951554,  1.68550861,  2.3382558 ,  3.30066811,\n",
       "        3.26378703,  2.04605688,  2.91240038,  1.85873514,  2.96539809,\n",
       "        3.60101477,  1.1024654 ,  1.58069158,  2.32362359,  3.7684083 ,\n",
       "        1.67916014,  4.06686087,  1.65585325,  1.90579389,  2.58011211,\n",
       "        2.40406073,  2.11502977,  1.44000947,  1.14381688,  4.09489438,\n",
       "        3.11858201,  5.16859969,  3.06935789,  3.60988683,  4.83830094,\n",
       "        3.82073795,  2.68333012,  2.44365829,  3.54950997,  3.72357367,\n",
       "        3.62806897,  2.90910159,  2.58498373,  3.70760084,  2.96468437,\n",
       "        1.43259932,  2.22734119,  1.78900471,  3.58705892,  2.22079841,\n",
       "        5.83516618,  3.79536752,  5.10307109,  5.13903076,  2.69715069,\n",
       "        4.49411674,  3.2401613 ,  4.59931354,  1.38383295,  3.55028834,\n",
       "        3.58429306,  4.84709177,  1.73935082,  2.80077443,  3.4148803 ,\n",
       "        3.64967275,  5.45925987,  3.48194801,  3.71725729,  4.25937096,\n",
       "        3.36649114,  2.28636077,  2.17627981,  4.09748769,  2.91803973,\n",
       "        1.79240433,  1.87637656,  3.20312823,  3.82688507,  4.1546442 ,\n",
       "        3.4155407 ,  1.40907731,  2.31128488,  0.7614222 ,  4.98299658,\n",
       "        0.59814062,  3.52774263,  4.1675353 ,  4.04265249,  5.53619272,\n",
       "        2.07577963,  2.54417888,  0.70031696,  3.29283555,  2.03953125,\n",
       "        4.06958671,  2.22008078,  3.53657026,  5.21834187,  2.16698235,\n",
       "        4.79163975,  0.89591905,  3.63904263,  3.63680024,  2.71542681,\n",
       "        4.03013226,  3.49192165,  3.55872979,  2.36831564,  2.65710473,\n",
       "        4.3038664 ,  1.92168399,  2.42436405,  1.33361599,  3.02925485,\n",
       "        5.65929823,  3.71902392,  1.58422998,  4.87771923,  1.83125172,\n",
       "        4.24413598,  3.03507517,  3.71649069,  4.51351569,  1.26166978,\n",
       "        2.71216377,  4.16870732,  2.87269334,  2.39253257,  2.95024754,\n",
       "        2.44350631,  2.62331628,  4.86013873,  2.63861189,  4.81178072,\n",
       "        4.44589096,  3.72654522,  2.42131595,  3.43009011,  3.22563656,\n",
       "        2.43014   ,  3.26308615,  2.52950187,  5.41620941,  1.73773796,\n",
       "        3.9818893 ,  3.16142575,  4.05267232,  4.16671839,  4.53460658,\n",
       "        2.64947925,  1.28327454,  6.39253352,  2.74793787,  1.2811461 ,\n",
       "        3.51874766,  2.95393639,  4.11460408,  3.0601427 ,  4.74306222])"
      ]
     },
     "execution_count": 32,
     "metadata": {},
     "output_type": "execute_result"
    }
   ],
   "source": [
    "import numpy as np\n",
    "from scipy.stats import norm\n",
    "\n",
    "# Dados originais\n",
    "dados_originais = [1.2, 2.5, 3.1, 4.0, 4.8]\n",
    "\n",
    "# Ajuste de distribuição normal aos dados\n",
    "media, desvio_padrao = norm.fit(dados_originais)\n",
    "\n",
    "# Gerar 1000 dados sintéticos seguindo a distribuição normal ajustada\n",
    "dados_sinteticos = np.random.normal(media, desvio_padrao, 1000)\n",
    "dados_sinteticos"
   ]
  },
  {
   "cell_type": "markdown",
   "id": "64da4a41",
   "metadata": {},
   "source": [
    "A criação de dados sintéticos é útil para diversas aplicações, como aumentar o tamanho do conjunto de dados para treinamento de modelos de aprendizado de máquina, realizar simulações para análise de risco e validar algoritmos em dados gerados de forma controlada. No entanto, é importante lembrar que os dados sintéticos devem sempre refletir as características importantes da distribuição original para que as conclusões e análises sejam válidas."
   ]
  },
  {
   "cell_type": "markdown",
   "id": "ad8e4057",
   "metadata": {},
   "source": [
    "# Week 2 - Describing Probability Distribution with Multiples Variables"
   ]
  },
  {
   "cell_type": "markdown",
   "id": "23628cec",
   "metadata": {},
   "source": [
    "## Lesson 1 - Describing Distributions"
   ]
  },
  {
   "cell_type": "markdown",
   "id": "ce5ec44c",
   "metadata": {},
   "source": [
    "## Measures of Central Tendency"
   ]
  },
  {
   "cell_type": "markdown",
   "id": "075ea057",
   "metadata": {},
   "source": [
    "Measures of Central Tendency (Medidas de Tendência Central) são estatísticas utilizadas para resumir e descrever o centro de um conjunto de dados. Elas fornecem um valor único que representa a localização ou \"centro\" dos dados em torno do qual eles tendem a se agrupar. As três medidas de tendência central mais comuns são a média, a mediana e a moda.\n",
    "\n",
    "1. Média (mean):\n",
    "A média é a soma de todos os valores em um conjunto de dados dividida pelo número total de valores. É uma medida sensível a valores extremos, pois leva em conta cada valor presente nos dados. É representada pela fórmula:\n",
    "\n",
    "$$ \\text{Média} = \\frac{\\text{Soma de todos os valores}}{\\text{Número total de valores}} $$\n",
    "\n",
    "Exemplo:\n",
    "Considere o conjunto de dados: 2, 5, 8, 10, 12\n",
    "Média = (2 + 5 + 8 + 10 + 12) / 5 = 7.4\n",
    "\n",
    "2. Mediana (median):\n",
    "A mediana é o valor que separa os dados em duas partes iguais, ou seja, metade dos valores estão abaixo dela e a outra metade está acima. Para encontrar a mediana, os dados precisam estar ordenados do menor para o maior (ou vice-versa). Se houver um número ímpar de valores, a mediana será o valor do meio. Se houver um número par de valores, a mediana será a média dos dois valores centrais.\n",
    "\n",
    "Exemplo:\n",
    "Considere o conjunto de dados: 2, 5, 8, 10, 12\n",
    "Ordenando: 2, 5, 8, 10, 12\n",
    "Mediana = 8\n",
    "\n",
    "3. Moda (mode):\n",
    "A moda é o valor que ocorre com mais frequência em um conjunto de dados. Pode haver um valor único como a moda (unimodal) ou mais de um valor com a mesma frequência máxima (multimodal). Além disso, os dados podem não ter uma moda, caso em que são considerados amodais.\n",
    "\n",
    "Exemplo:\n",
    "Considere o conjunto de dados: 2, 5, 8, 8, 10, 12, 12\n",
    "Moda = 8 e 12 (pois ambos aparecem duas vezes)\n",
    "\n",
    "As medidas de tendência central são úteis para entender a distribuição e a \"centralidade\" dos dados em uma amostra. No entanto, é importante usá-las com outras medidas descritivas e gráficos para ter uma visão completa das características dos dados."
   ]
  },
  {
   "cell_type": "markdown",
   "id": "65b5ac9f",
   "metadata": {},
   "source": [
    "## Expected Value"
   ]
  },
  {
   "cell_type": "markdown",
   "id": "50665811",
   "metadata": {},
   "source": [
    "O Expected Value (Valor Esperado), também conhecido como mean, average ou expectation, é uma medida estatística usada em probabilidade e estatística que representa o valor médio que esperamos obter de uma variável aleatória após um grande número de observações ou experimentos. É uma medida fundamental para a tomada de decisões em várias áreas, incluindo economia, finanças, ciência de dados e jogos de azar.\n",
    "\n",
    "Para calcular o valor esperado de uma variável aleatória discreta X, usamos a seguinte fórmula:\n",
    "\n",
    "$$E(X) = \\sum x_i \\cdot P(X = x_i)$$\n",
    "\n",
    "Onde:\n",
    "- $E(X)$ é o valor esperado de X.\n",
    "- $x_i$ são os possíveis valores que X pode assumir.\n",
    "- $P(X = x_i)$ é a probabilidade de X assumir o valor $x_i$.\n",
    "\n",
    "Para variáveis aleatórias contínuas, usamos uma integração em vez de uma soma para calcular o valor esperado.\n",
    "\n",
    "Exemplo 1 - Lançamento de um dado:\n",
    "Suponha que lançamos um dado honesto e queremos calcular o valor esperado do resultado. A probabilidade de sair qualquer número de 1 a 6 é igual (1/6), então o valor esperado é:\n",
    "\n",
    "$$E(X) = (1 \\cdot \\frac{1}{6}) + (2 \\cdot \\frac{1}{6}) + (3 \\cdot \\frac{1}{6}) + (4 \\cdot \\frac{1}{6}) + (5 \\cdot \\frac{1}{6}) + (6 \\cdot \\frac{1}{6}) = 3.5$$\n",
    "\n",
    "Portanto, o valor esperado de lançar um dado é 3.5.\n",
    "\n",
    "Exemplo 2 - Jogo de Azar:\n",
    "Considere um jogo em que você aposta $10 em uma roleta e tem 1/38 chance de ganhar $350 e 37/38 de chance de perder $10. Vamos calcular o valor esperado desse jogo:\n",
    "\n",
    "$$E(X) = (350 \\cdot \\frac{1}{38}) + (-10 \\cdot \\frac{37}{38}) \\approx -8.42$$\n",
    "\n",
    "Nesse caso, o valor esperado é negativo, o que significa que, em média, você provavelmente perderá dinheiro ao jogar esse jogo.\n",
    "\n",
    "O valor esperado é uma ferramenta importante para avaliar a aleatoriedade e incerteza em diferentes cenários e é amplamente utilizado em análise de risco, tomada de decisões e estratégias em diversas áreas da ciência e negócios."
   ]
  },
  {
   "cell_type": "markdown",
   "id": "76b453bb",
   "metadata": {},
   "source": [
    "## Expected Value of a Funciton"
   ]
  },
  {
   "cell_type": "markdown",
   "id": "bd397525",
   "metadata": {},
   "source": [
    "O Expected Value of a function (Valor Esperado de uma função) é uma extensão do conceito de Valor Esperado (Expected Value) para variáveis aleatórias que são funções de outras variáveis aleatórias. Em vez de calcular o Valor Esperado diretamente da variável aleatória original, calculamos o Valor Esperado aplicando uma função a essa variável aleatória.\n",
    "\n",
    "Matematicamente, o Valor Esperado de uma função $g(X)$ de uma variável aleatória $X$ é denotado como $E[g(X)]$ e é calculado da seguinte forma para o caso discreto:\n",
    "\n",
    "$$ E[g(X)] = \\sum g(x_i) \\cdot P(X = x_i)$$\n",
    "\n",
    "E para o caso contínuo:\n",
    "\n",
    "$$ E[g(X)] = \\int g(x) \\cdot f_X(x) \\, dx$$\n",
    "\n",
    "Onde:\n",
    "- $g(X)$ é a função que queremos aplicar à variável aleatória $X$.\n",
    "- $x_i$ são os possíveis valores que $X$ pode assumir no caso discreto, ou $x$ é a variável de integração no caso contínuo.\n",
    "- $P(X = x_i)$ é a probabilidade de $X$ assumir o valor $x_i$ no caso discreto, ou $f_X(x)$ é a função de densidade de probabilidade de $X$ no caso contínuo.\n",
    "\n",
    "O Valor Esperado de uma função é útil em várias aplicações, especialmente em estatística, ciência de dados e economia. Ele nos permite calcular o valor médio de uma função que depende de uma variável aleatória, o que pode ser importante para tomar decisões, avaliar riscos, e entender o comportamento de um sistema em um contexto probabilístico.\n",
    "\n",
    "Exemplo:\n",
    "Suponha que $X$ seja uma variável aleatória que representa o número de lados de um dado viciado. A função $g(X) = X^2$ nos dá o valor do quadrado do número de lados do dado. Vamos calcular o Valor Esperado de $g(X)$:\n",
    "\n",
    "Seja $P(X = 4) = 0.3$, $P(X = 6) = 0.7$.\n",
    "\n",
    "$$ E[g(X)] = (4^2 \\cdot 0.3) + (6^2 \\cdot 0.7) = 24$$\n",
    "\n",
    "Portanto, o Valor Esperado de $g(X)$ é 24. Isso significa que, em média, esperamos obter um valor de 24 ao aplicar a função $g(X)$ à variável aleatória $X$ em um grande número de observações ou experimentos."
   ]
  },
  {
   "cell_type": "markdown",
   "id": "24ae51f8",
   "metadata": {},
   "source": [
    "## Sum of Expectations"
   ]
  },
  {
   "cell_type": "markdown",
   "id": "4f335551",
   "metadata": {},
   "source": [
    "A Sum of Expectations (Soma de Esperanças) é uma propriedade importante das variáveis aleatórias e do cálculo de Valor Esperado. Essa propriedade nos permite calcular o Valor Esperado da soma (ou diferença) de duas ou mais variáveis aleatórias em termos dos seus respectivos Valores Esperados.\n",
    "\n",
    "Para duas variáveis aleatórias $X$ e $Y$, a soma de suas esperanças é dada por:\n",
    "\n",
    "$$E[X + Y] = E[X] + E[Y]$$\n",
    "\n",
    "Essa propriedade também se aplica à soma de mais de duas variáveis aleatórias, ou seja, para $n$ variáveis aleatórias $X_1, X_2, \\ldots, X_n$:\n",
    "\n",
    "$$E[X_1 + X_2 + \\ldots + X_n] = E[X_1] + E[X_2] + \\ldots + E[X_n]$$\n",
    "\n",
    "O mesmo princípio é válido para a diferença de variáveis aleatórias:\n",
    "\n",
    "$$E[X - Y] = E[X] - E[Y]$$\n",
    "\n",
    "Essa propriedade é bastante útil porque nos permite simplificar o cálculo do Valor Esperado de uma combinação de variáveis aleatórias conhecendo apenas seus Valores Esperados individuais.\n",
    "\n",
    "Exemplo:\n",
    "Suponha que temos duas variáveis aleatórias $X$ e $Y$ que representam o número de caras obtidas em dois lançamentos de uma moeda justa, respectivamente. Sabemos que $E[X] = E[Y] = 0.5$ (porque a moeda é justa).\n",
    "\n",
    "Vamos calcular o Valor Esperado da soma das caras obtidas nos dois lançamentos:\n",
    "\n",
    "$$E[X + Y] = E[X] + E[Y] = 0.5 + 0.5 = 1$$\n",
    "\n",
    "Portanto, o Valor Esperado da soma das caras nos dois lançamentos é 1. Isso significa que, em média, esperamos obter uma soma de 1 cara nos dois lançamentos da moeda justa.\n",
    "\n",
    "Essa propriedade é amplamente utilizada em estatística, probabilidade, ciência de dados e em diversos problemas de modelagem e análise envolvendo variáveis aleatórias."
   ]
  },
  {
   "cell_type": "markdown",
   "id": "4296ea6c",
   "metadata": {},
   "source": [
    "## Variance"
   ]
  },
  {
   "cell_type": "markdown",
   "id": "6539d633",
   "metadata": {},
   "source": [
    "A Variância é uma medida estatística que quantifica a dispersão ou variabilidade dos valores de uma variável aleatória em relação à sua média. Em outras palavras, a variância indica o quão distantes os valores individuais estão da média.\n",
    "\n",
    "Para uma variável aleatória discreta \\(X\\) com média \\(\\mu\\), a variância é calculada usando a seguinte fórmula:\n",
    "\n",
    "$$ \\text{Var}(X) = \\sum_{i=1}^{n} (x_i - \\mu)^2 \\cdot P(x_i) $$\n",
    "\n",
    "onde \\(x_i\\) são os valores possíveis da variável \\(X\\) e \\(P(x_i)\\) é a probabilidade de ocorrer o valor \\(x_i\\).\n",
    "\n",
    "Para uma variável aleatória contínua \\(X\\) com média \\(\\mu\\), a variância é calculada usando a integral:\n",
    "\n",
    "$$ \\text{Var}(X) = \\int_{-\\infty}^{\\infty} (x - \\mu)^2 \\cdot f(x) \\, dx $$\n",
    "\n",
    "onde \\(f(x)\\) é a função densidade de probabilidade (PDF) de \\(X\\).\n",
    "\n",
    "A variância é uma medida útil porque nos fornece informações sobre o grau de dispersão dos dados em relação à média. Valores de variância maiores indicam maior dispersão, enquanto valores menores indicam menor dispersão.\n",
    "\n",
    "Exemplo:\n",
    "Vamos calcular a variância para os seguintes dados: [2, 4, 6, 8, 10]. Primeiro, precisamos calcular a média:\n",
    "\n",
    "$$ \\mu = \\frac{2 + 4 + 6 + 8 + 10}{5} = \\frac{30}{5} = 6 $$\n",
    "\n",
    "Agora, calculamos a variância:\n",
    "\n",
    "$$ \\text{Var}(X) = \\frac{(2-6)^2}{5} + \\frac{(4-6)^2}{5} + \\frac{(6-6)^2}{5} + \\frac{(8-6)^2}{5} + \\frac{(10-6)^2}{5} $$\n",
    "\n",
    "$$ \\text{Var}(X) = \\frac{16}{5} + \\frac{4}{5} + \\frac{0}{5} + \\frac{4}{5} + \\frac{16}{5} $$\n",
    "\n",
    "$$ \\text{Var}(X) = \\frac{40}{5} = 8 $$\n",
    "\n",
    "Portanto, a variância para os dados fornecidos é igual a 8.\n",
    "\n",
    "A variância é uma medida fundamental para entender a dispersão dos dados em relação à média e é amplamente utilizada na estatística, ciência de dados e machine learning para avaliar a variabilidade de uma distribuição de dados."
   ]
  },
  {
   "cell_type": "markdown",
   "id": "e47ff8c3",
   "metadata": {},
   "source": [
    "## Standard Deviation"
   ]
  },
  {
   "cell_type": "markdown",
   "id": "8feb8a07",
   "metadata": {},
   "source": [
    "O Desvio Padrão (Standard Deviation) é outra medida estatística importante que complementa a variância ao quantificar a dispersão dos valores de uma variável aleatória em relação à média. O desvio padrão é simplesmente a raiz quadrada da variância e é usado para expressar a dispersão em termos das mesmas unidades da variável original.\n",
    "\n",
    "Para uma variável aleatória discreta $X$ com média $\\mu$ e variância $\\text{Var}(X)$, o desvio padrão é calculado usando a fórmula:\n",
    "\n",
    "$$ \\text{SD}(X) = \\sqrt{\\text{Var}(X)} = \\sqrt{\\sum_{i=1}^{n} (x_i - \\mu)^2 \\cdot P(x_i)} $$\n",
    "\n",
    "Para uma variável aleatória contínua $X$ com média $\\mu$ e variância $\\text{Var}(X)$, o desvio padrão é calculado usando a fórmula:\n",
    "\n",
    "$$ \\text{SD}(X) = \\sqrt{\\text{Var}(X)} = \\sqrt{\\int_{-\\infty}^{\\infty} (x - \\mu)^2 \\cdot f(x) \\, dx} $$\n",
    "\n",
    "O desvio padrão é uma medida muito utilizada porque tem as mesmas unidades da variável original e é mais facilmente interpretável do que a variância, que tem unidades ao quadrado. Ele nos indica o quanto os valores individuais tendem a se afastar da média.\n",
    "\n",
    "Exemplo:\n",
    "Considere os seguintes dados: [10, 12, 14, 16, 18]. Já calculamos a média anteriormente, que é $\\mu = 14$, e a variância, que é $\\text{Var}(X) = 8$. Agora, podemos calcular o desvio padrão:\n",
    "\n",
    "$$ \\text{SD}(X) = \\sqrt{\\text{Var}(X)} = \\sqrt{8} \\approx 2.83 $$\n",
    "\n",
    "Portanto, o desvio padrão para os dados fornecidos é aproximadamente 2.83.\n",
    "\n",
    "O desvio padrão de 2.83 indica que os valores individuais no conjunto de dados têm uma tendência a se dispersar em torno da média. Em outras palavras, os valores dos dados estão, em média, aproximadamente 2.83 unidades de distância da média do conjunto.\n",
    "\n",
    "Se o desvio padrão for baixo, como neste exemplo, significa que os valores tendem a estar mais próximos da média, o que implica em menos dispersão dos dados. Por outro lado, se o desvio padrão for alto, os valores terão uma maior dispersão em relação à média.\n",
    "\n",
    "Neste exemplo específico, com um desvio padrão de 2.83, podemos esperar que a maioria dos valores esteja na faixa de $14 \\pm 2.83$, ou seja, entre aproximadamente 11.17 e 16.83. Isso significa que a maioria dos valores estará a aproximadamente 2.83 unidades da média de 14.\n",
    "\n",
    "O desvio padrão é amplamente utilizado para medir a dispersão ou incerteza dos dados em relação à média, e é uma medida essencial em estatística, ciência de dados e machine learning. Quanto maior o desvio padrão, mais dispersos os dados estarão em relação à média, e vice-versa."
   ]
  },
  {
   "cell_type": "markdown",
   "id": "ba998efe",
   "metadata": {},
   "source": [
    "## Sum of Gaussians"
   ]
  },
  {
   "cell_type": "markdown",
   "id": "efb64890",
   "metadata": {},
   "source": [
    "A \"sum of Gaussians\" (soma de gaussianas) é uma técnica usada em estatística e processamento de sinais para modelar distribuições de dados que podem ser aproximadas pela combinação de várias distribuições gaussianas (também conhecidas como distribuições normais).\n",
    "\n",
    "Uma distribuição gaussiana é caracterizada por sua média $(\\mu)$ e desvio padrão $(\\sigma)$. Ela tem uma forma de sino e é simétrica em torno da média. A função de densidade de probabilidade (PDF) de uma distribuição gaussiana é dada por:\n",
    "\n",
    "$$f(x) = \\frac{1}{\\sigma \\sqrt{2\\pi}}e^{-\\frac{1}{2}\\left(\\frac{x-\\mu}{\\sigma}\\right)^2}$$\n",
    "\n",
    "A soma de gaussianas é obtida combinando as PDFs de várias distribuições gaussianas em uma única distribuição. Isso pode ser útil quando os dados são compostos por várias populações ou subgrupos, cada um seguindo uma distribuição gaussiana diferente.\n",
    "\n",
    "Por exemplo, considere um conjunto de dados que contenha informações sobre o tempo que leva para os alunos concluírem um exame. Se esse conjunto de dados for composto por dois grupos distintos de alunos: um grupo de alunos rápidos e um grupo de alunos lentos, poderíamos modelar a distribuição do tempo de conclusão usando a soma de duas distribuições gaussianas, uma para cada grupo.\n",
    "\n",
    "A soma de gaussianas é usada em várias aplicações, como em ajuste de curvas, segmentação de imagens, detecção de padrões e modelagem de distribuições complexas. É uma ferramenta poderosa para descrever a variabilidade dos dados e capturar padrões distintos presentes em um conjunto de dados.\n",
    "\n",
    "Algumas das principais aplicações e problemas em que essa técnica é utilizada incluem:\n",
    "\n",
    "1. **Segmentação de Imagens:** Na análise de imagens, a soma de gaussianas pode ser usada para segmentar objetos ou regiões de interesse com diferentes níveis de intensidade.\n",
    "\n",
    "2. **Detecção de Anomalias:** Em detecção de anomalias, a soma de gaussianas é utilizada para modelar a distribuição de dados normais e identificar pontos de dados que se desviam significativamente dessa distribuição.\n",
    "\n",
    "3. **Processamento de Sinais:** Em processamento de sinais, a soma de gaussianas pode ser usada para modelar o ruído presente em sinais e melhorar a qualidade do sinal.\n",
    "\n",
    "4. **Análise de Dados Multivariados:** Para dados com múltiplas variáveis, a soma de gaussianas pode ser usada para modelar distribuições multivariadas e capturar dependências entre as variáveis.\n",
    "\n",
    "5. **Ajuste de Curvas:** Em ajuste de curvas, a soma de gaussianas pode ser usada para encontrar a melhor curva que se ajusta a um conjunto de dados, permitindo uma representação mais flexível e precisa dos dados.\n",
    "\n",
    "6. **Modelagem de Distribuições Complexas:** A soma de gaussianas é útil para modelar distribuições de dados que não podem ser adequadamente descritas por uma única distribuição gaussiana.\n",
    "\n",
    "7. **Processamento de Linguagem Natural:** Em processamento de linguagem natural, a soma de gaussianas pode ser usada para modelar a distribuição de palavras em um corpus de texto.\n",
    "\n",
    "8. **Visão Computacional:** Em visão computacional, a soma de gaussianas pode ser usada para modelar a distribuição de pontos de interesse em uma imagem.\n",
    "\n",
    "Essas são apenas algumas das muitas aplicações e problemas em que a técnica de soma de gaussianas é empregada. Sua versatilidade e capacidade de modelar distribuições complexas tornam-na uma ferramenta valiosa em análise de dados, aprendizado de máquina e outras áreas relacionadas."
   ]
  },
  {
   "cell_type": "markdown",
   "id": "f1fe71bc",
   "metadata": {},
   "source": [
    "A técnica de \"sum of Gaussians\" (soma de gaussianas) é aplicada em uma variedade de problemas de negócio que envolvem a modelagem de distribuições complexas de dados. Alguns exemplos incluem:\n",
    "\n",
    "1. **Detecção de Anomalias em Fraudes Financeiras:** Em empresas financeiras, é comum aplicar a soma de gaussianas para modelar o comportamento normal das transações financeiras. Quando uma transação se desvia significativamente dessa distribuição, ela pode ser considerada uma possível fraude ou anomalia, acionando alertas para investigação adicional.\n",
    "\n",
    "2. **Segmentação de Clientes:** Empresas de marketing e varejo podem utilizar a soma de gaussianas para segmentar seus clientes em grupos com base em seus comportamentos de compra. Cada grupo pode ser modelado por uma gaussiana, e essa segmentação pode ajudar a personalizar campanhas de marketing e ofertas para cada grupo de clientes.\n",
    "\n",
    "3. **Previsão de Demanda de Produtos:** Empresas de varejo e manufatura podem aplicar a soma de gaussianas para modelar a distribuição da demanda de produtos ao longo do tempo. Isso pode ajudar na previsão de quantidades necessárias de estoque e planejamento de produção.\n",
    "\n",
    "4. **Análise de Dados de Sensores e IoT:** Em setores como manufatura, saúde e agricultura, sensores e dispositivos IoT podem coletar uma grande quantidade de dados. A soma de gaussianas pode ser usada para modelar a distribuição desses dados e identificar padrões ou comportamentos anômalos.\n",
    "\n",
    "5. **Detecção de Spam e Classificação de E-mails:** Em empresas de tecnologia, a soma de gaussianas pode ser usada para modelar o comportamento normal de e-mails e detectar spam com base em desvios dessa distribuição.\n",
    "\n",
    "6. **Previsão de Séries Temporais:** Em várias indústrias, como financeira, energia e meteorologia, a soma de gaussianas pode ser usada para prever séries temporais complexas, como preços de ações, demanda de energia ou condições climáticas.\n",
    "\n",
    "7. **Análise de Dados Médicos:** Em ciências da saúde, a soma de gaussianas é frequentemente usada para modelar a distribuição de dados médicos, como níveis de biomarcadores ou resultados de testes diagnósticos.\n",
    "\n",
    "Esses são apenas alguns exemplos de como a técnica de soma de gaussianas pode ser aplicada em problemas de negócio. Em geral, sempre que os dados apresentarem uma distribuição complexa e multimodal, a soma de gaussianas pode ser uma abordagem eficaz para modelá-los e obter insights úteis para a tomada de decisões."
   ]
  },
  {
   "cell_type": "markdown",
   "id": "590cf83c",
   "metadata": {},
   "source": [
    "### Case: Análise de Dados de Sensores e IoT:\n",
    "\n",
    "Em Análise de Dados de Sensores e IoT, a técnica de soma de gaussianas pode ser utilizada para identificar comportamentos anômalos, como defeitos em máquinas, através da modelagem da distribuição normal dos dados coletados pelos sensores.\n",
    "\n",
    "O processo geral pode ser descrito da seguinte forma:\n",
    "\n",
    "1. **Coleta de Dados:** Sensores são instalados em máquinas para monitorar diversas variáveis, como temperatura, pressão, vibração, corrente elétrica, entre outras. Esses sensores coletam dados em intervalos regulares.\n",
    "\n",
    "2. **Criação do Modelo de Soma de Gaussianas:** Os dados coletados são utilizados para criar um modelo de soma de gaussianas. Nesse modelo, cada variável monitorada é modelada por uma distribuição gaussiana (normal). Se existirem várias variáveis sendo monitoradas, um modelo multivariado de soma de gaussianas pode ser criado.\n",
    "\n",
    "3. **Estabelecimento de Threshold:** O próximo passo é estabelecer um limite (threshold) para determinar o que é considerado um comportamento anômalo. Esse limite é geralmente definido como um número de desvios padrão acima ou abaixo da média da distribuição gaussiana. Dados que estejam além desse limite são considerados anômalos.\n",
    "\n",
    "4. **Detecção de Anomalias:** Com o modelo de soma de gaussianas e o limite estabelecido, podemos analisar novos dados em tempo real. Se os novos dados estiverem além do limite, indicando que estão fora do comportamento esperado, eles são considerados anômalos.\n",
    "\n",
    "5. **Ações Corretivas:** Quando uma anomalia é detectada, a análise pode acionar alertas ou acionar um sistema de manutenção preditiva para tomar ações corretivas antes que ocorram falhas graves nas máquinas.\n",
    "\n",
    "Exemplo:\n",
    "Suponha que você tenha um conjunto de sensores monitorando uma máquina e coletando dados de temperatura. Você cria um modelo de soma de gaussianas para modelar a distribuição normal da temperatura da máquina. Com base nesse modelo, você estabelece um limite de 3 desvios padrão acima da média como o limiar para detectar anomalias. Se, em uma nova medição, a temperatura estiver acima desse limite, o sistema pode identificar esse comportamento como anômalo, indicando que pode haver um defeito na máquina ou uma situação fora do padrão normal.\n",
    "\n",
    "A utilização de soma de gaussianas em Análise de Dados de Sensores e IoT permite a identificação proativa de comportamentos anômalos em máquinas e equipamentos, o que pode ajudar a evitar falhas inesperadas e reduzir custos de manutenção e produção."
   ]
  },
  {
   "cell_type": "markdown",
   "id": "47681a13",
   "metadata": {},
   "source": [
    "Para criar um exemplo usando Python, vamos simular dados de sensores representando a temperatura de uma máquina. Em seguida, criaremos um modelo de soma de gaussianas para esses dados, estabeleceremos um limite (threshold) para detectar anomalias e, finalmente, identificaremos e apontaremos as anomalias nos dados simulados."
   ]
  },
  {
   "cell_type": "markdown",
   "id": "bc1f7c57",
   "metadata": {},
   "source": [
    "### Passo 1: Criar dados simulados de temperatura dos sensores:"
   ]
  },
  {
   "cell_type": "code",
   "execution_count": 35,
   "id": "9c28f34f",
   "metadata": {
    "ExecuteTime": {
     "end_time": "2023-07-02T14:25:35.349247Z",
     "start_time": "2023-07-02T14:25:35.248907Z"
    }
   },
   "outputs": [
    {
     "data": {
      "image/png": "[encoded data removed]",
      "text/plain": [
       "<Figure size 1440x576 with 1 Axes>"
      ]
     },
     "metadata": {
      "needs_background": "light"
     },
     "output_type": "display_data"
    }
   ],
   "source": [
    "import numpy as np\n",
    "import matplotlib.pyplot as plt\n",
    "\n",
    "# Configuração dos dados simulados\n",
    "np.random.seed(42)  # Para reprodutibilidade dos resultados\n",
    "num_samples = 1000\n",
    "mean_temperature = 25.0\n",
    "std_temperature = 2.0\n",
    "\n",
    "# Gerar dados simulados de temperatura com distribuição gaussiana (normal)\n",
    "temperatures = np.random.normal(mean_temperature, std_temperature, num_samples)\n",
    "\n",
    "# Visualizar os dados simulados\n",
    "plt.hist(temperatures, bins=30, edgecolor='k', alpha=0.6)\n",
    "plt.xlabel('Temperatura')\n",
    "plt.ylabel('Frequência')\n",
    "plt.title('Dados Simulados de Temperatura dos Sensores')\n",
    "plt.show()"
   ]
  },
  {
   "cell_type": "markdown",
   "id": "0d1ec321",
   "metadata": {},
   "source": [
    "### Passo 2: Criar o modelo de soma de gaussianas:"
   ]
  },
  {
   "cell_type": "code",
   "execution_count": 36,
   "id": "9a138bc2",
   "metadata": {
    "ExecuteTime": {
     "end_time": "2023-07-02T14:26:11.495327Z",
     "start_time": "2023-07-02T14:26:11.246829Z"
    }
   },
   "outputs": [
    {
     "data": {
      "image/png": "[encoded data removed]",
      "text/plain": [
       "<Figure size 1440x576 with 1 Axes>"
      ]
     },
     "metadata": {
      "needs_background": "light"
     },
     "output_type": "display_data"
    }
   ],
   "source": [
    "from scipy.stats import norm, gaussian_kde\n",
    "\n",
    "# Criar o modelo de soma de gaussianas\n",
    "def sum_of_gaussians(x, means, stds, weights):\n",
    "    result = np.zeros_like(x)\n",
    "    for mean, std, weight in zip(means, stds, weights):\n",
    "        result += weight * norm.pdf(x, loc=mean, scale=std)\n",
    "    return result\n",
    "\n",
    "# Estimativas iniciais dos parâmetros do modelo\n",
    "initial_means = [20, 25, 30]\n",
    "initial_stds = [1, 1, 1]\n",
    "initial_weights = [0.2, 0.6, 0.2]\n",
    "\n",
    "# Estimar os parâmetros do modelo usando Kernel Density Estimation (KDE)\n",
    "density_estimation = gaussian_kde(temperatures)\n",
    "density_x = np.linspace(min(temperatures), max(temperatures), 1000)\n",
    "density_y = density_estimation(density_x)\n",
    "\n",
    "# Utilizar o algoritmo de otimização para ajustar os parâmetros do modelo\n",
    "from scipy.optimize import minimize\n",
    "\n",
    "def loss(params):\n",
    "    means = params[:3]\n",
    "    stds = params[3:6]\n",
    "    weights = params[6:]\n",
    "    y_pred = sum_of_gaussians(density_x, means, stds, weights)\n",
    "    return np.sum((density_y - y_pred)**2)\n",
    "\n",
    "# Otimização dos parâmetros\n",
    "params0 = initial_means + initial_stds + initial_weights\n",
    "result = minimize(loss, params0)\n",
    "final_means = result.x[:3]\n",
    "final_stds = result.x[3:6]\n",
    "final_weights = result.x[6:]\n",
    "\n",
    "# Visualizar o modelo de soma de gaussianas ajustado\n",
    "plt.plot(density_x, density_y, label='Dados Simulados')\n",
    "plt.plot(density_x, sum_of_gaussians(density_x, final_means, final_stds, final_weights), label='Modelo de Soma de Gaussianas')\n",
    "plt.xlabel('Temperatura')\n",
    "plt.ylabel('Densidade')\n",
    "plt.title('Modelo de Soma de Gaussianas para Dados Simulados de Temperatura')\n",
    "plt.legend()\n",
    "plt.show()"
   ]
  },
  {
   "cell_type": "markdown",
   "id": "7bcf1ad3",
   "metadata": {},
   "source": [
    "### Passo 3: Estabelecer o threshold para detecção de anomalias:"
   ]
  },
  {
   "cell_type": "code",
   "execution_count": 37,
   "id": "06a17a84",
   "metadata": {
    "ExecuteTime": {
     "end_time": "2023-07-02T14:26:46.473762Z",
     "start_time": "2023-07-02T14:26:46.468805Z"
    }
   },
   "outputs": [
    {
     "name": "stdout",
     "output_type": "stream",
     "text": [
      "Threshold: 31.0\n"
     ]
    }
   ],
   "source": [
    "# Definir o threshold como 3 desvios padrão acima da média\n",
    "threshold = mean_temperature + 3 * std_temperature\n",
    "print(\"Threshold:\", threshold)"
   ]
  },
  {
   "cell_type": "markdown",
   "id": "9e7c96e7",
   "metadata": {},
   "source": [
    "### Passo 4: Detectar e apontar as anomalias:"
   ]
  },
  {
   "cell_type": "code",
   "execution_count": 38,
   "id": "97854a72",
   "metadata": {
    "ExecuteTime": {
     "end_time": "2023-07-02T14:27:10.696941Z",
     "start_time": "2023-07-02T14:27:10.694446Z"
    }
   },
   "outputs": [
    {
     "name": "stdout",
     "output_type": "stream",
     "text": [
      "Anomalias Detectadas:\n",
      "[32.70546298 31.15776162]\n"
     ]
    }
   ],
   "source": [
    "# Detectar as anomalias nos dados simulados\n",
    "anomalies = temperatures[temperatures > threshold]\n",
    "\n",
    "# Apontar as anomalias\n",
    "print(\"Anomalias Detectadas:\")\n",
    "print(anomalies)"
   ]
  },
  {
   "cell_type": "markdown",
   "id": "649ab065",
   "metadata": {
    "ExecuteTime": {
     "end_time": "2023-07-02T14:25:27.558315Z",
     "start_time": "2023-07-02T14:25:27.558308Z"
    }
   },
   "source": [
    "Neste exemplo, criamos dados simulados de temperatura de sensores usando uma distribuição gaussiana. Em seguida, ajustamos um modelo de soma de gaussianas para esses dados simulados e estabelecemos um limite para detectar anomalias. As anomalias são identificadas como aquelas temperaturas que estão acima do limite estabelecido. Vale ressaltar que, em um cenário real, os dados seriam coletados de sensores reais em máquinas, e o modelo seria ajustado aos dados reais para detectar anomalias de comportamento anormal, indicando possíveis falhas nas máquinas."
   ]
  },
  {
   "cell_type": "markdown",
   "id": "fc9c341d",
   "metadata": {},
   "source": [
    "## Standarizing a distribution"
   ]
  },
  {
   "cell_type": "markdown",
   "id": "c0e8ba3f",
   "metadata": {},
   "source": [
    "<img src=\"./imgs/standarize_a_distribution.png\">"
   ]
  },
  {
   "cell_type": "markdown",
   "id": "16b04d2d",
   "metadata": {},
   "source": [
    "A padronização de uma distribuição, também conhecida como padronização z-score, é uma técnica comum de pré-processamento de dados utilizada em ciência de dados e aprendizado de máquina. Envolve a transformação dos dados de forma que seus valores tenham média zero e desvio padrão unitário. Esse processo é essencial ao lidar com características ou variáveis que possuem diferentes escalas ou unidades, pois permite que os modelos interpretem e comparem melhor a importância de diferentes características.\n",
    "\n",
    "O processo de padronização pode ser descrito da seguinte forma:\n",
    "\n",
    "1. Calcular a média (μ) e o desvio padrão (σ) dos dados.\n",
    "2. Subtrair a média de cada ponto de dado.\n",
    "3. Dividir cada ponto de dado pelo desvio padrão.\n",
    "\n",
    "A fórmula para padronização é dada por:\n",
    "\n",
    "$$ z = \\frac{x - \\mu}{\\sigma} $$\n",
    "\n",
    "Onde:\n",
    "- \\( z \\) é o valor padronizado (z-score) do ponto de dado \\( x \\).\n",
    "- \\( x \\) é o ponto de dado original.\n",
    "- \\( \\mu \\) é a média dos dados.\n",
    "- \\( \\sigma \\) é o desvio padrão dos dados.\n",
    "\n",
    "A distribuição resultante terá média 0 e desvio padrão 1. Valores abaixo de 0 serão negativos e valores acima de 0 serão positivos.\n",
    "\n",
    "Exemplos:\n",
    "\n",
    "Vamos considerar um exemplo de um conjunto de dados contendo duas características: altura (em centímetros) e peso (em quilogramas).\n",
    "\n",
    "Dados originais:\n",
    "- Altura: [160, 165, 170, 175, 180]\n",
    "- Peso: [50, 55, 60, 65, 70]\n",
    "\n",
    "Passo 1: Calcular a média e o desvio padrão de cada característica.\n",
    "\n",
    "$$ \\mu_{\\text{altura}} = \\frac{160 + 165 + 170 + 175 + 180}{5} = 170 $$\n",
    "$$ \\mu_{\\text{peso}} = \\frac{50 + 55 + 60 + 65 + 70}{5} = 60 $$\n",
    "\n",
    "$$ \\sigma_{\\text{altura}} = \\sqrt{\\frac{(160-170)^2 + (165-170)^2 + (170-170)^2 + (175-170)^2 + (180-170)^2}{5}} \\approx 8,37 $$\n",
    "$$ \\sigma_{\\text{peso}} = \\sqrt{\\frac{(50-60)^2 + (55-60)^2 + (60-60)^2 + (65-60)^2 + (70-60)^2}{5}} \\approx 7,07 $$\n",
    "\n",
    "Passo 2: Padronizar os dados.\n",
    "\n",
    "Para a altura:\n",
    "$$ z_{\\text{altura}} = \\frac{160 - 170}{8,37} \\approx -1,19 $$\n",
    "$$ z_{\\text{altura}} = \\frac{165 - 170}{8,37} \\approx -0,60 $$\n",
    "$$ z_{\\text{altura}} = \\frac{170 - 170}{8,37} = 0 $$\n",
    "$$ z_{\\text{altura}} = \\frac{175 - 170}{8,37} \\approx 0,60 $$\n",
    "$$ z_{\\text{altura}} = \\frac{180 - 170}{8,37} \\approx 1,19 $$\n",
    "\n",
    "Para o peso:\n",
    "$$ z_{\\text{peso}} = \\frac{50 - 60}{7,07} \\approx -1,41 $$\n",
    "$$ z_{\\text{peso}} = \\frac{55 - 60}{7,07} \\approx -0,71 $$\n",
    "$$ z_{\\text{peso}} = \\frac{60 - 60}{7,07} = 0 $$\n",
    "$$ z_{\\text{peso}} = \\frac{65 - 60}{7,07} \\approx 0,71 $$\n",
    "$$ z_{\\text{peso}} = \\frac{70 - 60}{7,07} \\approx 1,41 $$\n",
    "\n",
    "Os dados padronizados agora têm média 0 e desvio padrão 1 para ambas as características (altura e peso), permitindo compará-las e utilizá-las de forma eficaz em modelos de aprendizado de máquina."
   ]
  },
  {
   "cell_type": "markdown",
   "id": "99fdf501",
   "metadata": {},
   "source": [
    "## Skewness and Kurtosis: Moments of a Distribution"
   ]
  },
  {
   "cell_type": "markdown",
   "id": "21aab942",
   "metadata": {},
   "source": [
    "## Skewness and Kurtosis - Skewness"
   ]
  },
  {
   "cell_type": "markdown",
   "id": "83bf8041",
   "metadata": {},
   "source": [
    "## Skewness and Kurtosis - Kurtosis"
   ]
  },
  {
   "cell_type": "markdown",
   "id": "ee4a950a",
   "metadata": {},
   "source": [
    "## Quantiles and Box-plots"
   ]
  },
  {
   "cell_type": "markdown",
   "id": "33952f77",
   "metadata": {},
   "source": [
    "## Visualizing data: Kernel density estimation"
   ]
  },
  {
   "cell_type": "markdown",
   "id": "bb97b76c",
   "metadata": {},
   "source": [
    "## Visualizing data: Violin plots"
   ]
  },
  {
   "cell_type": "markdown",
   "id": "058a2f63",
   "metadata": {},
   "source": [
    "## Visualizing data: QQ Plots"
   ]
  },
  {
   "cell_type": "markdown",
   "id": "56a8d0e4",
   "metadata": {},
   "source": [
    "## Lesson 2 - Probability Distribution with Multiples Variables"
   ]
  },
  {
   "cell_type": "markdown",
   "id": "e2f72745",
   "metadata": {},
   "source": [
    "## Joint Distributions (Discrete)"
   ]
  },
  {
   "cell_type": "markdown",
   "id": "63616ba5",
   "metadata": {},
   "source": [
    "## Joint Distributions (Continuous)"
   ]
  },
  {
   "cell_type": "markdown",
   "id": "cf60224a",
   "metadata": {},
   "source": [
    "## Marginal and Conditional Distribution"
   ]
  },
  {
   "cell_type": "markdown",
   "id": "f771f6ec",
   "metadata": {},
   "source": [
    "## Conditional Distribution"
   ]
  },
  {
   "cell_type": "markdown",
   "id": "ad1fbd63",
   "metadata": {},
   "source": [
    "## Covariance of a Dataset"
   ]
  },
  {
   "cell_type": "markdown",
   "id": "7dbd9e3d",
   "metadata": {},
   "source": [
    "## Covariance of a Probability Distribution"
   ]
  },
  {
   "cell_type": "markdown",
   "id": "f1a15b0e",
   "metadata": {},
   "source": [
    "## Covariance Matrix"
   ]
  },
  {
   "cell_type": "markdown",
   "id": "4b7f1f85",
   "metadata": {},
   "source": [
    "## Correlation Coefficient"
   ]
  },
  {
   "cell_type": "markdown",
   "id": "d4d027dc",
   "metadata": {},
   "source": [
    "## Multivariate Gaussian Distribution"
   ]
  },
  {
   "cell_type": "markdown",
   "id": "2c1a1b08",
   "metadata": {},
   "source": [
    "# Week 3 - Sampling and Point Estimation "
   ]
  },
  {
   "cell_type": "markdown",
   "id": "3bfb1922",
   "metadata": {},
   "source": [
    "## subtitle"
   ]
  },
  {
   "cell_type": "markdown",
   "id": "08ddcac5",
   "metadata": {},
   "source": [
    "## subtitle"
   ]
  },
  {
   "cell_type": "markdown",
   "id": "ac89f450",
   "metadata": {},
   "source": [
    "## subtitle"
   ]
  },
  {
   "cell_type": "markdown",
   "id": "ac2387e5",
   "metadata": {},
   "source": [
    "## subtitle"
   ]
  },
  {
   "cell_type": "markdown",
   "id": "5d16a210",
   "metadata": {},
   "source": [
    "## subtitle"
   ]
  },
  {
   "cell_type": "markdown",
   "id": "57c6f011",
   "metadata": {},
   "source": [
    "# Week 4 - Confidence Interval and Hypothesis Testing"
   ]
  },
  {
   "cell_type": "markdown",
   "id": "69e7c1e2",
   "metadata": {},
   "source": [
    "# Latex Symbols\n",
    "\n",
    "https://towardsdatascience.com/write-markdown-latex-in-the-jupyter-notebook-10985edb91fd"
   ]
  }
 ],
 "metadata": {
  "kernelspec": {
   "display_name": "Python 3 (ipykernel)",
   "language": "python",
   "name": "python3"
  },
  "language_info": {
   "codemirror_mode": {
    "name": "ipython",
    "version": 3
   },
   "file_extension": ".py",
   "mimetype": "text/x-python",
   "name": "python",
   "nbconvert_exporter": "python",
   "pygments_lexer": "ipython3",
   "version": "3.10.6"
  },
  "toc": {
   "base_numbering": 1,
   "nav_menu": {},
   "number_sections": true,
   "sideBar": true,
   "skip_h1_title": false,
   "title_cell": "Table of Contents",
   "title_sidebar": "Contents",
   "toc_cell": false,
   "toc_position": {
    "height": "calc(100% - 180px)",
    "left": "10px",
    "top": "150px",
    "width": "341.465px"
   },
   "toc_section_display": true,
   "toc_window_display": true
  },
  "varInspector": {
   "cols": {
    "lenName": 16,
    "lenType": 16,
    "lenVar": 40
   },
   "kernels_config": {
    "python": {
     "delete_cmd_postfix": "",
     "delete_cmd_prefix": "del ",
     "library": "var_list.py",
     "varRefreshCmd": "print(var_dic_list())"
    },
    "r": {
     "delete_cmd_postfix": ") ",
     "delete_cmd_prefix": "rm(",
     "library": "var_list.r",
     "varRefreshCmd": "cat(var_dic_list()) "
    }
   },
   "types_to_exclude": [
    "module",
    "function",
    "builtin_function_or_method",
    "instance",
    "_Feature"
   ],
   "window_display": false
  }
 },
 "nbformat": 4,
 "nbformat_minor": 5
}
